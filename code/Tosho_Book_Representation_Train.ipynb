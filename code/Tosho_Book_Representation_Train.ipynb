{
 "cells": [
  {
   "cell_type": "markdown",
   "metadata": {},
   "source": [
    "# Create Book-level Representation (Training)"
   ]
  },
  {
   "cell_type": "code",
   "execution_count": 1,
   "metadata": {},
   "outputs": [],
   "source": [
    "%load_ext autoreload\n",
    "%autoreload 2"
   ]
  },
  {
   "cell_type": "code",
   "execution_count": 2,
   "metadata": {},
   "outputs": [],
   "source": [
    "%matplotlib inline\n",
    "import numpy as np\n",
    "import pandas as pd\n",
    "import matplotlib.pyplot as plt\n",
    "import itertools\n",
    "import random\n",
    "import fasttext as ft\n",
    "import pickle\n",
    "from sklearn.model_selection import train_test_split"
   ]
  },
  {
   "cell_type": "code",
   "execution_count": 3,
   "metadata": {},
   "outputs": [],
   "source": [
    "import tensorflow as tf\n",
    "from tensorflow.keras.preprocessing.text import Tokenizer\n",
    "from tensorflow.keras.preprocessing.sequence import pad_sequences\n",
    "from tensorflow.keras.optimizers import Adam\n",
    "from tensorflow.keras.models import Model, save_model\n",
    "from tensorflow.keras import models\n",
    "from tensorflow.keras.utils import plot_model\n",
    "from model import *"
   ]
  },
  {
   "cell_type": "code",
   "execution_count": 4,
   "metadata": {},
   "outputs": [],
   "source": [
    "np.random.seed(1)\n",
    "tf.random.set_seed(1)"
   ]
  },
  {
   "cell_type": "markdown",
   "metadata": {},
   "source": [
    "## Load Data"
   ]
  },
  {
   "cell_type": "code",
   "execution_count": 8,
   "metadata": {},
   "outputs": [
    {
     "data": {
      "text/plain": [
       "(33600, 5)"
      ]
     },
     "execution_count": 8,
     "metadata": {},
     "output_type": "execute_result"
    }
   ],
   "source": [
    "text_hist_pd = pd.read_csv('data/text_hist_perm.csv.bz', sep='\\t', compression='bz2')\n",
    "text_hist_pd.shape"
   ]
  },
  {
   "cell_type": "code",
   "execution_count": 10,
   "metadata": {},
   "outputs": [
    {
     "data": {
      "text/html": [
       "<div>\n",
       "<style scoped>\n",
       "    .dataframe tbody tr th:only-of-type {\n",
       "        vertical-align: middle;\n",
       "    }\n",
       "\n",
       "    .dataframe tbody tr th {\n",
       "        vertical-align: top;\n",
       "    }\n",
       "\n",
       "    .dataframe thead th {\n",
       "        text-align: right;\n",
       "    }\n",
       "</style>\n",
       "<table border=\"1\" class=\"dataframe\">\n",
       "  <thead>\n",
       "    <tr style=\"text-align: right;\">\n",
       "      <th></th>\n",
       "      <th>book1</th>\n",
       "      <th>book2</th>\n",
       "      <th>book3</th>\n",
       "      <th>book4</th>\n",
       "      <th>label</th>\n",
       "    </tr>\n",
       "  </thead>\n",
       "  <tbody>\n",
       "    <tr>\n",
       "      <th>17402</th>\n",
       "      <td>深い 霧 の たちこめる 漆 の 海 姿 なき 幽霊 船長 ゴースト キャプテン が 舵 を...</td>\n",
       "      <td>アイスダンス ペア 樹里 と 恵 は 初 出場 し 界 選手権 大会 で 大 喝采 を 浴び...</td>\n",
       "      <td>そろそろ 考え ちゃ 悩め ブタ シッタカブッタ は 人生 の 見え 方 を ていねい に ...</td>\n",
       "      <td>なぞなぞ 大好き の 妖怪 たち が 読者 に おもしろい なぞなぞ で いどみ 人気 の ...</td>\n",
       "      <td>1700233</td>\n",
       "    </tr>\n",
       "    <tr>\n",
       "      <th>9348</th>\n",
       "      <td>宗教 と は 国 と は 人間 へ の 深い まなざし が 捉え 青春 小説 の 新 境地 ...</td>\n",
       "      <td>わたし じゃ よ わ ー ん わ ー ん 学校 から の 帰り道 大きな 声 て い 清香 ...</td>\n",
       "      <td>担任 に 納得 の いか 絵 を 描か さ れ ユク は 傷つく 憧れ の 少女 に 励まさ...</td>\n",
       "      <td>ひな まつり に 愛花 の 家 で は お ばあちゃん だけ が つくれる ごちそう 肉まん...</td>\n",
       "      <td>1902265</td>\n",
       "    </tr>\n",
       "    <tr>\n",
       "      <th>32139</th>\n",
       "      <td>夜 の 星空 を 見 げた とき に 学校 で 習っ 星座 が 星座 の 名前 の 通り に...</td>\n",
       "      <td>界 の カエル と 日本 の カエル 200 種類 を カラー 写真 で 紹介 分布 や す...</td>\n",
       "      <td>現在 もっとも 謎 の 多い チョウ モンシロチョウ 最新 の 撮影 技術 と 研究 成果 ...</td>\n",
       "      <td>ほ 類 は虫類 ペット 家 ちく アニマル ウォッチング 絶滅 危機 動物 とじこみ 付録 ...</td>\n",
       "      <td>1400121</td>\n",
       "    </tr>\n",
       "  </tbody>\n",
       "</table>\n",
       "</div>"
      ],
      "text/plain": [
       "                                                   book1  \\\n",
       "17402  深い 霧 の たちこめる 漆 の 海 姿 なき 幽霊 船長 ゴースト キャプテン が 舵 を...   \n",
       "9348   宗教 と は 国 と は 人間 へ の 深い まなざし が 捉え 青春 小説 の 新 境地 ...   \n",
       "32139  夜 の 星空 を 見 げた とき に 学校 で 習っ 星座 が 星座 の 名前 の 通り に...   \n",
       "\n",
       "                                                   book2  \\\n",
       "17402  アイスダンス ペア 樹里 と 恵 は 初 出場 し 界 選手権 大会 で 大 喝采 を 浴び...   \n",
       "9348   わたし じゃ よ わ ー ん わ ー ん 学校 から の 帰り道 大きな 声 て い 清香 ...   \n",
       "32139  界 の カエル と 日本 の カエル 200 種類 を カラー 写真 で 紹介 分布 や す...   \n",
       "\n",
       "                                                   book3  \\\n",
       "17402  そろそろ 考え ちゃ 悩め ブタ シッタカブッタ は 人生 の 見え 方 を ていねい に ...   \n",
       "9348   担任 に 納得 の いか 絵 を 描か さ れ ユク は 傷つく 憧れ の 少女 に 励まさ...   \n",
       "32139  現在 もっとも 謎 の 多い チョウ モンシロチョウ 最新 の 撮影 技術 と 研究 成果 ...   \n",
       "\n",
       "                                                   book4    label  \n",
       "17402  なぞなぞ 大好き の 妖怪 たち が 読者 に おもしろい なぞなぞ で いどみ 人気 の ...  1700233  \n",
       "9348   ひな まつり に 愛花 の 家 で は お ばあちゃん だけ が つくれる ごちそう 肉まん...  1902265  \n",
       "32139  ほ 類 は虫類 ペット 家 ちく アニマル ウォッチング 絶滅 危機 動物 とじこみ 付録 ...  1400121  "
      ]
     },
     "execution_count": 10,
     "metadata": {},
     "output_type": "execute_result"
    }
   ],
   "source": [
    "text_hist_pd.sample(3, random_state=1)"
   ]
  },
  {
   "cell_type": "markdown",
   "metadata": {},
   "source": [
    "## Split into Train and Val"
   ]
  },
  {
   "cell_type": "code",
   "execution_count": 12,
   "metadata": {},
   "outputs": [],
   "source": [
    "train_texts, val_texts, y_train, y_val = train_test_split(text_hist_pd.drop(['label'], axis=1),\n",
    "                                                          text_hist_pd[['label']].values,\n",
    "                                                          test_size = .2,\n",
    "                                                          random_state=1234)"
   ]
  },
  {
   "cell_type": "markdown",
   "metadata": {},
   "source": [
    "## Tokenize"
   ]
  },
  {
   "cell_type": "code",
   "execution_count": 13,
   "metadata": {},
   "outputs": [],
   "source": [
    "# Limit on the number of word features to the top 20K features.\n",
    "TOP_K = 20000\n",
    "\n",
    "# Most claims doc are within 10K word length\n",
    "MAX_SEQUENCE_LENGTH = 500\n",
    "\n",
    "def sequence_vectorize(train_texts, y_train, val_texts, y_val):\n",
    "    # Create vocabulary with training texts.\n",
    "    tokenizer = Tokenizer(num_words=TOP_K)\n",
    "    tokenizer.fit_on_texts(train_texts['book1'])\n",
    "\n",
    "    # Vectorize training and validation texts.\n",
    "    # Fix sequence length to max value. Sequences shorter than the length are\n",
    "    # padded in the beginning and sequences longer are truncated\n",
    "    # at the beginning.\n",
    "    x_trn_1 = pad_sequences(tokenizer.texts_to_sequences(train_texts['book1']), maxlen=MAX_SEQUENCE_LENGTH)\n",
    "    x_trn_2 = pad_sequences(tokenizer.texts_to_sequences(train_texts['book2']), maxlen=MAX_SEQUENCE_LENGTH)\n",
    "    x_trn_3 = pad_sequences(tokenizer.texts_to_sequences(train_texts['book3']), maxlen=MAX_SEQUENCE_LENGTH)\n",
    "    x_trn_4 = pad_sequences(tokenizer.texts_to_sequences(train_texts['book4']), maxlen=MAX_SEQUENCE_LENGTH)\n",
    "    x_val_1 = pad_sequences(tokenizer.texts_to_sequences(val_texts['book1']), maxlen=MAX_SEQUENCE_LENGTH)\n",
    "    x_val_2 = pad_sequences(tokenizer.texts_to_sequences(val_texts['book2']), maxlen=MAX_SEQUENCE_LENGTH)\n",
    "    x_val_3 = pad_sequences(tokenizer.texts_to_sequences(val_texts['book3']), maxlen=MAX_SEQUENCE_LENGTH)\n",
    "    x_val_4 = pad_sequences(tokenizer.texts_to_sequences(val_texts['book4']), maxlen=MAX_SEQUENCE_LENGTH)\n",
    "    \n",
    "    return x_trn_1, x_trn_2, x_trn_3, x_trn_4, x_val_1, x_val_2, x_val_3, x_val_4, tokenizer.word_index, tokenizer"
   ]
  },
  {
   "cell_type": "code",
   "execution_count": 14,
   "metadata": {},
   "outputs": [],
   "source": [
    "x_trn_1, x_trn_2, x_trn_3, x_trn_4, x_val_1, x_val_2, x_val_3, x_val_4, word_index, tokenizer = sequence_vectorize(train_texts, y_train, val_texts, y_val)"
   ]
  },
  {
   "cell_type": "code",
   "execution_count": 15,
   "metadata": {},
   "outputs": [
    {
     "data": {
      "text/plain": [
       "13505"
      ]
     },
     "execution_count": 15,
     "metadata": {},
     "output_type": "execute_result"
    }
   ],
   "source": [
    "# number of vocabulary in the corpus\n",
    "len(word_index)"
   ]
  },
  {
   "cell_type": "markdown",
   "metadata": {},
   "source": [
    "### Load FastText (Japanese)"
   ]
  },
  {
   "cell_type": "code",
   "execution_count": 16,
   "metadata": {},
   "outputs": [
    {
     "name": "stderr",
     "output_type": "stream",
     "text": [
      "\n"
     ]
    }
   ],
   "source": [
    "ja_vecs = ft.load_model('model/cc.ja.300.bin')"
   ]
  },
  {
   "cell_type": "code",
   "execution_count": 17,
   "metadata": {},
   "outputs": [
    {
     "data": {
      "text/plain": [
       "(300,)"
      ]
     },
     "execution_count": 17,
     "metadata": {},
     "output_type": "execute_result"
    }
   ],
   "source": [
    "ja_vecs.get_word_vector('あ').shape"
   ]
  },
  {
   "cell_type": "code",
   "execution_count": 18,
   "metadata": {},
   "outputs": [],
   "source": [
    "EMBEDDING_DIM = 300"
   ]
  },
  {
   "cell_type": "markdown",
   "metadata": {},
   "source": [
    "## Use mean of FastText vectors as label"
   ]
  },
  {
   "cell_type": "code",
   "execution_count": 20,
   "metadata": {},
   "outputs": [],
   "source": [
    "label_vec_dict = np.load('data/label_vec_dict.npy', allow_pickle=True).tolist()"
   ]
  },
  {
   "cell_type": "code",
   "execution_count": 21,
   "metadata": {},
   "outputs": [],
   "source": [
    "y_train_mean = []\n",
    "for book_id in y_train:\n",
    "    y_train_mean.append(label_vec_dict[int(book_id[0])])\n",
    "\n",
    "y_train_mean = np.array(y_train_mean)"
   ]
  },
  {
   "cell_type": "code",
   "execution_count": 22,
   "metadata": {},
   "outputs": [],
   "source": [
    "np.save('data/y_train_mean.npy', y_train_mean)"
   ]
  },
  {
   "cell_type": "code",
   "execution_count": 23,
   "metadata": {},
   "outputs": [],
   "source": [
    "y_val_mean = []\n",
    "for book_id in y_val:\n",
    "    y_val_mean.append(label_vec_dict[int(book_id[0])])\n",
    "\n",
    "y_val_mean = np.array(y_val_mean)"
   ]
  },
  {
   "cell_type": "code",
   "execution_count": 24,
   "metadata": {},
   "outputs": [],
   "source": [
    "np.save('data/y_val_mean.npy', y_val_mean)"
   ]
  },
  {
   "cell_type": "code",
   "execution_count": 25,
   "metadata": {},
   "outputs": [
    {
     "data": {
      "text/plain": [
       "((26880, 1), (26880, 300), (6720, 1), (6720, 300))"
      ]
     },
     "execution_count": 25,
     "metadata": {},
     "output_type": "execute_result"
    }
   ],
   "source": [
    "y_train.shape, y_train_mean.shape, y_val.shape, y_val_mean.shape"
   ]
  },
  {
   "cell_type": "markdown",
   "metadata": {},
   "source": [
    "## Model"
   ]
  },
  {
   "cell_type": "markdown",
   "metadata": {},
   "source": [
    "### Embedding layer"
   ]
  },
  {
   "cell_type": "code",
   "execution_count": 26,
   "metadata": {},
   "outputs": [],
   "source": [
    "embedding_matrix = np.zeros((TOP_K+1, EMBEDDING_DIM))\n",
    "for word, i in word_index.items():\n",
    "    if i < TOP_K:\n",
    "        try:\n",
    "            embedding_vector = ja_vecs.get_word_vector(word)\n",
    "        except:\n",
    "            embedding_vector = np.zeros(EMBEDDING_DIM)\n",
    "        if embedding_vector is not None:\n",
    "            # words not found in embedding index will be all-zeros.\n",
    "            embedding_matrix[i] = embedding_vector"
   ]
  },
  {
   "cell_type": "markdown",
   "metadata": {},
   "source": [
    "### Train Model"
   ]
  },
  {
   "cell_type": "code",
   "execution_count": 27,
   "metadata": {},
   "outputs": [
    {
     "name": "stdout",
     "output_type": "stream",
     "text": [
      "Model: \"model\"\n",
      "__________________________________________________________________________________________________\n",
      "Layer (type)                    Output Shape         Param #     Connected to                     \n",
      "==================================================================================================\n",
      "input_5 (InputLayer)            [(None, None)]       0                                            \n",
      "__________________________________________________________________________________________________\n",
      "input_6 (InputLayer)            [(None, None)]       0                                            \n",
      "__________________________________________________________________________________________________\n",
      "input_7 (InputLayer)            [(None, None)]       0                                            \n",
      "__________________________________________________________________________________________________\n",
      "input_8 (InputLayer)            [(None, None)]       0                                            \n",
      "__________________________________________________________________________________________________\n",
      "word_embed_1 (Embedding)        (None, None, 300)    6000300     input_5[0][0]                    \n",
      "__________________________________________________________________________________________________\n",
      "word_embed_2 (Embedding)        (None, None, 300)    6000300     input_6[0][0]                    \n",
      "__________________________________________________________________________________________________\n",
      "word_embed_3 (Embedding)        (None, None, 300)    6000300     input_7[0][0]                    \n",
      "__________________________________________________________________________________________________\n",
      "word_embed_4 (Embedding)        (None, None, 300)    6000300     input_8[0][0]                    \n",
      "__________________________________________________________________________________________________\n",
      "bidirectional (Bidirectional)   (None, 392)          585648      word_embed_1[0][0]               \n",
      "                                                                 word_embed_2[0][0]               \n",
      "                                                                 word_embed_3[0][0]               \n",
      "                                                                 word_embed_4[0][0]               \n",
      "__________________________________________________________________________________________________\n",
      "gru_with__attn (GRU_with_Attn)  [(None, 4, 1), (None 703297      bidirectional[0][0]              \n",
      "                                                                 bidirectional[1][0]              \n",
      "                                                                 bidirectional[2][0]              \n",
      "                                                                 bidirectional[3][0]              \n",
      "__________________________________________________________________________________________________\n",
      "final_dense (Dense)             (None, 300)          117900      gru_with__attn[0][1]             \n",
      "==================================================================================================\n",
      "Total params: 25,408,045\n",
      "Trainable params: 1,406,845\n",
      "Non-trainable params: 24,001,200\n",
      "__________________________________________________________________________________________________\n"
     ]
    }
   ],
   "source": [
    "learning_rate=0.0026\n",
    "\n",
    "word_id_1 = Input(shape=(None,))\n",
    "word_id_2 = Input(shape=(None,))\n",
    "word_id_3 = Input(shape=(None,))\n",
    "word_id_4 = Input(shape=(None,))\n",
    "\n",
    "max_sequence = x_trn_1.shape[1] if MAX_SEQUENCE_LENGTH > x_trn_1.shape[1] else MAX_SEQUENCE_LENGTH\n",
    "\n",
    "model = gru_model(\n",
    "                     embedding_dim=EMBEDDING_DIM,\n",
    "                     dropout_rate=0.226,\n",
    "                     rnn_unit=196,\n",
    "                     input_shape=(max_sequence,),\n",
    "                     num_features=TOP_K+1,\n",
    "                     share_gru_weights_on_book=True,\n",
    "                     use_attention_on_book=False,\n",
    "                     use_attention_on_user=True,\n",
    "                     use_batch_norm=False,\n",
    "                     is_embedding_trainable=False,\n",
    "                     final_activation='tanh',\n",
    "                     embedding_matrix=embedding_matrix)\n",
    "\n",
    "# Compile model\n",
    "loss = 'cosine_similarity'\n",
    "\n",
    "optimizer = Adam(lr=learning_rate)\n",
    "model.compile(optimizer=optimizer, loss=loss, metrics=['cosine_similarity'])\n",
    "\n",
    "model.summary()"
   ]
  },
  {
   "cell_type": "code",
   "execution_count": 28,
   "metadata": {},
   "outputs": [
    {
     "data": {
      "image/png": "[encoded data removed]",
      "text/plain": [
       "<IPython.core.display.Image object>"
      ]
     },
     "execution_count": 28,
     "metadata": {},
     "output_type": "execute_result"
    }
   ],
   "source": [
    "plot_model(model, to_file='img/tosho_book_model.png')"
   ]
  },
  {
   "cell_type": "code",
   "execution_count": 29,
   "metadata": {},
   "outputs": [
    {
     "name": "stdout",
     "output_type": "stream",
     "text": [
      "Train on 26880 samples, validate on 6720 samples\n",
      "Epoch 1/2\n",
      "26880/26880 [==============================] - 409s 15ms/sample - loss: -0.9332 - cosine_similarity: 0.9332 - val_loss: -0.9635 - val_cosine_similarity: 0.9635\n",
      "Epoch 2/2\n",
      "26880/26880 [==============================] - 343s 13ms/sample - loss: -0.9644 - cosine_similarity: 0.9644 - val_loss: -0.9691 - val_cosine_similarity: 0.9691\n"
     ]
    }
   ],
   "source": [
    "# Train\n",
    "history = model.fit(\n",
    "        [x_trn_1, x_trn_2, x_trn_3, x_trn_4],\n",
    "        y_train_mean,\n",
    "        epochs=2,\n",
    "        validation_data=([x_val_1, x_val_2, x_val_3, x_val_4], y_val_mean),\n",
    "        verbose=1,\n",
    "        batch_size=256)"
   ]
  },
  {
   "cell_type": "code",
   "execution_count": 30,
   "metadata": {},
   "outputs": [],
   "source": [
    "model.save_weights('model/tosho_book_model_1', save_format='tf')"
   ]
  },
  {
   "cell_type": "code",
   "execution_count": 31,
   "metadata": {},
   "outputs": [
    {
     "name": "stdout",
     "output_type": "stream",
     "text": [
      "Train on 26880 samples, validate on 6720 samples\n",
      "Epoch 1/2\n",
      "26880/26880 [==============================] - 347s 13ms/sample - loss: -0.9688 - cosine_similarity: 0.9688 - val_loss: -0.9736 - val_cosine_similarity: 0.9736\n",
      "Epoch 2/2\n",
      "26880/26880 [==============================] - 340s 13ms/sample - loss: -0.9726 - cosine_similarity: 0.9726 - val_loss: -0.9773 - val_cosine_similarity: 0.9773\n"
     ]
    }
   ],
   "source": [
    "# Train\n",
    "history2 = model.fit(\n",
    "        [x_trn_1, x_trn_2, x_trn_3, x_trn_4],\n",
    "        y_train_mean,\n",
    "        epochs=2,\n",
    "        validation_data=([x_val_1, x_val_2, x_val_3, x_val_4], y_val_mean),\n",
    "        verbose=1,\n",
    "        batch_size=256)"
   ]
  },
  {
   "cell_type": "code",
   "execution_count": 32,
   "metadata": {},
   "outputs": [],
   "source": [
    "model.save_weights('model/tosho_book_model_2', save_format='tf')"
   ]
  },
  {
   "cell_type": "code",
   "execution_count": 33,
   "metadata": {},
   "outputs": [
    {
     "name": "stdout",
     "output_type": "stream",
     "text": [
      "Train on 26880 samples, validate on 6720 samples\n",
      "Epoch 1/2\n",
      "26880/26880 [==============================] - 337s 13ms/sample - loss: -0.9755 - cosine_similarity: 0.9755 - val_loss: -0.9795 - val_cosine_similarity: 0.9795\n",
      "Epoch 2/2\n",
      "26880/26880 [==============================] - 348s 13ms/sample - loss: -0.9775 - cosine_similarity: 0.9775 - val_loss: -0.9813 - val_cosine_similarity: 0.9813\n"
     ]
    }
   ],
   "source": [
    "# Train\n",
    "history3 = model.fit(\n",
    "        [x_trn_1, x_trn_2, x_trn_3, x_trn_4],\n",
    "        y_train_mean,\n",
    "        epochs=2,\n",
    "        validation_data=([x_val_1, x_val_2, x_val_3, x_val_4], y_val_mean),\n",
    "        verbose=1,\n",
    "        batch_size=256)"
   ]
  },
  {
   "cell_type": "code",
   "execution_count": 34,
   "metadata": {},
   "outputs": [],
   "source": [
    "model.save_weights('model/tosho_book_model_3', save_format='tf')"
   ]
  },
  {
   "cell_type": "code",
   "execution_count": 35,
   "metadata": {},
   "outputs": [
    {
     "name": "stdout",
     "output_type": "stream",
     "text": [
      "Train on 26880 samples, validate on 6720 samples\n",
      "Epoch 1/2\n",
      "26880/26880 [==============================] - 349s 13ms/sample - loss: -0.9791 - cosine_similarity: 0.9791 - val_loss: -0.9826 - val_cosine_similarity: 0.9826\n",
      "Epoch 2/2\n",
      "26880/26880 [==============================] - 342s 13ms/sample - loss: -0.9804 - cosine_similarity: 0.9804 - val_loss: -0.9837 - val_cosine_similarity: 0.9837\n"
     ]
    }
   ],
   "source": [
    "# Train\n",
    "history4 = model.fit(\n",
    "        [x_trn_1, x_trn_2, x_trn_3, x_trn_4],\n",
    "        y_train_mean,\n",
    "        epochs=2,\n",
    "        validation_data=([x_val_1, x_val_2, x_val_3, x_val_4], y_val_mean),\n",
    "        verbose=1,\n",
    "        batch_size=256)"
   ]
  },
  {
   "cell_type": "code",
   "execution_count": 36,
   "metadata": {},
   "outputs": [],
   "source": [
    "model.save_weights('model/tosho_book_model_4', save_format='tf')"
   ]
  },
  {
   "cell_type": "code",
   "execution_count": null,
   "metadata": {},
   "outputs": [
    {
     "name": "stdout",
     "output_type": "stream",
     "text": [
      "Train on 26880 samples, validate on 6720 samples\n",
      "Epoch 1/2\n",
      "26880/26880 [==============================] - 337s 13ms/sample - loss: -0.9813 - cosine_similarity: 0.9813 - val_loss: -0.9846 - val_cosine_similarity: 0.9846\n",
      "Epoch 2/2\n",
      "26624/26880 [============================>.] - ETA: 2s - loss: -0.9821 - cosine_similarity: 0.9821"
     ]
    }
   ],
   "source": [
    "# Train\n",
    "history5 = model.fit(\n",
    "        [x_trn_1, x_trn_2, x_trn_3, x_trn_4],\n",
    "        y_train_mean,\n",
    "        epochs=2,\n",
    "        validation_data=([x_val_1, x_val_2, x_val_3, x_val_4], y_val_mean),\n",
    "        verbose=1,\n",
    "        batch_size=256)"
   ]
  },
  {
   "cell_type": "code",
   "execution_count": 43,
   "metadata": {},
   "outputs": [],
   "source": [
    "train_metrics = 'cosine_similarity'\n",
    "train_metrics_concat = history.history[train_metrics] + history2.history[train_metrics] + history3.history[train_metrics] + history4.history[train_metrics] + history5.history[train_metrics] \n",
    "val_metrics = 'val_cosine_similarity'\n",
    "val_metrics_concat = history.history[val_metrics] + history2.history[val_metrics] + history3.history[val_metrics] + history4.history[val_metrics] + history5.history[val_metrics] "
   ]
  },
  {
   "cell_type": "code",
   "execution_count": 51,
   "metadata": {},
   "outputs": [
    {
     "data": {
      "image/png": "[encoded data removed]",
      "text/plain": [
       "<Figure size 432x288 with 1 Axes>"
      ]
     },
     "metadata": {
      "needs_background": "light"
     },
     "output_type": "display_data"
    }
   ],
   "source": [
    "epoch_list = [i+1 for i in range(10)]\n",
    "\n",
    "plt.figure(figsize = (6, 4))\n",
    "plt.plot(epoch_list, train_metrics_concat, label='Train Cosine_Similarity')\n",
    "plt.plot(epoch_list, val_metrics_concat, label='Validation Cosine_Similarity')\n",
    "plt.title('Cosine Similarity')\n",
    "plt.xlabel('Epoch')\n",
    "plt.legend()\n",
    "plt.show();"
   ]
  },
  {
   "cell_type": "markdown",
   "metadata": {},
   "source": [
    "### Save Objects"
   ]
  },
  {
   "cell_type": "code",
   "execution_count": 53,
   "metadata": {},
   "outputs": [],
   "source": [
    "def save_object(obj, filename):\n",
    "    with open(filename, 'wb') as output:\n",
    "        pickle.dump(obj, output, protocol=2)\n",
    "\n",
    "save_object(word_index, 'model/tosho_book_model_word_index.pkl')\n",
    "save_object(tokenizer, 'model/tosho_book_model_word_tokenizer.pkl')"
   ]
  },
  {
   "cell_type": "markdown",
   "metadata": {},
   "source": [
    "## Extract Intermediary Layer for Book-level Representation"
   ]
  },
  {
   "cell_type": "code",
   "execution_count": 54,
   "metadata": {},
   "outputs": [],
   "source": [
    "layer_outputs = [layer.output for layer in model.layers[:-2]]"
   ]
  },
  {
   "cell_type": "code",
   "execution_count": 55,
   "metadata": {},
   "outputs": [
    {
     "data": {
      "text/plain": [
       "[<tf.Tensor 'input_5:0' shape=(None, None) dtype=float32>,\n",
       " <tf.Tensor 'input_6:0' shape=(None, None) dtype=float32>,\n",
       " <tf.Tensor 'input_7:0' shape=(None, None) dtype=float32>,\n",
       " <tf.Tensor 'input_8:0' shape=(None, None) dtype=float32>,\n",
       " <tf.Tensor 'word_embed_1/Identity:0' shape=(None, None, 300) dtype=float32>,\n",
       " <tf.Tensor 'word_embed_2/Identity:0' shape=(None, None, 300) dtype=float32>,\n",
       " <tf.Tensor 'word_embed_3/Identity:0' shape=(None, None, 300) dtype=float32>,\n",
       " <tf.Tensor 'word_embed_4/Identity:0' shape=(None, None, 300) dtype=float32>,\n",
       " <tf.Tensor 'bidirectional/Identity:0' shape=(None, 392) dtype=float32>]"
      ]
     },
     "execution_count": 55,
     "metadata": {},
     "output_type": "execute_result"
    }
   ],
   "source": [
    "layer_outputs"
   ]
  },
  {
   "cell_type": "code",
   "execution_count": 56,
   "metadata": {},
   "outputs": [],
   "source": [
    "book_representation_model = models.Model(inputs=model.input, outputs=layer_outputs[-1])"
   ]
  },
  {
   "cell_type": "code",
   "execution_count": 57,
   "metadata": {},
   "outputs": [],
   "source": [
    "save_model(book_representation_model, 'model/tosho_book_representation.hdf5')"
   ]
  }
 ],
 "metadata": {
  "kernelspec": {
   "display_name": "Python 3",
   "language": "python",
   "name": "python3"
  },
  "language_info": {
   "codemirror_mode": {
    "name": "ipython",
    "version": 3
   },
   "file_extension": ".py",
   "mimetype": "text/x-python",
   "name": "python",
   "nbconvert_exporter": "python",
   "pygments_lexer": "ipython3",
   "version": "3.7.3"
  }
 },
 "nbformat": 4,
 "nbformat_minor": 4
}
