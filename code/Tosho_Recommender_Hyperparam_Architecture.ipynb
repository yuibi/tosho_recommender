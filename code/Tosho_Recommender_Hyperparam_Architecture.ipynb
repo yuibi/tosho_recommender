{
 "cells": [
  {
   "cell_type": "markdown",
   "metadata": {},
   "source": [
    "# Tosho Recommender (Hyperparam, Architecture Search)"
   ]
  },
  {
   "cell_type": "code",
   "execution_count": 1,
   "metadata": {},
   "outputs": [],
   "source": [
    "%load_ext autoreload\n",
    "%autoreload 2"
   ]
  },
  {
   "cell_type": "code",
   "execution_count": 2,
   "metadata": {},
   "outputs": [],
   "source": [
    "import numpy as np\n",
    "import pandas as pd\n",
    "import random\n",
    "import fasttext as ft\n",
    "import pickle\n",
    "import optuna\n",
    "import gensim\n",
    "from sklearn.model_selection import train_test_split"
   ]
  },
  {
   "cell_type": "code",
   "execution_count": 3,
   "metadata": {},
   "outputs": [],
   "source": [
    "import tensorflow as tf\n",
    "from tensorflow.keras.preprocessing.text import Tokenizer\n",
    "from tensorflow.keras.preprocessing.sequence import pad_sequences\n",
    "from tensorflow.keras.optimizers import Adam\n",
    "from tensorflow.keras.models import Model\n",
    "from model import *"
   ]
  },
  {
   "cell_type": "code",
   "execution_count": 4,
   "metadata": {},
   "outputs": [],
   "source": [
    "np.random.seed(1)\n",
    "tf.random.set_seed(1)"
   ]
  },
  {
   "cell_type": "markdown",
   "metadata": {},
   "source": [
    "## Load Data"
   ]
  },
  {
   "cell_type": "code",
   "execution_count": 5,
   "metadata": {},
   "outputs": [
    {
     "data": {
      "text/plain": [
       "(33600, 5)"
      ]
     },
     "execution_count": 5,
     "metadata": {},
     "output_type": "execute_result"
    }
   ],
   "source": [
    "text_hist_pd = pd.read_csv('data/text_hist_perm.csv.bz', sep='\\t', compression='bz2')\n",
    "text_hist_pd.shape"
   ]
  },
  {
   "cell_type": "code",
   "execution_count": 6,
   "metadata": {},
   "outputs": [
    {
     "data": {
      "text/html": [
       "<div>\n",
       "<style scoped>\n",
       "    .dataframe tbody tr th:only-of-type {\n",
       "        vertical-align: middle;\n",
       "    }\n",
       "\n",
       "    .dataframe tbody tr th {\n",
       "        vertical-align: top;\n",
       "    }\n",
       "\n",
       "    .dataframe thead th {\n",
       "        text-align: right;\n",
       "    }\n",
       "</style>\n",
       "<table border=\"1\" class=\"dataframe\">\n",
       "  <thead>\n",
       "    <tr style=\"text-align: right;\">\n",
       "      <th></th>\n",
       "      <th>book1</th>\n",
       "      <th>book2</th>\n",
       "      <th>book3</th>\n",
       "      <th>book4</th>\n",
       "      <th>label</th>\n",
       "    </tr>\n",
       "  </thead>\n",
       "  <tbody>\n",
       "    <tr>\n",
       "      <th>17402</th>\n",
       "      <td>深い 霧 の たちこめる 漆 の 海 姿 なき 幽霊 船長 ゴースト キャプテン が 舵 を...</td>\n",
       "      <td>アイスダンス ペア 樹里 と 恵 は 初 出場 し 界 選手権 大会 で 大 喝采 を 浴び...</td>\n",
       "      <td>そろそろ 考え ちゃ 悩め ブタ シッタカブッタ は 人生 の 見え 方 を ていねい に ...</td>\n",
       "      <td>なぞなぞ 大好き の 妖怪 たち が 読者 に おもしろい なぞなぞ で いどみ 人気 の ...</td>\n",
       "      <td>1700233</td>\n",
       "    </tr>\n",
       "    <tr>\n",
       "      <th>9348</th>\n",
       "      <td>宗教 と は 国 と は 人間 へ の 深い まなざし が 捉え 青春 小説 の 新 境地 ...</td>\n",
       "      <td>わたし じゃ よ わ ー ん わ ー ん 学校 から の 帰り道 大きな 声 て い 清香 ...</td>\n",
       "      <td>担任 に 納得 の いか 絵 を 描か さ れ ユク は 傷つく 憧れ の 少女 に 励まさ...</td>\n",
       "      <td>ひな まつり に 愛花 の 家 で は お ばあちゃん だけ が つくれる ごちそう 肉まん...</td>\n",
       "      <td>1902265</td>\n",
       "    </tr>\n",
       "    <tr>\n",
       "      <th>32139</th>\n",
       "      <td>夜 の 星空 を 見 げた とき に 学校 で 習っ 星座 が 星座 の 名前 の 通り に...</td>\n",
       "      <td>界 の カエル と 日本 の カエル 200 種類 を カラー 写真 で 紹介 分布 や す...</td>\n",
       "      <td>現在 もっとも 謎 の 多い チョウ モンシロチョウ 最新 の 撮影 技術 と 研究 成果 ...</td>\n",
       "      <td>ほ 類 は虫類 ペット 家 ちく アニマル ウォッチング 絶滅 危機 動物 とじこみ 付録 ...</td>\n",
       "      <td>1400121</td>\n",
       "    </tr>\n",
       "  </tbody>\n",
       "</table>\n",
       "</div>"
      ],
      "text/plain": [
       "                                                   book1  \\\n",
       "17402  深い 霧 の たちこめる 漆 の 海 姿 なき 幽霊 船長 ゴースト キャプテン が 舵 を...   \n",
       "9348   宗教 と は 国 と は 人間 へ の 深い まなざし が 捉え 青春 小説 の 新 境地 ...   \n",
       "32139  夜 の 星空 を 見 げた とき に 学校 で 習っ 星座 が 星座 の 名前 の 通り に...   \n",
       "\n",
       "                                                   book2  \\\n",
       "17402  アイスダンス ペア 樹里 と 恵 は 初 出場 し 界 選手権 大会 で 大 喝采 を 浴び...   \n",
       "9348   わたし じゃ よ わ ー ん わ ー ん 学校 から の 帰り道 大きな 声 て い 清香 ...   \n",
       "32139  界 の カエル と 日本 の カエル 200 種類 を カラー 写真 で 紹介 分布 や す...   \n",
       "\n",
       "                                                   book3  \\\n",
       "17402  そろそろ 考え ちゃ 悩め ブタ シッタカブッタ は 人生 の 見え 方 を ていねい に ...   \n",
       "9348   担任 に 納得 の いか 絵 を 描か さ れ ユク は 傷つく 憧れ の 少女 に 励まさ...   \n",
       "32139  現在 もっとも 謎 の 多い チョウ モンシロチョウ 最新 の 撮影 技術 と 研究 成果 ...   \n",
       "\n",
       "                                                   book4    label  \n",
       "17402  なぞなぞ 大好き の 妖怪 たち が 読者 に おもしろい なぞなぞ で いどみ 人気 の ...  1700233  \n",
       "9348   ひな まつり に 愛花 の 家 で は お ばあちゃん だけ が つくれる ごちそう 肉まん...  1902265  \n",
       "32139  ほ 類 は虫類 ペット 家 ちく アニマル ウォッチング 絶滅 危機 動物 とじこみ 付録 ...  1400121  "
      ]
     },
     "execution_count": 6,
     "metadata": {},
     "output_type": "execute_result"
    }
   ],
   "source": [
    "text_hist_pd.sample(3, random_state=1)"
   ]
  },
  {
   "cell_type": "markdown",
   "metadata": {},
   "source": [
    "## Sample 20% for Hyperparam Tuning"
   ]
  },
  {
   "cell_type": "code",
   "execution_count": 26,
   "metadata": {},
   "outputs": [
    {
     "data": {
      "text/plain": [
       "(6720, 5)"
      ]
     },
     "execution_count": 26,
     "metadata": {},
     "output_type": "execute_result"
    }
   ],
   "source": [
    "text_hist_sample_pd = text_hist_pd.sample(frac=.2, random_state=1)\n",
    "text_hist_sample_pd.shape"
   ]
  },
  {
   "cell_type": "markdown",
   "metadata": {},
   "source": [
    "## Split into Train and Val"
   ]
  },
  {
   "cell_type": "code",
   "execution_count": 27,
   "metadata": {},
   "outputs": [],
   "source": [
    "train_texts, val_texts, y_train, y_val = train_test_split(text_hist_sample_pd.drop(['label'], axis=1),\n",
    "                                                          text_hist_sample_pd[['label']].values,\n",
    "                                                          test_size = .2,\n",
    "                                                          random_state=1234)"
   ]
  },
  {
   "cell_type": "markdown",
   "metadata": {},
   "source": [
    "## Tokenize"
   ]
  },
  {
   "cell_type": "code",
   "execution_count": 28,
   "metadata": {},
   "outputs": [],
   "source": [
    "# Limit on the number of word features to the top 20K features.\n",
    "TOP_K = 20000\n",
    "\n",
    "# Most claims doc are within 10K word length\n",
    "MAX_SEQUENCE_LENGTH = 500\n",
    "\n",
    "def sequence_vectorize(train_texts, y_train, val_texts, y_val):\n",
    "    # Create vocabulary with training texts.\n",
    "    tokenizer = Tokenizer(num_words=TOP_K)\n",
    "    tokenizer.fit_on_texts(train_texts['book1'])\n",
    "\n",
    "    # Vectorize training and validation texts.\n",
    "    # Fix sequence length to max value. Sequences shorter than the length are\n",
    "    # padded in the beginning and sequences longer are truncated\n",
    "    # at the beginning.\n",
    "    x_trn_1 = pad_sequences(tokenizer.texts_to_sequences(train_texts['book1']), maxlen=MAX_SEQUENCE_LENGTH)\n",
    "    x_trn_2 = pad_sequences(tokenizer.texts_to_sequences(train_texts['book2']), maxlen=MAX_SEQUENCE_LENGTH)\n",
    "    x_trn_3 = pad_sequences(tokenizer.texts_to_sequences(train_texts['book3']), maxlen=MAX_SEQUENCE_LENGTH)\n",
    "    x_trn_4 = pad_sequences(tokenizer.texts_to_sequences(train_texts['book4']), maxlen=MAX_SEQUENCE_LENGTH)\n",
    "    x_val_1 = pad_sequences(tokenizer.texts_to_sequences(val_texts['book1']), maxlen=MAX_SEQUENCE_LENGTH)\n",
    "    x_val_2 = pad_sequences(tokenizer.texts_to_sequences(val_texts['book2']), maxlen=MAX_SEQUENCE_LENGTH)\n",
    "    x_val_3 = pad_sequences(tokenizer.texts_to_sequences(val_texts['book3']), maxlen=MAX_SEQUENCE_LENGTH)\n",
    "    x_val_4 = pad_sequences(tokenizer.texts_to_sequences(val_texts['book4']), maxlen=MAX_SEQUENCE_LENGTH)\n",
    "    \n",
    "    return x_trn_1, x_trn_2, x_trn_3, x_trn_4, x_val_1, x_val_2, x_val_3, x_val_4, tokenizer.word_index, tokenizer"
   ]
  },
  {
   "cell_type": "code",
   "execution_count": 29,
   "metadata": {},
   "outputs": [],
   "source": [
    "x_trn_1, x_trn_2, x_trn_3, x_trn_4, x_val_1, x_val_2, x_val_3, x_val_4, word_index, tokenizer = sequence_vectorize(train_texts, y_train, val_texts, y_val)"
   ]
  },
  {
   "cell_type": "code",
   "execution_count": 30,
   "metadata": {},
   "outputs": [
    {
     "data": {
      "text/plain": [
       "13474"
      ]
     },
     "execution_count": 30,
     "metadata": {},
     "output_type": "execute_result"
    }
   ],
   "source": [
    "# number of vocabulary in the corpus\n",
    "len(word_index)"
   ]
  },
  {
   "cell_type": "markdown",
   "metadata": {},
   "source": [
    "### Load FastText (Japanese)"
   ]
  },
  {
   "cell_type": "code",
   "execution_count": 31,
   "metadata": {},
   "outputs": [
    {
     "name": "stderr",
     "output_type": "stream",
     "text": [
      "\n"
     ]
    }
   ],
   "source": [
    "ja_vecs = ft.load_model('model/cc.ja.300.bin')"
   ]
  },
  {
   "cell_type": "code",
   "execution_count": 32,
   "metadata": {},
   "outputs": [
    {
     "data": {
      "text/plain": [
       "(300,)"
      ]
     },
     "execution_count": 32,
     "metadata": {},
     "output_type": "execute_result"
    }
   ],
   "source": [
    "ja_vecs.get_word_vector('あ').shape"
   ]
  },
  {
   "cell_type": "code",
   "execution_count": 33,
   "metadata": {},
   "outputs": [],
   "source": [
    "EMBEDDING_DIM = 300"
   ]
  },
  {
   "cell_type": "markdown",
   "metadata": {},
   "source": [
    "## Load Book2Vec Vectors"
   ]
  },
  {
   "cell_type": "code",
   "execution_count": 34,
   "metadata": {},
   "outputs": [
    {
     "name": "stderr",
     "output_type": "stream",
     "text": [
      "/opt/conda/lib/python3.7/site-packages/smart_open/smart_open_lib.py:398: UserWarning:\n",
      "\n",
      "This function is deprecated, use smart_open.open instead. See the migration notes for details: https://github.com/RaRe-Technologies/smart_open/blob/master/README.rst#migrating-to-the-new-open-function\n",
      "\n"
     ]
    }
   ],
   "source": [
    "b2v = gensim.models.keyedvectors.KeyedVectors.load_word2vec_format('model/book2vec', binary=False)"
   ]
  },
  {
   "cell_type": "markdown",
   "metadata": {},
   "source": [
    "## Use Book2Vec vectors as label"
   ]
  },
  {
   "cell_type": "code",
   "execution_count": 35,
   "metadata": {},
   "outputs": [],
   "source": [
    "y_train_gru = []\n",
    "for book_id in y_train:\n",
    "    y_train_gru.append(b2v.get_vector(str(book_id[0])))\n",
    "\n",
    "y_train_gru = np.array(y_train_gru)"
   ]
  },
  {
   "cell_type": "code",
   "execution_count": 36,
   "metadata": {},
   "outputs": [],
   "source": [
    "y_val_gru = []\n",
    "for book_id in y_val:\n",
    "    y_val_gru.append(b2v.get_vector(str(book_id[0])))\n",
    "\n",
    "y_val_gru = np.array(y_val_gru)"
   ]
  },
  {
   "cell_type": "code",
   "execution_count": 37,
   "metadata": {},
   "outputs": [
    {
     "data": {
      "text/plain": [
       "((5376, 1), (5376, 392), (1344, 1), (1344, 392))"
      ]
     },
     "execution_count": 37,
     "metadata": {},
     "output_type": "execute_result"
    }
   ],
   "source": [
    "y_train.shape, y_train_gru.shape, y_val.shape, y_val_gru.shape"
   ]
  },
  {
   "cell_type": "markdown",
   "metadata": {},
   "source": [
    "## Model"
   ]
  },
  {
   "cell_type": "markdown",
   "metadata": {},
   "source": [
    "### Embedding layer"
   ]
  },
  {
   "cell_type": "code",
   "execution_count": 38,
   "metadata": {},
   "outputs": [],
   "source": [
    "embedding_matrix = np.zeros((TOP_K+1, EMBEDDING_DIM))\n",
    "for word, i in word_index.items():\n",
    "    if i < TOP_K:\n",
    "        try:\n",
    "            embedding_vector = ja_vecs.get_word_vector(word)\n",
    "        except:\n",
    "            embedding_vector = np.zeros(EMBEDDING_DIM)\n",
    "        if embedding_vector is not None:\n",
    "            # words not found in embedding index will be all-zeros.\n",
    "            embedding_matrix[i] = embedding_vector"
   ]
  },
  {
   "cell_type": "code",
   "execution_count": 39,
   "metadata": {},
   "outputs": [],
   "source": [
    "max_sequence = x_trn_1.shape[1] if MAX_SEQUENCE_LENGTH > x_trn_1.shape[1] else MAX_SEQUENCE_LENGTH"
   ]
  },
  {
   "cell_type": "markdown",
   "metadata": {},
   "source": [
    "### Optuna for Hyperparameter Tuning"
   ]
  },
  {
   "cell_type": "code",
   "execution_count": 40,
   "metadata": {},
   "outputs": [],
   "source": [
    "def objective(trial):\n",
    "    dropout_rate = trial.suggest_uniform('dropout_rate', 0.1, 0.5)\n",
    "    rnn_units = trial.suggest_int(\"rnn_unit\", 150, 200)\n",
    "    learning_rate = trial.suggest_loguniform('learning_rate', 1e-4, 3e-2)\n",
    "    share_gru_weights_on_book = trial.suggest_categorical('share_gru_weights_on_book', [True, False])\n",
    "    use_attention_on_book = trial.suggest_categorical('use_attention_on_book', [True, False])\n",
    "    use_attention_on_user = trial.suggest_categorical('use_attention_on_user', [True, False])\n",
    "    use_batch_norm = trial.suggest_categorical('use_batch_norm', [True, False])\n",
    "    is_embedding_trainable = trial.suggest_categorical('is_embedding_trainable', [True, False])\n",
    "    final_activation = trial.suggest_categorical('final_activation', ['tanh', 'relu'])\n",
    "    \n",
    "    model = gru_model(\n",
    "                     embedding_dim=EMBEDDING_DIM,\n",
    "                     dropout_rate=dropout_rate,\n",
    "                     rnn_unit=rnn_units,\n",
    "                     input_shape=(max_sequence,),\n",
    "                     num_features=TOP_K+1,\n",
    "                     share_gru_weights_on_book=share_gru_weights_on_book,\n",
    "                     use_attention_on_book=use_attention_on_book,\n",
    "                     use_attention_on_user=use_attention_on_user,\n",
    "                     use_batch_norm=use_batch_norm,\n",
    "                     is_embedding_trainable=is_embedding_trainable,\n",
    "                     final_activation=final_activation,\n",
    "                     final_dimension=b2v.vector_size,\n",
    "                     embedding_matrix=embedding_matrix)\n",
    "\n",
    "    # Compile model\n",
    "    loss = 'cosine_similarity'\n",
    "    optimizer = Adam(lr=learning_rate)\n",
    "    model.compile(optimizer=optimizer, loss=loss, metrics=['cosine_similarity'])\n",
    "\n",
    "    history = model.fit(\n",
    "        [x_trn_1, x_trn_2, x_trn_3, x_trn_4],\n",
    "        y_train_gru,\n",
    "        epochs=1,\n",
    "        validation_data=([x_val_1, x_val_2, x_val_3, x_val_4], y_val_gru),\n",
    "        batch_size=256)\n",
    "    \n",
    "    return -np.amax(history.history['val_cosine_similarity'])"
   ]
  },
  {
   "cell_type": "code",
   "execution_count": null,
   "metadata": {
    "collapsed": true,
    "jupyter": {
     "outputs_hidden": true
    }
   },
   "outputs": [
    {
     "name": "stdout",
     "output_type": "stream",
     "text": [
      "Train on 5376 samples, validate on 1344 samples\n",
      "5376/5376 [==============================] - 121s 23ms/sample - loss: -0.1396 - cosine_similarity: 0.1396 - val_loss: -0.3364 - val_cosine_similarity: 0.3364\n"
     ]
    },
    {
     "name": "stderr",
     "output_type": "stream",
     "text": [
      "\u001b[32m[I 2019-10-05 18:47:32,512]\u001b[0m Finished trial#0 resulted in value: -0.3363998830318451. Current best value is -0.3363998830318451 with parameters: {'dropout_rate': 0.3444406298376848, 'rnn_unit': 154, 'learning_rate': 0.0010006896385182243, 'share_gru_weights_on_book': True, 'use_attention_on_book': False, 'use_attention_on_user': False, 'use_batch_norm': True, 'is_embedding_trainable': False, 'final_activation': 'relu'}.\u001b[0m\n"
     ]
    },
    {
     "name": "stdout",
     "output_type": "stream",
     "text": [
      "Train on 5376 samples, validate on 1344 samples\n",
      "5376/5376 [==============================] - 117s 22ms/sample - loss: -0.4369 - cosine_similarity: 0.4369 - val_loss: -0.4667 - val_cosine_similarity: 0.4667\n"
     ]
    },
    {
     "name": "stderr",
     "output_type": "stream",
     "text": [
      "\u001b[32m[I 2019-10-05 18:49:40,853]\u001b[0m Finished trial#1 resulted in value: -0.4666786193847656. Current best value is -0.4666786193847656 with parameters: {'dropout_rate': 0.474022288123939, 'rnn_unit': 197, 'learning_rate': 0.009763053032493729, 'share_gru_weights_on_book': False, 'use_attention_on_book': True, 'use_attention_on_user': False, 'use_batch_norm': True, 'is_embedding_trainable': True, 'final_activation': 'tanh'}.\u001b[0m\n"
     ]
    },
    {
     "name": "stdout",
     "output_type": "stream",
     "text": [
      "Train on 5376 samples, validate on 1344 samples\n",
      "5376/5376 [==============================] - 127s 24ms/sample - loss: -0.3402 - cosine_similarity: 0.3402 - val_loss: -0.3711 - val_cosine_similarity: 0.3711\n"
     ]
    },
    {
     "name": "stderr",
     "output_type": "stream",
     "text": [
      "\u001b[32m[I 2019-10-05 18:52:00,292]\u001b[0m Finished trial#2 resulted in value: -0.3710983097553253. Current best value is -0.4666786193847656 with parameters: {'dropout_rate': 0.474022288123939, 'rnn_unit': 197, 'learning_rate': 0.009763053032493729, 'share_gru_weights_on_book': False, 'use_attention_on_book': True, 'use_attention_on_user': False, 'use_batch_norm': True, 'is_embedding_trainable': True, 'final_activation': 'tanh'}.\u001b[0m\n"
     ]
    },
    {
     "name": "stdout",
     "output_type": "stream",
     "text": [
      "Train on 5376 samples, validate on 1344 samples\n",
      "5376/5376 [==============================] - 124s 23ms/sample - loss: -0.4354 - cosine_similarity: 0.4354 - val_loss: -0.4828 - val_cosine_similarity: 0.4828\n"
     ]
    },
    {
     "name": "stderr",
     "output_type": "stream",
     "text": [
      "\u001b[32m[I 2019-10-05 18:54:17,436]\u001b[0m Finished trial#3 resulted in value: -0.4827795922756195. Current best value is -0.4827795922756195 with parameters: {'dropout_rate': 0.19648516866224558, 'rnn_unit': 156, 'learning_rate': 0.004432163930324196, 'share_gru_weights_on_book': False, 'use_attention_on_book': True, 'use_attention_on_user': False, 'use_batch_norm': True, 'is_embedding_trainable': True, 'final_activation': 'tanh'}.\u001b[0m\n"
     ]
    },
    {
     "name": "stdout",
     "output_type": "stream",
     "text": [
      "Train on 5376 samples, validate on 1344 samples\n",
      "5376/5376 [==============================] - 116s 21ms/sample - loss: -0.4648 - cosine_similarity: 0.4648 - val_loss: -0.5120 - val_cosine_similarity: 0.5120\n"
     ]
    },
    {
     "name": "stderr",
     "output_type": "stream",
     "text": [
      "\u001b[32m[I 2019-10-05 18:56:26,924]\u001b[0m Finished trial#4 resulted in value: -0.5120266675949097. Current best value is -0.5120266675949097 with parameters: {'dropout_rate': 0.4351835284678459, 'rnn_unit': 176, 'learning_rate': 0.004165169968726775, 'share_gru_weights_on_book': False, 'use_attention_on_book': False, 'use_attention_on_user': False, 'use_batch_norm': False, 'is_embedding_trainable': True, 'final_activation': 'tanh'}.\u001b[0m\n"
     ]
    },
    {
     "name": "stdout",
     "output_type": "stream",
     "text": [
      "Train on 5376 samples, validate on 1344 samples\n",
      "5376/5376 [==============================] - 116s 22ms/sample - loss: -0.2126 - cosine_similarity: 0.2126 - val_loss: -0.3316 - val_cosine_similarity: 0.3316\n"
     ]
    },
    {
     "name": "stderr",
     "output_type": "stream",
     "text": [
      "\u001b[32m[I 2019-10-05 18:58:38,148]\u001b[0m Finished trial#5 resulted in value: -0.3315940797328949. Current best value is -0.5120266675949097 with parameters: {'dropout_rate': 0.4351835284678459, 'rnn_unit': 176, 'learning_rate': 0.004165169968726775, 'share_gru_weights_on_book': False, 'use_attention_on_book': False, 'use_attention_on_user': False, 'use_batch_norm': False, 'is_embedding_trainable': True, 'final_activation': 'tanh'}.\u001b[0m\n"
     ]
    },
    {
     "name": "stdout",
     "output_type": "stream",
     "text": [
      "Train on 5376 samples, validate on 1344 samples\n",
      "5376/5376 [==============================] - 119s 22ms/sample - loss: -0.1234 - cosine_similarity: 0.1234 - val_loss: -0.3470 - val_cosine_similarity: 0.3470\n"
     ]
    },
    {
     "name": "stderr",
     "output_type": "stream",
     "text": [
      "\u001b[32m[I 2019-10-05 19:00:53,406]\u001b[0m Finished trial#6 resulted in value: -0.3470040261745453. Current best value is -0.5120266675949097 with parameters: {'dropout_rate': 0.4351835284678459, 'rnn_unit': 176, 'learning_rate': 0.004165169968726775, 'share_gru_weights_on_book': False, 'use_attention_on_book': False, 'use_attention_on_user': False, 'use_batch_norm': False, 'is_embedding_trainable': True, 'final_activation': 'tanh'}.\u001b[0m\n"
     ]
    },
    {
     "name": "stdout",
     "output_type": "stream",
     "text": [
      "Train on 5376 samples, validate on 1344 samples\n",
      "5376/5376 [==============================] - 114s 21ms/sample - loss: -0.4692 - cosine_similarity: 0.4692 - val_loss: -0.5162 - val_cosine_similarity: 0.5162\n"
     ]
    },
    {
     "name": "stderr",
     "output_type": "stream",
     "text": [
      "\u001b[32m[I 2019-10-05 19:03:04,464]\u001b[0m Finished trial#7 resulted in value: -0.5161977410316467. Current best value is -0.5161977410316467 with parameters: {'dropout_rate': 0.3350100405420582, 'rnn_unit': 163, 'learning_rate': 0.0019516975890820367, 'share_gru_weights_on_book': True, 'use_attention_on_book': True, 'use_attention_on_user': True, 'use_batch_norm': False, 'is_embedding_trainable': False, 'final_activation': 'tanh'}.\u001b[0m\n"
     ]
    },
    {
     "name": "stdout",
     "output_type": "stream",
     "text": [
      "Train on 5376 samples, validate on 1344 samples\n",
      "5376/5376 [==============================] - 119s 22ms/sample - loss: -0.3285 - cosine_similarity: 0.3285 - val_loss: -0.3742 - val_cosine_similarity: 0.3742\n"
     ]
    },
    {
     "name": "stderr",
     "output_type": "stream",
     "text": [
      "\u001b[32m[I 2019-10-05 19:05:20,328]\u001b[0m Finished trial#8 resulted in value: -0.37416115403175354. Current best value is -0.5161977410316467 with parameters: {'dropout_rate': 0.3350100405420582, 'rnn_unit': 163, 'learning_rate': 0.0019516975890820367, 'share_gru_weights_on_book': True, 'use_attention_on_book': True, 'use_attention_on_user': True, 'use_batch_norm': False, 'is_embedding_trainable': False, 'final_activation': 'tanh'}.\u001b[0m\n"
     ]
    },
    {
     "name": "stdout",
     "output_type": "stream",
     "text": [
      "Train on 5376 samples, validate on 1344 samples\n",
      "5376/5376 [==============================] - 121s 22ms/sample - loss: -0.4202 - cosine_similarity: 0.4202 - val_loss: -0.5125 - val_cosine_similarity: 0.5125\n"
     ]
    },
    {
     "name": "stderr",
     "output_type": "stream",
     "text": [
      "\u001b[32m[I 2019-10-05 19:07:37,789]\u001b[0m Finished trial#9 resulted in value: -0.5125006437301636. Current best value is -0.5161977410316467 with parameters: {'dropout_rate': 0.3350100405420582, 'rnn_unit': 163, 'learning_rate': 0.0019516975890820367, 'share_gru_weights_on_book': True, 'use_attention_on_book': True, 'use_attention_on_user': True, 'use_batch_norm': False, 'is_embedding_trainable': False, 'final_activation': 'tanh'}.\u001b[0m\n"
     ]
    },
    {
     "name": "stdout",
     "output_type": "stream",
     "text": [
      "Train on 5376 samples, validate on 1344 samples\n",
      "5376/5376 [==============================] - 115s 21ms/sample - loss: -0.4228 - cosine_similarity: 0.4228 - val_loss: -0.4464 - val_cosine_similarity: 0.4464\n"
     ]
    },
    {
     "name": "stderr",
     "output_type": "stream",
     "text": [
      "\u001b[32m[I 2019-10-05 19:09:49,882]\u001b[0m Finished trial#10 resulted in value: -0.446411669254303. Current best value is -0.5161977410316467 with parameters: {'dropout_rate': 0.3350100405420582, 'rnn_unit': 163, 'learning_rate': 0.0019516975890820367, 'share_gru_weights_on_book': True, 'use_attention_on_book': True, 'use_attention_on_user': True, 'use_batch_norm': False, 'is_embedding_trainable': False, 'final_activation': 'tanh'}.\u001b[0m\n"
     ]
    },
    {
     "name": "stdout",
     "output_type": "stream",
     "text": [
      "Train on 5376 samples, validate on 1344 samples\n",
      "5376/5376 [==============================] - 112s 21ms/sample - loss: -0.3679 - cosine_similarity: 0.3679 - val_loss: -0.5072 - val_cosine_similarity: 0.5072\n"
     ]
    },
    {
     "name": "stderr",
     "output_type": "stream",
     "text": [
      "\u001b[32m[I 2019-10-05 19:11:59,814]\u001b[0m Finished trial#11 resulted in value: -0.5072066187858582. Current best value is -0.5161977410316467 with parameters: {'dropout_rate': 0.3350100405420582, 'rnn_unit': 163, 'learning_rate': 0.0019516975890820367, 'share_gru_weights_on_book': True, 'use_attention_on_book': True, 'use_attention_on_user': True, 'use_batch_norm': False, 'is_embedding_trainable': False, 'final_activation': 'tanh'}.\u001b[0m\n"
     ]
    },
    {
     "name": "stdout",
     "output_type": "stream",
     "text": [
      "Train on 5376 samples, validate on 1344 samples\n",
      "5376/5376 [==============================] - 113s 21ms/sample - loss: -0.4043 - cosine_similarity: 0.4043 - val_loss: -0.5139 - val_cosine_similarity: 0.5139\n"
     ]
    },
    {
     "name": "stderr",
     "output_type": "stream",
     "text": [
      "\u001b[32m[I 2019-10-05 19:14:11,704]\u001b[0m Finished trial#12 resulted in value: -0.5139188766479492. Current best value is -0.5161977410316467 with parameters: {'dropout_rate': 0.3350100405420582, 'rnn_unit': 163, 'learning_rate': 0.0019516975890820367, 'share_gru_weights_on_book': True, 'use_attention_on_book': True, 'use_attention_on_user': True, 'use_batch_norm': False, 'is_embedding_trainable': False, 'final_activation': 'tanh'}.\u001b[0m\n"
     ]
    },
    {
     "name": "stdout",
     "output_type": "stream",
     "text": [
      "Train on 5376 samples, validate on 1344 samples\n",
      "5376/5376 [==============================] - 109s 20ms/sample - loss: -0.4610 - cosine_similarity: 0.4610 - val_loss: -0.5149 - val_cosine_similarity: 0.5149\n"
     ]
    },
    {
     "name": "stderr",
     "output_type": "stream",
     "text": [
      "\u001b[32m[I 2019-10-05 19:16:19,779]\u001b[0m Finished trial#13 resulted in value: -0.5148831605911255. Current best value is -0.5161977410316467 with parameters: {'dropout_rate': 0.3350100405420582, 'rnn_unit': 163, 'learning_rate': 0.0019516975890820367, 'share_gru_weights_on_book': True, 'use_attention_on_book': True, 'use_attention_on_user': True, 'use_batch_norm': False, 'is_embedding_trainable': False, 'final_activation': 'tanh'}.\u001b[0m\n"
     ]
    },
    {
     "name": "stdout",
     "output_type": "stream",
     "text": [
      "Train on 5376 samples, validate on 1344 samples\n",
      "5376/5376 [==============================] - 109s 20ms/sample - loss: -0.4687 - cosine_similarity: 0.4687 - val_loss: -0.5158 - val_cosine_similarity: 0.5158\n"
     ]
    },
    {
     "name": "stderr",
     "output_type": "stream",
     "text": [
      "\u001b[32m[I 2019-10-05 19:18:28,311]\u001b[0m Finished trial#14 resulted in value: -0.5157741904258728. Current best value is -0.5161977410316467 with parameters: {'dropout_rate': 0.3350100405420582, 'rnn_unit': 163, 'learning_rate': 0.0019516975890820367, 'share_gru_weights_on_book': True, 'use_attention_on_book': True, 'use_attention_on_user': True, 'use_batch_norm': False, 'is_embedding_trainable': False, 'final_activation': 'tanh'}.\u001b[0m\n"
     ]
    },
    {
     "name": "stdout",
     "output_type": "stream",
     "text": [
      "Train on 5376 samples, validate on 1344 samples\n",
      "5376/5376 [==============================] - 111s 21ms/sample - loss: -0.4716 - cosine_similarity: 0.4716 - val_loss: -0.5164 - val_cosine_similarity: 0.5164\n"
     ]
    },
    {
     "name": "stderr",
     "output_type": "stream",
     "text": [
      "\u001b[32m[I 2019-10-05 19:20:40,041]\u001b[0m Finished trial#15 resulted in value: -0.5163508653640747. Current best value is -0.5163508653640747 with parameters: {'dropout_rate': 0.27396734818992763, 'rnn_unit': 172, 'learning_rate': 0.0018641411139105242, 'share_gru_weights_on_book': True, 'use_attention_on_book': True, 'use_attention_on_user': True, 'use_batch_norm': False, 'is_embedding_trainable': False, 'final_activation': 'tanh'}.\u001b[0m\n"
     ]
    },
    {
     "name": "stdout",
     "output_type": "stream",
     "text": [
      "Train on 5376 samples, validate on 1344 samples\n",
      "5376/5376 [==============================] - 112s 21ms/sample - loss: -0.4757 - cosine_similarity: 0.4757 - val_loss: -0.5190 - val_cosine_similarity: 0.5190\n"
     ]
    },
    {
     "name": "stderr",
     "output_type": "stream",
     "text": [
      "\u001b[32m[I 2019-10-05 19:22:53,114]\u001b[0m Finished trial#16 resulted in value: -0.5190343260765076. Current best value is -0.5190343260765076 with parameters: {'dropout_rate': 0.12715476929015743, 'rnn_unit': 175, 'learning_rate': 0.0027326828648182398, 'share_gru_weights_on_book': True, 'use_attention_on_book': True, 'use_attention_on_user': True, 'use_batch_norm': False, 'is_embedding_trainable': False, 'final_activation': 'tanh'}.\u001b[0m\n"
     ]
    },
    {
     "name": "stdout",
     "output_type": "stream",
     "text": [
      "Train on 5376 samples, validate on 1344 samples\n",
      "5376/5376 [==============================] - 109s 20ms/sample - loss: -0.4380 - cosine_similarity: 0.4380 - val_loss: -0.4624 - val_cosine_similarity: 0.4624\n"
     ]
    },
    {
     "name": "stderr",
     "output_type": "stream",
     "text": [
      "\u001b[32m[I 2019-10-05 19:25:03,551]\u001b[0m Finished trial#17 resulted in value: -0.46240726113319397. Current best value is -0.5190343260765076 with parameters: {'dropout_rate': 0.12715476929015743, 'rnn_unit': 175, 'learning_rate': 0.0027326828648182398, 'share_gru_weights_on_book': True, 'use_attention_on_book': True, 'use_attention_on_user': True, 'use_batch_norm': False, 'is_embedding_trainable': False, 'final_activation': 'tanh'}.\u001b[0m\n"
     ]
    },
    {
     "name": "stdout",
     "output_type": "stream",
     "text": [
      "Train on 5376 samples, validate on 1344 samples\n",
      "5376/5376 [==============================] - 105s 19ms/sample - loss: -0.4763 - cosine_similarity: 0.4763 - val_loss: -0.5197 - val_cosine_similarity: 0.5197\n"
     ]
    },
    {
     "name": "stderr",
     "output_type": "stream",
     "text": [
      "\u001b[32m[I 2019-10-05 19:27:10,075]\u001b[0m Finished trial#18 resulted in value: -0.5197312235832214. Current best value is -0.5197312235832214 with parameters: {'dropout_rate': 0.10822217233977706, 'rnn_unit': 169, 'learning_rate': 0.0030993558313052584, 'share_gru_weights_on_book': True, 'use_attention_on_book': True, 'use_attention_on_user': True, 'use_batch_norm': False, 'is_embedding_trainable': False, 'final_activation': 'tanh'}.\u001b[0m\n"
     ]
    },
    {
     "name": "stdout",
     "output_type": "stream",
     "text": [
      "Train on 5376 samples, validate on 1344 samples\n",
      "5376/5376 [==============================] - 107s 20ms/sample - loss: -0.4718 - cosine_similarity: 0.4718 - val_loss: -0.5183 - val_cosine_similarity: 0.5183\n"
     ]
    },
    {
     "name": "stderr",
     "output_type": "stream",
     "text": [
      "\u001b[32m[I 2019-10-05 19:29:19,458]\u001b[0m Finished trial#19 resulted in value: -0.5183008909225464. Current best value is -0.5197312235832214 with parameters: {'dropout_rate': 0.10822217233977706, 'rnn_unit': 169, 'learning_rate': 0.0030993558313052584, 'share_gru_weights_on_book': True, 'use_attention_on_book': True, 'use_attention_on_user': True, 'use_batch_norm': False, 'is_embedding_trainable': False, 'final_activation': 'tanh'}.\u001b[0m\n"
     ]
    },
    {
     "name": "stdout",
     "output_type": "stream",
     "text": [
      "Train on 5376 samples, validate on 1344 samples\n",
      "5376/5376 [==============================] - 110s 20ms/sample - loss: -0.4252 - cosine_similarity: 0.4252 - val_loss: -0.4477 - val_cosine_similarity: 0.4477\n"
     ]
    },
    {
     "name": "stderr",
     "output_type": "stream",
     "text": [
      "\u001b[32m[I 2019-10-05 19:31:32,251]\u001b[0m Finished trial#20 resulted in value: -0.44772616028785706. Current best value is -0.5197312235832214 with parameters: {'dropout_rate': 0.10822217233977706, 'rnn_unit': 169, 'learning_rate': 0.0030993558313052584, 'share_gru_weights_on_book': True, 'use_attention_on_book': True, 'use_attention_on_user': True, 'use_batch_norm': False, 'is_embedding_trainable': False, 'final_activation': 'tanh'}.\u001b[0m\n"
     ]
    },
    {
     "name": "stdout",
     "output_type": "stream",
     "text": [
      "Train on 5376 samples, validate on 1344 samples\n",
      "5376/5376 [==============================] - 107s 20ms/sample - loss: -0.4630 - cosine_similarity: 0.4630 - val_loss: -0.5010 - val_cosine_similarity: 0.5010\n"
     ]
    },
    {
     "name": "stderr",
     "output_type": "stream",
     "text": [
      "\u001b[32m[I 2019-10-05 19:33:42,196]\u001b[0m Finished trial#21 resulted in value: -0.5010231137275696. Current best value is -0.5197312235832214 with parameters: {'dropout_rate': 0.10822217233977706, 'rnn_unit': 169, 'learning_rate': 0.0030993558313052584, 'share_gru_weights_on_book': True, 'use_attention_on_book': True, 'use_attention_on_user': True, 'use_batch_norm': False, 'is_embedding_trainable': False, 'final_activation': 'tanh'}.\u001b[0m\n"
     ]
    },
    {
     "name": "stdout",
     "output_type": "stream",
     "text": [
      "Train on 5376 samples, validate on 1344 samples\n",
      "5376/5376 [==============================] - 111s 21ms/sample - loss: -0.4819 - cosine_similarity: 0.4819 - val_loss: -0.5244 - val_cosine_similarity: 0.5244\n"
     ]
    },
    {
     "name": "stderr",
     "output_type": "stream",
     "text": [
      "\u001b[32m[I 2019-10-05 19:35:57,310]\u001b[0m Finished trial#22 resulted in value: -0.5244370102882385. Current best value is -0.5244370102882385 with parameters: {'dropout_rate': 0.13280597201369856, 'rnn_unit': 189, 'learning_rate': 0.003333495724701506, 'share_gru_weights_on_book': True, 'use_attention_on_book': True, 'use_attention_on_user': True, 'use_batch_norm': False, 'is_embedding_trainable': False, 'final_activation': 'tanh'}.\u001b[0m\n"
     ]
    },
    {
     "name": "stdout",
     "output_type": "stream",
     "text": [
      "Train on 5376 samples, validate on 1344 samples\n",
      "5376/5376 [==============================] - 109s 20ms/sample - loss: -0.4798 - cosine_similarity: 0.4798 - val_loss: -0.5223 - val_cosine_similarity: 0.5223\n"
     ]
    },
    {
     "name": "stderr",
     "output_type": "stream",
     "text": [
      "\u001b[32m[I 2019-10-05 19:38:11,604]\u001b[0m Finished trial#23 resulted in value: -0.522323727607727. Current best value is -0.5244370102882385 with parameters: {'dropout_rate': 0.13280597201369856, 'rnn_unit': 189, 'learning_rate': 0.003333495724701506, 'share_gru_weights_on_book': True, 'use_attention_on_book': True, 'use_attention_on_user': True, 'use_batch_norm': False, 'is_embedding_trainable': False, 'final_activation': 'tanh'}.\u001b[0m\n"
     ]
    },
    {
     "name": "stdout",
     "output_type": "stream",
     "text": [
      "Train on 5376 samples, validate on 1344 samples\n",
      "5376/5376 [==============================] - 107s 20ms/sample - loss: -0.4658 - cosine_similarity: 0.4658 - val_loss: -0.5161 - val_cosine_similarity: 0.5161\n"
     ]
    },
    {
     "name": "stderr",
     "output_type": "stream",
     "text": [
      "\u001b[32m[I 2019-10-05 19:40:23,746]\u001b[0m Finished trial#24 resulted in value: -0.5161282420158386. Current best value is -0.5244370102882385 with parameters: {'dropout_rate': 0.13280597201369856, 'rnn_unit': 189, 'learning_rate': 0.003333495724701506, 'share_gru_weights_on_book': True, 'use_attention_on_book': True, 'use_attention_on_user': True, 'use_batch_norm': False, 'is_embedding_trainable': False, 'final_activation': 'tanh'}.\u001b[0m\n"
     ]
    },
    {
     "name": "stdout",
     "output_type": "stream",
     "text": [
      "Train on 5376 samples, validate on 1344 samples\n",
      "5376/5376 [==============================] - 110s 20ms/sample - loss: -0.4283 - cosine_similarity: 0.4283 - val_loss: -0.4524 - val_cosine_similarity: 0.4524\n"
     ]
    },
    {
     "name": "stderr",
     "output_type": "stream",
     "text": [
      "\u001b[32m[I 2019-10-05 19:42:37,792]\u001b[0m Finished trial#25 resulted in value: -0.45240887999534607. Current best value is -0.5244370102882385 with parameters: {'dropout_rate': 0.13280597201369856, 'rnn_unit': 189, 'learning_rate': 0.003333495724701506, 'share_gru_weights_on_book': True, 'use_attention_on_book': True, 'use_attention_on_user': True, 'use_batch_norm': False, 'is_embedding_trainable': False, 'final_activation': 'tanh'}.\u001b[0m\n"
     ]
    },
    {
     "name": "stdout",
     "output_type": "stream",
     "text": [
      "Train on 5376 samples, validate on 1344 samples\n",
      "5376/5376 [==============================] - 109s 20ms/sample - loss: -0.4805 - cosine_similarity: 0.4805 - val_loss: -0.5259 - val_cosine_similarity: 0.5259\n"
     ]
    },
    {
     "name": "stderr",
     "output_type": "stream",
     "text": [
      "\u001b[32m[I 2019-10-05 19:44:52,819]\u001b[0m Finished trial#26 resulted in value: -0.5258757472038269. Current best value is -0.5258757472038269 with parameters: {'dropout_rate': 0.12600526750119323, 'rnn_unit': 194, 'learning_rate': 0.0031384959707684785, 'share_gru_weights_on_book': True, 'use_attention_on_book': True, 'use_attention_on_user': True, 'use_batch_norm': False, 'is_embedding_trainable': False, 'final_activation': 'tanh'}.\u001b[0m\n"
     ]
    },
    {
     "name": "stdout",
     "output_type": "stream",
     "text": [
      "Train on 5376 samples, validate on 1344 samples\n",
      "5376/5376 [==============================] - 109s 20ms/sample - loss: -0.4792 - cosine_similarity: 0.4792 - val_loss: -0.5236 - val_cosine_similarity: 0.5236\n"
     ]
    },
    {
     "name": "stderr",
     "output_type": "stream",
     "text": [
      "\u001b[32m[I 2019-10-05 19:47:09,222]\u001b[0m Finished trial#27 resulted in value: -0.5235764384269714. Current best value is -0.5258757472038269 with parameters: {'dropout_rate': 0.12600526750119323, 'rnn_unit': 194, 'learning_rate': 0.0031384959707684785, 'share_gru_weights_on_book': True, 'use_attention_on_book': True, 'use_attention_on_user': True, 'use_batch_norm': False, 'is_embedding_trainable': False, 'final_activation': 'tanh'}.\u001b[0m\n"
     ]
    },
    {
     "name": "stdout",
     "output_type": "stream",
     "text": [
      "Train on 5376 samples, validate on 1344 samples\n",
      "5376/5376 [==============================] - 109s 20ms/sample - loss: -0.4526 - cosine_similarity: 0.4526 - val_loss: -0.4874 - val_cosine_similarity: 0.4874\n"
     ]
    },
    {
     "name": "stderr",
     "output_type": "stream",
     "text": [
      "\u001b[32m[I 2019-10-05 19:49:25,942]\u001b[0m Finished trial#28 resulted in value: -0.4873642325401306. Current best value is -0.5258757472038269 with parameters: {'dropout_rate': 0.12600526750119323, 'rnn_unit': 194, 'learning_rate': 0.0031384959707684785, 'share_gru_weights_on_book': True, 'use_attention_on_book': True, 'use_attention_on_user': True, 'use_batch_norm': False, 'is_embedding_trainable': False, 'final_activation': 'tanh'}.\u001b[0m\n"
     ]
    },
    {
     "name": "stdout",
     "output_type": "stream",
     "text": [
      "Train on 5376 samples, validate on 1344 samples\n",
      "5376/5376 [==============================] - 109s 20ms/sample - loss: -0.3244 - cosine_similarity: 0.3244 - val_loss: -0.3633 - val_cosine_similarity: 0.3633\n"
     ]
    },
    {
     "name": "stderr",
     "output_type": "stream",
     "text": [
      "\u001b[32m[I 2019-10-05 19:51:43,033]\u001b[0m Finished trial#29 resulted in value: -0.36332935094833374. Current best value is -0.5258757472038269 with parameters: {'dropout_rate': 0.12600526750119323, 'rnn_unit': 194, 'learning_rate': 0.0031384959707684785, 'share_gru_weights_on_book': True, 'use_attention_on_book': True, 'use_attention_on_user': True, 'use_batch_norm': False, 'is_embedding_trainable': False, 'final_activation': 'tanh'}.\u001b[0m\n"
     ]
    },
    {
     "name": "stdout",
     "output_type": "stream",
     "text": [
      "Train on 5376 samples, validate on 1344 samples\n",
      "5376/5376 [==============================] - 112s 21ms/sample - loss: -0.4488 - cosine_similarity: 0.4488 - val_loss: -0.5153 - val_cosine_similarity: 0.5153\n"
     ]
    },
    {
     "name": "stderr",
     "output_type": "stream",
     "text": [
      "\u001b[32m[I 2019-10-05 19:54:03,994]\u001b[0m Finished trial#30 resulted in value: -0.5152685046195984. Current best value is -0.5258757472038269 with parameters: {'dropout_rate': 0.12600526750119323, 'rnn_unit': 194, 'learning_rate': 0.0031384959707684785, 'share_gru_weights_on_book': True, 'use_attention_on_book': True, 'use_attention_on_user': True, 'use_batch_norm': False, 'is_embedding_trainable': False, 'final_activation': 'tanh'}.\u001b[0m\n"
     ]
    },
    {
     "name": "stdout",
     "output_type": "stream",
     "text": [
      "Train on 5376 samples, validate on 1344 samples\n",
      "5376/5376 [==============================] - 114s 21ms/sample - loss: -0.4774 - cosine_similarity: 0.4774 - val_loss: -0.5245 - val_cosine_similarity: 0.5245\n"
     ]
    },
    {
     "name": "stderr",
     "output_type": "stream",
     "text": [
      "\u001b[32m[I 2019-10-05 19:56:28,045]\u001b[0m Finished trial#31 resulted in value: -0.5245144963264465. Current best value is -0.5258757472038269 with parameters: {'dropout_rate': 0.12600526750119323, 'rnn_unit': 194, 'learning_rate': 0.0031384959707684785, 'share_gru_weights_on_book': True, 'use_attention_on_book': True, 'use_attention_on_user': True, 'use_batch_norm': False, 'is_embedding_trainable': False, 'final_activation': 'tanh'}.\u001b[0m\n"
     ]
    },
    {
     "name": "stdout",
     "output_type": "stream",
     "text": [
      "Train on 5376 samples, validate on 1344 samples\n",
      "5376/5376 [==============================] - 110s 20ms/sample - loss: -0.4795 - cosine_similarity: 0.4795 - val_loss: -0.5222 - val_cosine_similarity: 0.5222\n"
     ]
    },
    {
     "name": "stderr",
     "output_type": "stream",
     "text": [
      "\u001b[32m[I 2019-10-05 19:58:49,190]\u001b[0m Finished trial#32 resulted in value: -0.5221688151359558. Current best value is -0.5258757472038269 with parameters: {'dropout_rate': 0.12600526750119323, 'rnn_unit': 194, 'learning_rate': 0.0031384959707684785, 'share_gru_weights_on_book': True, 'use_attention_on_book': True, 'use_attention_on_user': True, 'use_batch_norm': False, 'is_embedding_trainable': False, 'final_activation': 'tanh'}.\u001b[0m\n"
     ]
    },
    {
     "name": "stdout",
     "output_type": "stream",
     "text": [
      "Train on 5376 samples, validate on 1344 samples\n",
      "5376/5376 [==============================] - 111s 21ms/sample - loss: -0.4708 - cosine_similarity: 0.4708 - val_loss: -0.5172 - val_cosine_similarity: 0.5172\n"
     ]
    },
    {
     "name": "stderr",
     "output_type": "stream",
     "text": [
      "\u001b[32m[I 2019-10-05 20:01:11,917]\u001b[0m Finished trial#33 resulted in value: -0.517220675945282. Current best value is -0.5258757472038269 with parameters: {'dropout_rate': 0.12600526750119323, 'rnn_unit': 194, 'learning_rate': 0.0031384959707684785, 'share_gru_weights_on_book': True, 'use_attention_on_book': True, 'use_attention_on_user': True, 'use_batch_norm': False, 'is_embedding_trainable': False, 'final_activation': 'tanh'}.\u001b[0m\n"
     ]
    },
    {
     "name": "stdout",
     "output_type": "stream",
     "text": [
      "Train on 5376 samples, validate on 1344 samples\n",
      "5376/5376 [==============================] - 116s 22ms/sample - loss: -0.4593 - cosine_similarity: 0.4593 - val_loss: -0.4756 - val_cosine_similarity: 0.4756\n"
     ]
    },
    {
     "name": "stderr",
     "output_type": "stream",
     "text": [
      "\u001b[32m[I 2019-10-05 20:03:41,097]\u001b[0m Finished trial#34 resulted in value: -0.4756435751914978. Current best value is -0.5258757472038269 with parameters: {'dropout_rate': 0.12600526750119323, 'rnn_unit': 194, 'learning_rate': 0.0031384959707684785, 'share_gru_weights_on_book': True, 'use_attention_on_book': True, 'use_attention_on_user': True, 'use_batch_norm': False, 'is_embedding_trainable': False, 'final_activation': 'tanh'}.\u001b[0m\n"
     ]
    },
    {
     "name": "stdout",
     "output_type": "stream",
     "text": [
      "Train on 5376 samples, validate on 1344 samples\n",
      "5376/5376 [==============================] - 113s 21ms/sample - loss: -0.4769 - cosine_similarity: 0.4769 - val_loss: -0.5209 - val_cosine_similarity: 0.5209\n"
     ]
    },
    {
     "name": "stderr",
     "output_type": "stream",
     "text": [
      "\u001b[32m[I 2019-10-05 20:06:07,251]\u001b[0m Finished trial#35 resulted in value: -0.5208834409713745. Current best value is -0.5258757472038269 with parameters: {'dropout_rate': 0.12600526750119323, 'rnn_unit': 194, 'learning_rate': 0.0031384959707684785, 'share_gru_weights_on_book': True, 'use_attention_on_book': True, 'use_attention_on_user': True, 'use_batch_norm': False, 'is_embedding_trainable': False, 'final_activation': 'tanh'}.\u001b[0m\n"
     ]
    },
    {
     "name": "stdout",
     "output_type": "stream",
     "text": [
      "Train on 5376 samples, validate on 1344 samples\n",
      "5376/5376 [==============================] - 120s 22ms/sample - loss: -0.4506 - cosine_similarity: 0.4506 - val_loss: -0.4757 - val_cosine_similarity: 0.4757\n"
     ]
    },
    {
     "name": "stderr",
     "output_type": "stream",
     "text": [
      "\u001b[32m[I 2019-10-05 20:08:43,034]\u001b[0m Finished trial#36 resulted in value: -0.4757333993911743. Current best value is -0.5258757472038269 with parameters: {'dropout_rate': 0.12600526750119323, 'rnn_unit': 194, 'learning_rate': 0.0031384959707684785, 'share_gru_weights_on_book': True, 'use_attention_on_book': True, 'use_attention_on_user': True, 'use_batch_norm': False, 'is_embedding_trainable': False, 'final_activation': 'tanh'}.\u001b[0m\n"
     ]
    },
    {
     "name": "stdout",
     "output_type": "stream",
     "text": [
      "Train on 5376 samples, validate on 1344 samples\n",
      "5376/5376 [==============================] - 118s 22ms/sample - loss: -0.3410 - cosine_similarity: 0.3410 - val_loss: -0.3692 - val_cosine_similarity: 0.3692\n"
     ]
    },
    {
     "name": "stderr",
     "output_type": "stream",
     "text": [
      "\u001b[32m[I 2019-10-05 20:11:17,806]\u001b[0m Finished trial#37 resulted in value: -0.369200199842453. Current best value is -0.5258757472038269 with parameters: {'dropout_rate': 0.12600526750119323, 'rnn_unit': 194, 'learning_rate': 0.0031384959707684785, 'share_gru_weights_on_book': True, 'use_attention_on_book': True, 'use_attention_on_user': True, 'use_batch_norm': False, 'is_embedding_trainable': False, 'final_activation': 'tanh'}.\u001b[0m\n"
     ]
    },
    {
     "name": "stdout",
     "output_type": "stream",
     "text": [
      "Train on 5376 samples, validate on 1344 samples\n",
      "5376/5376 [==============================] - 127s 24ms/sample - loss: -0.4380 - cosine_similarity: 0.4380 - val_loss: -0.4720 - val_cosine_similarity: 0.4720\n"
     ]
    },
    {
     "name": "stderr",
     "output_type": "stream",
     "text": [
      "\u001b[32m[I 2019-10-05 20:14:01,033]\u001b[0m Finished trial#38 resulted in value: -0.4719679653644562. Current best value is -0.5258757472038269 with parameters: {'dropout_rate': 0.12600526750119323, 'rnn_unit': 194, 'learning_rate': 0.0031384959707684785, 'share_gru_weights_on_book': True, 'use_attention_on_book': True, 'use_attention_on_user': True, 'use_batch_norm': False, 'is_embedding_trainable': False, 'final_activation': 'tanh'}.\u001b[0m\n"
     ]
    },
    {
     "name": "stdout",
     "output_type": "stream",
     "text": [
      "Train on 5376 samples, validate on 1344 samples\n",
      "5376/5376 [==============================] - 115s 21ms/sample - loss: -0.4405 - cosine_similarity: 0.4405 - val_loss: -0.4900 - val_cosine_similarity: 0.4900\n"
     ]
    },
    {
     "name": "stderr",
     "output_type": "stream",
     "text": [
      "\u001b[32m[I 2019-10-05 20:16:34,058]\u001b[0m Finished trial#39 resulted in value: -0.48995375633239746. Current best value is -0.5258757472038269 with parameters: {'dropout_rate': 0.12600526750119323, 'rnn_unit': 194, 'learning_rate': 0.0031384959707684785, 'share_gru_weights_on_book': True, 'use_attention_on_book': True, 'use_attention_on_user': True, 'use_batch_norm': False, 'is_embedding_trainable': False, 'final_activation': 'tanh'}.\u001b[0m\n"
     ]
    },
    {
     "name": "stdout",
     "output_type": "stream",
     "text": [
      "Train on 5376 samples, validate on 1344 samples\n",
      "5376/5376 [==============================] - 116s 22ms/sample - loss: -0.3319 - cosine_similarity: 0.3319 - val_loss: -0.3681 - val_cosine_similarity: 0.3681\n"
     ]
    },
    {
     "name": "stderr",
     "output_type": "stream",
     "text": [
      "\u001b[32m[I 2019-10-05 20:19:09,064]\u001b[0m Finished trial#40 resulted in value: -0.3681069314479828. Current best value is -0.5258757472038269 with parameters: {'dropout_rate': 0.12600526750119323, 'rnn_unit': 194, 'learning_rate': 0.0031384959707684785, 'share_gru_weights_on_book': True, 'use_attention_on_book': True, 'use_attention_on_user': True, 'use_batch_norm': False, 'is_embedding_trainable': False, 'final_activation': 'tanh'}.\u001b[0m\n"
     ]
    },
    {
     "name": "stdout",
     "output_type": "stream",
     "text": [
      "Train on 5376 samples, validate on 1344 samples\n",
      "5376/5376 [==============================] - 114s 21ms/sample - loss: -0.4796 - cosine_similarity: 0.4796 - val_loss: -0.5235 - val_cosine_similarity: 0.5235\n"
     ]
    },
    {
     "name": "stderr",
     "output_type": "stream",
     "text": [
      "\u001b[32m[I 2019-10-05 20:21:41,820]\u001b[0m Finished trial#41 resulted in value: -0.5234907269477844. Current best value is -0.5258757472038269 with parameters: {'dropout_rate': 0.12600526750119323, 'rnn_unit': 194, 'learning_rate': 0.0031384959707684785, 'share_gru_weights_on_book': True, 'use_attention_on_book': True, 'use_attention_on_user': True, 'use_batch_norm': False, 'is_embedding_trainable': False, 'final_activation': 'tanh'}.\u001b[0m\n"
     ]
    },
    {
     "name": "stdout",
     "output_type": "stream",
     "text": [
      "Train on 5376 samples, validate on 1344 samples\n",
      "5376/5376 [==============================] - 118s 22ms/sample - loss: -0.4823 - cosine_similarity: 0.4823 - val_loss: -0.5263 - val_cosine_similarity: 0.5263\n"
     ]
    },
    {
     "name": "stderr",
     "output_type": "stream",
     "text": [
      "\u001b[32m[I 2019-10-05 20:24:20,703]\u001b[0m Finished trial#42 resulted in value: -0.5263495445251465. Current best value is -0.5263495445251465 with parameters: {'dropout_rate': 0.18886535264626358, 'rnn_unit': 196, 'learning_rate': 0.004263337782047885, 'share_gru_weights_on_book': True, 'use_attention_on_book': True, 'use_attention_on_user': True, 'use_batch_norm': False, 'is_embedding_trainable': False, 'final_activation': 'tanh'}.\u001b[0m\n"
     ]
    },
    {
     "name": "stdout",
     "output_type": "stream",
     "text": [
      "Train on 5376 samples, validate on 1344 samples\n",
      "5376/5376 [==============================] - 120s 22ms/sample - loss: -0.4792 - cosine_similarity: 0.4792 - val_loss: -0.5227 - val_cosine_similarity: 0.5227\n"
     ]
    },
    {
     "name": "stderr",
     "output_type": "stream",
     "text": [
      "\u001b[32m[I 2019-10-05 20:27:02,254]\u001b[0m Finished trial#43 resulted in value: -0.5226919054985046. Current best value is -0.5263495445251465 with parameters: {'dropout_rate': 0.18886535264626358, 'rnn_unit': 196, 'learning_rate': 0.004263337782047885, 'share_gru_weights_on_book': True, 'use_attention_on_book': True, 'use_attention_on_user': True, 'use_batch_norm': False, 'is_embedding_trainable': False, 'final_activation': 'tanh'}.\u001b[0m\n"
     ]
    },
    {
     "name": "stdout",
     "output_type": "stream",
     "text": [
      "Train on 5376 samples, validate on 1344 samples\n",
      "5376/5376 [==============================] - 126s 23ms/sample - loss: -0.4734 - cosine_similarity: 0.4734 - val_loss: -0.5189 - val_cosine_similarity: 0.5189\n"
     ]
    },
    {
     "name": "stderr",
     "output_type": "stream",
     "text": [
      "\u001b[32m[I 2019-10-05 20:29:50,583]\u001b[0m Finished trial#44 resulted in value: -0.518859326839447. Current best value is -0.5263495445251465 with parameters: {'dropout_rate': 0.18886535264626358, 'rnn_unit': 196, 'learning_rate': 0.004263337782047885, 'share_gru_weights_on_book': True, 'use_attention_on_book': True, 'use_attention_on_user': True, 'use_batch_norm': False, 'is_embedding_trainable': False, 'final_activation': 'tanh'}.\u001b[0m\n"
     ]
    },
    {
     "name": "stdout",
     "output_type": "stream",
     "text": [
      "Train on 5376 samples, validate on 1344 samples\n",
      "5376/5376 [==============================] - 120s 22ms/sample - loss: -0.4781 - cosine_similarity: 0.4781 - val_loss: -0.5229 - val_cosine_similarity: 0.5229\n"
     ]
    },
    {
     "name": "stderr",
     "output_type": "stream",
     "text": [
      "\u001b[32m[I 2019-10-05 20:32:33,451]\u001b[0m Finished trial#45 resulted in value: -0.5229443311691284. Current best value is -0.5263495445251465 with parameters: {'dropout_rate': 0.18886535264626358, 'rnn_unit': 196, 'learning_rate': 0.004263337782047885, 'share_gru_weights_on_book': True, 'use_attention_on_book': True, 'use_attention_on_user': True, 'use_batch_norm': False, 'is_embedding_trainable': False, 'final_activation': 'tanh'}.\u001b[0m\n"
     ]
    },
    {
     "name": "stdout",
     "output_type": "stream",
     "text": [
      "Train on 5376 samples, validate on 1344 samples\n",
      "5376/5376 [==============================] - 117s 22ms/sample - loss: -0.4756 - cosine_similarity: 0.4756 - val_loss: -0.5196 - val_cosine_similarity: 0.5196\n"
     ]
    },
    {
     "name": "stderr",
     "output_type": "stream",
     "text": [
      "\u001b[32m[I 2019-10-05 20:35:14,634]\u001b[0m Finished trial#46 resulted in value: -0.5196478962898254. Current best value is -0.5263495445251465 with parameters: {'dropout_rate': 0.18886535264626358, 'rnn_unit': 196, 'learning_rate': 0.004263337782047885, 'share_gru_weights_on_book': True, 'use_attention_on_book': True, 'use_attention_on_user': True, 'use_batch_norm': False, 'is_embedding_trainable': False, 'final_activation': 'tanh'}.\u001b[0m\n"
     ]
    },
    {
     "name": "stdout",
     "output_type": "stream",
     "text": [
      "Train on 5376 samples, validate on 1344 samples\n",
      "5376/5376 [==============================] - 117s 22ms/sample - loss: -0.4757 - cosine_similarity: 0.4757 - val_loss: -0.5184 - val_cosine_similarity: 0.5184\n"
     ]
    },
    {
     "name": "stderr",
     "output_type": "stream",
     "text": [
      "\u001b[32m[I 2019-10-05 20:37:55,146]\u001b[0m Finished trial#47 resulted in value: -0.5183688402175903. Current best value is -0.5263495445251465 with parameters: {'dropout_rate': 0.18886535264626358, 'rnn_unit': 196, 'learning_rate': 0.004263337782047885, 'share_gru_weights_on_book': True, 'use_attention_on_book': True, 'use_attention_on_user': True, 'use_batch_norm': False, 'is_embedding_trainable': False, 'final_activation': 'tanh'}.\u001b[0m\n"
     ]
    },
    {
     "name": "stdout",
     "output_type": "stream",
     "text": [
      "Train on 5376 samples, validate on 1344 samples\n",
      "5376/5376 [==============================] - 123s 23ms/sample - loss: -0.4455 - cosine_similarity: 0.4455 - val_loss: -0.4769 - val_cosine_similarity: 0.4769\n"
     ]
    },
    {
     "name": "stderr",
     "output_type": "stream",
     "text": [
      "\u001b[32m[I 2019-10-05 20:40:43,691]\u001b[0m Finished trial#48 resulted in value: -0.4769061505794525. Current best value is -0.5263495445251465 with parameters: {'dropout_rate': 0.18886535264626358, 'rnn_unit': 196, 'learning_rate': 0.004263337782047885, 'share_gru_weights_on_book': True, 'use_attention_on_book': True, 'use_attention_on_user': True, 'use_batch_norm': False, 'is_embedding_trainable': False, 'final_activation': 'tanh'}.\u001b[0m\n"
     ]
    },
    {
     "name": "stdout",
     "output_type": "stream",
     "text": [
      "Train on 5376 samples, validate on 1344 samples\n",
      "5376/5376 [==============================] - 118s 22ms/sample - loss: -0.4121 - cosine_similarity: 0.4121 - val_loss: -0.4874 - val_cosine_similarity: 0.4874\n"
     ]
    },
    {
     "name": "stderr",
     "output_type": "stream",
     "text": [
      "\u001b[32m[I 2019-10-05 20:43:29,611]\u001b[0m Finished trial#49 resulted in value: -0.4874163269996643. Current best value is -0.5263495445251465 with parameters: {'dropout_rate': 0.18886535264626358, 'rnn_unit': 196, 'learning_rate': 0.004263337782047885, 'share_gru_weights_on_book': True, 'use_attention_on_book': True, 'use_attention_on_user': True, 'use_batch_norm': False, 'is_embedding_trainable': False, 'final_activation': 'tanh'}.\u001b[0m\n"
     ]
    },
    {
     "name": "stdout",
     "output_type": "stream",
     "text": [
      "Train on 5376 samples, validate on 1344 samples\n",
      "5376/5376 [==============================] - 114s 21ms/sample - loss: -0.3435 - cosine_similarity: 0.3435 - val_loss: -0.3695 - val_cosine_similarity: 0.3695\n"
     ]
    },
    {
     "name": "stderr",
     "output_type": "stream",
     "text": [
      "\u001b[32m[I 2019-10-05 20:46:11,446]\u001b[0m Finished trial#50 resulted in value: -0.3695374131202698. Current best value is -0.5263495445251465 with parameters: {'dropout_rate': 0.18886535264626358, 'rnn_unit': 196, 'learning_rate': 0.004263337782047885, 'share_gru_weights_on_book': True, 'use_attention_on_book': True, 'use_attention_on_user': True, 'use_batch_norm': False, 'is_embedding_trainable': False, 'final_activation': 'tanh'}.\u001b[0m\n"
     ]
    },
    {
     "name": "stdout",
     "output_type": "stream",
     "text": [
      "Train on 5376 samples, validate on 1344 samples\n",
      "5376/5376 [==============================] - 115s 21ms/sample - loss: -0.4810 - cosine_similarity: 0.4810 - val_loss: -0.5251 - val_cosine_similarity: 0.5251\n"
     ]
    },
    {
     "name": "stderr",
     "output_type": "stream",
     "text": [
      "\u001b[32m[I 2019-10-05 20:48:56,484]\u001b[0m Finished trial#51 resulted in value: -0.525050938129425. Current best value is -0.5263495445251465 with parameters: {'dropout_rate': 0.18886535264626358, 'rnn_unit': 196, 'learning_rate': 0.004263337782047885, 'share_gru_weights_on_book': True, 'use_attention_on_book': True, 'use_attention_on_user': True, 'use_batch_norm': False, 'is_embedding_trainable': False, 'final_activation': 'tanh'}.\u001b[0m\n"
     ]
    },
    {
     "name": "stdout",
     "output_type": "stream",
     "text": [
      "Train on 5376 samples, validate on 1344 samples\n",
      "5376/5376 [==============================] - 114s 21ms/sample - loss: -0.4794 - cosine_similarity: 0.4794 - val_loss: -0.5249 - val_cosine_similarity: 0.5249\n"
     ]
    },
    {
     "name": "stderr",
     "output_type": "stream",
     "text": [
      "\u001b[32m[I 2019-10-05 20:51:41,074]\u001b[0m Finished trial#52 resulted in value: -0.5248850584030151. Current best value is -0.5263495445251465 with parameters: {'dropout_rate': 0.18886535264626358, 'rnn_unit': 196, 'learning_rate': 0.004263337782047885, 'share_gru_weights_on_book': True, 'use_attention_on_book': True, 'use_attention_on_user': True, 'use_batch_norm': False, 'is_embedding_trainable': False, 'final_activation': 'tanh'}.\u001b[0m\n"
     ]
    },
    {
     "name": "stdout",
     "output_type": "stream",
     "text": [
      "Train on 5376 samples, validate on 1344 samples\n",
      "5376/5376 [==============================] - 115s 21ms/sample - loss: -0.4750 - cosine_similarity: 0.4750 - val_loss: -0.5184 - val_cosine_similarity: 0.5184\n"
     ]
    },
    {
     "name": "stderr",
     "output_type": "stream",
     "text": [
      "\u001b[32m[I 2019-10-05 20:54:27,553]\u001b[0m Finished trial#53 resulted in value: -0.5183781981468201. Current best value is -0.5263495445251465 with parameters: {'dropout_rate': 0.18886535264626358, 'rnn_unit': 196, 'learning_rate': 0.004263337782047885, 'share_gru_weights_on_book': True, 'use_attention_on_book': True, 'use_attention_on_user': True, 'use_batch_norm': False, 'is_embedding_trainable': False, 'final_activation': 'tanh'}.\u001b[0m\n"
     ]
    },
    {
     "name": "stdout",
     "output_type": "stream",
     "text": [
      "Train on 5376 samples, validate on 1344 samples\n",
      "5376/5376 [==============================] - 110s 20ms/sample - loss: -0.4787 - cosine_similarity: 0.4787 - val_loss: -0.5237 - val_cosine_similarity: 0.5237\n"
     ]
    },
    {
     "name": "stderr",
     "output_type": "stream",
     "text": [
      "\u001b[32m[I 2019-10-05 20:57:09,552]\u001b[0m Finished trial#54 resulted in value: -0.5237497091293335. Current best value is -0.5263495445251465 with parameters: {'dropout_rate': 0.18886535264626358, 'rnn_unit': 196, 'learning_rate': 0.004263337782047885, 'share_gru_weights_on_book': True, 'use_attention_on_book': True, 'use_attention_on_user': True, 'use_batch_norm': False, 'is_embedding_trainable': False, 'final_activation': 'tanh'}.\u001b[0m\n"
     ]
    },
    {
     "name": "stdout",
     "output_type": "stream",
     "text": [
      "Train on 5376 samples, validate on 1344 samples\n",
      "5376/5376 [==============================] - 113s 21ms/sample - loss: -0.4821 - cosine_similarity: 0.4821 - val_loss: -0.5244 - val_cosine_similarity: 0.5244\n"
     ]
    },
    {
     "name": "stderr",
     "output_type": "stream",
     "text": [
      "\u001b[32m[I 2019-10-05 20:59:53,070]\u001b[0m Finished trial#55 resulted in value: -0.5243557691574097. Current best value is -0.5263495445251465 with parameters: {'dropout_rate': 0.18886535264626358, 'rnn_unit': 196, 'learning_rate': 0.004263337782047885, 'share_gru_weights_on_book': True, 'use_attention_on_book': True, 'use_attention_on_user': True, 'use_batch_norm': False, 'is_embedding_trainable': False, 'final_activation': 'tanh'}.\u001b[0m\n"
     ]
    },
    {
     "name": "stdout",
     "output_type": "stream",
     "text": [
      "Train on 5376 samples, validate on 1344 samples\n",
      "5376/5376 [==============================] - 112s 21ms/sample - loss: -0.4584 - cosine_similarity: 0.4584 - val_loss: -0.4950 - val_cosine_similarity: 0.4950\n"
     ]
    },
    {
     "name": "stderr",
     "output_type": "stream",
     "text": [
      "\u001b[32m[I 2019-10-05 21:02:39,624]\u001b[0m Finished trial#56 resulted in value: -0.4950081408023834. Current best value is -0.5263495445251465 with parameters: {'dropout_rate': 0.18886535264626358, 'rnn_unit': 196, 'learning_rate': 0.004263337782047885, 'share_gru_weights_on_book': True, 'use_attention_on_book': True, 'use_attention_on_user': True, 'use_batch_norm': False, 'is_embedding_trainable': False, 'final_activation': 'tanh'}.\u001b[0m\n"
     ]
    },
    {
     "name": "stdout",
     "output_type": "stream",
     "text": [
      "Train on 5376 samples, validate on 1344 samples\n",
      "5376/5376 [==============================] - 113s 21ms/sample - loss: -0.4368 - cosine_similarity: 0.4368 - val_loss: -0.4688 - val_cosine_similarity: 0.4688\n"
     ]
    },
    {
     "name": "stderr",
     "output_type": "stream",
     "text": [
      "\u001b[32m[I 2019-10-05 21:05:26,156]\u001b[0m Finished trial#57 resulted in value: -0.4688040316104889. Current best value is -0.5263495445251465 with parameters: {'dropout_rate': 0.18886535264626358, 'rnn_unit': 196, 'learning_rate': 0.004263337782047885, 'share_gru_weights_on_book': True, 'use_attention_on_book': True, 'use_attention_on_user': True, 'use_batch_norm': False, 'is_embedding_trainable': False, 'final_activation': 'tanh'}.\u001b[0m\n"
     ]
    },
    {
     "name": "stdout",
     "output_type": "stream",
     "text": [
      "Train on 5376 samples, validate on 1344 samples\n",
      "5376/5376 [==============================] - 116s 22ms/sample - loss: -0.2390 - cosine_similarity: 0.2390 - val_loss: -0.4176 - val_cosine_similarity: 0.4176\n"
     ]
    },
    {
     "name": "stderr",
     "output_type": "stream",
     "text": [
      "\u001b[32m[I 2019-10-05 21:08:17,263]\u001b[0m Finished trial#58 resulted in value: -0.41758963465690613. Current best value is -0.5263495445251465 with parameters: {'dropout_rate': 0.18886535264626358, 'rnn_unit': 196, 'learning_rate': 0.004263337782047885, 'share_gru_weights_on_book': True, 'use_attention_on_book': True, 'use_attention_on_user': True, 'use_batch_norm': False, 'is_embedding_trainable': False, 'final_activation': 'tanh'}.\u001b[0m\n"
     ]
    },
    {
     "name": "stdout",
     "output_type": "stream",
     "text": [
      "Train on 5376 samples, validate on 1344 samples\n",
      "5376/5376 [==============================] - 117s 22ms/sample - loss: -0.4724 - cosine_similarity: 0.4724 - val_loss: -0.5166 - val_cosine_similarity: 0.5166\n"
     ]
    },
    {
     "name": "stderr",
     "output_type": "stream",
     "text": [
      "\u001b[32m[I 2019-10-05 21:11:09,004]\u001b[0m Finished trial#59 resulted in value: -0.5166239142417908. Current best value is -0.5263495445251465 with parameters: {'dropout_rate': 0.18886535264626358, 'rnn_unit': 196, 'learning_rate': 0.004263337782047885, 'share_gru_weights_on_book': True, 'use_attention_on_book': True, 'use_attention_on_user': True, 'use_batch_norm': False, 'is_embedding_trainable': False, 'final_activation': 'tanh'}.\u001b[0m\n"
     ]
    },
    {
     "name": "stdout",
     "output_type": "stream",
     "text": [
      "Train on 5376 samples, validate on 1344 samples\n",
      "5376/5376 [==============================] - 114s 21ms/sample - loss: -0.4751 - cosine_similarity: 0.4751 - val_loss: -0.5230 - val_cosine_similarity: 0.5230\n"
     ]
    },
    {
     "name": "stderr",
     "output_type": "stream",
     "text": [
      "\u001b[32m[I 2019-10-05 21:14:00,494]\u001b[0m Finished trial#60 resulted in value: -0.5229740142822266. Current best value is -0.5263495445251465 with parameters: {'dropout_rate': 0.18886535264626358, 'rnn_unit': 196, 'learning_rate': 0.004263337782047885, 'share_gru_weights_on_book': True, 'use_attention_on_book': True, 'use_attention_on_user': True, 'use_batch_norm': False, 'is_embedding_trainable': False, 'final_activation': 'tanh'}.\u001b[0m\n"
     ]
    },
    {
     "name": "stdout",
     "output_type": "stream",
     "text": [
      "Train on 5376 samples, validate on 1344 samples\n",
      "5376/5376 [==============================] - 114s 21ms/sample - loss: -0.4786 - cosine_similarity: 0.4786 - val_loss: -0.5241 - val_cosine_similarity: 0.5241\n"
     ]
    },
    {
     "name": "stderr",
     "output_type": "stream",
     "text": [
      "\u001b[32m[I 2019-10-05 21:16:49,025]\u001b[0m Finished trial#61 resulted in value: -0.524105966091156. Current best value is -0.5263495445251465 with parameters: {'dropout_rate': 0.18886535264626358, 'rnn_unit': 196, 'learning_rate': 0.004263337782047885, 'share_gru_weights_on_book': True, 'use_attention_on_book': True, 'use_attention_on_user': True, 'use_batch_norm': False, 'is_embedding_trainable': False, 'final_activation': 'tanh'}.\u001b[0m\n"
     ]
    },
    {
     "name": "stdout",
     "output_type": "stream",
     "text": [
      "Train on 5376 samples, validate on 1344 samples\n",
      "5376/5376 [==============================] - 115s 21ms/sample - loss: -0.4783 - cosine_similarity: 0.4783 - val_loss: -0.5235 - val_cosine_similarity: 0.5235\n"
     ]
    },
    {
     "name": "stderr",
     "output_type": "stream",
     "text": [
      "\u001b[32m[I 2019-10-05 21:19:43,906]\u001b[0m Finished trial#62 resulted in value: -0.5234648585319519. Current best value is -0.5263495445251465 with parameters: {'dropout_rate': 0.18886535264626358, 'rnn_unit': 196, 'learning_rate': 0.004263337782047885, 'share_gru_weights_on_book': True, 'use_attention_on_book': True, 'use_attention_on_user': True, 'use_batch_norm': False, 'is_embedding_trainable': False, 'final_activation': 'tanh'}.\u001b[0m\n"
     ]
    },
    {
     "name": "stdout",
     "output_type": "stream",
     "text": [
      "Train on 5376 samples, validate on 1344 samples\n",
      "5376/5376 [==============================] - 115s 21ms/sample - loss: -0.4815 - cosine_similarity: 0.4815 - val_loss: -0.5223 - val_cosine_similarity: 0.5223\n"
     ]
    },
    {
     "name": "stderr",
     "output_type": "stream",
     "text": [
      "\u001b[32m[I 2019-10-05 21:22:38,200]\u001b[0m Finished trial#63 resulted in value: -0.5223304033279419. Current best value is -0.5263495445251465 with parameters: {'dropout_rate': 0.18886535264626358, 'rnn_unit': 196, 'learning_rate': 0.004263337782047885, 'share_gru_weights_on_book': True, 'use_attention_on_book': True, 'use_attention_on_user': True, 'use_batch_norm': False, 'is_embedding_trainable': False, 'final_activation': 'tanh'}.\u001b[0m\n"
     ]
    },
    {
     "name": "stdout",
     "output_type": "stream",
     "text": [
      "Train on 5376 samples, validate on 1344 samples\n",
      "5376/5376 [==============================] - 115s 21ms/sample - loss: -0.4720 - cosine_similarity: 0.4720 - val_loss: -0.5180 - val_cosine_similarity: 0.5180\n"
     ]
    },
    {
     "name": "stderr",
     "output_type": "stream",
     "text": [
      "\u001b[32m[I 2019-10-05 21:25:33,215]\u001b[0m Finished trial#64 resulted in value: -0.5180298089981079. Current best value is -0.5263495445251465 with parameters: {'dropout_rate': 0.18886535264626358, 'rnn_unit': 196, 'learning_rate': 0.004263337782047885, 'share_gru_weights_on_book': True, 'use_attention_on_book': True, 'use_attention_on_user': True, 'use_batch_norm': False, 'is_embedding_trainable': False, 'final_activation': 'tanh'}.\u001b[0m\n"
     ]
    },
    {
     "name": "stdout",
     "output_type": "stream",
     "text": [
      "Train on 5376 samples, validate on 1344 samples\n",
      "5376/5376 [==============================] - 112s 21ms/sample - loss: -0.4805 - cosine_similarity: 0.4805 - val_loss: -0.5234 - val_cosine_similarity: 0.5234\n"
     ]
    },
    {
     "name": "stderr",
     "output_type": "stream",
     "text": [
      "\u001b[32m[I 2019-10-05 21:28:25,828]\u001b[0m Finished trial#65 resulted in value: -0.5233795046806335. Current best value is -0.5263495445251465 with parameters: {'dropout_rate': 0.18886535264626358, 'rnn_unit': 196, 'learning_rate': 0.004263337782047885, 'share_gru_weights_on_book': True, 'use_attention_on_book': True, 'use_attention_on_user': True, 'use_batch_norm': False, 'is_embedding_trainable': False, 'final_activation': 'tanh'}.\u001b[0m\n"
     ]
    },
    {
     "name": "stdout",
     "output_type": "stream",
     "text": [
      "Train on 5376 samples, validate on 1344 samples\n",
      "5376/5376 [==============================] - 112s 21ms/sample - loss: -0.4795 - cosine_similarity: 0.4795 - val_loss: -0.5219 - val_cosine_similarity: 0.5219\n"
     ]
    },
    {
     "name": "stderr",
     "output_type": "stream",
     "text": [
      "\u001b[32m[I 2019-10-05 21:31:21,152]\u001b[0m Finished trial#66 resulted in value: -0.5218565464019775. Current best value is -0.5263495445251465 with parameters: {'dropout_rate': 0.18886535264626358, 'rnn_unit': 196, 'learning_rate': 0.004263337782047885, 'share_gru_weights_on_book': True, 'use_attention_on_book': True, 'use_attention_on_user': True, 'use_batch_norm': False, 'is_embedding_trainable': False, 'final_activation': 'tanh'}.\u001b[0m\n"
     ]
    },
    {
     "name": "stdout",
     "output_type": "stream",
     "text": [
      "Train on 5376 samples, validate on 1344 samples\n",
      "5376/5376 [==============================] - 112s 21ms/sample - loss: -0.4783 - cosine_similarity: 0.4783 - val_loss: -0.5246 - val_cosine_similarity: 0.5246\n"
     ]
    },
    {
     "name": "stderr",
     "output_type": "stream",
     "text": [
      "\u001b[32m[I 2019-10-05 21:34:18,549]\u001b[0m Finished trial#67 resulted in value: -0.5245958566665649. Current best value is -0.5263495445251465 with parameters: {'dropout_rate': 0.18886535264626358, 'rnn_unit': 196, 'learning_rate': 0.004263337782047885, 'share_gru_weights_on_book': True, 'use_attention_on_book': True, 'use_attention_on_user': True, 'use_batch_norm': False, 'is_embedding_trainable': False, 'final_activation': 'tanh'}.\u001b[0m\n"
     ]
    },
    {
     "name": "stdout",
     "output_type": "stream",
     "text": [
      "Train on 5376 samples, validate on 1344 samples\n",
      "5376/5376 [==============================] - 115s 21ms/sample - loss: -0.4556 - cosine_similarity: 0.4556 - val_loss: -0.4929 - val_cosine_similarity: 0.4929\n"
     ]
    },
    {
     "name": "stderr",
     "output_type": "stream",
     "text": [
      "\u001b[32m[I 2019-10-05 21:37:17,665]\u001b[0m Finished trial#68 resulted in value: -0.49293068051338196. Current best value is -0.5263495445251465 with parameters: {'dropout_rate': 0.18886535264626358, 'rnn_unit': 196, 'learning_rate': 0.004263337782047885, 'share_gru_weights_on_book': True, 'use_attention_on_book': True, 'use_attention_on_user': True, 'use_batch_norm': False, 'is_embedding_trainable': False, 'final_activation': 'tanh'}.\u001b[0m\n"
     ]
    },
    {
     "name": "stdout",
     "output_type": "stream",
     "text": [
      "Train on 5376 samples, validate on 1344 samples\n",
      "5376/5376 [==============================] - 122s 23ms/sample - loss: -0.4783 - cosine_similarity: 0.4783 - val_loss: -0.5236 - val_cosine_similarity: 0.5236\n"
     ]
    },
    {
     "name": "stderr",
     "output_type": "stream",
     "text": [
      "\u001b[32m[I 2019-10-05 21:40:23,330]\u001b[0m Finished trial#69 resulted in value: -0.523639976978302. Current best value is -0.5263495445251465 with parameters: {'dropout_rate': 0.18886535264626358, 'rnn_unit': 196, 'learning_rate': 0.004263337782047885, 'share_gru_weights_on_book': True, 'use_attention_on_book': True, 'use_attention_on_user': True, 'use_batch_norm': False, 'is_embedding_trainable': False, 'final_activation': 'tanh'}.\u001b[0m\n"
     ]
    },
    {
     "name": "stdout",
     "output_type": "stream",
     "text": [
      "Train on 5376 samples, validate on 1344 samples\n",
      "5376/5376 [==============================] - 116s 22ms/sample - loss: -0.4789 - cosine_similarity: 0.4789 - val_loss: -0.5233 - val_cosine_similarity: 0.5233\n"
     ]
    },
    {
     "name": "stderr",
     "output_type": "stream",
     "text": [
      "\u001b[32m[I 2019-10-05 21:43:26,366]\u001b[0m Finished trial#70 resulted in value: -0.5232571363449097. Current best value is -0.5263495445251465 with parameters: {'dropout_rate': 0.18886535264626358, 'rnn_unit': 196, 'learning_rate': 0.004263337782047885, 'share_gru_weights_on_book': True, 'use_attention_on_book': True, 'use_attention_on_user': True, 'use_batch_norm': False, 'is_embedding_trainable': False, 'final_activation': 'tanh'}.\u001b[0m\n"
     ]
    },
    {
     "name": "stdout",
     "output_type": "stream",
     "text": [
      "Train on 5376 samples, validate on 1344 samples\n",
      "5376/5376 [==============================] - 120s 22ms/sample - loss: -0.4755 - cosine_similarity: 0.4755 - val_loss: -0.5232 - val_cosine_similarity: 0.5232\n"
     ]
    },
    {
     "name": "stderr",
     "output_type": "stream",
     "text": [
      "\u001b[32m[I 2019-10-05 21:46:33,739]\u001b[0m Finished trial#71 resulted in value: -0.5231533050537109. Current best value is -0.5263495445251465 with parameters: {'dropout_rate': 0.18886535264626358, 'rnn_unit': 196, 'learning_rate': 0.004263337782047885, 'share_gru_weights_on_book': True, 'use_attention_on_book': True, 'use_attention_on_user': True, 'use_batch_norm': False, 'is_embedding_trainable': False, 'final_activation': 'tanh'}.\u001b[0m\n"
     ]
    },
    {
     "name": "stdout",
     "output_type": "stream",
     "text": [
      "Train on 5376 samples, validate on 1344 samples\n",
      "5376/5376 [==============================] - 115s 21ms/sample - loss: -0.4801 - cosine_similarity: 0.4801 - val_loss: -0.5130 - val_cosine_similarity: 0.5130\n"
     ]
    },
    {
     "name": "stderr",
     "output_type": "stream",
     "text": [
      "\u001b[32m[I 2019-10-05 21:49:36,592]\u001b[0m Finished trial#72 resulted in value: -0.512987494468689. Current best value is -0.5263495445251465 with parameters: {'dropout_rate': 0.18886535264626358, 'rnn_unit': 196, 'learning_rate': 0.004263337782047885, 'share_gru_weights_on_book': True, 'use_attention_on_book': True, 'use_attention_on_user': True, 'use_batch_norm': False, 'is_embedding_trainable': False, 'final_activation': 'tanh'}.\u001b[0m\n"
     ]
    },
    {
     "name": "stdout",
     "output_type": "stream",
     "text": [
      "Train on 5376 samples, validate on 1344 samples\n",
      "5376/5376 [==============================] - 122s 23ms/sample - loss: -0.4719 - cosine_similarity: 0.4719 - val_loss: -0.5170 - val_cosine_similarity: 0.5170\n"
     ]
    },
    {
     "name": "stderr",
     "output_type": "stream",
     "text": [
      "\u001b[32m[I 2019-10-05 21:52:48,929]\u001b[0m Finished trial#73 resulted in value: -0.5169882774353027. Current best value is -0.5263495445251465 with parameters: {'dropout_rate': 0.18886535264626358, 'rnn_unit': 196, 'learning_rate': 0.004263337782047885, 'share_gru_weights_on_book': True, 'use_attention_on_book': True, 'use_attention_on_user': True, 'use_batch_norm': False, 'is_embedding_trainable': False, 'final_activation': 'tanh'}.\u001b[0m\n"
     ]
    },
    {
     "name": "stdout",
     "output_type": "stream",
     "text": [
      "Train on 5376 samples, validate on 1344 samples\n",
      "5376/5376 [==============================] - 125s 23ms/sample - loss: -0.4799 - cosine_similarity: 0.4799 - val_loss: -0.5241 - val_cosine_similarity: 0.5241\n"
     ]
    },
    {
     "name": "stderr",
     "output_type": "stream",
     "text": [
      "\u001b[32m[I 2019-10-05 21:56:00,398]\u001b[0m Finished trial#74 resulted in value: -0.524137020111084. Current best value is -0.5263495445251465 with parameters: {'dropout_rate': 0.18886535264626358, 'rnn_unit': 196, 'learning_rate': 0.004263337782047885, 'share_gru_weights_on_book': True, 'use_attention_on_book': True, 'use_attention_on_user': True, 'use_batch_norm': False, 'is_embedding_trainable': False, 'final_activation': 'tanh'}.\u001b[0m\n"
     ]
    },
    {
     "name": "stdout",
     "output_type": "stream",
     "text": [
      "Train on 5376 samples, validate on 1344 samples\n",
      "5376/5376 [==============================] - 122s 23ms/sample - loss: -0.4705 - cosine_similarity: 0.4705 - val_loss: -0.5213 - val_cosine_similarity: 0.5213\n"
     ]
    },
    {
     "name": "stderr",
     "output_type": "stream",
     "text": [
      "\u001b[32m[I 2019-10-05 21:59:05,607]\u001b[0m Finished trial#75 resulted in value: -0.5213362574577332. Current best value is -0.5263495445251465 with parameters: {'dropout_rate': 0.18886535264626358, 'rnn_unit': 196, 'learning_rate': 0.004263337782047885, 'share_gru_weights_on_book': True, 'use_attention_on_book': True, 'use_attention_on_user': True, 'use_batch_norm': False, 'is_embedding_trainable': False, 'final_activation': 'tanh'}.\u001b[0m\n"
     ]
    },
    {
     "name": "stdout",
     "output_type": "stream",
     "text": [
      "Train on 5376 samples, validate on 1344 samples\n",
      "5376/5376 [==============================] - 124s 23ms/sample - loss: -0.4697 - cosine_similarity: 0.4697 - val_loss: -0.5154 - val_cosine_similarity: 0.5154\n"
     ]
    },
    {
     "name": "stderr",
     "output_type": "stream",
     "text": [
      "\u001b[32m[I 2019-10-05 22:02:13,438]\u001b[0m Finished trial#76 resulted in value: -0.5153539180755615. Current best value is -0.5263495445251465 with parameters: {'dropout_rate': 0.18886535264626358, 'rnn_unit': 196, 'learning_rate': 0.004263337782047885, 'share_gru_weights_on_book': True, 'use_attention_on_book': True, 'use_attention_on_user': True, 'use_batch_norm': False, 'is_embedding_trainable': False, 'final_activation': 'tanh'}.\u001b[0m\n"
     ]
    },
    {
     "name": "stdout",
     "output_type": "stream",
     "text": [
      "Train on 5376 samples, validate on 1344 samples\n",
      "5376/5376 [==============================] - 125s 23ms/sample - loss: -0.3319 - cosine_similarity: 0.3319 - val_loss: -0.3702 - val_cosine_similarity: 0.3702\n"
     ]
    },
    {
     "name": "stderr",
     "output_type": "stream",
     "text": [
      "\u001b[32m[I 2019-10-05 22:05:24,825]\u001b[0m Finished trial#77 resulted in value: -0.37021154165267944. Current best value is -0.5263495445251465 with parameters: {'dropout_rate': 0.18886535264626358, 'rnn_unit': 196, 'learning_rate': 0.004263337782047885, 'share_gru_weights_on_book': True, 'use_attention_on_book': True, 'use_attention_on_user': True, 'use_batch_norm': False, 'is_embedding_trainable': False, 'final_activation': 'tanh'}.\u001b[0m\n"
     ]
    },
    {
     "name": "stdout",
     "output_type": "stream",
     "text": [
      "Train on 5376 samples, validate on 1344 samples\n",
      "5376/5376 [==============================] - 129s 24ms/sample - loss: -0.4773 - cosine_similarity: 0.4773 - val_loss: -0.5222 - val_cosine_similarity: 0.5222\n"
     ]
    },
    {
     "name": "stderr",
     "output_type": "stream",
     "text": [
      "\u001b[32m[I 2019-10-05 22:08:37,567]\u001b[0m Finished trial#78 resulted in value: -0.5221907496452332. Current best value is -0.5263495445251465 with parameters: {'dropout_rate': 0.18886535264626358, 'rnn_unit': 196, 'learning_rate': 0.004263337782047885, 'share_gru_weights_on_book': True, 'use_attention_on_book': True, 'use_attention_on_user': True, 'use_batch_norm': False, 'is_embedding_trainable': False, 'final_activation': 'tanh'}.\u001b[0m\n"
     ]
    },
    {
     "name": "stdout",
     "output_type": "stream",
     "text": [
      "Train on 5376 samples, validate on 1344 samples\n",
      "5376/5376 [==============================] - 122s 23ms/sample - loss: -0.4745 - cosine_similarity: 0.4745 - val_loss: -0.5123 - val_cosine_similarity: 0.5123\n"
     ]
    },
    {
     "name": "stderr",
     "output_type": "stream",
     "text": [
      "\u001b[32m[I 2019-10-05 22:11:40,204]\u001b[0m Finished trial#79 resulted in value: -0.5122908353805542. Current best value is -0.5263495445251465 with parameters: {'dropout_rate': 0.18886535264626358, 'rnn_unit': 196, 'learning_rate': 0.004263337782047885, 'share_gru_weights_on_book': True, 'use_attention_on_book': True, 'use_attention_on_user': True, 'use_batch_norm': False, 'is_embedding_trainable': False, 'final_activation': 'tanh'}.\u001b[0m\n"
     ]
    },
    {
     "name": "stdout",
     "output_type": "stream",
     "text": [
      "Train on 5376 samples, validate on 1344 samples\n",
      "5376/5376 [==============================] - 128s 24ms/sample - loss: -0.4729 - cosine_similarity: 0.4729 - val_loss: -0.5155 - val_cosine_similarity: 0.5155\n"
     ]
    },
    {
     "name": "stderr",
     "output_type": "stream",
     "text": [
      "\u001b[32m[I 2019-10-05 22:14:52,455]\u001b[0m Finished trial#80 resulted in value: -0.5154818296432495. Current best value is -0.5263495445251465 with parameters: {'dropout_rate': 0.18886535264626358, 'rnn_unit': 196, 'learning_rate': 0.004263337782047885, 'share_gru_weights_on_book': True, 'use_attention_on_book': True, 'use_attention_on_user': True, 'use_batch_norm': False, 'is_embedding_trainable': False, 'final_activation': 'tanh'}.\u001b[0m\n"
     ]
    },
    {
     "name": "stdout",
     "output_type": "stream",
     "text": [
      "Train on 5376 samples, validate on 1344 samples\n",
      "5376/5376 [==============================] - 124s 23ms/sample - loss: -0.4804 - cosine_similarity: 0.4804 - val_loss: -0.5246 - val_cosine_similarity: 0.5246\n"
     ]
    },
    {
     "name": "stderr",
     "output_type": "stream",
     "text": [
      "\u001b[32m[I 2019-10-05 22:18:01,297]\u001b[0m Finished trial#81 resulted in value: -0.524627685546875. Current best value is -0.5263495445251465 with parameters: {'dropout_rate': 0.18886535264626358, 'rnn_unit': 196, 'learning_rate': 0.004263337782047885, 'share_gru_weights_on_book': True, 'use_attention_on_book': True, 'use_attention_on_user': True, 'use_batch_norm': False, 'is_embedding_trainable': False, 'final_activation': 'tanh'}.\u001b[0m\n"
     ]
    },
    {
     "name": "stdout",
     "output_type": "stream",
     "text": [
      "Train on 5376 samples, validate on 1344 samples\n",
      "5376/5376 [==============================] - 122s 23ms/sample - loss: -0.4783 - cosine_similarity: 0.4783 - val_loss: -0.5241 - val_cosine_similarity: 0.5241\n"
     ]
    },
    {
     "name": "stderr",
     "output_type": "stream",
     "text": [
      "\u001b[32m[I 2019-10-05 22:21:08,470]\u001b[0m Finished trial#82 resulted in value: -0.5240655541419983. Current best value is -0.5263495445251465 with parameters: {'dropout_rate': 0.18886535264626358, 'rnn_unit': 196, 'learning_rate': 0.004263337782047885, 'share_gru_weights_on_book': True, 'use_attention_on_book': True, 'use_attention_on_user': True, 'use_batch_norm': False, 'is_embedding_trainable': False, 'final_activation': 'tanh'}.\u001b[0m\n"
     ]
    },
    {
     "name": "stdout",
     "output_type": "stream",
     "text": [
      "Train on 5376 samples, validate on 1344 samples\n",
      "5376/5376 [==============================] - 124s 23ms/sample - loss: -0.4810 - cosine_similarity: 0.4810 - val_loss: -0.5242 - val_cosine_similarity: 0.5242\n"
     ]
    },
    {
     "name": "stderr",
     "output_type": "stream",
     "text": [
      "\u001b[32m[I 2019-10-05 22:24:21,532]\u001b[0m Finished trial#83 resulted in value: -0.5241971611976624. Current best value is -0.5263495445251465 with parameters: {'dropout_rate': 0.18886535264626358, 'rnn_unit': 196, 'learning_rate': 0.004263337782047885, 'share_gru_weights_on_book': True, 'use_attention_on_book': True, 'use_attention_on_user': True, 'use_batch_norm': False, 'is_embedding_trainable': False, 'final_activation': 'tanh'}.\u001b[0m\n"
     ]
    },
    {
     "name": "stdout",
     "output_type": "stream",
     "text": [
      "Train on 5376 samples, validate on 1344 samples\n",
      "5376/5376 [==============================] - 126s 23ms/sample - loss: -0.4792 - cosine_similarity: 0.4792 - val_loss: -0.5221 - val_cosine_similarity: 0.5221\n"
     ]
    },
    {
     "name": "stderr",
     "output_type": "stream",
     "text": [
      "\u001b[32m[I 2019-10-05 22:27:31,830]\u001b[0m Finished trial#84 resulted in value: -0.5220504999160767. Current best value is -0.5263495445251465 with parameters: {'dropout_rate': 0.18886535264626358, 'rnn_unit': 196, 'learning_rate': 0.004263337782047885, 'share_gru_weights_on_book': True, 'use_attention_on_book': True, 'use_attention_on_user': True, 'use_batch_norm': False, 'is_embedding_trainable': False, 'final_activation': 'tanh'}.\u001b[0m\n"
     ]
    },
    {
     "name": "stdout",
     "output_type": "stream",
     "text": [
      "Train on 5376 samples, validate on 1344 samples\n",
      "3840/5376 [====================>.........] - ETA: 32s - loss: -0.4614 - cosine_similarity: 0.4614"
     ]
    }
   ],
   "source": [
    "study = optuna.create_study()\n",
    "study.optimize(objective, n_trials=100)"
   ]
  },
  {
   "cell_type": "code",
   "execution_count": 44,
   "metadata": {},
   "outputs": [
    {
     "data": {
      "text/plain": [
       "{'dropout_rate': 0.20894163487979106,\n",
       " 'rnn_unit': 194,\n",
       " 'learning_rate': 0.004383349360427826,\n",
       " 'share_gru_weights_on_book': True,\n",
       " 'use_attention_on_book': True,\n",
       " 'use_attention_on_user': True,\n",
       " 'use_batch_norm': False,\n",
       " 'is_embedding_trainable': False,\n",
       " 'final_activation': 'tanh'}"
      ]
     },
     "execution_count": 44,
     "metadata": {},
     "output_type": "execute_result"
    }
   ],
   "source": [
    "study.best_params"
   ]
  },
  {
   "cell_type": "code",
   "execution_count": 45,
   "metadata": {},
   "outputs": [
    {
     "data": {
      "text/plain": [
       "-0.526502788066864"
      ]
     },
     "execution_count": 45,
     "metadata": {},
     "output_type": "execute_result"
    }
   ],
   "source": [
    "study.best_value"
   ]
  },
  {
   "cell_type": "code",
   "execution_count": 46,
   "metadata": {},
   "outputs": [],
   "source": [
    "trial_df = study.trials_dataframe()"
   ]
  },
  {
   "cell_type": "code",
   "execution_count": 47,
   "metadata": {},
   "outputs": [
    {
     "data": {
      "text/html": [
       "<div>\n",
       "<style scoped>\n",
       "    .dataframe tbody tr th:only-of-type {\n",
       "        vertical-align: middle;\n",
       "    }\n",
       "\n",
       "    .dataframe tbody tr th {\n",
       "        vertical-align: top;\n",
       "    }\n",
       "\n",
       "    .dataframe thead tr th {\n",
       "        text-align: left;\n",
       "    }\n",
       "</style>\n",
       "<table border=\"1\" class=\"dataframe\">\n",
       "  <thead>\n",
       "    <tr>\n",
       "      <th></th>\n",
       "      <th>number</th>\n",
       "      <th>state</th>\n",
       "      <th>value</th>\n",
       "      <th>datetime_start</th>\n",
       "      <th>datetime_complete</th>\n",
       "      <th colspan=\"9\" halign=\"left\">params</th>\n",
       "      <th>system_attrs</th>\n",
       "    </tr>\n",
       "    <tr>\n",
       "      <th></th>\n",
       "      <th></th>\n",
       "      <th></th>\n",
       "      <th></th>\n",
       "      <th></th>\n",
       "      <th></th>\n",
       "      <th>dropout_rate</th>\n",
       "      <th>final_activation</th>\n",
       "      <th>is_embedding_trainable</th>\n",
       "      <th>learning_rate</th>\n",
       "      <th>rnn_unit</th>\n",
       "      <th>share_gru_weights_on_book</th>\n",
       "      <th>use_attention_on_book</th>\n",
       "      <th>use_attention_on_user</th>\n",
       "      <th>use_batch_norm</th>\n",
       "      <th>_number</th>\n",
       "    </tr>\n",
       "  </thead>\n",
       "  <tbody>\n",
       "    <tr>\n",
       "      <th>98</th>\n",
       "      <td>98</td>\n",
       "      <td>TrialState.COMPLETE</td>\n",
       "      <td>-0.526503</td>\n",
       "      <td>2019-10-05 23:09:08.771033</td>\n",
       "      <td>2019-10-05 23:12:22.900530</td>\n",
       "      <td>0.208942</td>\n",
       "      <td>tanh</td>\n",
       "      <td>False</td>\n",
       "      <td>0.004383</td>\n",
       "      <td>194</td>\n",
       "      <td>True</td>\n",
       "      <td>True</td>\n",
       "      <td>True</td>\n",
       "      <td>False</td>\n",
       "      <td>98</td>\n",
       "    </tr>\n",
       "    <tr>\n",
       "      <th>42</th>\n",
       "      <td>42</td>\n",
       "      <td>TrialState.COMPLETE</td>\n",
       "      <td>-0.526350</td>\n",
       "      <td>2019-10-05 20:21:41.822816</td>\n",
       "      <td>2019-10-05 20:24:20.679393</td>\n",
       "      <td>0.188865</td>\n",
       "      <td>tanh</td>\n",
       "      <td>False</td>\n",
       "      <td>0.004263</td>\n",
       "      <td>196</td>\n",
       "      <td>True</td>\n",
       "      <td>True</td>\n",
       "      <td>True</td>\n",
       "      <td>False</td>\n",
       "      <td>42</td>\n",
       "    </tr>\n",
       "    <tr>\n",
       "      <th>26</th>\n",
       "      <td>26</td>\n",
       "      <td>TrialState.COMPLETE</td>\n",
       "      <td>-0.525876</td>\n",
       "      <td>2019-10-05 19:42:37.793860</td>\n",
       "      <td>2019-10-05 19:44:52.804014</td>\n",
       "      <td>0.126005</td>\n",
       "      <td>tanh</td>\n",
       "      <td>False</td>\n",
       "      <td>0.003138</td>\n",
       "      <td>194</td>\n",
       "      <td>True</td>\n",
       "      <td>True</td>\n",
       "      <td>True</td>\n",
       "      <td>False</td>\n",
       "      <td>26</td>\n",
       "    </tr>\n",
       "    <tr>\n",
       "      <th>51</th>\n",
       "      <td>51</td>\n",
       "      <td>TrialState.COMPLETE</td>\n",
       "      <td>-0.525051</td>\n",
       "      <td>2019-10-05 20:46:11.447992</td>\n",
       "      <td>2019-10-05 20:48:56.456548</td>\n",
       "      <td>0.152128</td>\n",
       "      <td>tanh</td>\n",
       "      <td>False</td>\n",
       "      <td>0.003723</td>\n",
       "      <td>191</td>\n",
       "      <td>True</td>\n",
       "      <td>True</td>\n",
       "      <td>True</td>\n",
       "      <td>False</td>\n",
       "      <td>51</td>\n",
       "    </tr>\n",
       "    <tr>\n",
       "      <th>99</th>\n",
       "      <td>99</td>\n",
       "      <td>TrialState.COMPLETE</td>\n",
       "      <td>-0.524974</td>\n",
       "      <td>2019-10-05 23:12:22.938098</td>\n",
       "      <td>2019-10-05 23:15:37.680732</td>\n",
       "      <td>0.212189</td>\n",
       "      <td>tanh</td>\n",
       "      <td>False</td>\n",
       "      <td>0.004887</td>\n",
       "      <td>195</td>\n",
       "      <td>True</td>\n",
       "      <td>True</td>\n",
       "      <td>True</td>\n",
       "      <td>False</td>\n",
       "      <td>99</td>\n",
       "    </tr>\n",
       "    <tr>\n",
       "      <th>52</th>\n",
       "      <td>52</td>\n",
       "      <td>TrialState.COMPLETE</td>\n",
       "      <td>-0.524885</td>\n",
       "      <td>2019-10-05 20:48:56.485860</td>\n",
       "      <td>2019-10-05 20:51:41.044630</td>\n",
       "      <td>0.200004</td>\n",
       "      <td>tanh</td>\n",
       "      <td>False</td>\n",
       "      <td>0.003459</td>\n",
       "      <td>187</td>\n",
       "      <td>True</td>\n",
       "      <td>True</td>\n",
       "      <td>True</td>\n",
       "      <td>False</td>\n",
       "      <td>52</td>\n",
       "    </tr>\n",
       "    <tr>\n",
       "      <th>92</th>\n",
       "      <td>92</td>\n",
       "      <td>TrialState.COMPLETE</td>\n",
       "      <td>-0.524845</td>\n",
       "      <td>2019-10-05 22:49:46.216634</td>\n",
       "      <td>2019-10-05 22:52:58.360659</td>\n",
       "      <td>0.161569</td>\n",
       "      <td>tanh</td>\n",
       "      <td>False</td>\n",
       "      <td>0.004712</td>\n",
       "      <td>181</td>\n",
       "      <td>True</td>\n",
       "      <td>True</td>\n",
       "      <td>True</td>\n",
       "      <td>False</td>\n",
       "      <td>92</td>\n",
       "    </tr>\n",
       "    <tr>\n",
       "      <th>81</th>\n",
       "      <td>81</td>\n",
       "      <td>TrialState.COMPLETE</td>\n",
       "      <td>-0.524628</td>\n",
       "      <td>2019-10-05 22:14:52.456390</td>\n",
       "      <td>2019-10-05 22:18:01.266636</td>\n",
       "      <td>0.193777</td>\n",
       "      <td>tanh</td>\n",
       "      <td>False</td>\n",
       "      <td>0.003678</td>\n",
       "      <td>186</td>\n",
       "      <td>True</td>\n",
       "      <td>True</td>\n",
       "      <td>True</td>\n",
       "      <td>False</td>\n",
       "      <td>81</td>\n",
       "    </tr>\n",
       "    <tr>\n",
       "      <th>67</th>\n",
       "      <td>67</td>\n",
       "      <td>TrialState.COMPLETE</td>\n",
       "      <td>-0.524596</td>\n",
       "      <td>2019-10-05 21:31:21.154080</td>\n",
       "      <td>2019-10-05 21:34:18.520519</td>\n",
       "      <td>0.184066</td>\n",
       "      <td>tanh</td>\n",
       "      <td>False</td>\n",
       "      <td>0.003910</td>\n",
       "      <td>193</td>\n",
       "      <td>True</td>\n",
       "      <td>True</td>\n",
       "      <td>True</td>\n",
       "      <td>False</td>\n",
       "      <td>67</td>\n",
       "    </tr>\n",
       "    <tr>\n",
       "      <th>31</th>\n",
       "      <td>31</td>\n",
       "      <td>TrialState.COMPLETE</td>\n",
       "      <td>-0.524514</td>\n",
       "      <td>2019-10-05 19:54:03.995780</td>\n",
       "      <td>2019-10-05 19:56:28.025477</td>\n",
       "      <td>0.143578</td>\n",
       "      <td>tanh</td>\n",
       "      <td>False</td>\n",
       "      <td>0.003278</td>\n",
       "      <td>191</td>\n",
       "      <td>True</td>\n",
       "      <td>True</td>\n",
       "      <td>True</td>\n",
       "      <td>False</td>\n",
       "      <td>31</td>\n",
       "    </tr>\n",
       "    <tr>\n",
       "      <th>22</th>\n",
       "      <td>22</td>\n",
       "      <td>TrialState.COMPLETE</td>\n",
       "      <td>-0.524437</td>\n",
       "      <td>2019-10-05 19:33:42.197807</td>\n",
       "      <td>2019-10-05 19:35:57.291778</td>\n",
       "      <td>0.132806</td>\n",
       "      <td>tanh</td>\n",
       "      <td>False</td>\n",
       "      <td>0.003333</td>\n",
       "      <td>189</td>\n",
       "      <td>True</td>\n",
       "      <td>True</td>\n",
       "      <td>True</td>\n",
       "      <td>False</td>\n",
       "      <td>22</td>\n",
       "    </tr>\n",
       "    <tr>\n",
       "      <th>55</th>\n",
       "      <td>55</td>\n",
       "      <td>TrialState.COMPLETE</td>\n",
       "      <td>-0.524356</td>\n",
       "      <td>2019-10-05 20:57:09.553774</td>\n",
       "      <td>2019-10-05 20:59:53.043757</td>\n",
       "      <td>0.115820</td>\n",
       "      <td>tanh</td>\n",
       "      <td>False</td>\n",
       "      <td>0.003180</td>\n",
       "      <td>189</td>\n",
       "      <td>True</td>\n",
       "      <td>True</td>\n",
       "      <td>True</td>\n",
       "      <td>False</td>\n",
       "      <td>55</td>\n",
       "    </tr>\n",
       "    <tr>\n",
       "      <th>88</th>\n",
       "      <td>88</td>\n",
       "      <td>TrialState.COMPLETE</td>\n",
       "      <td>-0.524309</td>\n",
       "      <td>2019-10-05 22:37:01.274261</td>\n",
       "      <td>2019-10-05 22:40:11.756885</td>\n",
       "      <td>0.145929</td>\n",
       "      <td>tanh</td>\n",
       "      <td>False</td>\n",
       "      <td>0.003844</td>\n",
       "      <td>186</td>\n",
       "      <td>True</td>\n",
       "      <td>True</td>\n",
       "      <td>True</td>\n",
       "      <td>False</td>\n",
       "      <td>88</td>\n",
       "    </tr>\n",
       "    <tr>\n",
       "      <th>93</th>\n",
       "      <td>93</td>\n",
       "      <td>TrialState.COMPLETE</td>\n",
       "      <td>-0.524228</td>\n",
       "      <td>2019-10-05 22:52:58.397893</td>\n",
       "      <td>2019-10-05 22:56:09.209898</td>\n",
       "      <td>0.173934</td>\n",
       "      <td>tanh</td>\n",
       "      <td>False</td>\n",
       "      <td>0.004682</td>\n",
       "      <td>182</td>\n",
       "      <td>True</td>\n",
       "      <td>True</td>\n",
       "      <td>True</td>\n",
       "      <td>False</td>\n",
       "      <td>93</td>\n",
       "    </tr>\n",
       "    <tr>\n",
       "      <th>83</th>\n",
       "      <td>83</td>\n",
       "      <td>TrialState.COMPLETE</td>\n",
       "      <td>-0.524197</td>\n",
       "      <td>2019-10-05 22:21:08.472252</td>\n",
       "      <td>2019-10-05 22:24:21.501710</td>\n",
       "      <td>0.167647</td>\n",
       "      <td>tanh</td>\n",
       "      <td>False</td>\n",
       "      <td>0.003471</td>\n",
       "      <td>187</td>\n",
       "      <td>True</td>\n",
       "      <td>True</td>\n",
       "      <td>True</td>\n",
       "      <td>False</td>\n",
       "      <td>83</td>\n",
       "    </tr>\n",
       "    <tr>\n",
       "      <th>74</th>\n",
       "      <td>74</td>\n",
       "      <td>TrialState.COMPLETE</td>\n",
       "      <td>-0.524137</td>\n",
       "      <td>2019-10-05 21:52:48.932273</td>\n",
       "      <td>2019-10-05 21:56:00.370020</td>\n",
       "      <td>0.201695</td>\n",
       "      <td>tanh</td>\n",
       "      <td>False</td>\n",
       "      <td>0.003538</td>\n",
       "      <td>186</td>\n",
       "      <td>True</td>\n",
       "      <td>True</td>\n",
       "      <td>True</td>\n",
       "      <td>False</td>\n",
       "      <td>74</td>\n",
       "    </tr>\n",
       "    <tr>\n",
       "      <th>61</th>\n",
       "      <td>61</td>\n",
       "      <td>TrialState.COMPLETE</td>\n",
       "      <td>-0.524106</td>\n",
       "      <td>2019-10-05 21:14:00.496107</td>\n",
       "      <td>2019-10-05 21:16:48.996113</td>\n",
       "      <td>0.118637</td>\n",
       "      <td>tanh</td>\n",
       "      <td>False</td>\n",
       "      <td>0.003126</td>\n",
       "      <td>189</td>\n",
       "      <td>True</td>\n",
       "      <td>True</td>\n",
       "      <td>True</td>\n",
       "      <td>False</td>\n",
       "      <td>61</td>\n",
       "    </tr>\n",
       "    <tr>\n",
       "      <th>82</th>\n",
       "      <td>82</td>\n",
       "      <td>TrialState.COMPLETE</td>\n",
       "      <td>-0.524066</td>\n",
       "      <td>2019-10-05 22:18:01.298860</td>\n",
       "      <td>2019-10-05 22:21:08.438469</td>\n",
       "      <td>0.209887</td>\n",
       "      <td>tanh</td>\n",
       "      <td>False</td>\n",
       "      <td>0.004117</td>\n",
       "      <td>190</td>\n",
       "      <td>True</td>\n",
       "      <td>True</td>\n",
       "      <td>True</td>\n",
       "      <td>False</td>\n",
       "      <td>82</td>\n",
       "    </tr>\n",
       "    <tr>\n",
       "      <th>54</th>\n",
       "      <td>54</td>\n",
       "      <td>TrialState.COMPLETE</td>\n",
       "      <td>-0.523750</td>\n",
       "      <td>2019-10-05 20:54:27.554784</td>\n",
       "      <td>2019-10-05 20:57:09.525721</td>\n",
       "      <td>0.192547</td>\n",
       "      <td>tanh</td>\n",
       "      <td>False</td>\n",
       "      <td>0.004560</td>\n",
       "      <td>190</td>\n",
       "      <td>True</td>\n",
       "      <td>True</td>\n",
       "      <td>True</td>\n",
       "      <td>False</td>\n",
       "      <td>54</td>\n",
       "    </tr>\n",
       "    <tr>\n",
       "      <th>69</th>\n",
       "      <td>69</td>\n",
       "      <td>TrialState.COMPLETE</td>\n",
       "      <td>-0.523640</td>\n",
       "      <td>2019-10-05 21:37:17.667116</td>\n",
       "      <td>2019-10-05 21:40:23.304561</td>\n",
       "      <td>0.168247</td>\n",
       "      <td>tanh</td>\n",
       "      <td>False</td>\n",
       "      <td>0.004097</td>\n",
       "      <td>198</td>\n",
       "      <td>True</td>\n",
       "      <td>False</td>\n",
       "      <td>True</td>\n",
       "      <td>False</td>\n",
       "      <td>69</td>\n",
       "    </tr>\n",
       "    <tr>\n",
       "      <th>27</th>\n",
       "      <td>27</td>\n",
       "      <td>TrialState.COMPLETE</td>\n",
       "      <td>-0.523576</td>\n",
       "      <td>2019-10-05 19:44:52.820310</td>\n",
       "      <td>2019-10-05 19:47:09.204943</td>\n",
       "      <td>0.214032</td>\n",
       "      <td>tanh</td>\n",
       "      <td>False</td>\n",
       "      <td>0.003537</td>\n",
       "      <td>194</td>\n",
       "      <td>True</td>\n",
       "      <td>True</td>\n",
       "      <td>True</td>\n",
       "      <td>False</td>\n",
       "      <td>27</td>\n",
       "    </tr>\n",
       "    <tr>\n",
       "      <th>41</th>\n",
       "      <td>41</td>\n",
       "      <td>TrialState.COMPLETE</td>\n",
       "      <td>-0.523491</td>\n",
       "      <td>2019-10-05 20:19:09.066147</td>\n",
       "      <td>2019-10-05 20:21:41.797625</td>\n",
       "      <td>0.143469</td>\n",
       "      <td>tanh</td>\n",
       "      <td>False</td>\n",
       "      <td>0.003830</td>\n",
       "      <td>191</td>\n",
       "      <td>True</td>\n",
       "      <td>True</td>\n",
       "      <td>True</td>\n",
       "      <td>False</td>\n",
       "      <td>41</td>\n",
       "    </tr>\n",
       "    <tr>\n",
       "      <th>62</th>\n",
       "      <td>62</td>\n",
       "      <td>TrialState.COMPLETE</td>\n",
       "      <td>-0.523465</td>\n",
       "      <td>2019-10-05 21:16:49.027375</td>\n",
       "      <td>2019-10-05 21:19:43.878443</td>\n",
       "      <td>0.100060</td>\n",
       "      <td>tanh</td>\n",
       "      <td>False</td>\n",
       "      <td>0.003116</td>\n",
       "      <td>192</td>\n",
       "      <td>True</td>\n",
       "      <td>True</td>\n",
       "      <td>True</td>\n",
       "      <td>False</td>\n",
       "      <td>62</td>\n",
       "    </tr>\n",
       "    <tr>\n",
       "      <th>65</th>\n",
       "      <td>65</td>\n",
       "      <td>TrialState.COMPLETE</td>\n",
       "      <td>-0.523380</td>\n",
       "      <td>2019-10-05 21:25:33.217380</td>\n",
       "      <td>2019-10-05 21:28:25.799621</td>\n",
       "      <td>0.151868</td>\n",
       "      <td>tanh</td>\n",
       "      <td>False</td>\n",
       "      <td>0.003252</td>\n",
       "      <td>187</td>\n",
       "      <td>True</td>\n",
       "      <td>True</td>\n",
       "      <td>True</td>\n",
       "      <td>False</td>\n",
       "      <td>65</td>\n",
       "    </tr>\n",
       "    <tr>\n",
       "      <th>70</th>\n",
       "      <td>70</td>\n",
       "      <td>TrialState.COMPLETE</td>\n",
       "      <td>-0.523257</td>\n",
       "      <td>2019-10-05 21:40:23.331363</td>\n",
       "      <td>2019-10-05 21:43:26.337878</td>\n",
       "      <td>0.236033</td>\n",
       "      <td>tanh</td>\n",
       "      <td>False</td>\n",
       "      <td>0.004187</td>\n",
       "      <td>193</td>\n",
       "      <td>True</td>\n",
       "      <td>True</td>\n",
       "      <td>True</td>\n",
       "      <td>False</td>\n",
       "      <td>70</td>\n",
       "    </tr>\n",
       "    <tr>\n",
       "      <th>89</th>\n",
       "      <td>89</td>\n",
       "      <td>TrialState.COMPLETE</td>\n",
       "      <td>-0.523169</td>\n",
       "      <td>2019-10-05 22:40:11.792032</td>\n",
       "      <td>2019-10-05 22:43:25.565753</td>\n",
       "      <td>0.129138</td>\n",
       "      <td>tanh</td>\n",
       "      <td>False</td>\n",
       "      <td>0.002811</td>\n",
       "      <td>183</td>\n",
       "      <td>True</td>\n",
       "      <td>False</td>\n",
       "      <td>True</td>\n",
       "      <td>False</td>\n",
       "      <td>89</td>\n",
       "    </tr>\n",
       "    <tr>\n",
       "      <th>71</th>\n",
       "      <td>71</td>\n",
       "      <td>TrialState.COMPLETE</td>\n",
       "      <td>-0.523153</td>\n",
       "      <td>2019-10-05 21:43:26.371951</td>\n",
       "      <td>2019-10-05 21:46:33.708889</td>\n",
       "      <td>0.153215</td>\n",
       "      <td>tanh</td>\n",
       "      <td>False</td>\n",
       "      <td>0.002818</td>\n",
       "      <td>191</td>\n",
       "      <td>True</td>\n",
       "      <td>True</td>\n",
       "      <td>True</td>\n",
       "      <td>False</td>\n",
       "      <td>71</td>\n",
       "    </tr>\n",
       "    <tr>\n",
       "      <th>91</th>\n",
       "      <td>91</td>\n",
       "      <td>TrialState.COMPLETE</td>\n",
       "      <td>-0.523079</td>\n",
       "      <td>2019-10-05 22:46:38.691022</td>\n",
       "      <td>2019-10-05 22:49:46.181781</td>\n",
       "      <td>0.149338</td>\n",
       "      <td>tanh</td>\n",
       "      <td>False</td>\n",
       "      <td>0.003843</td>\n",
       "      <td>186</td>\n",
       "      <td>True</td>\n",
       "      <td>True</td>\n",
       "      <td>True</td>\n",
       "      <td>False</td>\n",
       "      <td>91</td>\n",
       "    </tr>\n",
       "    <tr>\n",
       "      <th>60</th>\n",
       "      <td>60</td>\n",
       "      <td>TrialState.COMPLETE</td>\n",
       "      <td>-0.522974</td>\n",
       "      <td>2019-10-05 21:11:09.006199</td>\n",
       "      <td>2019-10-05 21:14:00.464563</td>\n",
       "      <td>0.201417</td>\n",
       "      <td>tanh</td>\n",
       "      <td>False</td>\n",
       "      <td>0.005430</td>\n",
       "      <td>180</td>\n",
       "      <td>True</td>\n",
       "      <td>True</td>\n",
       "      <td>True</td>\n",
       "      <td>False</td>\n",
       "      <td>60</td>\n",
       "    </tr>\n",
       "    <tr>\n",
       "      <th>45</th>\n",
       "      <td>45</td>\n",
       "      <td>TrialState.COMPLETE</td>\n",
       "      <td>-0.522944</td>\n",
       "      <td>2019-10-05 20:29:50.584823</td>\n",
       "      <td>2019-10-05 20:32:33.425828</td>\n",
       "      <td>0.174297</td>\n",
       "      <td>tanh</td>\n",
       "      <td>True</td>\n",
       "      <td>0.003831</td>\n",
       "      <td>194</td>\n",
       "      <td>False</td>\n",
       "      <td>True</td>\n",
       "      <td>False</td>\n",
       "      <td>False</td>\n",
       "      <td>45</td>\n",
       "    </tr>\n",
       "    <tr>\n",
       "      <th>...</th>\n",
       "      <td>...</td>\n",
       "      <td>...</td>\n",
       "      <td>...</td>\n",
       "      <td>...</td>\n",
       "      <td>...</td>\n",
       "      <td>...</td>\n",
       "      <td>...</td>\n",
       "      <td>...</td>\n",
       "      <td>...</td>\n",
       "      <td>...</td>\n",
       "      <td>...</td>\n",
       "      <td>...</td>\n",
       "      <td>...</td>\n",
       "      <td>...</td>\n",
       "      <td>...</td>\n",
       "    </tr>\n",
       "    <tr>\n",
       "      <th>95</th>\n",
       "      <td>95</td>\n",
       "      <td>TrialState.COMPLETE</td>\n",
       "      <td>-0.498539</td>\n",
       "      <td>2019-10-05 22:59:22.459144</td>\n",
       "      <td>2019-10-05 23:02:38.868807</td>\n",
       "      <td>0.164483</td>\n",
       "      <td>tanh</td>\n",
       "      <td>False</td>\n",
       "      <td>0.007110</td>\n",
       "      <td>184</td>\n",
       "      <td>True</td>\n",
       "      <td>True</td>\n",
       "      <td>True</td>\n",
       "      <td>False</td>\n",
       "      <td>95</td>\n",
       "    </tr>\n",
       "    <tr>\n",
       "      <th>56</th>\n",
       "      <td>56</td>\n",
       "      <td>TrialState.COMPLETE</td>\n",
       "      <td>-0.495008</td>\n",
       "      <td>2019-10-05 20:59:53.071693</td>\n",
       "      <td>2019-10-05 21:02:39.597764</td>\n",
       "      <td>0.151419</td>\n",
       "      <td>tanh</td>\n",
       "      <td>False</td>\n",
       "      <td>0.007395</td>\n",
       "      <td>183</td>\n",
       "      <td>True</td>\n",
       "      <td>True</td>\n",
       "      <td>True</td>\n",
       "      <td>False</td>\n",
       "      <td>56</td>\n",
       "    </tr>\n",
       "    <tr>\n",
       "      <th>68</th>\n",
       "      <td>68</td>\n",
       "      <td>TrialState.COMPLETE</td>\n",
       "      <td>-0.492931</td>\n",
       "      <td>2019-10-05 21:34:18.551131</td>\n",
       "      <td>2019-10-05 21:37:17.638935</td>\n",
       "      <td>0.182483</td>\n",
       "      <td>tanh</td>\n",
       "      <td>False</td>\n",
       "      <td>0.006338</td>\n",
       "      <td>195</td>\n",
       "      <td>True</td>\n",
       "      <td>True</td>\n",
       "      <td>True</td>\n",
       "      <td>False</td>\n",
       "      <td>68</td>\n",
       "    </tr>\n",
       "    <tr>\n",
       "      <th>39</th>\n",
       "      <td>39</td>\n",
       "      <td>TrialState.COMPLETE</td>\n",
       "      <td>-0.489954</td>\n",
       "      <td>2019-10-05 20:14:01.036145</td>\n",
       "      <td>2019-10-05 20:16:34.033681</td>\n",
       "      <td>0.143382</td>\n",
       "      <td>tanh</td>\n",
       "      <td>False</td>\n",
       "      <td>0.002559</td>\n",
       "      <td>200</td>\n",
       "      <td>True</td>\n",
       "      <td>True</td>\n",
       "      <td>False</td>\n",
       "      <td>True</td>\n",
       "      <td>39</td>\n",
       "    </tr>\n",
       "    <tr>\n",
       "      <th>49</th>\n",
       "      <td>49</td>\n",
       "      <td>TrialState.COMPLETE</td>\n",
       "      <td>-0.487416</td>\n",
       "      <td>2019-10-05 20:40:43.693854</td>\n",
       "      <td>2019-10-05 20:43:29.585414</td>\n",
       "      <td>0.115880</td>\n",
       "      <td>tanh</td>\n",
       "      <td>False</td>\n",
       "      <td>0.001556</td>\n",
       "      <td>198</td>\n",
       "      <td>True</td>\n",
       "      <td>True</td>\n",
       "      <td>False</td>\n",
       "      <td>True</td>\n",
       "      <td>49</td>\n",
       "    </tr>\n",
       "    <tr>\n",
       "      <th>28</th>\n",
       "      <td>28</td>\n",
       "      <td>TrialState.COMPLETE</td>\n",
       "      <td>-0.487364</td>\n",
       "      <td>2019-10-05 19:47:09.223751</td>\n",
       "      <td>2019-10-05 19:49:25.926352</td>\n",
       "      <td>0.214742</td>\n",
       "      <td>tanh</td>\n",
       "      <td>False</td>\n",
       "      <td>0.008374</td>\n",
       "      <td>200</td>\n",
       "      <td>True</td>\n",
       "      <td>True</td>\n",
       "      <td>True</td>\n",
       "      <td>False</td>\n",
       "      <td>28</td>\n",
       "    </tr>\n",
       "    <tr>\n",
       "      <th>3</th>\n",
       "      <td>3</td>\n",
       "      <td>TrialState.COMPLETE</td>\n",
       "      <td>-0.482780</td>\n",
       "      <td>2019-10-05 18:52:00.295147</td>\n",
       "      <td>2019-10-05 18:54:17.433620</td>\n",
       "      <td>0.196485</td>\n",
       "      <td>tanh</td>\n",
       "      <td>True</td>\n",
       "      <td>0.004432</td>\n",
       "      <td>156</td>\n",
       "      <td>False</td>\n",
       "      <td>True</td>\n",
       "      <td>False</td>\n",
       "      <td>True</td>\n",
       "      <td>3</td>\n",
       "    </tr>\n",
       "    <tr>\n",
       "      <th>48</th>\n",
       "      <td>48</td>\n",
       "      <td>TrialState.COMPLETE</td>\n",
       "      <td>-0.476906</td>\n",
       "      <td>2019-10-05 20:37:55.147992</td>\n",
       "      <td>2019-10-05 20:40:43.666832</td>\n",
       "      <td>0.386679</td>\n",
       "      <td>tanh</td>\n",
       "      <td>False</td>\n",
       "      <td>0.008068</td>\n",
       "      <td>193</td>\n",
       "      <td>True</td>\n",
       "      <td>False</td>\n",
       "      <td>True</td>\n",
       "      <td>False</td>\n",
       "      <td>48</td>\n",
       "    </tr>\n",
       "    <tr>\n",
       "      <th>36</th>\n",
       "      <td>36</td>\n",
       "      <td>TrialState.COMPLETE</td>\n",
       "      <td>-0.475733</td>\n",
       "      <td>2019-10-05 20:06:07.254136</td>\n",
       "      <td>2019-10-05 20:08:43.011713</td>\n",
       "      <td>0.188458</td>\n",
       "      <td>tanh</td>\n",
       "      <td>True</td>\n",
       "      <td>0.016916</td>\n",
       "      <td>194</td>\n",
       "      <td>False</td>\n",
       "      <td>True</td>\n",
       "      <td>True</td>\n",
       "      <td>True</td>\n",
       "      <td>36</td>\n",
       "    </tr>\n",
       "    <tr>\n",
       "      <th>34</th>\n",
       "      <td>34</td>\n",
       "      <td>TrialState.COMPLETE</td>\n",
       "      <td>-0.475644</td>\n",
       "      <td>2019-10-05 20:01:11.918862</td>\n",
       "      <td>2019-10-05 20:03:41.073479</td>\n",
       "      <td>0.205372</td>\n",
       "      <td>tanh</td>\n",
       "      <td>False</td>\n",
       "      <td>0.003701</td>\n",
       "      <td>191</td>\n",
       "      <td>True</td>\n",
       "      <td>True</td>\n",
       "      <td>True</td>\n",
       "      <td>True</td>\n",
       "      <td>34</td>\n",
       "    </tr>\n",
       "    <tr>\n",
       "      <th>38</th>\n",
       "      <td>38</td>\n",
       "      <td>TrialState.COMPLETE</td>\n",
       "      <td>-0.471968</td>\n",
       "      <td>2019-10-05 20:11:17.807586</td>\n",
       "      <td>2019-10-05 20:14:01.011292</td>\n",
       "      <td>0.163356</td>\n",
       "      <td>tanh</td>\n",
       "      <td>True</td>\n",
       "      <td>0.008513</td>\n",
       "      <td>190</td>\n",
       "      <td>False</td>\n",
       "      <td>False</td>\n",
       "      <td>True</td>\n",
       "      <td>False</td>\n",
       "      <td>38</td>\n",
       "    </tr>\n",
       "    <tr>\n",
       "      <th>57</th>\n",
       "      <td>57</td>\n",
       "      <td>TrialState.COMPLETE</td>\n",
       "      <td>-0.468804</td>\n",
       "      <td>2019-10-05 21:02:39.625890</td>\n",
       "      <td>2019-10-05 21:05:26.128702</td>\n",
       "      <td>0.134391</td>\n",
       "      <td>tanh</td>\n",
       "      <td>False</td>\n",
       "      <td>0.010442</td>\n",
       "      <td>192</td>\n",
       "      <td>True</td>\n",
       "      <td>True</td>\n",
       "      <td>True</td>\n",
       "      <td>False</td>\n",
       "      <td>57</td>\n",
       "    </tr>\n",
       "    <tr>\n",
       "      <th>1</th>\n",
       "      <td>1</td>\n",
       "      <td>TrialState.COMPLETE</td>\n",
       "      <td>-0.466679</td>\n",
       "      <td>2019-10-05 18:47:32.516158</td>\n",
       "      <td>2019-10-05 18:49:40.852540</td>\n",
       "      <td>0.474022</td>\n",
       "      <td>tanh</td>\n",
       "      <td>True</td>\n",
       "      <td>0.009763</td>\n",
       "      <td>197</td>\n",
       "      <td>False</td>\n",
       "      <td>True</td>\n",
       "      <td>False</td>\n",
       "      <td>True</td>\n",
       "      <td>1</td>\n",
       "    </tr>\n",
       "    <tr>\n",
       "      <th>90</th>\n",
       "      <td>90</td>\n",
       "      <td>TrialState.COMPLETE</td>\n",
       "      <td>-0.466469</td>\n",
       "      <td>2019-10-05 22:43:25.603599</td>\n",
       "      <td>2019-10-05 22:46:38.653895</td>\n",
       "      <td>0.116108</td>\n",
       "      <td>tanh</td>\n",
       "      <td>False</td>\n",
       "      <td>0.009107</td>\n",
       "      <td>196</td>\n",
       "      <td>True</td>\n",
       "      <td>True</td>\n",
       "      <td>False</td>\n",
       "      <td>False</td>\n",
       "      <td>90</td>\n",
       "    </tr>\n",
       "    <tr>\n",
       "      <th>17</th>\n",
       "      <td>17</td>\n",
       "      <td>TrialState.COMPLETE</td>\n",
       "      <td>-0.462407</td>\n",
       "      <td>2019-10-05 19:22:53.116451</td>\n",
       "      <td>2019-10-05 19:25:03.536418</td>\n",
       "      <td>0.105106</td>\n",
       "      <td>tanh</td>\n",
       "      <td>False</td>\n",
       "      <td>0.011140</td>\n",
       "      <td>177</td>\n",
       "      <td>True</td>\n",
       "      <td>True</td>\n",
       "      <td>True</td>\n",
       "      <td>False</td>\n",
       "      <td>17</td>\n",
       "    </tr>\n",
       "    <tr>\n",
       "      <th>25</th>\n",
       "      <td>25</td>\n",
       "      <td>TrialState.COMPLETE</td>\n",
       "      <td>-0.452409</td>\n",
       "      <td>2019-10-05 19:40:23.748148</td>\n",
       "      <td>2019-10-05 19:42:37.777668</td>\n",
       "      <td>0.163309</td>\n",
       "      <td>tanh</td>\n",
       "      <td>False</td>\n",
       "      <td>0.016469</td>\n",
       "      <td>193</td>\n",
       "      <td>True</td>\n",
       "      <td>True</td>\n",
       "      <td>True</td>\n",
       "      <td>False</td>\n",
       "      <td>25</td>\n",
       "    </tr>\n",
       "    <tr>\n",
       "      <th>20</th>\n",
       "      <td>20</td>\n",
       "      <td>TrialState.COMPLETE</td>\n",
       "      <td>-0.447726</td>\n",
       "      <td>2019-10-05 19:29:19.459438</td>\n",
       "      <td>2019-10-05 19:31:32.232136</td>\n",
       "      <td>0.128528</td>\n",
       "      <td>tanh</td>\n",
       "      <td>False</td>\n",
       "      <td>0.026977</td>\n",
       "      <td>169</td>\n",
       "      <td>True</td>\n",
       "      <td>True</td>\n",
       "      <td>True</td>\n",
       "      <td>False</td>\n",
       "      <td>20</td>\n",
       "    </tr>\n",
       "    <tr>\n",
       "      <th>10</th>\n",
       "      <td>10</td>\n",
       "      <td>TrialState.COMPLETE</td>\n",
       "      <td>-0.446412</td>\n",
       "      <td>2019-10-05 19:07:37.791479</td>\n",
       "      <td>2019-10-05 19:09:49.872572</td>\n",
       "      <td>0.395890</td>\n",
       "      <td>tanh</td>\n",
       "      <td>False</td>\n",
       "      <td>0.029271</td>\n",
       "      <td>170</td>\n",
       "      <td>True</td>\n",
       "      <td>True</td>\n",
       "      <td>True</td>\n",
       "      <td>False</td>\n",
       "      <td>10</td>\n",
       "    </tr>\n",
       "    <tr>\n",
       "      <th>58</th>\n",
       "      <td>58</td>\n",
       "      <td>TrialState.COMPLETE</td>\n",
       "      <td>-0.417590</td>\n",
       "      <td>2019-10-05 21:05:26.158565</td>\n",
       "      <td>2019-10-05 21:08:17.235694</td>\n",
       "      <td>0.177433</td>\n",
       "      <td>tanh</td>\n",
       "      <td>True</td>\n",
       "      <td>0.000101</td>\n",
       "      <td>188</td>\n",
       "      <td>False</td>\n",
       "      <td>True</td>\n",
       "      <td>True</td>\n",
       "      <td>False</td>\n",
       "      <td>58</td>\n",
       "    </tr>\n",
       "    <tr>\n",
       "      <th>8</th>\n",
       "      <td>8</td>\n",
       "      <td>TrialState.COMPLETE</td>\n",
       "      <td>-0.374161</td>\n",
       "      <td>2019-10-05 19:03:04.469695</td>\n",
       "      <td>2019-10-05 19:05:20.323046</td>\n",
       "      <td>0.179998</td>\n",
       "      <td>relu</td>\n",
       "      <td>False</td>\n",
       "      <td>0.004901</td>\n",
       "      <td>187</td>\n",
       "      <td>True</td>\n",
       "      <td>False</td>\n",
       "      <td>False</td>\n",
       "      <td>True</td>\n",
       "      <td>8</td>\n",
       "    </tr>\n",
       "    <tr>\n",
       "      <th>2</th>\n",
       "      <td>2</td>\n",
       "      <td>TrialState.COMPLETE</td>\n",
       "      <td>-0.371098</td>\n",
       "      <td>2019-10-05 18:49:40.856601</td>\n",
       "      <td>2019-10-05 18:52:00.289343</td>\n",
       "      <td>0.159045</td>\n",
       "      <td>relu</td>\n",
       "      <td>True</td>\n",
       "      <td>0.011506</td>\n",
       "      <td>163</td>\n",
       "      <td>False</td>\n",
       "      <td>False</td>\n",
       "      <td>True</td>\n",
       "      <td>True</td>\n",
       "      <td>2</td>\n",
       "    </tr>\n",
       "    <tr>\n",
       "      <th>77</th>\n",
       "      <td>77</td>\n",
       "      <td>TrialState.COMPLETE</td>\n",
       "      <td>-0.370212</td>\n",
       "      <td>2019-10-05 22:02:13.440359</td>\n",
       "      <td>2019-10-05 22:05:24.796567</td>\n",
       "      <td>0.164653</td>\n",
       "      <td>relu</td>\n",
       "      <td>False</td>\n",
       "      <td>0.003477</td>\n",
       "      <td>194</td>\n",
       "      <td>True</td>\n",
       "      <td>True</td>\n",
       "      <td>True</td>\n",
       "      <td>True</td>\n",
       "      <td>77</td>\n",
       "    </tr>\n",
       "    <tr>\n",
       "      <th>50</th>\n",
       "      <td>50</td>\n",
       "      <td>TrialState.COMPLETE</td>\n",
       "      <td>-0.369537</td>\n",
       "      <td>2019-10-05 20:43:29.612309</td>\n",
       "      <td>2019-10-05 20:46:11.421300</td>\n",
       "      <td>0.264068</td>\n",
       "      <td>relu</td>\n",
       "      <td>False</td>\n",
       "      <td>0.014264</td>\n",
       "      <td>181</td>\n",
       "      <td>True</td>\n",
       "      <td>True</td>\n",
       "      <td>True</td>\n",
       "      <td>False</td>\n",
       "      <td>50</td>\n",
       "    </tr>\n",
       "    <tr>\n",
       "      <th>37</th>\n",
       "      <td>37</td>\n",
       "      <td>TrialState.COMPLETE</td>\n",
       "      <td>-0.369200</td>\n",
       "      <td>2019-10-05 20:08:43.035338</td>\n",
       "      <td>2019-10-05 20:11:17.783885</td>\n",
       "      <td>0.119419</td>\n",
       "      <td>relu</td>\n",
       "      <td>False</td>\n",
       "      <td>0.005000</td>\n",
       "      <td>185</td>\n",
       "      <td>True</td>\n",
       "      <td>True</td>\n",
       "      <td>True</td>\n",
       "      <td>False</td>\n",
       "      <td>37</td>\n",
       "    </tr>\n",
       "    <tr>\n",
       "      <th>40</th>\n",
       "      <td>40</td>\n",
       "      <td>TrialState.COMPLETE</td>\n",
       "      <td>-0.368107</td>\n",
       "      <td>2019-10-05 20:16:34.059929</td>\n",
       "      <td>2019-10-05 20:19:09.040656</td>\n",
       "      <td>0.307268</td>\n",
       "      <td>relu</td>\n",
       "      <td>False</td>\n",
       "      <td>0.001348</td>\n",
       "      <td>187</td>\n",
       "      <td>True</td>\n",
       "      <td>True</td>\n",
       "      <td>True</td>\n",
       "      <td>False</td>\n",
       "      <td>40</td>\n",
       "    </tr>\n",
       "    <tr>\n",
       "      <th>29</th>\n",
       "      <td>29</td>\n",
       "      <td>TrialState.COMPLETE</td>\n",
       "      <td>-0.363329</td>\n",
       "      <td>2019-10-05 19:49:25.943325</td>\n",
       "      <td>2019-10-05 19:51:43.017573</td>\n",
       "      <td>0.178790</td>\n",
       "      <td>relu</td>\n",
       "      <td>False</td>\n",
       "      <td>0.001133</td>\n",
       "      <td>195</td>\n",
       "      <td>True</td>\n",
       "      <td>True</td>\n",
       "      <td>True</td>\n",
       "      <td>False</td>\n",
       "      <td>29</td>\n",
       "    </tr>\n",
       "    <tr>\n",
       "      <th>6</th>\n",
       "      <td>6</td>\n",
       "      <td>TrialState.COMPLETE</td>\n",
       "      <td>-0.347004</td>\n",
       "      <td>2019-10-05 18:58:38.151910</td>\n",
       "      <td>2019-10-05 19:00:53.399313</td>\n",
       "      <td>0.306856</td>\n",
       "      <td>relu</td>\n",
       "      <td>False</td>\n",
       "      <td>0.000887</td>\n",
       "      <td>183</td>\n",
       "      <td>False</td>\n",
       "      <td>False</td>\n",
       "      <td>False</td>\n",
       "      <td>True</td>\n",
       "      <td>6</td>\n",
       "    </tr>\n",
       "    <tr>\n",
       "      <th>97</th>\n",
       "      <td>97</td>\n",
       "      <td>TrialState.COMPLETE</td>\n",
       "      <td>-0.342550</td>\n",
       "      <td>2019-10-05 23:05:51.638830</td>\n",
       "      <td>2019-10-05 23:09:08.734603</td>\n",
       "      <td>0.135786</td>\n",
       "      <td>relu</td>\n",
       "      <td>False</td>\n",
       "      <td>0.005587</td>\n",
       "      <td>192</td>\n",
       "      <td>True</td>\n",
       "      <td>True</td>\n",
       "      <td>True</td>\n",
       "      <td>True</td>\n",
       "      <td>97</td>\n",
       "    </tr>\n",
       "    <tr>\n",
       "      <th>0</th>\n",
       "      <td>0</td>\n",
       "      <td>TrialState.COMPLETE</td>\n",
       "      <td>-0.336400</td>\n",
       "      <td>2019-10-05 18:45:20.239847</td>\n",
       "      <td>2019-10-05 18:47:32.512178</td>\n",
       "      <td>0.344441</td>\n",
       "      <td>relu</td>\n",
       "      <td>False</td>\n",
       "      <td>0.001001</td>\n",
       "      <td>154</td>\n",
       "      <td>True</td>\n",
       "      <td>False</td>\n",
       "      <td>False</td>\n",
       "      <td>True</td>\n",
       "      <td>0</td>\n",
       "    </tr>\n",
       "    <tr>\n",
       "      <th>5</th>\n",
       "      <td>5</td>\n",
       "      <td>TrialState.COMPLETE</td>\n",
       "      <td>-0.331594</td>\n",
       "      <td>2019-10-05 18:56:26.927286</td>\n",
       "      <td>2019-10-05 18:58:38.142181</td>\n",
       "      <td>0.342549</td>\n",
       "      <td>relu</td>\n",
       "      <td>True</td>\n",
       "      <td>0.000180</td>\n",
       "      <td>188</td>\n",
       "      <td>True</td>\n",
       "      <td>False</td>\n",
       "      <td>False</td>\n",
       "      <td>False</td>\n",
       "      <td>5</td>\n",
       "    </tr>\n",
       "  </tbody>\n",
       "</table>\n",
       "<p>100 rows × 15 columns</p>\n",
       "</div>"
      ],
      "text/plain": [
       "   number                state     value             datetime_start  \\\n",
       "                                                                      \n",
       "98     98  TrialState.COMPLETE -0.526503 2019-10-05 23:09:08.771033   \n",
       "42     42  TrialState.COMPLETE -0.526350 2019-10-05 20:21:41.822816   \n",
       "26     26  TrialState.COMPLETE -0.525876 2019-10-05 19:42:37.793860   \n",
       "51     51  TrialState.COMPLETE -0.525051 2019-10-05 20:46:11.447992   \n",
       "99     99  TrialState.COMPLETE -0.524974 2019-10-05 23:12:22.938098   \n",
       "52     52  TrialState.COMPLETE -0.524885 2019-10-05 20:48:56.485860   \n",
       "92     92  TrialState.COMPLETE -0.524845 2019-10-05 22:49:46.216634   \n",
       "81     81  TrialState.COMPLETE -0.524628 2019-10-05 22:14:52.456390   \n",
       "67     67  TrialState.COMPLETE -0.524596 2019-10-05 21:31:21.154080   \n",
       "31     31  TrialState.COMPLETE -0.524514 2019-10-05 19:54:03.995780   \n",
       "22     22  TrialState.COMPLETE -0.524437 2019-10-05 19:33:42.197807   \n",
       "55     55  TrialState.COMPLETE -0.524356 2019-10-05 20:57:09.553774   \n",
       "88     88  TrialState.COMPLETE -0.524309 2019-10-05 22:37:01.274261   \n",
       "93     93  TrialState.COMPLETE -0.524228 2019-10-05 22:52:58.397893   \n",
       "83     83  TrialState.COMPLETE -0.524197 2019-10-05 22:21:08.472252   \n",
       "74     74  TrialState.COMPLETE -0.524137 2019-10-05 21:52:48.932273   \n",
       "61     61  TrialState.COMPLETE -0.524106 2019-10-05 21:14:00.496107   \n",
       "82     82  TrialState.COMPLETE -0.524066 2019-10-05 22:18:01.298860   \n",
       "54     54  TrialState.COMPLETE -0.523750 2019-10-05 20:54:27.554784   \n",
       "69     69  TrialState.COMPLETE -0.523640 2019-10-05 21:37:17.667116   \n",
       "27     27  TrialState.COMPLETE -0.523576 2019-10-05 19:44:52.820310   \n",
       "41     41  TrialState.COMPLETE -0.523491 2019-10-05 20:19:09.066147   \n",
       "62     62  TrialState.COMPLETE -0.523465 2019-10-05 21:16:49.027375   \n",
       "65     65  TrialState.COMPLETE -0.523380 2019-10-05 21:25:33.217380   \n",
       "70     70  TrialState.COMPLETE -0.523257 2019-10-05 21:40:23.331363   \n",
       "89     89  TrialState.COMPLETE -0.523169 2019-10-05 22:40:11.792032   \n",
       "71     71  TrialState.COMPLETE -0.523153 2019-10-05 21:43:26.371951   \n",
       "91     91  TrialState.COMPLETE -0.523079 2019-10-05 22:46:38.691022   \n",
       "60     60  TrialState.COMPLETE -0.522974 2019-10-05 21:11:09.006199   \n",
       "45     45  TrialState.COMPLETE -0.522944 2019-10-05 20:29:50.584823   \n",
       "..    ...                  ...       ...                        ...   \n",
       "95     95  TrialState.COMPLETE -0.498539 2019-10-05 22:59:22.459144   \n",
       "56     56  TrialState.COMPLETE -0.495008 2019-10-05 20:59:53.071693   \n",
       "68     68  TrialState.COMPLETE -0.492931 2019-10-05 21:34:18.551131   \n",
       "39     39  TrialState.COMPLETE -0.489954 2019-10-05 20:14:01.036145   \n",
       "49     49  TrialState.COMPLETE -0.487416 2019-10-05 20:40:43.693854   \n",
       "28     28  TrialState.COMPLETE -0.487364 2019-10-05 19:47:09.223751   \n",
       "3       3  TrialState.COMPLETE -0.482780 2019-10-05 18:52:00.295147   \n",
       "48     48  TrialState.COMPLETE -0.476906 2019-10-05 20:37:55.147992   \n",
       "36     36  TrialState.COMPLETE -0.475733 2019-10-05 20:06:07.254136   \n",
       "34     34  TrialState.COMPLETE -0.475644 2019-10-05 20:01:11.918862   \n",
       "38     38  TrialState.COMPLETE -0.471968 2019-10-05 20:11:17.807586   \n",
       "57     57  TrialState.COMPLETE -0.468804 2019-10-05 21:02:39.625890   \n",
       "1       1  TrialState.COMPLETE -0.466679 2019-10-05 18:47:32.516158   \n",
       "90     90  TrialState.COMPLETE -0.466469 2019-10-05 22:43:25.603599   \n",
       "17     17  TrialState.COMPLETE -0.462407 2019-10-05 19:22:53.116451   \n",
       "25     25  TrialState.COMPLETE -0.452409 2019-10-05 19:40:23.748148   \n",
       "20     20  TrialState.COMPLETE -0.447726 2019-10-05 19:29:19.459438   \n",
       "10     10  TrialState.COMPLETE -0.446412 2019-10-05 19:07:37.791479   \n",
       "58     58  TrialState.COMPLETE -0.417590 2019-10-05 21:05:26.158565   \n",
       "8       8  TrialState.COMPLETE -0.374161 2019-10-05 19:03:04.469695   \n",
       "2       2  TrialState.COMPLETE -0.371098 2019-10-05 18:49:40.856601   \n",
       "77     77  TrialState.COMPLETE -0.370212 2019-10-05 22:02:13.440359   \n",
       "50     50  TrialState.COMPLETE -0.369537 2019-10-05 20:43:29.612309   \n",
       "37     37  TrialState.COMPLETE -0.369200 2019-10-05 20:08:43.035338   \n",
       "40     40  TrialState.COMPLETE -0.368107 2019-10-05 20:16:34.059929   \n",
       "29     29  TrialState.COMPLETE -0.363329 2019-10-05 19:49:25.943325   \n",
       "6       6  TrialState.COMPLETE -0.347004 2019-10-05 18:58:38.151910   \n",
       "97     97  TrialState.COMPLETE -0.342550 2019-10-05 23:05:51.638830   \n",
       "0       0  TrialState.COMPLETE -0.336400 2019-10-05 18:45:20.239847   \n",
       "5       5  TrialState.COMPLETE -0.331594 2019-10-05 18:56:26.927286   \n",
       "\n",
       "            datetime_complete       params                   \\\n",
       "                              dropout_rate final_activation   \n",
       "98 2019-10-05 23:12:22.900530     0.208942             tanh   \n",
       "42 2019-10-05 20:24:20.679393     0.188865             tanh   \n",
       "26 2019-10-05 19:44:52.804014     0.126005             tanh   \n",
       "51 2019-10-05 20:48:56.456548     0.152128             tanh   \n",
       "99 2019-10-05 23:15:37.680732     0.212189             tanh   \n",
       "52 2019-10-05 20:51:41.044630     0.200004             tanh   \n",
       "92 2019-10-05 22:52:58.360659     0.161569             tanh   \n",
       "81 2019-10-05 22:18:01.266636     0.193777             tanh   \n",
       "67 2019-10-05 21:34:18.520519     0.184066             tanh   \n",
       "31 2019-10-05 19:56:28.025477     0.143578             tanh   \n",
       "22 2019-10-05 19:35:57.291778     0.132806             tanh   \n",
       "55 2019-10-05 20:59:53.043757     0.115820             tanh   \n",
       "88 2019-10-05 22:40:11.756885     0.145929             tanh   \n",
       "93 2019-10-05 22:56:09.209898     0.173934             tanh   \n",
       "83 2019-10-05 22:24:21.501710     0.167647             tanh   \n",
       "74 2019-10-05 21:56:00.370020     0.201695             tanh   \n",
       "61 2019-10-05 21:16:48.996113     0.118637             tanh   \n",
       "82 2019-10-05 22:21:08.438469     0.209887             tanh   \n",
       "54 2019-10-05 20:57:09.525721     0.192547             tanh   \n",
       "69 2019-10-05 21:40:23.304561     0.168247             tanh   \n",
       "27 2019-10-05 19:47:09.204943     0.214032             tanh   \n",
       "41 2019-10-05 20:21:41.797625     0.143469             tanh   \n",
       "62 2019-10-05 21:19:43.878443     0.100060             tanh   \n",
       "65 2019-10-05 21:28:25.799621     0.151868             tanh   \n",
       "70 2019-10-05 21:43:26.337878     0.236033             tanh   \n",
       "89 2019-10-05 22:43:25.565753     0.129138             tanh   \n",
       "71 2019-10-05 21:46:33.708889     0.153215             tanh   \n",
       "91 2019-10-05 22:49:46.181781     0.149338             tanh   \n",
       "60 2019-10-05 21:14:00.464563     0.201417             tanh   \n",
       "45 2019-10-05 20:32:33.425828     0.174297             tanh   \n",
       "..                        ...          ...              ...   \n",
       "95 2019-10-05 23:02:38.868807     0.164483             tanh   \n",
       "56 2019-10-05 21:02:39.597764     0.151419             tanh   \n",
       "68 2019-10-05 21:37:17.638935     0.182483             tanh   \n",
       "39 2019-10-05 20:16:34.033681     0.143382             tanh   \n",
       "49 2019-10-05 20:43:29.585414     0.115880             tanh   \n",
       "28 2019-10-05 19:49:25.926352     0.214742             tanh   \n",
       "3  2019-10-05 18:54:17.433620     0.196485             tanh   \n",
       "48 2019-10-05 20:40:43.666832     0.386679             tanh   \n",
       "36 2019-10-05 20:08:43.011713     0.188458             tanh   \n",
       "34 2019-10-05 20:03:41.073479     0.205372             tanh   \n",
       "38 2019-10-05 20:14:01.011292     0.163356             tanh   \n",
       "57 2019-10-05 21:05:26.128702     0.134391             tanh   \n",
       "1  2019-10-05 18:49:40.852540     0.474022             tanh   \n",
       "90 2019-10-05 22:46:38.653895     0.116108             tanh   \n",
       "17 2019-10-05 19:25:03.536418     0.105106             tanh   \n",
       "25 2019-10-05 19:42:37.777668     0.163309             tanh   \n",
       "20 2019-10-05 19:31:32.232136     0.128528             tanh   \n",
       "10 2019-10-05 19:09:49.872572     0.395890             tanh   \n",
       "58 2019-10-05 21:08:17.235694     0.177433             tanh   \n",
       "8  2019-10-05 19:05:20.323046     0.179998             relu   \n",
       "2  2019-10-05 18:52:00.289343     0.159045             relu   \n",
       "77 2019-10-05 22:05:24.796567     0.164653             relu   \n",
       "50 2019-10-05 20:46:11.421300     0.264068             relu   \n",
       "37 2019-10-05 20:11:17.783885     0.119419             relu   \n",
       "40 2019-10-05 20:19:09.040656     0.307268             relu   \n",
       "29 2019-10-05 19:51:43.017573     0.178790             relu   \n",
       "6  2019-10-05 19:00:53.399313     0.306856             relu   \n",
       "97 2019-10-05 23:09:08.734603     0.135786             relu   \n",
       "0  2019-10-05 18:47:32.512178     0.344441             relu   \n",
       "5  2019-10-05 18:58:38.142181     0.342549             relu   \n",
       "\n",
       "                                                                            \\\n",
       "   is_embedding_trainable learning_rate rnn_unit share_gru_weights_on_book   \n",
       "98                  False      0.004383      194                      True   \n",
       "42                  False      0.004263      196                      True   \n",
       "26                  False      0.003138      194                      True   \n",
       "51                  False      0.003723      191                      True   \n",
       "99                  False      0.004887      195                      True   \n",
       "52                  False      0.003459      187                      True   \n",
       "92                  False      0.004712      181                      True   \n",
       "81                  False      0.003678      186                      True   \n",
       "67                  False      0.003910      193                      True   \n",
       "31                  False      0.003278      191                      True   \n",
       "22                  False      0.003333      189                      True   \n",
       "55                  False      0.003180      189                      True   \n",
       "88                  False      0.003844      186                      True   \n",
       "93                  False      0.004682      182                      True   \n",
       "83                  False      0.003471      187                      True   \n",
       "74                  False      0.003538      186                      True   \n",
       "61                  False      0.003126      189                      True   \n",
       "82                  False      0.004117      190                      True   \n",
       "54                  False      0.004560      190                      True   \n",
       "69                  False      0.004097      198                      True   \n",
       "27                  False      0.003537      194                      True   \n",
       "41                  False      0.003830      191                      True   \n",
       "62                  False      0.003116      192                      True   \n",
       "65                  False      0.003252      187                      True   \n",
       "70                  False      0.004187      193                      True   \n",
       "89                  False      0.002811      183                      True   \n",
       "71                  False      0.002818      191                      True   \n",
       "91                  False      0.003843      186                      True   \n",
       "60                  False      0.005430      180                      True   \n",
       "45                   True      0.003831      194                     False   \n",
       "..                    ...           ...      ...                       ...   \n",
       "95                  False      0.007110      184                      True   \n",
       "56                  False      0.007395      183                      True   \n",
       "68                  False      0.006338      195                      True   \n",
       "39                  False      0.002559      200                      True   \n",
       "49                  False      0.001556      198                      True   \n",
       "28                  False      0.008374      200                      True   \n",
       "3                    True      0.004432      156                     False   \n",
       "48                  False      0.008068      193                      True   \n",
       "36                   True      0.016916      194                     False   \n",
       "34                  False      0.003701      191                      True   \n",
       "38                   True      0.008513      190                     False   \n",
       "57                  False      0.010442      192                      True   \n",
       "1                    True      0.009763      197                     False   \n",
       "90                  False      0.009107      196                      True   \n",
       "17                  False      0.011140      177                      True   \n",
       "25                  False      0.016469      193                      True   \n",
       "20                  False      0.026977      169                      True   \n",
       "10                  False      0.029271      170                      True   \n",
       "58                   True      0.000101      188                     False   \n",
       "8                   False      0.004901      187                      True   \n",
       "2                    True      0.011506      163                     False   \n",
       "77                  False      0.003477      194                      True   \n",
       "50                  False      0.014264      181                      True   \n",
       "37                  False      0.005000      185                      True   \n",
       "40                  False      0.001348      187                      True   \n",
       "29                  False      0.001133      195                      True   \n",
       "6                   False      0.000887      183                     False   \n",
       "97                  False      0.005587      192                      True   \n",
       "0                   False      0.001001      154                      True   \n",
       "5                    True      0.000180      188                      True   \n",
       "\n",
       "                                                              system_attrs  \n",
       "   use_attention_on_book use_attention_on_user use_batch_norm      _number  \n",
       "98                  True                  True          False           98  \n",
       "42                  True                  True          False           42  \n",
       "26                  True                  True          False           26  \n",
       "51                  True                  True          False           51  \n",
       "99                  True                  True          False           99  \n",
       "52                  True                  True          False           52  \n",
       "92                  True                  True          False           92  \n",
       "81                  True                  True          False           81  \n",
       "67                  True                  True          False           67  \n",
       "31                  True                  True          False           31  \n",
       "22                  True                  True          False           22  \n",
       "55                  True                  True          False           55  \n",
       "88                  True                  True          False           88  \n",
       "93                  True                  True          False           93  \n",
       "83                  True                  True          False           83  \n",
       "74                  True                  True          False           74  \n",
       "61                  True                  True          False           61  \n",
       "82                  True                  True          False           82  \n",
       "54                  True                  True          False           54  \n",
       "69                 False                  True          False           69  \n",
       "27                  True                  True          False           27  \n",
       "41                  True                  True          False           41  \n",
       "62                  True                  True          False           62  \n",
       "65                  True                  True          False           65  \n",
       "70                  True                  True          False           70  \n",
       "89                 False                  True          False           89  \n",
       "71                  True                  True          False           71  \n",
       "91                  True                  True          False           91  \n",
       "60                  True                  True          False           60  \n",
       "45                  True                 False          False           45  \n",
       "..                   ...                   ...            ...          ...  \n",
       "95                  True                  True          False           95  \n",
       "56                  True                  True          False           56  \n",
       "68                  True                  True          False           68  \n",
       "39                  True                 False           True           39  \n",
       "49                  True                 False           True           49  \n",
       "28                  True                  True          False           28  \n",
       "3                   True                 False           True            3  \n",
       "48                 False                  True          False           48  \n",
       "36                  True                  True           True           36  \n",
       "34                  True                  True           True           34  \n",
       "38                 False                  True          False           38  \n",
       "57                  True                  True          False           57  \n",
       "1                   True                 False           True            1  \n",
       "90                  True                 False          False           90  \n",
       "17                  True                  True          False           17  \n",
       "25                  True                  True          False           25  \n",
       "20                  True                  True          False           20  \n",
       "10                  True                  True          False           10  \n",
       "58                  True                  True          False           58  \n",
       "8                  False                 False           True            8  \n",
       "2                  False                  True           True            2  \n",
       "77                  True                  True           True           77  \n",
       "50                  True                  True          False           50  \n",
       "37                  True                  True          False           37  \n",
       "40                  True                  True          False           40  \n",
       "29                  True                  True          False           29  \n",
       "6                  False                 False           True            6  \n",
       "97                  True                  True           True           97  \n",
       "0                  False                 False           True            0  \n",
       "5                  False                 False          False            5  \n",
       "\n",
       "[100 rows x 15 columns]"
      ]
     },
     "execution_count": 47,
     "metadata": {},
     "output_type": "execute_result"
    }
   ],
   "source": [
    "trial_df.sort_values(by='value')"
   ]
  }
 ],
 "metadata": {
  "kernelspec": {
   "display_name": "Python 3",
   "language": "python",
   "name": "python3"
  },
  "language_info": {
   "codemirror_mode": {
    "name": "ipython",
    "version": 3
   },
   "file_extension": ".py",
   "mimetype": "text/x-python",
   "name": "python",
   "nbconvert_exporter": "python",
   "pygments_lexer": "ipython3",
   "version": "3.7.3"
  }
 },
 "nbformat": 4,
 "nbformat_minor": 4
}
