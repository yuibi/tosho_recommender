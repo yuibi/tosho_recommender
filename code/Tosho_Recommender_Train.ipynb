{
 "cells": [
  {
   "cell_type": "markdown",
   "metadata": {},
   "source": [
    "# Tosho Recommender (Training)"
   ]
  },
  {
   "cell_type": "code",
   "execution_count": 1,
   "metadata": {},
   "outputs": [],
   "source": [
    "%load_ext autoreload\n",
    "%autoreload 2"
   ]
  },
  {
   "cell_type": "code",
   "execution_count": 2,
   "metadata": {},
   "outputs": [],
   "source": [
    "%matplotlib inline\n",
    "import numpy as np\n",
    "import pandas as pd\n",
    "import matplotlib.pyplot as plt\n",
    "import random\n",
    "import fasttext as ft\n",
    "import pickle\n",
    "import gensim\n",
    "from sklearn.model_selection import train_test_split"
   ]
  },
  {
   "cell_type": "code",
   "execution_count": 3,
   "metadata": {},
   "outputs": [],
   "source": [
    "import tensorflow as tf\n",
    "from tensorflow.keras.preprocessing.text import Tokenizer\n",
    "from tensorflow.keras.preprocessing.sequence import pad_sequences\n",
    "from tensorflow.keras.optimizers import Adam\n",
    "from tensorflow.keras.models import Model, save_model\n",
    "from tensorflow.keras import models\n",
    "from tensorflow.keras.utils import plot_model\n",
    "from model import *"
   ]
  },
  {
   "cell_type": "code",
   "execution_count": 4,
   "metadata": {},
   "outputs": [],
   "source": [
    "np.random.seed(1)\n",
    "tf.random.set_seed(1)"
   ]
  },
  {
   "cell_type": "markdown",
   "metadata": {},
   "source": [
    "## Load Data"
   ]
  },
  {
   "cell_type": "code",
   "execution_count": 5,
   "metadata": {},
   "outputs": [
    {
     "data": {
      "text/plain": [
       "(33600, 5)"
      ]
     },
     "execution_count": 5,
     "metadata": {},
     "output_type": "execute_result"
    }
   ],
   "source": [
    "text_hist_pd = pd.read_csv('data/text_hist_perm.csv.bz', sep='\\t', compression='bz2')\n",
    "text_hist_pd.shape"
   ]
  },
  {
   "cell_type": "code",
   "execution_count": 6,
   "metadata": {},
   "outputs": [
    {
     "data": {
      "text/html": [
       "<div>\n",
       "<style scoped>\n",
       "    .dataframe tbody tr th:only-of-type {\n",
       "        vertical-align: middle;\n",
       "    }\n",
       "\n",
       "    .dataframe tbody tr th {\n",
       "        vertical-align: top;\n",
       "    }\n",
       "\n",
       "    .dataframe thead th {\n",
       "        text-align: right;\n",
       "    }\n",
       "</style>\n",
       "<table border=\"1\" class=\"dataframe\">\n",
       "  <thead>\n",
       "    <tr style=\"text-align: right;\">\n",
       "      <th></th>\n",
       "      <th>book1</th>\n",
       "      <th>book2</th>\n",
       "      <th>book3</th>\n",
       "      <th>book4</th>\n",
       "      <th>label</th>\n",
       "    </tr>\n",
       "  </thead>\n",
       "  <tbody>\n",
       "    <tr>\n",
       "      <th>17402</th>\n",
       "      <td>深い 霧 の たちこめる 漆 の 海 姿 なき 幽霊 船長 ゴースト キャプテン が 舵 を...</td>\n",
       "      <td>アイスダンス ペア 樹里 と 恵 は 初 出場 し 界 選手権 大会 で 大 喝采 を 浴び...</td>\n",
       "      <td>そろそろ 考え ちゃ 悩め ブタ シッタカブッタ は 人生 の 見え 方 を ていねい に ...</td>\n",
       "      <td>なぞなぞ 大好き の 妖怪 たち が 読者 に おもしろい なぞなぞ で いどみ 人気 の ...</td>\n",
       "      <td>1700233</td>\n",
       "    </tr>\n",
       "    <tr>\n",
       "      <th>9348</th>\n",
       "      <td>宗教 と は 国 と は 人間 へ の 深い まなざし が 捉え 青春 小説 の 新 境地 ...</td>\n",
       "      <td>わたし じゃ よ わ ー ん わ ー ん 学校 から の 帰り道 大きな 声 て い 清香 ...</td>\n",
       "      <td>担任 に 納得 の いか 絵 を 描か さ れ ユク は 傷つく 憧れ の 少女 に 励まさ...</td>\n",
       "      <td>ひな まつり に 愛花 の 家 で は お ばあちゃん だけ が つくれる ごちそう 肉まん...</td>\n",
       "      <td>1902265</td>\n",
       "    </tr>\n",
       "    <tr>\n",
       "      <th>32139</th>\n",
       "      <td>夜 の 星空 を 見 げた とき に 学校 で 習っ 星座 が 星座 の 名前 の 通り に...</td>\n",
       "      <td>界 の カエル と 日本 の カエル 200 種類 を カラー 写真 で 紹介 分布 や す...</td>\n",
       "      <td>現在 もっとも 謎 の 多い チョウ モンシロチョウ 最新 の 撮影 技術 と 研究 成果 ...</td>\n",
       "      <td>ほ 類 は虫類 ペット 家 ちく アニマル ウォッチング 絶滅 危機 動物 とじこみ 付録 ...</td>\n",
       "      <td>1400121</td>\n",
       "    </tr>\n",
       "  </tbody>\n",
       "</table>\n",
       "</div>"
      ],
      "text/plain": [
       "                                                   book1  \\\n",
       "17402  深い 霧 の たちこめる 漆 の 海 姿 なき 幽霊 船長 ゴースト キャプテン が 舵 を...   \n",
       "9348   宗教 と は 国 と は 人間 へ の 深い まなざし が 捉え 青春 小説 の 新 境地 ...   \n",
       "32139  夜 の 星空 を 見 げた とき に 学校 で 習っ 星座 が 星座 の 名前 の 通り に...   \n",
       "\n",
       "                                                   book2  \\\n",
       "17402  アイスダンス ペア 樹里 と 恵 は 初 出場 し 界 選手権 大会 で 大 喝采 を 浴び...   \n",
       "9348   わたし じゃ よ わ ー ん わ ー ん 学校 から の 帰り道 大きな 声 て い 清香 ...   \n",
       "32139  界 の カエル と 日本 の カエル 200 種類 を カラー 写真 で 紹介 分布 や す...   \n",
       "\n",
       "                                                   book3  \\\n",
       "17402  そろそろ 考え ちゃ 悩め ブタ シッタカブッタ は 人生 の 見え 方 を ていねい に ...   \n",
       "9348   担任 に 納得 の いか 絵 を 描か さ れ ユク は 傷つく 憧れ の 少女 に 励まさ...   \n",
       "32139  現在 もっとも 謎 の 多い チョウ モンシロチョウ 最新 の 撮影 技術 と 研究 成果 ...   \n",
       "\n",
       "                                                   book4    label  \n",
       "17402  なぞなぞ 大好き の 妖怪 たち が 読者 に おもしろい なぞなぞ で いどみ 人気 の ...  1700233  \n",
       "9348   ひな まつり に 愛花 の 家 で は お ばあちゃん だけ が つくれる ごちそう 肉まん...  1902265  \n",
       "32139  ほ 類 は虫類 ペット 家 ちく アニマル ウォッチング 絶滅 危機 動物 とじこみ 付録 ...  1400121  "
      ]
     },
     "execution_count": 6,
     "metadata": {},
     "output_type": "execute_result"
    }
   ],
   "source": [
    "text_hist_pd.sample(3, random_state=1)"
   ]
  },
  {
   "cell_type": "markdown",
   "metadata": {},
   "source": [
    "## Split into Train and Val"
   ]
  },
  {
   "cell_type": "code",
   "execution_count": 7,
   "metadata": {},
   "outputs": [],
   "source": [
    "train_texts, val_texts, y_train, y_val = train_test_split(text_hist_pd.drop(['label'], axis=1),\n",
    "                                                          text_hist_pd[['label']].values,\n",
    "                                                          test_size = .2,\n",
    "                                                          random_state=1234)"
   ]
  },
  {
   "cell_type": "markdown",
   "metadata": {},
   "source": [
    "## Tokenize"
   ]
  },
  {
   "cell_type": "code",
   "execution_count": 8,
   "metadata": {},
   "outputs": [],
   "source": [
    "# Limit on the number of word features to the top 20K features.\n",
    "TOP_K = 20000\n",
    "\n",
    "# Most books are within 500 word length\n",
    "MAX_SEQUENCE_LENGTH = 500\n",
    "\n",
    "def sequence_vectorize(train_texts, y_train, val_texts, y_val):\n",
    "    # Create vocabulary with training texts.\n",
    "    tokenizer = Tokenizer(num_words=TOP_K)\n",
    "    tokenizer.fit_on_texts(train_texts['book1'])\n",
    "\n",
    "    # Vectorize training and validation texts.\n",
    "    # Fix sequence length to max value. Sequences shorter than the length are\n",
    "    # padded in the beginning and sequences longer are truncated\n",
    "    # at the beginning.\n",
    "    x_trn_1 = pad_sequences(tokenizer.texts_to_sequences(train_texts['book1']), maxlen=MAX_SEQUENCE_LENGTH)\n",
    "    x_trn_2 = pad_sequences(tokenizer.texts_to_sequences(train_texts['book2']), maxlen=MAX_SEQUENCE_LENGTH)\n",
    "    x_trn_3 = pad_sequences(tokenizer.texts_to_sequences(train_texts['book3']), maxlen=MAX_SEQUENCE_LENGTH)\n",
    "    x_trn_4 = pad_sequences(tokenizer.texts_to_sequences(train_texts['book4']), maxlen=MAX_SEQUENCE_LENGTH)\n",
    "    x_val_1 = pad_sequences(tokenizer.texts_to_sequences(val_texts['book1']), maxlen=MAX_SEQUENCE_LENGTH)\n",
    "    x_val_2 = pad_sequences(tokenizer.texts_to_sequences(val_texts['book2']), maxlen=MAX_SEQUENCE_LENGTH)\n",
    "    x_val_3 = pad_sequences(tokenizer.texts_to_sequences(val_texts['book3']), maxlen=MAX_SEQUENCE_LENGTH)\n",
    "    x_val_4 = pad_sequences(tokenizer.texts_to_sequences(val_texts['book4']), maxlen=MAX_SEQUENCE_LENGTH)\n",
    "    \n",
    "    return x_trn_1, x_trn_2, x_trn_3, x_trn_4, x_val_1, x_val_2, x_val_3, x_val_4, tokenizer.word_index, tokenizer"
   ]
  },
  {
   "cell_type": "code",
   "execution_count": 9,
   "metadata": {},
   "outputs": [],
   "source": [
    "x_trn_1, x_trn_2, x_trn_3, x_trn_4, x_val_1, x_val_2, x_val_3, x_val_4, word_index, tokenizer = sequence_vectorize(train_texts, y_train, val_texts, y_val)"
   ]
  },
  {
   "cell_type": "code",
   "execution_count": 10,
   "metadata": {},
   "outputs": [
    {
     "data": {
      "text/plain": [
       "13505"
      ]
     },
     "execution_count": 10,
     "metadata": {},
     "output_type": "execute_result"
    }
   ],
   "source": [
    "# number of vocabulary in the corpus\n",
    "len(word_index)"
   ]
  },
  {
   "cell_type": "markdown",
   "metadata": {},
   "source": [
    "### Load FastText (Japanese)"
   ]
  },
  {
   "cell_type": "code",
   "execution_count": 16,
   "metadata": {},
   "outputs": [
    {
     "name": "stderr",
     "output_type": "stream",
     "text": [
      "\n"
     ]
    }
   ],
   "source": [
    "ja_vecs = ft.load_model('model/cc.ja.300.bin')"
   ]
  },
  {
   "cell_type": "code",
   "execution_count": 17,
   "metadata": {},
   "outputs": [
    {
     "data": {
      "text/plain": [
       "(300,)"
      ]
     },
     "execution_count": 17,
     "metadata": {},
     "output_type": "execute_result"
    }
   ],
   "source": [
    "ja_vecs.get_word_vector('あ').shape"
   ]
  },
  {
   "cell_type": "code",
   "execution_count": 18,
   "metadata": {},
   "outputs": [],
   "source": [
    "EMBEDDING_DIM = 300"
   ]
  },
  {
   "cell_type": "markdown",
   "metadata": {},
   "source": [
    "## Load Book2Vec Vectors"
   ]
  },
  {
   "cell_type": "code",
   "execution_count": 11,
   "metadata": {},
   "outputs": [
    {
     "name": "stderr",
     "output_type": "stream",
     "text": [
      "/opt/conda/lib/python3.7/site-packages/smart_open/smart_open_lib.py:398: UserWarning: This function is deprecated, use smart_open.open instead. See the migration notes for details: https://github.com/RaRe-Technologies/smart_open/blob/master/README.rst#migrating-to-the-new-open-function\n",
      "  'See the migration notes for details: %s' % _MIGRATION_NOTES_URL\n"
     ]
    }
   ],
   "source": [
    "b2v = gensim.models.keyedvectors.KeyedVectors.load_word2vec_format('model/book2vec', binary=False)"
   ]
  },
  {
   "cell_type": "markdown",
   "metadata": {},
   "source": [
    "## Use Book2Vec vectors as label"
   ]
  },
  {
   "cell_type": "code",
   "execution_count": 12,
   "metadata": {},
   "outputs": [],
   "source": [
    "y_train_gru = []\n",
    "for book_id in y_train:\n",
    "    y_train_gru.append(b2v.get_vector(str(book_id[0])))\n",
    "\n",
    "y_train_gru = np.array(y_train_gru)"
   ]
  },
  {
   "cell_type": "code",
   "execution_count": 13,
   "metadata": {},
   "outputs": [],
   "source": [
    "y_val_gru = []\n",
    "for book_id in y_val:\n",
    "    y_val_gru.append(b2v.get_vector(str(book_id[0])))\n",
    "\n",
    "y_val_gru = np.array(y_val_gru)"
   ]
  },
  {
   "cell_type": "code",
   "execution_count": 14,
   "metadata": {},
   "outputs": [
    {
     "data": {
      "text/plain": [
       "((26880, 1), (26880, 392), (6720, 1), (6720, 392))"
      ]
     },
     "execution_count": 14,
     "metadata": {},
     "output_type": "execute_result"
    }
   ],
   "source": [
    "y_train.shape, y_train_gru.shape, y_val.shape, y_val_gru.shape"
   ]
  },
  {
   "cell_type": "markdown",
   "metadata": {},
   "source": [
    "## Model"
   ]
  },
  {
   "cell_type": "markdown",
   "metadata": {},
   "source": [
    "### Embedding layer"
   ]
  },
  {
   "cell_type": "code",
   "execution_count": 19,
   "metadata": {},
   "outputs": [],
   "source": [
    "embedding_matrix = np.zeros((TOP_K+1, EMBEDDING_DIM))\n",
    "for word, i in word_index.items():\n",
    "    if i < TOP_K:\n",
    "        try:\n",
    "            embedding_vector = ja_vecs.get_word_vector(word)\n",
    "        except:\n",
    "            embedding_vector = np.zeros(EMBEDDING_DIM)\n",
    "        if embedding_vector is not None:\n",
    "            # words not found in embedding index will be all-zeros.\n",
    "            embedding_matrix[i] = embedding_vector"
   ]
  },
  {
   "cell_type": "markdown",
   "metadata": {},
   "source": [
    "### Train Model"
   ]
  },
  {
   "cell_type": "code",
   "execution_count": 20,
   "metadata": {},
   "outputs": [
    {
     "name": "stdout",
     "output_type": "stream",
     "text": [
      "Model: \"model\"\n",
      "__________________________________________________________________________________________________\n",
      "Layer (type)                    Output Shape         Param #     Connected to                     \n",
      "==================================================================================================\n",
      "input_5 (InputLayer)            [(None, None)]       0                                            \n",
      "__________________________________________________________________________________________________\n",
      "input_6 (InputLayer)            [(None, None)]       0                                            \n",
      "__________________________________________________________________________________________________\n",
      "input_7 (InputLayer)            [(None, None)]       0                                            \n",
      "__________________________________________________________________________________________________\n",
      "input_8 (InputLayer)            [(None, None)]       0                                            \n",
      "__________________________________________________________________________________________________\n",
      "word_embed_1 (Embedding)        (None, None, 300)    6000300     input_5[0][0]                    \n",
      "__________________________________________________________________________________________________\n",
      "word_embed_2 (Embedding)        (None, None, 300)    6000300     input_6[0][0]                    \n",
      "__________________________________________________________________________________________________\n",
      "word_embed_3 (Embedding)        (None, None, 300)    6000300     input_7[0][0]                    \n",
      "__________________________________________________________________________________________________\n",
      "word_embed_4 (Embedding)        (None, None, 300)    6000300     input_8[0][0]                    \n",
      "__________________________________________________________________________________________________\n",
      "gru_with__attn (GRU_with_Attn)  [(None, None, 1), (N 586705      word_embed_1[0][0]               \n",
      "                                                                 word_embed_2[0][0]               \n",
      "                                                                 word_embed_3[0][0]               \n",
      "                                                                 word_embed_4[0][0]               \n",
      "__________________________________________________________________________________________________\n",
      "gru_with__attn_1 (GRU_with_Attn [(None, 4, 1), (None 689137      gru_with__attn[0][1]             \n",
      "                                                                 gru_with__attn[1][1]             \n",
      "                                                                 gru_with__attn[2][1]             \n",
      "                                                                 gru_with__attn[3][1]             \n",
      "__________________________________________________________________________________________________\n",
      "final_dense (Dense)             (None, 392)          152488      gru_with__attn_1[0][1]           \n",
      "==================================================================================================\n",
      "Total params: 25,429,530\n",
      "Trainable params: 1,428,330\n",
      "Non-trainable params: 24,001,200\n",
      "__________________________________________________________________________________________________\n"
     ]
    }
   ],
   "source": [
    "learning_rate=0.0044\n",
    "\n",
    "word_id_1 = Input(shape=(None,))\n",
    "word_id_2 = Input(shape=(None,))\n",
    "word_id_3 = Input(shape=(None,))\n",
    "word_id_4 = Input(shape=(None,))\n",
    "\n",
    "max_sequence = x_trn_1.shape[1] if MAX_SEQUENCE_LENGTH > x_trn_1.shape[1] else MAX_SEQUENCE_LENGTH\n",
    "\n",
    "model = gru_model(\n",
    "                     embedding_dim=EMBEDDING_DIM,\n",
    "                     dropout_rate=0.209,\n",
    "                     rnn_unit=194,\n",
    "                     input_shape=(max_sequence,),\n",
    "                     num_features=TOP_K+1,\n",
    "                     share_gru_weights_on_book=True,\n",
    "                     use_attention_on_book=True,\n",
    "                     use_attention_on_user=True,\n",
    "                     use_batch_norm=False,\n",
    "                     is_embedding_trainable=False,\n",
    "                     final_activation='tanh',\n",
    "                     final_dimension=b2v.vector_size,\n",
    "                     embedding_matrix=embedding_matrix)\n",
    "\n",
    "# Compile model\n",
    "loss = 'cosine_similarity'\n",
    "\n",
    "optimizer = Adam(lr=learning_rate)\n",
    "model.compile(optimizer=optimizer, loss=loss, metrics=['cosine_similarity'])\n",
    "\n",
    "model.summary()"
   ]
  },
  {
   "cell_type": "code",
   "execution_count": 21,
   "metadata": {},
   "outputs": [
    {
     "data": {
      "image/png": "[encoded data removed]",
      "text/plain": [
       "<IPython.core.display.Image object>"
      ]
     },
     "execution_count": 21,
     "metadata": {},
     "output_type": "execute_result"
    }
   ],
   "source": [
    "plot_model(model, to_file='img/tosho_recommender.png')"
   ]
  },
  {
   "cell_type": "code",
   "execution_count": 22,
   "metadata": {},
   "outputs": [
    {
     "name": "stdout",
     "output_type": "stream",
     "text": [
      "Train on 26880 samples, validate on 6720 samples\n",
      "Epoch 1/2\n",
      "26880/26880 [==============================] - 374s 14ms/sample - loss: -0.5412 - cosine_similarity: 0.5412 - val_loss: -0.6019 - val_cosine_similarity: 0.6019\n",
      "Epoch 2/2\n",
      "26880/26880 [==============================] - 328s 12ms/sample - loss: -0.6498 - cosine_similarity: 0.6498 - val_loss: -0.7164 - val_cosine_similarity: 0.7164\n"
     ]
    }
   ],
   "source": [
    "# Train\n",
    "history = model.fit(\n",
    "        [x_trn_1, x_trn_2, x_trn_3, x_trn_4],\n",
    "        y_train_gru,\n",
    "        epochs=2,\n",
    "        validation_data=([x_val_1, x_val_2, x_val_3, x_val_4], y_val_gru),\n",
    "        verbose=1,\n",
    "        batch_size=256)"
   ]
  },
  {
   "cell_type": "code",
   "execution_count": 23,
   "metadata": {},
   "outputs": [],
   "source": [
    "model.save_weights('model/tosho_recommender_1', save_format='tf')"
   ]
  },
  {
   "cell_type": "code",
   "execution_count": 24,
   "metadata": {},
   "outputs": [
    {
     "name": "stdout",
     "output_type": "stream",
     "text": [
      "Train on 26880 samples, validate on 6720 samples\n",
      "Epoch 1/2\n",
      "26880/26880 [==============================] - 328s 12ms/sample - loss: -0.7270 - cosine_similarity: 0.7270 - val_loss: -0.7770 - val_cosine_similarity: 0.7770\n",
      "Epoch 2/2\n",
      "26880/26880 [==============================] - 331s 12ms/sample - loss: -0.7727 - cosine_similarity: 0.7727 - val_loss: -0.8153 - val_cosine_similarity: 0.8153\n"
     ]
    }
   ],
   "source": [
    "# Train\n",
    "history2 = model.fit(\n",
    "        [x_trn_1, x_trn_2, x_trn_3, x_trn_4],\n",
    "        y_train_gru,\n",
    "        epochs=2,\n",
    "        validation_data=([x_val_1, x_val_2, x_val_3, x_val_4], y_val_gru),\n",
    "        verbose=1,\n",
    "        batch_size=256)"
   ]
  },
  {
   "cell_type": "code",
   "execution_count": 25,
   "metadata": {},
   "outputs": [],
   "source": [
    "model.save_weights('model/tosho_recommender_2', save_format='tf')"
   ]
  },
  {
   "cell_type": "code",
   "execution_count": 26,
   "metadata": {},
   "outputs": [
    {
     "name": "stdout",
     "output_type": "stream",
     "text": [
      "Train on 26880 samples, validate on 6720 samples\n",
      "Epoch 1/2\n",
      "26880/26880 [==============================] - 327s 12ms/sample - loss: -0.8025 - cosine_similarity: 0.8025 - val_loss: -0.8394 - val_cosine_similarity: 0.8394\n",
      "Epoch 2/2\n",
      "26880/26880 [==============================] - 328s 12ms/sample - loss: -0.8229 - cosine_similarity: 0.8229 - val_loss: -0.8571 - val_cosine_similarity: 0.8571\n"
     ]
    }
   ],
   "source": [
    "# Train\n",
    "history3 = model.fit(\n",
    "        [x_trn_1, x_trn_2, x_trn_3, x_trn_4],\n",
    "        y_train_gru,\n",
    "        epochs=2,\n",
    "        validation_data=([x_val_1, x_val_2, x_val_3, x_val_4], y_val_gru),\n",
    "        verbose=1,\n",
    "        batch_size=256)"
   ]
  },
  {
   "cell_type": "code",
   "execution_count": 27,
   "metadata": {},
   "outputs": [],
   "source": [
    "model.save_weights('model/tosho_recommender_3', save_format='tf')"
   ]
  },
  {
   "cell_type": "code",
   "execution_count": 28,
   "metadata": {},
   "outputs": [
    {
     "name": "stdout",
     "output_type": "stream",
     "text": [
      "Train on 26880 samples, validate on 6720 samples\n",
      "Epoch 1/2\n",
      "26880/26880 [==============================] - 334s 12ms/sample - loss: -0.8372 - cosine_similarity: 0.8372 - val_loss: -0.8703 - val_cosine_similarity: 0.8703\n",
      "Epoch 2/2\n",
      "26880/26880 [==============================] - 324s 12ms/sample - loss: -0.8481 - cosine_similarity: 0.8481 - val_loss: -0.8785 - val_cosine_similarity: 0.8785\n"
     ]
    }
   ],
   "source": [
    "# Train\n",
    "history4 = model.fit(\n",
    "        [x_trn_1, x_trn_2, x_trn_3, x_trn_4],\n",
    "        y_train_gru,\n",
    "        epochs=2,\n",
    "        validation_data=([x_val_1, x_val_2, x_val_3, x_val_4], y_val_gru),\n",
    "        verbose=1,\n",
    "        batch_size=256)"
   ]
  },
  {
   "cell_type": "code",
   "execution_count": 29,
   "metadata": {},
   "outputs": [],
   "source": [
    "model.save_weights('model/tosho_recommender_4', save_format='tf')"
   ]
  },
  {
   "cell_type": "code",
   "execution_count": 30,
   "metadata": {},
   "outputs": [
    {
     "name": "stdout",
     "output_type": "stream",
     "text": [
      "Train on 26880 samples, validate on 6720 samples\n",
      "Epoch 1/2\n",
      "26880/26880 [==============================] - 331s 12ms/sample - loss: -0.8564 - cosine_similarity: 0.8564 - val_loss: -0.8858 - val_cosine_similarity: 0.8858\n",
      "Epoch 2/2\n",
      "26880/26880 [==============================] - 329s 12ms/sample - loss: -0.8628 - cosine_similarity: 0.8628 - val_loss: -0.8916 - val_cosine_similarity: 0.8916\n"
     ]
    }
   ],
   "source": [
    "# Train\n",
    "history5 = model.fit(\n",
    "        [x_trn_1, x_trn_2, x_trn_3, x_trn_4],\n",
    "        y_train_gru,\n",
    "        epochs=2,\n",
    "        validation_data=([x_val_1, x_val_2, x_val_3, x_val_4], y_val_gru),\n",
    "        verbose=1,\n",
    "        batch_size=256)"
   ]
  },
  {
   "cell_type": "code",
   "execution_count": 31,
   "metadata": {},
   "outputs": [],
   "source": [
    "model.save_weights('model/tosho_recommender_5', save_format='tf')"
   ]
  },
  {
   "cell_type": "code",
   "execution_count": 32,
   "metadata": {},
   "outputs": [
    {
     "name": "stdout",
     "output_type": "stream",
     "text": [
      "Train on 26880 samples, validate on 6720 samples\n",
      "Epoch 1/6\n",
      "26880/26880 [==============================] - 328s 12ms/sample - loss: -0.8683 - cosine_similarity: 0.8683 - val_loss: -0.8969 - val_cosine_similarity: 0.8969\n",
      "Epoch 2/6\n",
      "26880/26880 [==============================] - 323s 12ms/sample - loss: -0.8725 - cosine_similarity: 0.8725 - val_loss: -0.8997 - val_cosine_similarity: 0.8997\n",
      "Epoch 3/6\n",
      "26880/26880 [==============================] - 332s 12ms/sample - loss: -0.8766 - cosine_similarity: 0.8766 - val_loss: -0.9040 - val_cosine_similarity: 0.9040\n",
      "Epoch 4/6\n",
      "26880/26880 [==============================] - 326s 12ms/sample - loss: -0.8804 - cosine_similarity: 0.8804 - val_loss: -0.9065 - val_cosine_similarity: 0.9065\n",
      "Epoch 5/6\n",
      "26880/26880 [==============================] - 325s 12ms/sample - loss: -0.8831 - cosine_similarity: 0.8831 - val_loss: -0.9091 - val_cosine_similarity: 0.9091\n",
      "Epoch 6/6\n",
      "26880/26880 [==============================] - 329s 12ms/sample - loss: -0.8859 - cosine_similarity: 0.8859 - val_loss: -0.9115 - val_cosine_similarity: 0.9115\n"
     ]
    }
   ],
   "source": [
    "# Train\n",
    "history6 = model.fit(\n",
    "        [x_trn_1, x_trn_2, x_trn_3, x_trn_4],\n",
    "        y_train_gru,\n",
    "        epochs=6,\n",
    "        validation_data=([x_val_1, x_val_2, x_val_3, x_val_4], y_val_gru),\n",
    "        verbose=1,\n",
    "        batch_size=256)"
   ]
  },
  {
   "cell_type": "code",
   "execution_count": 33,
   "metadata": {},
   "outputs": [],
   "source": [
    "model.save_weights('model/tosho_recommender_6', save_format='tf')"
   ]
  },
  {
   "cell_type": "code",
   "execution_count": 34,
   "metadata": {},
   "outputs": [
    {
     "name": "stdout",
     "output_type": "stream",
     "text": [
      "Train on 26880 samples, validate on 6720 samples\n",
      "Epoch 1/6\n",
      "26880/26880 [==============================] - 327s 12ms/sample - loss: -0.8882 - cosine_similarity: 0.8882 - val_loss: -0.9133 - val_cosine_similarity: 0.9133\n",
      "Epoch 2/6\n",
      "26880/26880 [==============================] - 320s 12ms/sample - loss: -0.8900 - cosine_similarity: 0.8900 - val_loss: -0.9147 - val_cosine_similarity: 0.9147\n",
      "Epoch 3/6\n",
      "26880/26880 [==============================] - 312s 12ms/sample - loss: -0.8923 - cosine_similarity: 0.8923 - val_loss: -0.9165 - val_cosine_similarity: 0.9165\n",
      "Epoch 4/6\n",
      "26880/26880 [==============================] - 313s 12ms/sample - loss: -0.8940 - cosine_similarity: 0.8940 - val_loss: -0.9177 - val_cosine_similarity: 0.9177\n",
      "Epoch 5/6\n",
      "26880/26880 [==============================] - 311s 12ms/sample - loss: -0.8958 - cosine_similarity: 0.8958 - val_loss: -0.9195 - val_cosine_similarity: 0.9195\n",
      "Epoch 6/6\n",
      "26880/26880 [==============================] - 311s 12ms/sample - loss: -0.8972 - cosine_similarity: 0.8972 - val_loss: -0.9207 - val_cosine_similarity: 0.9207\n"
     ]
    }
   ],
   "source": [
    "# Train\n",
    "history7 = model.fit(\n",
    "        [x_trn_1, x_trn_2, x_trn_3, x_trn_4],\n",
    "        y_train_gru,\n",
    "        epochs=6,\n",
    "        validation_data=([x_val_1, x_val_2, x_val_3, x_val_4], y_val_gru),\n",
    "        verbose=1,\n",
    "        batch_size=256)"
   ]
  },
  {
   "cell_type": "code",
   "execution_count": 35,
   "metadata": {},
   "outputs": [],
   "source": [
    "model.save_weights('model/tosho_recommender_7', save_format='tf')"
   ]
  },
  {
   "cell_type": "code",
   "execution_count": 36,
   "metadata": {},
   "outputs": [],
   "source": [
    "train_metrics = 'cosine_similarity'\n",
    "train_metrics_concat = history.history[train_metrics] + history2.history[train_metrics] + history3.history[train_metrics] + history4.history[train_metrics] + history5.history[train_metrics]  + history6.history[train_metrics]  + history7.history[train_metrics] \n",
    "val_metrics = 'val_cosine_similarity'\n",
    "val_metrics_concat = history.history[val_metrics] + history2.history[val_metrics] + history3.history[val_metrics] + history4.history[val_metrics] + history5.history[val_metrics] + history6.history[val_metrics] + history7.history[val_metrics] "
   ]
  },
  {
   "cell_type": "code",
   "execution_count": 37,
   "metadata": {},
   "outputs": [
    {
     "data": {
      "image/png": "[encoded data removed]",
      "text/plain": [
       "<Figure size 432x288 with 1 Axes>"
      ]
     },
     "metadata": {
      "needs_background": "light"
     },
     "output_type": "display_data"
    }
   ],
   "source": [
    "epoch_list = [i+1 for i in range(22)]\n",
    "\n",
    "plt.figure(figsize = (6, 4))\n",
    "plt.plot(epoch_list, train_metrics_concat, label='Train Cosine_Similarity')\n",
    "plt.plot(epoch_list, val_metrics_concat, label='Validation Cosine_Similarity')\n",
    "plt.title('Cosine Similarity')\n",
    "plt.xlabel('Epoch')\n",
    "plt.legend()\n",
    "plt.show();"
   ]
  },
  {
   "cell_type": "markdown",
   "metadata": {},
   "source": [
    "### Save Objects"
   ]
  },
  {
   "cell_type": "code",
   "execution_count": 38,
   "metadata": {},
   "outputs": [],
   "source": [
    "def save_object(obj, filename):\n",
    "    with open(filename, 'wb') as output:\n",
    "        pickle.dump(obj, output, protocol=2)\n",
    "\n",
    "save_object(word_index, 'model/tosho_recommender_word_index.pkl')\n",
    "save_object(tokenizer, 'model/tosho_recommender_word_tokenizer.pkl')"
   ]
  },
  {
   "cell_type": "markdown",
   "metadata": {},
   "source": [
    "## Spot check"
   ]
  },
  {
   "cell_type": "code",
   "execution_count": 42,
   "metadata": {},
   "outputs": [],
   "source": [
    "# Get book descriptions\n",
    "text_pd = pd.read_csv('data/tosho_processed_clean.csv.bz2', sep='\\t', compression='bz2')\n",
    "\n",
    "text_dict = dict(zip(text_pd.id, text_pd.description_token))\n",
    "\n",
    "label_dict = {}\n",
    "for book_id in text_pd.id.unique().tolist():\n",
    "    label_dict[book_id] = text_dict[book_id]"
   ]
  },
  {
   "cell_type": "code",
   "execution_count": 97,
   "metadata": {},
   "outputs": [],
   "source": [
    "def recommend_book(book_list:list=None):\n",
    "    if book_list:\n",
    "        book_vec = model.predict(book_list)\n",
    "    else:\n",
    "        random_int =random.randint(0, x_val_1.shape[0]-1)\n",
    "        book_vec = model.predict([np.expand_dims(x_val_1[random_int], axis=0), np.expand_dims(x_val_2[random_int], axis=0), np.expand_dims(x_val_3[random_int], axis=0), np.expand_dims(x_val_4[random_int], axis=0)])\n",
    "    book_w2v_result = b2v.similar_by_vector(book_vec[0], topn=3)\n",
    "                  \n",
    "    similar_book_id_1 = book_w2v_result[0][0]\n",
    "    similar_book_desc_1 = label_dict[int(similar_book_id_1)]\n",
    "    similar_book_id_2 = book_w2v_result[1][0]\n",
    "    similar_book_desc_2 = label_dict[int(similar_book_id_2)]\n",
    "    similar_book_id_3 = book_w2v_result[2][0]\n",
    "    similar_book_desc_3 = label_dict[int(similar_book_id_3)]\n",
    "\n",
    "    if not book_list:\n",
    "        print(\"Book History:\")\n",
    "        print(val_texts[random_int:random_int+1].values)\n",
    "        print(\"\\n\")\n",
    "    print(\"1st similar book ID: {}\".format(similar_book_id_1))\n",
    "    print(\"1st similar book description: {}\".format(similar_book_desc_1))\n",
    "    print(\"\\n\")\n",
    "    print(\"2nd similar book ID: {}\".format(similar_book_id_2))\n",
    "    print(\"2nd similar book description: {}\".format(similar_book_desc_2))\n",
    "    print(\"\\n\")\n",
    "    print(\"3rd similar book ID: {}\".format(similar_book_id_3))\n",
    "    print(\"3rd similar book description: {}\".format(similar_book_desc_3))\n",
    "    print(\"\\n\")\n",
    "    print(\"word2vec result: {}\".format(book_w2v_result))"
   ]
  },
  {
   "cell_type": "code",
   "execution_count": 45,
   "metadata": {},
   "outputs": [
    {
     "name": "stdout",
     "output_type": "stream",
     "text": [
      "Book History:\n",
      "[['最終 学年 を 迎え 私 は 卒論 の テーマ 芥川 介 を 掘り げ て いく かたわら 出版 社 で 初めて の アルバイト を 経験 する その 縁 あっ て 図ら も 文壇 の 長老 から 芥川 の 謎 めい 言葉 を 聞く こと に 王朝 物 の 短編 六 の 宮 の 姫君 に 寄せ られ 言辞 を 巡っ て 円 紫 師匠 の 教え を い つつ 浩瀚 書物 を 旅 する 私 なり の 探偵 行 が 始まっ 最終 学年 を 迎え 私 は 卒論 の テーマ 芥川 介 を 掘り げ て いく 方 田崎 信 全集 の 編集 作業 に 追わ れる 出版 社 で 初めて の アルバイト を 経験 する その 縁 あっ て 図ら も 文壇 の 長老 から 芥川 の 謎 めい 言葉 を 聞く こと に あれ は 玉突き ね いや と いう より は キャッチボール 王朝 物 の 短編 六 の 宮 の 姫君 に 寄せ られ 言辞 を 巡っ て 私 の 探偵 が 始まっ'\n",
      "  'もう いい かい クマ は どこ サンタ も かくれ て いる よ クリスマス を テーマ に し 写真 の から かくれ て いる もの を 探し て 遊ぶ ゲーム ブック みんな で あそべる かくれんぼ 絵本'\n",
      "  'おはよう 大きな 声 の くま 校長 先生 小さな 声 の ひつじ くん ある 日 校長 先生 は 小さな 声 しか 出せ なっ て しまい でも それ で わかっ こと が あっ の 命 の 授業 を 続け 実在 の 校長 先生 を モデル に し 絵本'\n",
      "  'ぶ うぶ は じてん し ゃでさんぽへでかけた どろんこ みち を びちゃびちゃ びちゃ すると くろい お おかみ が でも ひ ゃあ おばけ お おかみ は にげ て しまっ ぼく こ ぶた のぶ うぶ よ ね 著者 略歴 著者 紹介 情報 より あま きみこ 旧 満州 生まれ びわ の 実 学校 同人 作品 に 車 の いろは 空 の いろ ポプラ社 日本 児童 文学 者 協会 新人 賞 ひつじ ぐものむこうに 文 研 出版 サンケイ 児童 出版 文化 賞 おっ こ ちゃんと タン タン うさぎ 福音館書店 野間 児童 文芸 賞 あれ も い 講談社 ひろ すけ 童話 賞 ちい ちゃん の かげ おくり あかね 書房 小学館 文学 賞 など 2004 年 きつね の かみ さ ま ポプラ社 にて 日本 絵本 賞 を 受賞 武田 美穂 東京 生まれ 絵本 の 作品 に となり の せき の ます だく 絵本 にっぽん 賞 講談社 出版 文化 賞 絵本 賞 受賞 ふし ぎのおうちはどきどきなのだ 絵本 にっぽん 賞 すみ っ この おばけ 日本 絵本 賞 読者 賞 けん ぶち 絵本 賞 グランプリ おかあさん げんき か 日本 絵本 賞 大賞 以 ポプラ社 など 本 データ は この 書籍 が 刊行 さ れ 当時 に 掲載 さ れ て い もの']]\n",
      "\n",
      "\n",
      "1st similar book ID: 3900067\n",
      "1st similar book description: ハエトリグサ モウセンゴケ ウツボカズラ むし たち を つかまえる しょく ぶつ が いる ふしぎ なし くみ を もっ て いる どう やっ て つかまえる の どう やっ て たべる の むし を たべる く さ の ひみ を さぐっ て みよ 著者 略歴 著者 紹介 情報 より 渡邉 弘 晴 1944 年 千葉 県 生まれ 植物 写真 家 日本 大学 経済学部 卒 佛 教 大学 文学部 史 学科 卒 通信 東京 綜合 写真 専門 学校 を 卒業 後 広告 制作 会社 や スタジオ カメラマン を 経 て フリー 子ども の 頃 から 植物 の 栽培 と カメラ を いじる の が 好き ため か いつのまにか 児童 図書 の 植物 写真 を 撮影 する よう に なっ 日本 自然 科学 写真 協会 会員 食虫植物 研究 会 会員 伊地知 英信 1961 年 東京 都 生まれ 小学 生来 生き物 の 飼育 と 観察 に 興味 を もつ 北里大学 水産 学部 卒 編集 プロダクション 出版 社 を 経 て 独立 数多く の 自然 科学 書 の 原稿 執筆 と 編集 に 従 独自 の 本 づくり を 心がける 本 データ は この 書籍 が 刊行 さ れ 当時 に 掲載 さ れ て い もの\n",
      "\n",
      "\n",
      "2nd similar book ID: 1900772\n",
      "2nd similar book description: ピトゥス の ため に 動物 園 を つくろ よ タネット の アイディア に はじめ は びっくり し な かま たち しかし それ は やがて 町 を あげ て の 大 イベント に 夏 の バルセロナ を 舞台 に くりひろげ られる 熱い 友情 物語 第 1 回 フォルク イ トー ラス 賞 受賞 作 著者 略歴 著者 紹介 情報 より スリ バス サバスティア 1928 年 スペイン の バルセロナ 生まれ 1965 年 に はじめて の 作品 ピトゥス の 動物 園 で 第 回 フォルク イ トー ラス 賞 を 受賞 以降 小学校 の 教師 を つとめ ながら カタルーニャ 語 で 子ども 向け の 読み物 を 多数 発表 内戦 後 の カタルーニャ 児童 文学 を 代表 する 作家 宇野 和美 出版 社 勤務 を へ て スペイン 語 児童 文学 の 翻訳 紹介 に 携わる 1999 年 より 2 年 半 バルセロナ 自治 大学 大学院 に 留学 修士 課程 修 イスパニカ 通信 講座 講師 スギヤマ カナヨステーショナリー 会社 勤務 の 後 アメリカ で エッチング を 学ぶ 著書 に ペンギン の 本 講談社 出版 文化 賞 講談社 など 本 データ は この 書籍 が 刊行 さ れ 当時 に 掲載 さ れ て い もの\n",
      "\n",
      "\n",
      "3rd similar book ID: 3901349\n",
      "3rd similar book description: なまけ 鳥 の メイジー に たま ご を だい て い て くれ か と たのま れ ホートン しかた 木 に よじのぼり たま ご を あたため あらし の 日 も 冬 の さむい 日 も そして 春 が き て も しかし 気 の どく な ホートン の 苦労 は それ だけ は おわら の アメリカ を はじめ 界 で 50 年 以 読みつが れ て き 作家 ドクター スース が 描く 楽しい 絵本 ローラ インガルス ワイルダー 賞 1980 年 受賞 ピュリツァー賞 特別 賞 1984 年 受賞 著者 略歴 著者 紹介 情報 より ドクター スース 本名 セオドア スース ガイゼル 1904 年 アメリカ の マサチューセッツ 州 に 生まれる ダート マス 大学 卒業 後 イギリス の オックスフォード大学 に 学ぶ 1937 年 に 初めて の 絵本 マル ベリー どおり の ふしぎ でき ごと を 発表 し て 以来 多数 の 絵本 を 書き その 奇想天外 物語 は 界 の 子ども たち に 親しま れ て いる 長年 の 業績 に対して 1980 年 に ローラ インガルス ワイルダー 賞 1984 年 に ピュリツァー賞 特別 賞 を えら れ また 映画 も 作り 1947 年 と 1950 年 に アカデミー 賞 を 受け て いる 1991 年 没 しら しげる 白木 茂 1910 年 青森 県 に 生まれる 日本 大学 英文 科 卒業 多年 にわたり 英 米 児童 文学 の 翻訳 紹介 に 尽くす 1977 年 没 本 データ は この 書籍 が 刊行 さ れ 当時 に 掲載 さ れ て い もの\n",
      "\n",
      "\n",
      "word2vec result: [('3900067', 0.9411956071853638), ('1900772', 0.7422671318054199), ('3901349', 0.7316879034042358)]\n"
     ]
    }
   ],
   "source": [
    "# animal-related\n",
    "recommend_book()"
   ]
  },
  {
   "cell_type": "code",
   "execution_count": 48,
   "metadata": {},
   "outputs": [
    {
     "name": "stdout",
     "output_type": "stream",
     "text": [
      "Book History:\n",
      "[['私 たち の 国 で は 子ども が ごはん を 手 で 食べ たり かっこん で 食べ たり し 親 に おこら れ よ ね でも アジア に は ごはん を そう やっ て 食べる の が あたりまえ の 国 も いっぱい ある の そして 界 に は フォーク と ナイフ を 使っ たり お はし と スプーン で 食べ たり ほか に も さまざま 食べ 方 が あり なぜ いろいろ 食べ 方 が ある の か いろいろ 食べもの を いろいろ 食べ 方 で 食べ て その 理由 を たしかめ 界 に は フォーク と ナイフ を 使っ たり お はし と スプーン で 食べ たり さまざま 食べ 方 が あり なぜ いろいろ 食べ 方 が ある の か その 理由 を たしかめ て み'\n",
      "  'いま 明かさ れる パンダ の ひみ あなた は パンダ 専用 の 銭湯 が ある の を 知っ て い か 実は ある の え っ まさか そう の か あなた の 知ら パンダ の 界 が ここ に あり ポップ 色 の 魔術 師 が 描く パンダ'\n",
      "  'フーム におい ね こ か いの け ん は なくなっ おと しも の どんな け ん も ププッ とか いけ いたし なぞ とき 絵本 第 3 弾'\n",
      "  '美しい 色づか い ユニーク 造形 今 注目 の 絵本 作家 い あやの が イソップ 物語 から 13 話 を セレクト し イマジネーション 豊か に えがき さあ あたらしい イソップ の 界 の 幕開け 著者 略歴 著者 紹介 情報 より い あや の 今 彩 1980 年 ロンドン に 生まれる イギリス アメリカ 日本 で 育つ 武蔵野美術大学 出身 2003 年 2004 年 2005 年 2006 年 2009 年 2012 年 に ボローニャ 国際 絵本 原画 展 に 入選 繊細 ストーリー 性 の ある 絵 が 高く 評価 さ れ て いる 本 データ は この 書籍 が 刊行 さ れ 当時 に 掲載 さ れ て い もの']]\n",
      "\n",
      "\n",
      "1st similar book ID: 3901528\n",
      "1st similar book description: 商品 説明 ケロ ちゃん が 早起き を する 日 それ は 月 に 度 の お 買い物 の 日 みんな で 車 に のっ て 市場 へ 出かけよ 市場 に は たくさん の お 店 が で て い て とても にぎやか 最初 に ケロ ちゃん の チョッキ の 生地 を 手 に 入れ て 野菜 を かじっ ちゃう ウサギ の 八百屋 で 野菜 を 買っ あと となり に 変わっ お 店 を 発見 し おおらか 心 優しい 犬 の バム と やり 放題 が かわいい カエル の ケロ ちゃん を 描い バム と ケロ シリーズ の 第 4 弾 と なる 本書 は この シリーズ の 集大成 と も いう 1 冊 モノ と ヒト の 集まる 場所 市場 で 島田 ゆか ワールド の すべて が 交錯 する と いっ て も 過言 で は ない グラフィック デザイン 出身 の 作者 によって ページ の 隅 まで 書き込ま れ 絵 が 最大 の 魅力 と なる この 絵本 生地 屋 に 雑貨 屋 に 骨董 屋 そして そこ に 集まる お客 たち どれ を とっても 見逃す わけ に は いか 別 シリーズ の ガラゴ も 加わっ て まるで 神経 衰弱 の よう 楽し さ 小山 由 絵 くるま に のっ て みんな で お でかけ すい よう びはみんなでおかいもの なに を かお か なぁ バム と ケロ から の プレゼント\n",
      "\n",
      "\n",
      "2nd similar book ID: 3901517\n",
      "2nd similar book description: 待望 の シリーズ 最新 刊 思わず のぞい て み なる 職業 の し ごと ば が 大 集合 迫力 ある 見開き ページ と 細部 に まで 遊び心 を ちりばめ 見ごたえ たっぷり 子ども から 大人 まで 楽しめる 絵本 収録 職業 は 花火 師 水族館 飼育 員 パン 職人 客室 務 員 幼稚園 教諭 特殊 メイクアップアーティスト 和菓子 職人 科学 者 水産 加工 員 の 9 職業 を 収録 花火 師 客室 務 員 和菓子 職人 特殊 メイクアップアーティスト 水族館 飼育 員 幼稚園 教諭 科学 者 水産 加工 員 パン 職人 のぞい て みたい 9 職業 大 集合\n",
      "\n",
      "\n",
      "3rd similar book ID: 3901311\n",
      "3rd similar book description: 商品 説明 しろい うさ ぎとくろいうさぎ ひき の ちいさな うさぎ が ひろ いもり の なか に すん で い あ さ ひき は ねどこ から はね おき て いち に ち じゅう いっしょ に たのしく あそび でも ある とき くろい うさぎ は とても かなし そう かお を し 森 の なか に 暮らす 小さな うさぎ たち が 真実 の 愛 を 見つける まで を 素直 文章 と 見 イラスト で 描い 小さな ラブストーリー くろい うさぎ の 悲しい 顔 しろい うさぎ の びっくり し 顔 など 表情 豊か に 描か れ 絵 が この 小さな 物語 が 持つ 真 まこと なる もの を さらに 高め て いる うさぎ の 毛 1 本 1 本 まで 寧 に 描き こま れ 精巧 デッサン と ピュア メッセージ が 融合 し 本 界 の 人 に 愛さ れ 続ける 時代 と 国境 を 超え ベストセラー 原題 は 松本 肇子 しろい うさ ぎとくろいうさぎは 毎日 いっしょ に 遊ん で い でも くろい うさぎ は ときおり 悲し そう 顔 で 考え こん で い 心配 に なっ しろい うさぎ が たずねる と ぼく ねがい ごと を し て いる ん よ と くろい うさぎ は こたえ くろい うさぎ が 願っ て い の は しろい うさ ぎといつまでも 緒 に られる こと それ を 知っ しろい うさぎ は どう し か 結婚式 の 贈り物 に 選ば れる こと も 多い 優しく 柔らか 2 ひき の うさぎ の 物語\n",
      "\n",
      "\n",
      "word2vec result: [('3901528', 0.8740168213844299), ('3901517', 0.5946147441864014), ('3901311', 0.5673215389251709)]\n"
     ]
    }
   ],
   "source": [
    "# kindergarten\n",
    "recommend_book()"
   ]
  },
  {
   "cell_type": "code",
   "execution_count": 50,
   "metadata": {},
   "outputs": [
    {
     "name": "stdout",
     "output_type": "stream",
     "text": [
      "Book History:\n",
      "[['にんじ ゅつ 学園 に にんじ ゃがしのびこんだらしい いくら さがし て も みつから と おもっ らん ろう たち の へや で はっけん おいかけろ ー 小学校 低 学年 向き 忍術 学園 に 忍者 が 忍び込ん いくら 探し て も 見つから と 思っ 太郎 たち の 部屋 で 発見 みんな で おいかけろ ー テレビ の なか の 忍 たま が 大 かつ やく'\n",
      "  'ご ほうび は お こめ きょう は 1 つぶ あした は 2 つぶ あさって は 4 つぶ その つぎ の ひ は 8 つぶ 30 に ち め に は なん つぶ インド の さんす の むかし ばなし 著者 略歴 著者 紹介 情報 より デミ 1942 年 アメリカ の マサチューセッツ 州 ケンブリッジ に 建築 家 の 父 と 画家 の 母 と の 間 に 生まれる ロードアイランドデザイン 学校 インド の バロダ 大学 など に 学ぶ 文化 の 違う 国 を 旅 し 東方 芸術 仏教 芸術 へ の 関心 を 深め これ まで に 130 を 超える 子ども の ため の 絵本 を 発表 し て いる 現在 国人 の 夫 と 人 息子 とともに ワシントン に 暮らし て いる さ くま ゆみこ 東京 都 に 生まれる 編集 者 翻訳 者 本 データ は この 書籍 が 刊行 さ れ 当時 に 掲載 さ れ て い もの'\n",
      "  '転落 故 を 機 に 小 5 の 蓮見 ゲンタ と 25 歳 の ミュージシャン ゲンタ の 心 と 体 が 入れ替わっ て しまっ 説明 し て も 信じ て もらえ 見ず知らず の 他人 として 暮らす こと に なっ 人 の ゲンタ たち は 夏 の 2 週間 を 描い 成長 物語 ぼく は ぼく に もどり だけ ん 林間 学校 で の 転落 故 を きっかけ に 小 5 の 蓮見 ゲンタ と 25 歳 の ミュージシャン ゲンタ の 心 と 体 が 入れ替わっ て しまっ いくら 説明 し て も 小学生 と 信じ て もらえ 蓮見 ゲンタ は 見ず知らず の 青年 ビート キッズ の ゲンタ として 暮らす こと に なり'\n",
      "  'カラフル で かわいい ムース の レシピ つき ふんわり 生クリーム を 使っ て おいしい ムース 作り に ルル と ララ が チャレンジ パステルカラー の かわいい デザート が いっぱい おしゃれ ムース の レシピ を おとど けし ひとり 読み を 楽しむ 年 層 が 簡単 に 作れる レシピ を 入れ ながら も 全体 は 物語 が 心 魔女 商会 シリーズ で 人気 の ある びるやすこさんが 低 学年 向き に 書き イラスト も 毎 頁 に 入り 約 半分 が カラー 頁 お話 だけ を 楽しむ 絵 を 楽しむ など 楽しみ 方 は もり だく さん 心 が 温かく なる 優しい お話']]\n",
      "\n",
      "\n",
      "1st similar book ID: 1902658\n",
      "1st similar book description: 今回 は 件 が 3 ウルトラグランドホテル 件 では 以前 はなれ こじ ま さ いふ 件 で 登場 し さすらい の ジャグラー かけ が わさん が ミルキー に 助け を 求め ぬすま れ 色紙 件 では 売れっ子 の ミステリー 作家 阿 笠 くり すけ 氏 の 色紙 が ぬすま れ こと から ミルキー と たつ子 が なぞ を 解き また 犯人 は 2 人組 では とも こと たかし と 緒 に あそび に いっ 湖 の ホテル で 件 に 遭い もちろん 絵 と 文章 を よく 見 て 考え 犯人 を 見つける の は あなた ミルキー は 奥さん の たつ子 さん の ため に いちど は 探偵 の 仕 を あきらめ 保育園 で 働い て い が やはり 天職 探偵 稼業 を どうしても あきらめ きれ に 最近 また せっせと 探偵 の 仕 に 精 を 出し て い\n",
      "\n",
      "\n",
      "2nd similar book ID: 1902336\n",
      "2nd similar book description: こちら の 商品 は 6 21 に カバー デザイン が 変更 と なり ご 注文 いただく タイミング によって は お 届け する 商品 の カバー と サイト に 表示 さ れ て いる 画像 が 異なる 場合 が ござい が ご 承 ください 新卒 の 教師 小谷 芙美 先生 が 受け持っ の は 学校 で 言 も 口 を きか 年生 の 鉄 心 を 開か 鉄 に 打ちのめさ れる 小谷 先生 が 周囲 と の ふれ合い の で 次第に 彼 の 豊か 可能 性 に 気付い て いく -- この テキスト は 文庫 版 に 関連付け られ て い 新任 の 小谷 先生 は クラス の で ひとこと も 口 を きか 鉄 をめぐって 奮闘 し -- この テキスト は 絶版 本 または この タイトル に は 設定 さ れ て い 版 型 に 関連付け られ て い\n",
      "\n",
      "\n",
      "3rd similar book ID: 1900197\n",
      "3rd similar book description: ほか ほか たのしい ホットケーキ づくり に 挑戦 みんな が 大好き ホットケーキ ルル と ララ が おしゃれ ホットケーキ の レシピ に チャレンジ し 寒い 季節 に ぴったり ひとり 読み を 楽しむ 年 層 が 簡単 に 作れる レシピ を 入れ ながら も 全体 は 物語 が 心 魔女 商会 シリーズ で 人気 の ある びるやすこさんが 低 学年 向き に 書き イラスト も 毎 頁 に 入り 約 半分 が カラー 頁 お話 だけ を 楽しむ 絵 を 楽しむ など 楽しみ 方 は もり だく さん 心 が 温かく なる 優しい お話\n",
      "\n",
      "\n",
      "word2vec result: [('1902658', 0.9482155442237854), ('1902336', 0.5834219455718994), ('1900197', 0.5738974213600159)]\n"
     ]
    }
   ],
   "source": [
    "# elementary school (girl)\n",
    "recommend_book()"
   ]
  },
  {
   "cell_type": "code",
   "execution_count": 55,
   "metadata": {},
   "outputs": [
    {
     "name": "stdout",
     "output_type": "stream",
     "text": [
      "Book History:\n",
      "[['あなた へ この は か の おう さま は ユーモア に あふれ ゆ かいな お話 ながら たい せつな こと は なにか を おしえ て くれる アンデルセン の 傑作 いも と ようこ 同じ 著者 による 同名 絵本 が はじめて のめ いさ くえ ほん シリーズ の は か の おう さま 2001 年 4 月 刊行 岩崎 書店 定価 735 円 と は 異なる 作品 ミニボードブック 厚紙 の 小さな 判 型 の 絵本 では あり -- この テキスト は 大型 本 版 に 関連付け られ て い ある 国 に おしゃれ 王様 が い 王様 は 毎日 何 回 も 洋服 を 取り替え もっと 変わっ 洋服 が 着 もの じゃ 鏡 の 前 で 王様 は つぶやき ある 日 お 城 に 人 の 洋服 屋 が やってき て 厚紙 絵本'\n",
      "  'ある ひ かあさん ぶた が いい みんな も 大きく なっ から ぶん で 家 を たて なさい はじめて のめ いさ くえ ほん シリーズ 幼児 向け 厚紙 絵本'\n",
      "  'むかし チューリップ の 花 から うまれ お やゆ びひめ という 女の子 が い ある 日 ひき 蛙 に さらわ れ て 波瀾 の 長い 旅 が はじまり はじめて のめ いさ くえ ほん シリーズ 幼児 向け 厚紙 絵本'\n",
      "  '-- この テキスト は ハードカバー 版 に 関連付け られ て い 昔 ぽ ち という 犬 を 可愛がっ て いる 老 夫婦 が い ある 日 ぽ ち が ここ ほれ わんわん と 吠え 場所 から 大判 小判 が 出 て き て それ を 見 て い 隣 の じいさん は はじめて のめ いさ くえ ほん シリーズ 幼児 向け 厚紙 絵本']]\n",
      "\n",
      "\n",
      "1st similar book ID: 3901623\n",
      "1st similar book description: おじいさん が 竹 ばやし で みつけ ひかり かがやく 竹 ふしぎ に おもっ て その 竹 を 切っ て みる と なか に は 小さな 女の子 が ちょこんと すわっ て い 日本 で 最初 に うまれ お話 -- この テキスト は 大型 本 版 に 関連付け られ て い むかし むかし おじいさん が 山 へ 竹 を 切り に 行く と 本 の 竹 が 金色 に 輝い て い 思議 に 思っ て 竹 を 切っ て みる と に 小さな 女の子 が すわっ て い かぐ や 姫 と 名付け られ 女の子 は 美しく 成長 し 厚紙 絵本\n",
      "\n",
      "\n",
      "2nd similar book ID: 3901622\n",
      "2nd similar book description: あなた へ この は か の おう さま は ユーモア に あふれ ゆ かいな お話 ながら たい せつな こと は なにか を おしえ て くれる アンデルセン の 傑作 いも と ようこ 同じ 著者 による 同名 絵本 が はじめて のめ いさ くえ ほん シリーズ の は か の おう さま 2001 年 4 月 刊行 岩崎 書店 定価 735 円 と は 異なる 作品 ミニボードブック 厚紙 の 小さな 判 型 の 絵本 では あり -- この テキスト は 大型 本 版 に 関連付け られ て い ある 国 に おしゃれ 王様 が い 王様 は 毎日 何 回 も 洋服 を 取り替え もっと 変わっ 洋服 が 着 もの じゃ 鏡 の 前 で 王様 は つぶやき ある 日 お 城 に 人 の 洋服 屋 が やってき て 厚紙 絵本\n",
      "\n",
      "\n",
      "3rd similar book ID: 3901226\n",
      "3rd similar book description: 子ども が はじめて 英語 に ふれる ため の かん 1 に は 身近 動物 や 動物 園 で 見 られる 動物 水 と 関係 の 深い 動物 の ほか 鳥 や 虫 植物 くだもの やさい など を 収録 厚紙 絵本\n",
      "\n",
      "\n",
      "word2vec result: [('3901623', 0.9233893156051636), ('3901622', 0.6780687570571899), ('3901226', 0.648849606513977)]\n"
     ]
    }
   ],
   "source": [
    "# kindergarten, fairy tale\n",
    "recommend_book()"
   ]
  },
  {
   "cell_type": "code",
   "execution_count": 61,
   "metadata": {},
   "outputs": [
    {
     "name": "stdout",
     "output_type": "stream",
     "text": [
      "Book History:\n",
      "[['ある 日 王さま の お 城 の 庭 に ハアト 星 という ところ から 小さな 星くず が 落ち て き その 星くず から みごと 花 が たくさん 咲き 花 は 国 に どんどん 広がっ て いっ て 絵 も 全巻 描き おろし 新 編集 版'\n",
      "  'イソップ の かえる の 王さま あま ん きみ この なみ お に 森山 京 の きいろい ば けつ など 学校 の 先生 が 選ん 名作 9 作品 を 収録 教科書 の 発展 として 読ん で おき 珠玉 の 作品 集'\n",
      "  'アメリカ の 小 学校 で 話題 の 書 現地 に 残さ れ て い 資料 を もと に ジョン 次郎 の アメリカ 時代 を 心 に 描い 物語 差別 や 文化 の 違い を 学べる 書 として アメリカ で 話題 に 優れ 児童 文学 に 贈ら れる ニュー ベリー 賞 オナー 受賞 1800 年代 アメリカ 東部 に 暮らし 初めて の 日本人 ジョン 次郎 浜 次郎 言葉 も 習慣 も 異なる 地 で いじめ や 差別 に くじける こと なく 強く 生き抜い て いっ 秘訣 は 何 の アメリカ に 残さ れ 記録 や 資料 を もと に 日本 が 誇る バイリンガル ジョン 次郎 の 青春 時代 を 鮮やか に 描い 物語 2011 年 ニュー ベリー 賞 オナー 受賞'\n",
      "  'るる こ は お母さん から 部屋 いっぱい に なる ぐらい 大きな 桃色 の 紙 を もらい るる こ は 大 喜び さっそく のりと ハサミ と クレヨン で 大きな キリン を 作り はじめ できあがっ 桃色 の キリン に るる こ は キリカ と 名前 を つけ ところが 雨 が ふっ て き て キリカ の 首 は 濡れ て きれい 桃色 が はげ て しまい キリカ の 首 を 再び 桃色 に ぬり なおす ため るる こ は キリカ に って クレヨン 山 に むかい 物語 と 挿絵 が 体 と なっ て 読者 を ファンタジー の 界 へ と 誘い 1965 年 の 発売 以来 子ども たち を とりこ に し て き 幼年 童話 の 傑作']]\n",
      "\n",
      "\n",
      "1st similar book ID: 1901184\n",
      "1st similar book description: 何 か 面白い こと は か な と 捜し て い 王様 が 見つけ もの は 思議 化石 国 じゅう が 大 さわぎ に なる 奇想天外 お話 を 5 篇 収録 新 編集 で 生まれ変わっ 新しい 王様 シリーズ\n",
      "\n",
      "\n",
      "2nd similar book ID: 1901182\n",
      "2nd similar book description: どこ の お うち に も こんな 王さま が ひとり いる ん って この ことば を かかげ 1959 年 毎日 出版 文化 賞 の 受賞 とともに スタート し 王さま シリーズ 以来 たくさん 版 を 重ね 500 も の 子ども たち に 愛さ れ て き わがまま で くい し ぼ の 王さま が お 城 け ん を おこし たり お 城 から とび出 宇宙 や 海 の 底 に 行っ たり 大 活 やく 誕生 40 年 を 記念 し て ぼく は 王さま 全集 の 十 も の ゆ かいな 話 が 新 編集 で 十 冊 の 本 に うまれかわる こと に なり 文字 を 読み やすく 組みかえ さし絵 も 全部 かきかえ お話 の 面白 さ を たっぷり 味わっ て さい 毎日 たま ご ばかり 食べ て いる 王様 たま ご を 食べ すぎ て 病気 に なら よう たま ご に 注射 を し て もらう と たま ご は 思議 フライパン に なっ て しまい そして 新 編集 で 生まれ変わっ 新しい 王様 シリーズ\n",
      "\n",
      "\n",
      "3rd similar book ID: 3900787\n",
      "3rd similar book description: なに も かも が おかし で でき へや お もち ゃがおもちゃをつくっているへや か ぐがかってにうごくへや へんてこ マンション は へんてこ へや ばかり いったい どんな 人 が 住ん で いる の か な のぞい て みよ よ 著者 略歴 著者 紹介 情報 より 深見 春夫 1937 年 生まれ 般企業 勤務 を 経 て フリー の イラストレーター と なる 現在 児童 書 を 心 に 活躍 本 データ は この 書籍 が 刊行 さ れ 当時 に 掲載 さ れ て い もの\n",
      "\n",
      "\n",
      "word2vec result: [('1901184', 0.9531498551368713), ('1901182', 0.6969356536865234), ('3900787', 0.6146948337554932)]\n"
     ]
    }
   ],
   "source": [
    "# elementary school\n",
    "recommend_book()"
   ]
  },
  {
   "cell_type": "code",
   "execution_count": 64,
   "metadata": {},
   "outputs": [
    {
     "name": "stdout",
     "output_type": "stream",
     "text": [
      "Book History:\n",
      "[['は 砂 から 作る って 知っ てる ガム の もと は 木 から とれる 樹脂 だって 食べる もの 飲む もの 着る もの 遊ぶ もの 毎日 身近 に 使っ て いる もの が どう 作ら れる の か どんな ふう に 形 を 変え て いく の か 全 69 種 の もの づくり の 過程 を イラスト で くわしく わかり やすく 解説 遡る と すべて が 自然 の に あっ こと が わかる は 砂 から 作る って 知っ てる ガム の もと は 木 から とれる 樹脂 だって 知っ てる 食べる もの 飲む もの 着る もの 遊ぶ もの 毎日 ふつう に 使っ て いる もの が どう やっ て 作ら れる の か 見 て みよ 植物 動物 鉱物 石油 どんな ふう に 形 を 変え て いく の か 見 て みよ もの 作り の 工程 が 見開き ひと目 で わかる 絵解き 図鑑 の 決定 版'\n",
      "  '食べ物 の 特徴 や 家 に 届く まで の 様子 が わかる かい よく 食べ られ て いる 食べ物 の 種類 が わかる 図鑑 食べ物 の 秘密 が わかる とく しゅう の 3 種類 の ページ で 構成 親子 の コミュニケーション を 育む 巻頭 特集 4 画面 分 の 大 パノラマ ページ 美しい 撮り おろ 標本 写真 の 図鑑 ページ 自然 体験 観察 活動 に 役立つ 特集 や コラム 幼稚園 保育園 の 体験 活動 小学校 の 生活 科 総合 学習 に 最適 スーパーリアルイラストレーション による 図解 最新 情報 最新 データ 満載'\n",
      "  'ホネ だけ だって だれ か わかる ホネ だけ から ひみ が わかる ホネホネ たん けんたい どう ぶつ え ん に し ゅっぱ ー 著者 略歴 著者 紹介 情報 より 西澤 真樹子 1976 年 千葉 県 生まれ 自由の森学園 で 盛口 満 氏 に 都留文科大学 で 今泉 吉晴 氏 に 師 大阪 市立 自然 史 博物館 を 心 に フリーランス として 大学 や 博物館 の 標本 整理 制作 に かかわる 2003 年 大阪 市立 自然 史 博物館 を 拠点 に 標本 制作 チーム なにわ ホネホネ 団 を 結成 小 学生 を 含む 団員 約 140 名 が 在籍 大西 成明 写真 家 1952 年 奈良 県 生まれ 著書 に 動物 の 細部 を とらえ 写真 集 象 の 耳 ニッコールクラブ 日本 写真 協会 新人 賞 現代 の 生老 病死 を ドキュメント し 雑誌 連載 病院 の 時代 講談社 出版 文化 賞 脳 の 写真 集 ひよめき ピエ ブックス が ある また 地球 生物 会議 ポスター で ニューヨーク 金賞 受賞 2008 年 に は 体 に 障害 が 残る 人 の リハビリ の 現場 に 迫っ 写真 集 ロマンティック リハビリテーション ランダム ハウス 講談社 を 出版 し 第 18 回 林 忠彦 賞 を 受賞 松田 素子 1955 年 山口 県 生まれ 児童 図書 出版 社 にて 月刊 の 創刊 に 携わり 同誌 の 編集 長 を 務め 後 退社 フリーランス の 編集 者 として 多く の 絵本 や 書籍 に 関わる 書評 創作 翻訳 の 分野 で も 活動 本 データ は この 書籍 が 刊行 さ れ 当時 に 掲載 さ れ て い もの'\n",
      "  '学研 の 図鑑 は 子ども の 目 が きらきら と 輝く 図鑑 ニュー ワイド 学研 の 図鑑 は 写真 に こだわっ 本格 図鑑 の 決定 版 写真 で 本物 を リアル に 伝え 最新 の 情報 を わかり やすく 伝え すべて の 漢字 に 読み が なつき で 幼児 から 知識 や 驚き を 伝え 自由 研究 の テーマ が いっぱい 自由 研究 を 実験 観察 工作 に 分け て テーマ を 紹介 し て ある ので 自分 に 合っ 自由 研究 が 選べ 写真 で わかり やすい どの 実験 も やり方 まとめ 方 を 大きな 写真 で わかり やすく 紹介 し て いる ので 自由 研究 が 簡単 に 出来 読者 の 声 より 学校 の 自由 研究 めんどく せ ー とか 思っ て い が 図鑑 を 読ん で み て それ が なくなり 反対 に 2 3 こ くらい 実験 が やり なり 小 6 女児 観察 自由 研究 と 実験 工作 自由 研究 の の ブロック に 分かれ て い 自由 研究 の ヒント や 研究 の 進め方 まとめ 方 など を 写真 や イラスト で くわしく しょうかい し て い']]\n",
      "\n",
      "\n",
      "1st similar book ID: 1400179\n",
      "1st similar book description: 素粒子 物理 学 の 分野 で 30 年 以 も 前 に 発表 さ れ 小林 益 川 理論 六 番目 の クォーク の 発見 により 実験 で も 証明 さ れ この 理論 が どの よう に 生まれ の か 科学 に 目覚め 少年 時代 学 高校 の 思い出 名古屋大学 坂田 研究 室 で の 切磋琢磨 の 時代 から 理論 を 発見 し 道筋 など を 本人 たち が 語る 実験 を 支え 科学 者 による 解説 も 身の回り の あらゆる 物質 を 構成 する 究極 の 要素 は 何 か それ を 解き明かそ と する 素粒子 物理 学 は クォーク と 呼ば れる 基本 粒子 の 存在 を 突き止め 素粒子 の 界 で 起きる 対称 性 の 破れ という 可 解 現象 を 説明 する ため に 1973 年 小林 益 川 の 氏 は クォーク は 6 種類 必要 という 先駆 的 理論 を 発表 2001 年 日本 の 実験 装置 ファクトリー と 米国 の 装置 が その 理論 を 確かめ 独力 で 困難 こと も 複数 の 力 が 集まれ ば 成功 する 理論 と 実験 面 から 難題 に 立ち向かっ 研究 者 たち の 軌跡 や 氏 の 生い立ち を 収録\n",
      "\n",
      "\n",
      "2nd similar book ID: 1400158\n",
      "2nd similar book description: 日本人 初 の 長期 滞在 を 果たし 宇宙 飛行 士 若田 光 さん の 4 カ月 半 にわたる 宇宙 で の 活動 記録 宇宙 から 寄せ られ 本人 メッセージ や 137 日間 の 行動 記録 から は 日本 実験 棟 き ぼう 完成 に 向け 連日 12 時間 超 の 激務 や その 合い 間 に 地 と の 交信 に ほっと 息 つく 様子 が わかる 無 重力 で の 細胞 培養 実験 シリコン 結晶 の 成長 観察 おもしろ 宇宙 実験 など も 紹介 朝日新聞 記者 による 解説 も 充実 137 日 の 行動 記録 を 完全 収録\n",
      "\n",
      "\n",
      "3rd similar book ID: 1400109\n",
      "3rd similar book description: おもに 日本 国内 と 近海 に 生息 する 魚 の 代表 的 もの を 取り げた 図鑑 14 に 分け 標本 の ページ 代表 的 魚 の 生 や 生態 を 写真 で 紹介 し ページ 魚 の 歴史 や 身体 の つくり 飼い 方 など を 紹介 し 魚 の 資料 館 の 3 部 で 構成 表記 の なか ま は おもに 目 で 分け その で 科 の レベル に 分類 標本 の 各 項目 に は 標準 和名 と 魚 の 写真 体長 分布 住み か 食 性 と 特徴 の 解説 を 掲載 巻末 に 魚 名 の 十 音 順 索引 を 付す 日本 国内 と 近海 に すん で いる 魚 の 代表 的 もの を 取り げ 魚 の 生 や 生態 など について 最新 の 情報 を カラー 写真 とともに 紹介 また 魚 の 歴史 や からだ の つくり 飼い 方 も 説明 する\n",
      "\n",
      "\n",
      "word2vec result: [('1400179', 0.9148104190826416), ('1400158', 0.6303954124450684), ('1400109', 0.6003438234329224)]\n"
     ]
    }
   ],
   "source": [
    "# encyclopedia\n",
    "recommend_book()"
   ]
  },
  {
   "cell_type": "code",
   "execution_count": 76,
   "metadata": {},
   "outputs": [
    {
     "name": "stdout",
     "output_type": "stream",
     "text": [
      "Book History:\n",
      "[['から の 話 生き物 の 話 食べ物 身近 物 の 話 地球 宇宙 の 話 科学 の びっくり 科学 の 実験 科学 の 伝記 など 科学 の ふしぎ に 答える 47 話 を 収録 短編 読み物 集 で は 読者 から の 支持 率 1 白地 の 表紙 が 目印 の 学研 の 10 分 で 読める シリーズ シリーズ 累計 220 部 の 実績 シリーズ の 特長 対象 学年 が わかる ので 選び やすい 進級 進学 の プレゼント に 最適 短 編集 ので 1 話 を すぐ に 読める どんどん 読める 飽き に 読める 特に 本 嫌い の お子さん から 本 が 好き に なっ 1 冊 全部 はじめて 読め など の 喜び の 声 多数 1 冊 の なか に バラエティ に 富ん 内容 で 47 作品 載っ て いる ので 読書 の 幅 を 広げ られる 短い 話 を 集 し て 読む こと 集 力 読解 力 が つく 学校 で の 朝 の 読書 の 時間 に 音読 の 宿題 短い 時間 で の 読み 聞かせ 家族 で 読む 家 読 うち どく 祖父母 の 朗読 など いろいろ と 活用 できる 文字 を 覚え たて の 入学 前 1 年生 の お子さん が 人 で 読む 本 として 最適 も くじ どうして 背 は のびる の どうして 人 は ねむる の どうして 音 が 聞こえる の どうして 目 は ある の に もの は に 見える の 男 と 女 で 声 が ちがう の は なぜ どうして 子ども は 親 に 似る の どうして 寿命 が ある の なぜ 物 に よう の など 全 47 話 ふしぎ に 答える 47 話 すらすら 読め て ため に なる'\n",
      "  '父 千葉 桃 から 算法 の 手ほどき を 受け て い 町 娘 あき は ある 日 観音 さま に 奉納 さ れ 算 額 に 誤り を 見つけ 声 を あげ その 出来 を 聞き及ん 留 米 藩 有馬 侯 は あき を 姫君 の 算法 指南 役 に しよ と する が 騒動 が もちあがる 方 算法 に 対抗 心 を 燃やす 関 流 の 実力 者 藤田 貞 資 が あきと 同じ 年頃 の 関 流 を 学ぶ 娘 と 競わ せる こと を 画策 はたして その 結果 は 安永 4 1775 年 に 刊行 さ れ 和算 書 算法 少女 の 成立 を めぐる 史実 を ていねい に 拾い ながら 豊か に 色 づけ 少年 少女 むけ 歴史 小説 の 名作 江戸 時代 いかに 和算 が 庶民 の 間 に 広まっ て い か それ を 学ぶ こと が いかに 歓び か を いきいき と 描き出す 著者 略歴 著者 紹介 情報 より 遠藤 寛子 1931 年 重 県 生まれ 児童 文学 作家 重大 学 を 経 て 法政大学 史 学科 卒業 重 県 の 学校 および 都立 の 養護 学校 に 勤務 教職 の 傍ら 創作 に 勤しむ 1969 年 に 深い 雪 の で 講談社 で 第 1 回 北川 千代 賞 を 1974 年 に 算法 少女 岩崎 書店 で サンケイ 児童 出版 文化 賞 を 受賞 箕田 源 郎 1918 2000 年 東京 生まれ 画家 日本 美術 会 童画 ぐる ー ぷ 車 など に 属し 絵本 の 制作 や 美術 教育 運動 で 活躍 本 データ は この 書籍 が 刊行 さ れ 当時 に 掲載 さ れ て い もの'\n",
      "  '昆虫 ペット に なる 動物 水 の 生き物 大型 動物 など 生き 動物 たち の リアル 姿 を 最新 の 写真 で 紹介 し 飼育 観察 の 方法 を 具体 的 に わかり やすく 解説 する'\n",
      "  'から の 話 生き物 の 話 食べ物 身近 物 の 話 地球 宇宙 の 話 科学 の びっくり 科学 の 実験 科学 の 伝記 など 科学 の ふしぎ に 答える 45 話 を 収録 短編 読み物 集 で は 読者 から の 支持 率 1 白地 の 表紙 が 目印 の 学研 の 10 分 で 読める シリーズ シリーズ 累計 220 部 の 実績 シリーズ の 特長 対象 学年 が わかる ので 選び やすい 進級 進学 の プレゼント に 最適 短 編集 ので 1 話 を すぐ に 読める どんどん 読める 飽き に 読める 特に 本 嫌い の お子さん から 本 が 好き に なっ 1 冊 全部 はじめて 読め など の 喜び の 声 多数 1 冊 の なか に バラエティ に 富ん 内容 で 45 作品 載っ て いる ので 読書 の 幅 を 広げ られる 短い 話 を 集 し て 読む こと 集 力 読解 力 が つく 学校 で の 朝 の 読書 の 時間 に 音読 の 宿題 短い 時間 で の 読み 聞かせ 家族 で 読む 家 読 うち どく 祖父母 の 朗読 など いろいろ と 活用 できる 文字 を 覚え たて の 入学 前 1 年生 の お子さん が 人 で 読む 本 として 最適 も くじ 赤ちゃん は おなか の で どうして いる の なぜ かた こり に なる の 朝 ご飯 を 食べ ほう が いい の は なぜ 正座 を する と なぜ 足 が しびれる の どうして 口 が くさく なる の インフルエンザ って どうして かかる の どうして 年 を とる と しわ が でき たり 髪 が 白く なっ たり する の 走る と おなか が いたく なる の は なぜ など 全 45 話 ふしぎ に 答える 45 話 すらすら 読め て ため に なる']]\n",
      "\n",
      "\n",
      "1st similar book ID: 1400096\n",
      "1st similar book description: ドキドキ ワクワク まんが で とびこむ 科学 の 界 きょう りゅう 大好き 少年 の ヒロキ は 姉 の ユミ と 国立 科学 博物館 で アロサウルス や ブロントサウルス の 全身 骨格 を 見 て びっくり ちょっと と ぼけ 古 生物 学者 古 博士 とともに 歴史 探偵 に 変身 し て 大昔 へ の 旅 に 出 さあ みなさん も いっしょ に たのしい 1 億 5000 年 前 の 界 へ でかけ か 小学校 高学年 向 きょう りゅう 大好き 少年 の ヒロキ は 姉 の ユミ と 国立 科学 博物館 で アロサウルス や プロントサウルス の 全身 骨格 を 見 て びっくり 古 生物 学者 の 古 博士 と共に 歴史 探偵 に 変身 し て 1 億 5 千 年 前 の 旅 に 出 て 恐竜 の 謎 に 迫り\n",
      "\n",
      "\n",
      "2nd similar book ID: 1400102\n",
      "2nd similar book description: ペンギン アザラシ アホウドリ 人間 の 計り 知れ 界 を 生きる 動物 たち その 体 に 記録 機器 を 取り付ける 手法 バイオ ロギング を 用い 驚く メカニズム に 迫る 近所 の 鳥 へ の 眼差し も 新 目次 第 章 渡る ---- ペンギン が 解き明かし 回遊 の 謎 動物 は どこ に 何 し に 行く の ミズナギドリ の 終わら 夏 アホウドリ の 46 日間 地球 周 クロマグロ の 太平洋 横断 ホホジロザメ の インド洋 横断 ザトウクジラ の 半球 内 季節 移動 アルゴス ---- 最も メジャー 動物 追跡 システム 南極 の アデリーペンギン 南極 袋 浦 で の 調査 第 章 泳ぐ ---- 遊泳 の 技巧 は サメ に 習う マグロ は 時速 100 キロ は 泳が 薄気味悪い ニシオンデンザメ サメ よ どうして そんなに のろい の か ペンギン アザラシ クジラ も まとめ て 競 速い と いっ て も 知れ て いる ペンギン の 法則 マンボウ は なぜ 浮き袋 が ない の に 浮く マンボウ の 意外 泳ぎ の メカニズム 第 章 測る ---- 先駆 者 が 磨い 計測 の 技 バハマ の 悲劇 最初 の ひと しずく ---- 生理学 の 巨人 ショランダー アザラシ の 潜水 生理 ---- ジェラルド クーイマン キッチン タイマー を 使っ 深度 記録 計 ペンギン の 生態 学 ---- ローリー ウィルソン 放射 性 物質 を 使っ 深度 記録 計 アザラシ の 生態 ---- 内藤 靖彦 アザラシ 回収 装置 って 何 第 四 章 潜る ---- 潜水 の 極意 は アザラシ が 知っ て い ぺん ぎん は なんで もぐる の か ダイビング 界 の 雄 ウェッデルアザラシ 潜水 マシーン ゾウ アザラシ マッコウクジラ は なぜ 2000 メートル も 潜 れる か 謎 の ベール に 包ま れ アカボウクジラ 軍団 ウミガメ の 掟 破り の 時間 潜水 潜水 能力 を 決める の 要因 低 酸素 に 耐える ペンギン 異様 に 太っ バイカル アザラシ なぜ バイカル アザラシ は 太っ て いる か 第 章 飛ぶ ---- アホウドリ が 語る 飛翔 の 真実 離島 で の 飛行 百 景 ヒマラヤ 越え を 可能 に する メカニズム 小さな 体 に 巨大 エンジン ---- ハチドリ 鳥 と 飛行機 は 同じ か 連続 滑空 の ミステリー アホウドリ という 振り子 運動 空 飛ぶ 鳥 の 法則 前 縁 渦 という 思議 渦 鵜 は 友達 クジラ や ペンギン アザラシ など の 潜水 動物 や アホウドリ や ウ といった 飛翔 動物 を はじめ 野生 動物 たち の 生活 は 人間 の 目 に 触れ その 生態 は 謎 に 包ま れ まま そんな 観察 が 難しい 動物 たち に 超 小型 の カメラ や 記録 計 を 取り付け データ から 行動 や 生態 を 調査 する 研究 手法 を バイオ 生物 ロギング 記録 と 呼ぶ 本書 で は バイオ ロギング が 明らか に し 野生 動物 の 多様 ダイナミック 動き から 背景 に ある 物理 メカニズム を 読み解き その 進化 的 意義 に 迫る\n",
      "\n",
      "\n",
      "3rd similar book ID: 1400027\n",
      "3rd similar book description: から の 話 生き物 の 話 食べ物 身近 物 の 話 地球 宇宙 の 話 科学 の びっくり 科学 の 実験 科学 の 伝記 など 科学 の ふしぎ に 答える 46 話 を 収録 短編 読み物 集 で は 読者 から の 支持 率 1 白地 の 表紙 が 目印 の 学研 の 10 分 で 読める シリーズ シリーズ 累計 220 部 の 実績 シリーズ の 特長 対象 学年 が わかる ので 選び やすい 進級 進学 の プレゼント に 最適 短 編集 ので 1 話 を すぐ に 読める どんどん 読める 飽き に 読める 特に 本 嫌い の お子さん から 本 が 好き に なっ 1 冊 全部 はじめて 読め など の 喜び の 声 多数 1 冊 の なか に バラエティ に 富ん 内容 で 46 作品 載っ て いる ので 読書 の 幅 を 広げ られる 短い 話 を 集 し て 読む こと 集 力 読解 力 が つく 学校 で の 朝 の 読書 の 時間 に 音読 の 宿題 短い 時間 で の 読み 聞かせ 家族 で 読む 家 読 うち どく 祖父母 の 朗読 など いろいろ と 活用 できる 文字 を 覚え たて の 入学 前 1 年生 の お子さん が 人 で 読む 本 として 最適 も くじ トンネル と 通る と 耳 が ツーン と する の は なぜ どうして 味 が 分かる の なぜ 人間 は 水 で 呼吸 でき の どうして おしっこ が 出る の どうして へそ が ある の 筋肉 痛 は どうして 起きる の 防 接種 って 何 ワクチン って 何 虫歯 が ある と 宇宙 飛行 士 に なれ って 本当 など 全 46 話 ふしぎ に 答える 46 話 すらすら 読め て ため に なる\n",
      "\n",
      "\n",
      "word2vec result: [('1400096', 0.8871279358863831), ('1400102', 0.7248888611793518), ('1400027', 0.6680289506912231)]\n"
     ]
    }
   ],
   "source": [
    "# science\n",
    "recommend_book()"
   ]
  },
  {
   "cell_type": "code",
   "execution_count": 79,
   "metadata": {},
   "outputs": [
    {
     "name": "stdout",
     "output_type": "stream",
     "text": [
      "Book History:\n",
      "[['笑い 感動 友情 ちょっと だけ シニカル 短時間 で 読め て ラスト に ドンデン 返し 累計 100 部 突破 の 大人気 シリーズ 本 シリーズ は どの 巻 から でも どの お話 から でも 読む こと が できる 1 話 完結 の 読みきり 型 どの 話 も 短い ので 朝 読 に も 最適 また どの お話 に も ラスト に 意外 結末 が ある ので 読書 好き でも そう 子ども に も 大 好評 ホラー ミステリー くす っと 笑える 話 ぞっと する 話 感動 する 話 ページ に し て 数 ページ 5 分 程度 の 時間 で 読め て 最後 に あっと 驚く ドンデン 返し 大人気 アンソロジー シリーズ の 第 4 弾 30 本 の 読み切り ショート ショート あっという間に 読める あっと 驚く ドンデン 返し 朝 読 に も 最適 スマート 皮肉 笑い 想 を 裏切る ラスト 何 巻 から でも 読める'\n",
      "  '卒業 式 の 少し 前 お 別れ 会 で 劇 を やる こと に なっ 6 年 2 組 なんとか 探し て き 台本 で スタート し けれど 役 の 気持ち が いまひとつ わから 実際 の 友だち の 気持ち だって なかなか わかり づらい もの そんな 6 年 2 組 の 自分 たち だけ の 劇 が 今 幕 を 開ける 著者 略歴 著者 紹介 情報 より 吉野 理子 神奈川 県 出身 2002 年 葬式 新聞 で 日本テレビ シナリオ 登 門 優秀 賞 受賞 脚本 家 として デビュー 2004 年 仔犬 の ワルツ 企画 野島 伸 司 執筆 2005 年 秋 の 大 角 で 第 回 新潮 エンターテインメント 新人 賞 を 受賞 宮尾 和孝 東京 都 生まれ 2003 年初 の 個展 を 開き 画家 として 活動 を 始める 本 データ は この 書籍 が 刊行 さ れ 当時 に 掲載 さ れ て い もの'\n",
      "  '猫 ネズミ フクロウ 今日 も どこ か で 彼ら が ドラマ を 繰り広げ て いる 人気 小説 川 の 光 の 仲間 たち を 役 に し の 読切短 編 その 夜 神聖 木 の し に 集まっ 大小 の 動物 たち が うっとり と 空 を 見 げ て い いよいよ 今晩 楽しみ ねえ 人気 小説 川 の 光 の 仲間 たち が 大 活躍 する 待望 の 短篇 集 驚き に 満ち の 物語'\n",
      "  '内気 少女 シンディ が ひっこし 街 に は 耳 の 聞こえ 少女 ミーガン が 住ん で い アメリカ の 日常 生活 を 背景 に ふたり の 少女 の 心情 を いきいき と 描き 著者 略歴 著者 紹介 情報 より マト リン マーリー 女優 作家 1965 年 アメリカ イリノイ 州 に 生まれる 1986 年 映画 愛 は 静けさ の に で アカデミー 演女優 賞 受賞 聾者 自身 の 体験 を 交え て 描い 耳 の 聞こえ 子 が わたり で 作家 として も デビュー 日当 陽子 翻訳 家 英会話 教師 東京 都 在住 矢島 眞澄 イラストレーター 東京 都 在住 広告 や コマーシャル 制作 児童 書 など 幅広い 分野 で 活躍 本 データ は この 書籍 が 刊行 さ れ 当時 に 掲載 さ れ て い もの']]\n",
      "\n",
      "\n",
      "1st similar book ID: 1902502\n",
      "1st similar book description: 話題 の ドラマ 原作 緊急 文庫 化 決定 腐り きっ この 国 に 復讐 し て 差し げ いつか 日本 を 買収 する と 豪語 する 天才 買収 者 鷲津 政彦 が 帰っ て き 標的 と なっ の は 誰 も が 知る 巨大 企業 いつか 日本 を 買収 する 1 年 の 海外 放浪 を 経 て 帰国 し 鷲津 政彦 が まず 標的 に 定め の は 繊維 業界 の 老舗 鈴 紡 方 鈴 紡 は 元 銀行 員 の 芝野 健夫 を 招聘 し 買収 防衛 を 図る その 裏 に かつて の 芝野 の 司 で 銀行 頭取 飯島 の 思惑 が あっ 激烈 買収 戦 で 最後 に 笑う の は\n",
      "\n",
      "\n",
      "2nd similar book ID: 1902501\n",
      "2nd similar book description: 話題 の ドラマ 原作 緊急 文庫 化 決定 鷲津 が 狙い を 定め 企業 は 瀕死 の 総合 電機 メーカー 曙 電気 そこ に 最強 の 軍 産業 ファンド が 立ちふさがる 起死回生 の 手 は ある の か 怒涛 の クライマックス 鈴 紡 の 次に 鷲津 が 狙い を つけ の は 巨大 電機 メーカー 曙 電機 曙 は 買収 阻止 と 再建 の 切り札 として 芝野 を 頼る 再び 相対 する 人 攻める 鷲津 守る 芝野 さらに アメリカ の 有力 ファンド も 買収 に 参入 し 態 は 混沌 と し て いく 企業 買収 を 舞台 に 壮大 スケール で 描い 話題 作\n",
      "\n",
      "\n",
      "3rd similar book ID: 1200179\n",
      "3rd similar book description: 信玄 配 ながら 長尾 景虎 とも 誼 を 通じ 幸綱 徳川 軍 の 力 で まんまと 田 城 を 得 昌幸 献策 が 退け られ 信繁 の 悲劇 人 の 実像 に 迫る 武田 信玄 に 仕える 方 で 長尾 景虎 とも 誼 を 通じよ と し 真田 幸綱 徳川 氏 の 力 を 借り て まんまと 田 城 を 手 に 入れ 昌幸 滅亡 し つつ ある 組織 特有 の 固陋 さ によって 献策 が 受け入れ られ 悲劇 的 死 を 遂げ 信繁 智謀 と 勇猛 さ で 戦国 時代 を 生き抜い 真田 代 の 本来 の 姿 を 日本 有数 の 戦国 史 研究 家 が 寧 に 描く 近年 の 戦国 織 豊 期 研究 の めざましい 進展 や 新 史料 の 相次ぐ 発見 を 踏まえ 新た 決定 版 虚飾 を 退ける こと で 逆 に 新鮮 驚き と 感動 を 呼び起こす\n",
      "\n",
      "\n",
      "word2vec result: [('1902502', 0.9602165222167969), ('1902501', 0.6211637854576111), ('1200179', 0.5618782043457031)]\n"
     ]
    }
   ],
   "source": [
    "recommend_book()"
   ]
  },
  {
   "cell_type": "markdown",
   "metadata": {},
   "source": [
    "## Manually enter book descriptions"
   ]
  },
  {
   "cell_type": "code",
   "execution_count": 80,
   "metadata": {},
   "outputs": [],
   "source": [
    "def preprocess_text(text):\n",
    "    MAX_SEQUENCE_LENGTH = 500\n",
    "\n",
    "    x = tokenizer.texts_to_sequences(text)\n",
    "    x = pad_sequences(x, maxlen=MAX_SEQUENCE_LENGTH)\n",
    "    \n",
    "    return x"
   ]
  },
  {
   "cell_type": "code",
   "execution_count": 106,
   "metadata": {},
   "outputs": [
    {
     "name": "stdout",
     "output_type": "stream",
     "text": [
      "1st similar book ID: 3901531\n",
      "1st similar book description: つばさ くん と なす の ちゃん は 家族 で 秋田 の おじいちゃん と お ばあちゃん の 家 に 遊び に 行く こと に なり つばさ くん にとって は 初めて の 新幹線 東京 駅 を 発着 し て いる 新幹線 は 日 に 大変 数 に この 本 で は 東北 秋田 新幹線 はや て こまち 17 号 に スポット を 当て 到着 から 発車 まで を つばさ くん の 視点 から 追っ て み 新幹線 が ホーム に 入線 し どう 出発 し て いく の か 陰 で 支える 多く の 人 も 含め て いろんな 角度 から 描き この 本 は はじめて の 新幹線 に 喜ぶ 子ども の 人 公 を通して 新幹線 の 出発 時 に 関わる 人 を 追って み 本 を 作る にあたり 東日本 の 協力 を 得 新幹線 の 車 基地 見学 走行 の 運転 席 へ の 同 また 鉄道 整備 会社 から は 普段 般 の 人 が 見る こと の ない ホーム の 清掃 基地 と も いえる 場所 を 案内 し て もらう など 時間 を かけ て 取材 し て いき 新幹線 は 日本 の 大動脈 そこ に は 最新 技術 が 常に 反映 さ れ 次 と 新しい 車 が 投入 さ れる 場 と なっ て い その なか で はや て こまち 17 号 という 本 の 制作 時 において もっとも 新しい 車 東日本 における を とりあげ この よう 技術 の 粋 を 集め 新幹線 が 列車 の 発着 運行 に は 多く の 人手 と 工夫 が 必要 と さ れ なかでも 驚かさ れる の が 新幹線 の 車内 掃除 の 方 の 働き 折り返し 発車 する 新幹線 の 清掃 に え られる 時間 は わずか 7 分 その間 に ぞう きん や モップ もちろん 人力 を 駆使 し て 16 も の 新幹線 の 車内 を 手際 よく きれい に し て いく 技 これ は 経験 と 勘 だけ が もの を いう 界 列車 が 走り だす 際 清掃 スタッフ や 駅員 が お辞儀 し て 見送る 姿 は 感慨深い もの 最新 車 が やがて はや ぶさ に 取っ て 代わら れ て も この 風景 が 新幹線 を 支え て いく の\n",
      "\n",
      "\n",
      "2nd similar book ID: 3901403\n",
      "2nd similar book description: やかましい こと の 大好き ギャオギャオ 王子 の 誕生 日 は もうすぐ 界 で 番 やかましい 音 が 聞き という 王子 の 希望 に こたえ 王様 は 全 界 の 人 へ 伝令 を とばし それ は 何 月 何 日 何 時 何 分 に 誕生 日 おめでとう と 叫ぼ という もの が とんでも どんでん返し が さわやか 結末 を 運ん で くる 子ども に も 大人 に も 楽しめる お話 やかましい こと の 大好き 王子 の 誕生 日 は もうすぐ 界 で 番 やかましい 音 を 聞き という 王子 の 希望 に こたえ 王様 は 全 界 の 人 に ある 伝令 を とばし が お はなし の ろうそく 10 に 収め られ て い もの を 冊 に\n",
      "\n",
      "\n",
      "3rd similar book ID: 3901266\n",
      "3rd similar book description: 商品 説明 せか い ゅうでいちばんよわむし の 男の子 ラチ 犬 が こわい し 暗い 部屋 が こわい 友だち さえ も こわい そんな 彼 の もと に ある 日 小さく て 赤い らい おん が 現れ らい おん に 鍛え られ て どんどん 強く なっ て いく ラチ ひとり で も 強く い られる よう に なっ 時 別れ が 訪れる 夢 を かなえる ため に は 強く なら ば なら こと 強く なれ ば やさしく なれる こと そして 別れ を 越え て また 強く なる こと 大切 こと を 教え 終え 置手紙 だけ を 残し て 去る らい おん が いつ まで も 心 に 残る なめらか に 動く 小さな 体 や きみ よく み て い ま え といった 大人び 口調 も なんとも 魅力 的 勢い の ある い 線 に シャーベット カラー の 黄色 緑 オレンジ の 3 色 だけ で 色づけ さ れ て いる 絵 たっぷり の 余白 が 広がり と 静けさ を 感じ させる 構図 この 洗練 さ れ デザイン が 大人 の ファン も 増やし 続け て いる 1965 年 発売 の ロングセラー 門倉 紫 麻 ラチ は 界 で いちばん 弱虫 犬 を みる と 逃げ出し し 暗い 部屋 に は 入る こと が でき そんな ラチ の ところ に 小さな 強い ライオン が やってき ラチ は ライオン が そば に い て くれる こと で 少し ずつ 強く なっ て いき ある 日 友だち の ボール を とっ のっぽ の 男の子 を ラチ は 夢 で おいかけ ボール を 取り返し ふとき が つく と ライオン の 姿 は あり あわて ラチ が 家 に もどる と ライオン から の 素敵 手紙 が 残さ れ て い\n",
      "\n",
      "\n",
      "word2vec result: [('3901531', 0.6195964813232422), ('3901403', 0.6148608326911926), ('3901266', 0.6117997169494629)]\n"
     ]
    }
   ],
   "source": [
    "# kindergarten\n",
    "\n",
    "# おしりたんてい\n",
    "book1 = 'フーム におい ね 見た目 も 推理 も エクセレント 涼しい 顔 し て 真実 に 迫る あたらしい 名 探偵 の 登場 こんど の 依頼 は おかしな おかし の 件 さっそく 現場 に かけつける おしり たん てい の 前 に かさなりあう 謎 の 数 いったい 犯人 は だれ おしり たん てい と いっしょ に お話 を 読み 進め ながら めい ろ や 絵探し を し て 真実 に せまる 謎 解き 絵本 フーム におい ね が くち ぐせ レディー に やさしく スイートポテト が だい すき め いたん て い とうじ ょう'\n",
    "# ポケモンをさがせ\n",
    "book2 = 'ピカチュウ は どこ プリン も いる よ トキワ の 森 や マサラタウン など いろんな 場面 に 151 匹 が 大 集合 親子 で 楽しむ さ が しっ こ 絵本 親子 で 楽しむ ポケモン の さ が しっ こ 絵本'\n",
    "# うみの１００かいだてのいえ\n",
    "book3 = 'ここ は うみ に うかぶ 船 の うえ テン ちゃん という 名前 の にん ぎょ う を かかえ 女の子 が カモメ に えさ を あげよ と し て い その とき ジャプーン カモメ の はね が ぶつかっ て テン ちゃん が うみ に おち て しまい さあ テン ちゃん は 女の子 の もと へ 帰れる の か 縦 に 開い て 大 迫力 の 100 かい て の いえ シリーズ 第 3 弾 ふ ね の うえ から うみ に おち て しまっ に ん ぎょ う の テン ちゃん ぼうし や かばん ふく かみ のけ まで みんな どこ か に いっ て しまい テン ちゃん は ふし ぎなおわのなかにすいこまれていきました 3 歳 から'\n",
    "# アランの歯はでっかいぞこわーい\n",
    "book4 = 'アラン は こ わーい ワニ の 族 ジャングル の みんな は アラン を こわがる けど それ は アラン の どり ょくのたまもの うろこ を みがき つめ を とがら せ 歯 を いっ ぽん に つき さ い て い 10 分 かけ て みがい て ジャングル に でかけ でも ね アラン の 歯 は 著者 略歴 著者 紹介 情報 より ジャーヴィスイラストレーター アニメーター アニメーション ディレクター レコード ジャケット の デザイナー など ビジュアル の 分野 で 多彩 才能 を 発揮 する クリエーター 青山 南 翻訳 家 エッセイスト アメリカ の 現代 小説 の 翻訳 と 紹介 を おこなう いっぽう 絵本 の 翻訳 を 幅広く 手がけ て いる 本 データ は この 書籍 が 刊行 さ れ 当時 に 掲載 さ れ て い もの'\n",
    "\n",
    "book1 = preprocess_text([book1])\n",
    "book2 = preprocess_text([book2])\n",
    "book3 = preprocess_text([book3])\n",
    "book4 = preprocess_text([book4])\n",
    "\n",
    "recommend_book([book1, book2, book3, book4])"
   ]
  },
  {
   "cell_type": "code",
   "execution_count": 107,
   "metadata": {},
   "outputs": [
    {
     "name": "stdout",
     "output_type": "stream",
     "text": [
      "1st similar book ID: 1200194\n",
      "1st similar book description: 歴史 学習 の 最先端 は 東大 流 まったく 新しい 学習 まんが の 進化 形 第 14 巻 東大 の 入試 問題 や 近年 の 歴史 教育 の 現場 で 今 最も 重視 さ れ て いる の は 歴史 の 大きな 流れ を つかむ こと 歴史 の 流れ が おもしろい ほど よく 分かる 最強 学習 まんが が 誕生 第 14 巻 は 大正 昭和 時代 初期 明治天皇 が 崩御 する と 大正 デモクラシー と よば れる 自由 風潮 の の と なり 帝国 議会 で は 政党 内閣 が 組織 さ れ 普通 選挙 も 行わ れる よう に なり しかし 昭和 の 時代 に 入る と 軍部 が 力 を 増し 謀略 によって 満州 変 を 起こし 満州 国 を 建国 し 続い て 日 戦 を 起こし 日本 に対し 国 に 権益 を もつ ヨーロッパ 列強 は 警戒 を 強め 日本 は 界 から 孤立 し て いく こと に なり\n",
      "\n",
      "\n",
      "2nd similar book ID: 1200201\n",
      "2nd similar book description: 歴史 学習 の 最先端 は 東大 流 まったく 新しい 学習 まんが の 進化 形 第 10 巻 東大 の 入試 問題 や 近年 の 歴史 教育 の 現場 で 今 最も 重視 さ れ て いる の は 歴史 の 大きな 流れ を つかむ こと 歴史 の 流れ が おもしろい ほど よく 分かる 最強 学習 まんが 誕生 第 10 巻 は 江戸 時代 期 江戸 幕府 の もと で 平和 時代 が 続き 商業 が 発達 し 人びと の 暮らし も 豊か に なっ て いき 特に 将軍 の お ひざ もと 江戸 は 18 紀 初め に は 100 人 が 住む 界 で も 有数 の 大都市 と なり 方 で 幕府 は 財政難 に なやむ よう に なり 第 8 代 将軍 吉宗 は 享 保 の 改革 を 行い 18 紀 後半 から は オランダ 語 で 西洋 の 学問 を 学ぶ 蘭学 も 盛ん に なり が 北方 から は ロシア が 日本 に 貿易 を 求め て やってき\n",
      "\n",
      "\n",
      "3rd similar book ID: 1200193\n",
      "3rd similar book description: 歴史 学習 の 最先端 は 東大 流 まったく 新しい 学習 まんが の 進化 形 第 4 巻 東大 の 入試 問題 や 近年 の 歴史 教育 の 現場 で 今 最も 重視 さ れ て いる の は 歴史 の 大きな 流れ を つかむ こと 歴史 の 流れ が おもしろい ほど よく 分かる 最強 学習 まんが が 誕生 第 4 巻 は 平安 時代 後期 平安 時代 後期 は 摂政 関白 に 代わっ て 皇 院 が 権力 を もつ 院政 の 時代 に 入り 皇 は 自由 立場 で 政治 を 行い 知行 国 や 荘園 を 集め 諸国 で は 武士 団 が 興り 天皇 の 末裔 の 源氏 と 平 氏 が 武士 の 棟梁 として 力 を つけ て き 源 氏 や 平 氏 は 央 に 進出 する よう に なり やがて 保 元 平治 の を 経 て 平 氏 が 権力 を にぎり 本 巻 で は 院政 の 時代 から 平 氏 全盛 の 時代 まで を 見 て いき\n",
      "\n",
      "\n",
      "word2vec result: [('1200194', 0.6644777059555054), ('1200201', 0.6513601541519165), ('1200193', 0.6487158536911011)]\n"
     ]
    }
   ],
   "source": [
    "# Japanese history\n",
    "\n",
    "# 長宗我部元親\n",
    "book1 = '信長 秀吉 ら と 角 に 戦い 四国 という 利 条件 の で 天 とり レース へ の 夢 を 燃やし 続け 長宗我部 元親 武力 と 知的 教養 を 兼ね備え 領国 経営 に も 画期的 手腕 を 発揮 し 武将 の 全貌'\n",
    "# 日本の歴史　９\n",
    "book2 = '歴史 学習 の 最先端 は 東大 流 まったく 新しい 学習 まんが の 進化 形 第 9 巻 東大 の 入試 問題 や 近年 の 歴史 教育 の 現場 で 今 最も 重視 さ れ て いる の は 歴史 の 大きな 流れ を つかむ こと 歴史 の 流れ が おもしろい ほど よく 分かる 最強 学習 まんが が 誕生 第 9 巻 は 江戸 時代 前期 朝鮮 侵略 の さなか に 秀吉 が 没し の は 再び 騒然と なり 関ヶ原 の 合戦 で 石田 成 を 破っ 徳川 家康 は 江戸 に 幕府 を 開き 265 年間 にわたる 平和 時代 を 作りあげ 第 3 代 将軍 徳川 家光 は 参勤交代 を 制度 化 し ポルトガル 人 を 追放 し て 鎖国 を 行い しかし この 時代 に も 長崎 など から 海外 の 商品 や 文化 は 入っ て き て おり また 東 廻り 航路 や 西 廻り 航路 が 開か れ 全国 的 に 商品 が 流通 する よう に なり'\n",
    "# 花神　（上）\n",
    "book3 = '周防 の 村 医 から 転 し て 官軍 総 司令 官 と なり 維新 の 渦 で 非業 の 死 を とげ 日本 近代 兵制 の 創始 者 大村 益次郎 の 波瀾 の 生涯 を 描く 周防 の 村 医 から 転 し て 討幕 軍 の 総 司令 官 と なり 維新 の 渦 で 非業 の 死 を とげ わが国 近代 兵制 の 創始 者 大村 益次郎 の 波瀾 の 生涯 を 描く 長編 動 へ の 胎動 を はじめ 時 を よそ に 緒方 洪庵 の 適 塾 で 蘭学 の 修養 を 積ん で い 村田 蔵六 のち の 大村 益次郎 は 時代 の 求める まま に 蘭学 の 才能 を 買わ れ 宇和島 藩 から 幕府 そして 郷里 の 長州 藩 へ と とりたて られ 歴史 の 激流 に のめりこん で ゆく'\n",
    "# 日本の歴史　５\n",
    "book4 = '歴史 学習 の 最先端 は 東大 流 まったく 新しい 学習 まんが の 進化 形 第 5 巻 東大 の 入試 問題 や 近年 の 歴史 教育 の 現場 で 今 最も 重視 さ れ て いる の は 歴史 の 大きな 流れ を つかむ こと 歴史 の 流れ が おもしろい ほど よく 分かる 最強 学習 まんが が 誕生 第 5 巻 は 鎌倉 時代 全盛 を ほこっ 平清盛 も その 権力 は 長く は 続き 以仁王 の よびかけ によって 平 氏 に 反発 する 源氏 など の 諸国 の 武士 団 が 挙兵 し の 平 氏 を ほろぼし 源 頼朝 は 鎌倉 に 幕府 を 置き 日本 史 初めて の 武家 政権 を 創始 し 頼朝 の 死後 執権 の 北条 氏 が 権力 を にぎり 政治 を 行い 北条 時宗 は 元 寇 に も 諸国 の 武士 団 を 指揮 し て たえぬき 本 巻 で は 源平 合戦 から 元 寇 まで の 時代 を あつかい'\n",
    "\n",
    "book1 = preprocess_text([book1])\n",
    "book2 = preprocess_text([book2])\n",
    "book3 = preprocess_text([book3])\n",
    "book4 = preprocess_text([book4])\n",
    "\n",
    "recommend_book([book1, book2, book3, book4])"
   ]
  }
 ],
 "metadata": {
  "kernelspec": {
   "display_name": "Python 3",
   "language": "python",
   "name": "python3"
  },
  "language_info": {
   "codemirror_mode": {
    "name": "ipython",
    "version": 3
   },
   "file_extension": ".py",
   "mimetype": "text/x-python",
   "name": "python",
   "nbconvert_exporter": "python",
   "pygments_lexer": "ipython3",
   "version": "3.7.3"
  }
 },
 "nbformat": 4,
 "nbformat_minor": 4
}
