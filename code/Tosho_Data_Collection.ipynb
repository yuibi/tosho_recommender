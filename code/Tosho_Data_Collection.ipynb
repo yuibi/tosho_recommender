{
 "cells": [
  {
   "cell_type": "markdown",
   "metadata": {},
   "source": [
    "## Collect Book Data\n",
    "- Export database\n",
    "- Load raw data\n",
    "- Retrieve book descriptions\n",
    "- Clean text\n",
    "- Tokenize Japanese text\n",
    "- Save"
   ]
  },
  {
   "cell_type": "code",
   "execution_count": 1,
   "metadata": {},
   "outputs": [],
   "source": [
    "import pandas as pd\n",
    "from bs4 import BeautifulSoup\n",
    "import requests\n",
    "import re\n",
    "from janome.tokenizer import Tokenizer"
   ]
  },
  {
   "cell_type": "markdown",
   "metadata": {},
   "source": [
    "## Load database export (raw data)"
   ]
  },
  {
   "cell_type": "code",
   "execution_count": 88,
   "metadata": {},
   "outputs": [],
   "source": [
    "df = pd.read_csv('./data/tosho_raw.csv.bz2', sep='\\t', compression='bz2')"
   ]
  },
  {
   "cell_type": "code",
   "execution_count": 69,
   "metadata": {},
   "outputs": [
    {
     "data": {
      "text/html": [
       "<div>\n",
       "<style>\n",
       "    .dataframe thead tr:only-child th {\n",
       "        text-align: right;\n",
       "    }\n",
       "\n",
       "    .dataframe thead th {\n",
       "        text-align: left;\n",
       "    }\n",
       "\n",
       "    .dataframe tbody tr th {\n",
       "        vertical-align: top;\n",
       "    }\n",
       "</style>\n",
       "<table border=\"1\" class=\"dataframe\">\n",
       "  <thead>\n",
       "    <tr style=\"text-align: right;\">\n",
       "      <th></th>\n",
       "      <th>id</th>\n",
       "      <th>category</th>\n",
       "      <th>title</th>\n",
       "      <th>isbn_raw</th>\n",
       "    </tr>\n",
       "  </thead>\n",
       "  <tbody>\n",
       "    <tr>\n",
       "      <th>0</th>\n",
       "      <td>1000041</td>\n",
       "      <td>A</td>\n",
       "      <td>魚</td>\n",
       "      <td>9784092172043</td>\n",
       "    </tr>\n",
       "    <tr>\n",
       "      <th>1</th>\n",
       "      <td>1000042</td>\n",
       "      <td>A</td>\n",
       "      <td>両生類　はちゅう類</td>\n",
       "      <td>9784092172067</td>\n",
       "    </tr>\n",
       "    <tr>\n",
       "      <th>2</th>\n",
       "      <td>1000044</td>\n",
       "      <td>A</td>\n",
       "      <td>動物の図鑑</td>\n",
       "      <td>409217005X</td>\n",
       "    </tr>\n",
       "    <tr>\n",
       "      <th>3</th>\n",
       "      <td>1000045</td>\n",
       "      <td>A</td>\n",
       "      <td>航空</td>\n",
       "      <td>4092170122</td>\n",
       "    </tr>\n",
       "    <tr>\n",
       "      <th>4</th>\n",
       "      <td>1000046</td>\n",
       "      <td>A</td>\n",
       "      <td>船</td>\n",
       "      <td>4092170173</td>\n",
       "    </tr>\n",
       "    <tr>\n",
       "      <th>5</th>\n",
       "      <td>1000047</td>\n",
       "      <td>A</td>\n",
       "      <td>船</td>\n",
       "      <td>4092170173</td>\n",
       "    </tr>\n",
       "    <tr>\n",
       "      <th>6</th>\n",
       "      <td>1000048</td>\n",
       "      <td>A</td>\n",
       "      <td>世界　人と国とくらし</td>\n",
       "      <td>4092170203</td>\n",
       "    </tr>\n",
       "    <tr>\n",
       "      <th>7</th>\n",
       "      <td>1000049</td>\n",
       "      <td>A</td>\n",
       "      <td>水の生物</td>\n",
       "      <td>9784092172074</td>\n",
       "    </tr>\n",
       "    <tr>\n",
       "      <th>8</th>\n",
       "      <td>1000050</td>\n",
       "      <td>A</td>\n",
       "      <td>宇宙</td>\n",
       "      <td>9784092172098</td>\n",
       "    </tr>\n",
       "    <tr>\n",
       "      <th>9</th>\n",
       "      <td>1000051</td>\n",
       "      <td>A</td>\n",
       "      <td>海外帰国者のためのスクールガイド</td>\n",
       "      <td>9784808086237</td>\n",
       "    </tr>\n",
       "  </tbody>\n",
       "</table>\n",
       "</div>"
      ],
      "text/plain": [
       "        id category             title       isbn_raw\n",
       "0  1000041        A                 魚  9784092172043\n",
       "1  1000042        A         両生類　はちゅう類  9784092172067\n",
       "2  1000044        A             動物の図鑑     409217005X\n",
       "3  1000045        A                航空     4092170122\n",
       "4  1000046        A                 船     4092170173\n",
       "5  1000047        A                 船     4092170173\n",
       "6  1000048        A        世界　人と国とくらし     4092170203\n",
       "7  1000049        A              水の生物  9784092172074\n",
       "8  1000050        A                宇宙  9784092172098\n",
       "9  1000051        A  海外帰国者のためのスクールガイド  9784808086237"
      ]
     },
     "execution_count": 69,
     "metadata": {},
     "output_type": "execute_result"
    }
   ],
   "source": [
    "df.head(10)"
   ]
  },
  {
   "cell_type": "markdown",
   "metadata": {},
   "source": [
    "## Convert ISBN to the right format"
   ]
  },
  {
   "cell_type": "code",
   "execution_count": 62,
   "metadata": {},
   "outputs": [],
   "source": [
    "def modulus11weight10to2(c9):\n",
    "    sum_ = 0\n",
    "    for i in range(len(c9)):\n",
    "        try:\n",
    "            c = int(c9[i])\n",
    "        except ValueError:\n",
    "            return False\n",
    "        sum_ += (10 - i) * c\n",
    "\n",
    "    result = 11 - (sum_ % 11)\n",
    "    \n",
    "    if result == 11:\n",
    "        return '0'\n",
    "    elif result == 10:\n",
    "        return 'X'\n",
    "    else:\n",
    "        return str(result)\n",
    "    \n",
    "def encode13to10(isbn13):\n",
    "    prefix = isbn13[3:-1]\n",
    "    check_digit = modulus11weight10to2(prefix)\n",
    "    isbn10 = prefix + check_digit\n",
    "    return isbn10\n",
    "\n",
    "def convert_isbn(isbn):\n",
    "    if len(isbn) == 13:\n",
    "        return encode13to10(isbn)\n",
    "    else:\n",
    "        return isbn"
   ]
  },
  {
   "cell_type": "code",
   "execution_count": 151,
   "metadata": {},
   "outputs": [],
   "source": [
    "df['isbn_processed'] = df['isbn_raw'].apply(lambda x: convert_isbn(x))"
   ]
  },
  {
   "cell_type": "code",
   "execution_count": 152,
   "metadata": {},
   "outputs": [
    {
     "data": {
      "text/html": [
       "<div>\n",
       "<style>\n",
       "    .dataframe thead tr:only-child th {\n",
       "        text-align: right;\n",
       "    }\n",
       "\n",
       "    .dataframe thead th {\n",
       "        text-align: left;\n",
       "    }\n",
       "\n",
       "    .dataframe tbody tr th {\n",
       "        vertical-align: top;\n",
       "    }\n",
       "</style>\n",
       "<table border=\"1\" class=\"dataframe\">\n",
       "  <thead>\n",
       "    <tr style=\"text-align: right;\">\n",
       "      <th></th>\n",
       "      <th>id</th>\n",
       "      <th>category</th>\n",
       "      <th>title</th>\n",
       "      <th>isbn_raw</th>\n",
       "      <th>isbn_processed</th>\n",
       "    </tr>\n",
       "  </thead>\n",
       "  <tbody>\n",
       "    <tr>\n",
       "      <th>0</th>\n",
       "      <td>1000041</td>\n",
       "      <td>A</td>\n",
       "      <td>魚</td>\n",
       "      <td>9784092172043</td>\n",
       "      <td>4092172044</td>\n",
       "    </tr>\n",
       "    <tr>\n",
       "      <th>1</th>\n",
       "      <td>1000042</td>\n",
       "      <td>A</td>\n",
       "      <td>両生類　はちゅう類</td>\n",
       "      <td>9784092172067</td>\n",
       "      <td>4092172060</td>\n",
       "    </tr>\n",
       "    <tr>\n",
       "      <th>2</th>\n",
       "      <td>1000044</td>\n",
       "      <td>A</td>\n",
       "      <td>動物の図鑑</td>\n",
       "      <td>409217005X</td>\n",
       "      <td>409217005X</td>\n",
       "    </tr>\n",
       "    <tr>\n",
       "      <th>3</th>\n",
       "      <td>1000045</td>\n",
       "      <td>A</td>\n",
       "      <td>航空</td>\n",
       "      <td>4092170122</td>\n",
       "      <td>4092170122</td>\n",
       "    </tr>\n",
       "    <tr>\n",
       "      <th>4</th>\n",
       "      <td>1000046</td>\n",
       "      <td>A</td>\n",
       "      <td>船</td>\n",
       "      <td>4092170173</td>\n",
       "      <td>4092170173</td>\n",
       "    </tr>\n",
       "    <tr>\n",
       "      <th>5</th>\n",
       "      <td>1000047</td>\n",
       "      <td>A</td>\n",
       "      <td>船</td>\n",
       "      <td>4092170173</td>\n",
       "      <td>4092170173</td>\n",
       "    </tr>\n",
       "    <tr>\n",
       "      <th>6</th>\n",
       "      <td>1000048</td>\n",
       "      <td>A</td>\n",
       "      <td>世界　人と国とくらし</td>\n",
       "      <td>4092170203</td>\n",
       "      <td>4092170203</td>\n",
       "    </tr>\n",
       "    <tr>\n",
       "      <th>7</th>\n",
       "      <td>1000049</td>\n",
       "      <td>A</td>\n",
       "      <td>水の生物</td>\n",
       "      <td>9784092172074</td>\n",
       "      <td>4092172079</td>\n",
       "    </tr>\n",
       "    <tr>\n",
       "      <th>8</th>\n",
       "      <td>1000050</td>\n",
       "      <td>A</td>\n",
       "      <td>宇宙</td>\n",
       "      <td>9784092172098</td>\n",
       "      <td>4092172095</td>\n",
       "    </tr>\n",
       "    <tr>\n",
       "      <th>9</th>\n",
       "      <td>1000051</td>\n",
       "      <td>A</td>\n",
       "      <td>海外帰国者のためのスクールガイド</td>\n",
       "      <td>9784808086237</td>\n",
       "      <td>4808086239</td>\n",
       "    </tr>\n",
       "  </tbody>\n",
       "</table>\n",
       "</div>"
      ],
      "text/plain": [
       "        id category             title       isbn_raw isbn_processed\n",
       "0  1000041        A                 魚  9784092172043     4092172044\n",
       "1  1000042        A         両生類　はちゅう類  9784092172067     4092172060\n",
       "2  1000044        A             動物の図鑑     409217005X     409217005X\n",
       "3  1000045        A                航空     4092170122     4092170122\n",
       "4  1000046        A                 船     4092170173     4092170173\n",
       "5  1000047        A                 船     4092170173     4092170173\n",
       "6  1000048        A        世界　人と国とくらし     4092170203     4092170203\n",
       "7  1000049        A              水の生物  9784092172074     4092172079\n",
       "8  1000050        A                宇宙  9784092172098     4092172095\n",
       "9  1000051        A  海外帰国者のためのスクールガイド  9784808086237     4808086239"
      ]
     },
     "execution_count": 152,
     "metadata": {},
     "output_type": "execute_result"
    }
   ],
   "source": [
    "df.head(10)"
   ]
  },
  {
   "cell_type": "markdown",
   "metadata": {},
   "source": [
    "## Retrieve book descriptions"
   ]
  },
  {
   "cell_type": "code",
   "execution_count": 122,
   "metadata": {},
   "outputs": [],
   "source": [
    "def get_description(isbn, description):\n",
    "    # if there is already a description, skip\n",
    "    if description != '':\n",
    "        return description\n",
    "    \n",
    "    try:\n",
    "        #print('https://www.amazon.co.jp/dp/'+isbn)\n",
    "        r = requests.get('https://www.amazon.co.jp/dp/'+isbn, headers={\"User-Agent\":\"Defined\"})\n",
    "        soup = BeautifulSoup(r.text, 'lxml')\n",
    "        description = soup.find(id=\"productDescription\").get_text()\n",
    "        print('success')\n",
    "    except:\n",
    "        #print('fail')\n",
    "        return ''\n",
    "\n",
    "    return description"
   ]
  },
  {
   "cell_type": "code",
   "execution_count": 227,
   "metadata": {},
   "outputs": [
    {
     "name": "stdout",
     "output_type": "stream",
     "text": [
      "success\n",
      "success\n",
      "success\n",
      "success\n",
      "success\n",
      "success\n",
      "success\n",
      "success\n",
      "success\n",
      "success\n",
      "success\n",
      "success\n",
      "success\n",
      "success\n",
      "success\n",
      "success\n",
      "success\n",
      "success\n",
      "success\n",
      "success\n",
      "success\n",
      "success\n"
     ]
    }
   ],
   "source": [
    "df['description'] = df[['isbn_processed','description']].apply(lambda x: get_description(x[0], x[1]),axis=1)"
   ]
  },
  {
   "cell_type": "markdown",
   "metadata": {},
   "source": [
    "## Clean descriptions"
   ]
  },
  {
   "cell_type": "code",
   "execution_count": 178,
   "metadata": {},
   "outputs": [],
   "source": [
    "def clean_text(text):\n",
    "    text = re.sub(r'\\n', ' ', text)\n",
    "    text = re.sub(r'\\s{1,}', '', text)\n",
    "    \n",
    "    text = re.sub(r'内容紹介', '', text)\n",
    "    text = re.sub(r'出版社からのコメント', '', text)\n",
    "    text = re.sub(r'商品の説明をすべて表示する', '', text)\n",
    "    text = re.sub(r'内容（「MARC」データベースより）', '', text)\n",
    "    text = re.sub(r'内容（「BOOK」データベースより）', '', text)\n",
    "\n",
    "    non_japanese = re.compile(r\"[^0-9\\-ぁ-ヶ亜-黑ー]\")\n",
    "    text = re.sub(non_japanese, ' ', text)\n",
    "\n",
    "    return text.strip()"
   ]
  },
  {
   "cell_type": "code",
   "execution_count": 229,
   "metadata": {},
   "outputs": [],
   "source": [
    "df['description_clean'] = df['description'].apply(lambda x: clean_text(x))"
   ]
  },
  {
   "cell_type": "markdown",
   "metadata": {},
   "source": [
    "## Tokenize Japanese text"
   ]
  },
  {
   "cell_type": "code",
   "execution_count": 167,
   "metadata": {},
   "outputs": [],
   "source": [
    "j_tokenizer = Tokenizer()\n",
    "\n",
    "def wakati_reading(text):\n",
    "    tokens = j_tokenizer.tokenize(text.replace(\"'\", \"\").lower())\n",
    "    \n",
    "    exclude_pos = [u'助動詞']\n",
    "    \n",
    "    #分かち書き\n",
    "    tokens_w_space = \"\"\n",
    "    for token in tokens:\n",
    "        partOfSpeech = token.part_of_speech.split(',')[0]\n",
    "        \n",
    "        if partOfSpeech not in exclude_pos:\n",
    "            tokens_w_space = tokens_w_space + \" \" + token.surface\n",
    "\n",
    "    tokens_w_space = tokens_w_space.strip()\n",
    "    tokens_w_space = re.sub(r'\\s{2,}', ' ', tokens_w_space)\n",
    "    \n",
    "    return tokens_w_space"
   ]
  },
  {
   "cell_type": "code",
   "execution_count": 230,
   "metadata": {},
   "outputs": [],
   "source": [
    "df['description_token'] = df['description_clean'].apply(lambda x: wakati_reading(x))"
   ]
  },
  {
   "cell_type": "markdown",
   "metadata": {},
   "source": [
    "## Save"
   ]
  },
  {
   "cell_type": "code",
   "execution_count": 231,
   "metadata": {},
   "outputs": [],
   "source": [
    "df.drop_duplicates(inplace=True)\n",
    "df.to_csv('./data/tosho_processed_clean.csv.bz2', encoding='utf-8', sep='\\t', compression='bz2', index=False)"
   ]
  }
 ],
 "metadata": {
  "kernelspec": {
   "display_name": "Python 3",
   "language": "python",
   "name": "python3"
  },
  "language_info": {
   "codemirror_mode": {
    "name": "ipython",
    "version": 3
   },
   "file_extension": ".py",
   "mimetype": "text/x-python",
   "name": "python",
   "nbconvert_exporter": "python",
   "pygments_lexer": "ipython3",
   "version": "3.7.3"
  }
 },
 "nbformat": 4,
 "nbformat_minor": 4
}
