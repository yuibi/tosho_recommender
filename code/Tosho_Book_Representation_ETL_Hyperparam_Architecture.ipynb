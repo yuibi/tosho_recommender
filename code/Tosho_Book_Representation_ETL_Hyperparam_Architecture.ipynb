{
 "cells": [
  {
   "cell_type": "markdown",
   "metadata": {},
   "source": [
    "# Create Book-level Representation (ETL, Hyperparam, Architecture Search)"
   ]
  },
  {
   "cell_type": "code",
   "execution_count": 1,
   "metadata": {},
   "outputs": [],
   "source": [
    "%load_ext autoreload\n",
    "%autoreload 2"
   ]
  },
  {
   "cell_type": "code",
   "execution_count": 2,
   "metadata": {},
   "outputs": [],
   "source": [
    "import numpy as np\n",
    "import pandas as pd\n",
    "import itertools\n",
    "import random\n",
    "import fasttext as ft\n",
    "import pickle\n",
    "import optuna\n",
    "from sklearn.model_selection import train_test_split"
   ]
  },
  {
   "cell_type": "code",
   "execution_count": 3,
   "metadata": {},
   "outputs": [],
   "source": [
    "import tensorflow as tf\n",
    "from tensorflow.keras.preprocessing.text import Tokenizer\n",
    "from tensorflow.keras.preprocessing.sequence import pad_sequences\n",
    "from tensorflow.keras.optimizers import Adam\n",
    "from tensorflow.keras.models import Model\n",
    "from model import *"
   ]
  },
  {
   "cell_type": "code",
   "execution_count": 4,
   "metadata": {},
   "outputs": [],
   "source": [
    "np.random.seed(1)\n",
    "tf.random.set_seed(1)"
   ]
  },
  {
   "cell_type": "markdown",
   "metadata": {},
   "source": [
    "## Load Data"
   ]
  },
  {
   "cell_type": "markdown",
   "metadata": {},
   "source": [
    "### User History"
   ]
  },
  {
   "cell_type": "code",
   "execution_count": 5,
   "metadata": {},
   "outputs": [
    {
     "data": {
      "text/plain": [
       "(1400, 2)"
      ]
     },
     "execution_count": 5,
     "metadata": {},
     "output_type": "execute_result"
    }
   ],
   "source": [
    "his_pd = pd.read_csv('data/tosho_user_history.csv.bz2', sep='\\t', compression='bz2')\n",
    "his_pd.shape"
   ]
  },
  {
   "cell_type": "code",
   "execution_count": 6,
   "metadata": {},
   "outputs": [
    {
     "data": {
      "text/html": [
       "<div>\n",
       "<style scoped>\n",
       "    .dataframe tbody tr th:only-of-type {\n",
       "        vertical-align: middle;\n",
       "    }\n",
       "\n",
       "    .dataframe tbody tr th {\n",
       "        vertical-align: top;\n",
       "    }\n",
       "\n",
       "    .dataframe thead th {\n",
       "        text-align: right;\n",
       "    }\n",
       "</style>\n",
       "<table border=\"1\" class=\"dataframe\">\n",
       "  <thead>\n",
       "    <tr style=\"text-align: right;\">\n",
       "      <th></th>\n",
       "      <th>user_id</th>\n",
       "      <th>book_id</th>\n",
       "    </tr>\n",
       "  </thead>\n",
       "  <tbody>\n",
       "    <tr>\n",
       "      <th>0</th>\n",
       "      <td>1</td>\n",
       "      <td>3901637</td>\n",
       "    </tr>\n",
       "    <tr>\n",
       "      <th>1</th>\n",
       "      <td>1</td>\n",
       "      <td>3901633</td>\n",
       "    </tr>\n",
       "    <tr>\n",
       "      <th>2</th>\n",
       "      <td>1</td>\n",
       "      <td>3901632</td>\n",
       "    </tr>\n",
       "    <tr>\n",
       "      <th>3</th>\n",
       "      <td>1</td>\n",
       "      <td>3901630</td>\n",
       "    </tr>\n",
       "    <tr>\n",
       "      <th>4</th>\n",
       "      <td>1</td>\n",
       "      <td>3901627</td>\n",
       "    </tr>\n",
       "  </tbody>\n",
       "</table>\n",
       "</div>"
      ],
      "text/plain": [
       "   user_id  book_id\n",
       "0        1  3901637\n",
       "1        1  3901633\n",
       "2        1  3901632\n",
       "3        1  3901630\n",
       "4        1  3901627"
      ]
     },
     "execution_count": 6,
     "metadata": {},
     "output_type": "execute_result"
    }
   ],
   "source": [
    "his_pd.head()"
   ]
  },
  {
   "cell_type": "markdown",
   "metadata": {},
   "source": [
    "### Book Details"
   ]
  },
  {
   "cell_type": "code",
   "execution_count": 7,
   "metadata": {},
   "outputs": [
    {
     "data": {
      "text/plain": [
       "(938, 3)"
      ]
     },
     "execution_count": 7,
     "metadata": {},
     "output_type": "execute_result"
    }
   ],
   "source": [
    "text_pd = pd.read_csv('data/tosho_processed_clean.csv.bz2', sep='\\t', compression='bz2')\n",
    "text_pd.shape"
   ]
  },
  {
   "cell_type": "code",
   "execution_count": 8,
   "metadata": {},
   "outputs": [
    {
     "data": {
      "text/html": [
       "<div>\n",
       "<style scoped>\n",
       "    .dataframe tbody tr th:only-of-type {\n",
       "        vertical-align: middle;\n",
       "    }\n",
       "\n",
       "    .dataframe tbody tr th {\n",
       "        vertical-align: top;\n",
       "    }\n",
       "\n",
       "    .dataframe thead th {\n",
       "        text-align: right;\n",
       "    }\n",
       "</style>\n",
       "<table border=\"1\" class=\"dataframe\">\n",
       "  <thead>\n",
       "    <tr style=\"text-align: right;\">\n",
       "      <th></th>\n",
       "      <th>id</th>\n",
       "      <th>title</th>\n",
       "      <th>description_token</th>\n",
       "    </tr>\n",
       "  </thead>\n",
       "  <tbody>\n",
       "    <tr>\n",
       "      <th>0</th>\n",
       "      <td>3901637</td>\n",
       "      <td>土のコレクション</td>\n",
       "      <td>土 なんて どれ も 同じ じゃ の 茶色 や の 土 しか 見 こと ない よ だれ も ...</td>\n",
       "    </tr>\n",
       "    <tr>\n",
       "      <th>1</th>\n",
       "      <td>3901633</td>\n",
       "      <td>わたしの</td>\n",
       "      <td>幼い 子ども たち が これ は 誰 の 物 と 意識 する よう に なる の は 2 歳...</td>\n",
       "    </tr>\n",
       "    <tr>\n",
       "      <th>2</th>\n",
       "      <td>3901632</td>\n",
       "      <td>なーらんだ</td>\n",
       "      <td>- ち ゅんちゅんとりさん ぶ ー ぶ ー くるま バラバラ に 散らばっ て い もの が...</td>\n",
       "    </tr>\n",
       "    <tr>\n",
       "      <th>3</th>\n",
       "      <td>3901630</td>\n",
       "      <td>つるのおんがえし</td>\n",
       "      <td>昔 ある ところ に 心 の 優しい 若者 が い ある 日 若者 は 罠 に かかっ て ...</td>\n",
       "    </tr>\n",
       "    <tr>\n",
       "      <th>4</th>\n",
       "      <td>3901627</td>\n",
       "      <td>ブレーメンのおんがくたい</td>\n",
       "      <td>ある ところ に 年 とっ ロバ が い 年 を とっ て 重い 荷物 を 運べ なっ ので...</td>\n",
       "    </tr>\n",
       "  </tbody>\n",
       "</table>\n",
       "</div>"
      ],
      "text/plain": [
       "        id         title                                  description_token\n",
       "0  3901637      土のコレクション  土 なんて どれ も 同じ じゃ の 茶色 や の 土 しか 見 こと ない よ だれ も ...\n",
       "1  3901633          わたしの  幼い 子ども たち が これ は 誰 の 物 と 意識 する よう に なる の は 2 歳...\n",
       "2  3901632         なーらんだ  - ち ゅんちゅんとりさん ぶ ー ぶ ー くるま バラバラ に 散らばっ て い もの が...\n",
       "3  3901630      つるのおんがえし  昔 ある ところ に 心 の 優しい 若者 が い ある 日 若者 は 罠 に かかっ て ...\n",
       "4  3901627  ブレーメンのおんがくたい  ある ところ に 年 とっ ロバ が い 年 を とっ て 重い 荷物 を 運べ なっ ので..."
      ]
     },
     "execution_count": 8,
     "metadata": {},
     "output_type": "execute_result"
    }
   ],
   "source": [
    "text_pd.head()"
   ]
  },
  {
   "cell_type": "code",
   "execution_count": 9,
   "metadata": {},
   "outputs": [],
   "source": [
    "text_dict = dict(zip(text_pd.id, text_pd.description_token))"
   ]
  },
  {
   "cell_type": "markdown",
   "metadata": {},
   "source": [
    "## Data Augumentation"
   ]
  },
  {
   "cell_type": "code",
   "execution_count": 10,
   "metadata": {},
   "outputs": [],
   "source": [
    "all_text_list = []\n",
    "for user_id in his_pd['user_id'].unique():\n",
    "    book_list = his_pd[his_pd.user_id == user_id]['book_id'].tolist()\n",
    "    \n",
    "    user_text_list = []\n",
    "    for perm in itertools.permutations(book_list, 5):\n",
    "        text_list = []\n",
    "        for text_id in list(perm)[:4]:\n",
    "            text_list.append(text_dict[text_id])\n",
    "        text_list.append(list(perm)[-1])\n",
    "        \n",
    "        user_text_list.append(text_list)\n",
    "    all_text_list.append(user_text_list)"
   ]
  },
  {
   "cell_type": "markdown",
   "metadata": {},
   "source": [
    "## Convert user history into a series of text"
   ]
  },
  {
   "cell_type": "markdown",
   "metadata": {},
   "source": [
    "Reshape all text_list to:  \n",
    "`rows = num_user * ₅P₅`  \n",
    "`columns = 5 books`"
   ]
  },
  {
   "cell_type": "code",
   "execution_count": 12,
   "metadata": {},
   "outputs": [
    {
     "data": {
      "text/plain": [
       "(33600, 5)"
      ]
     },
     "execution_count": 12,
     "metadata": {},
     "output_type": "execute_result"
    }
   ],
   "source": [
    "text_hist_pd = pd.DataFrame(np.reshape(np.array(all_text_list), \\\n",
    "                                       (int(len(all_text_list)*len(all_text_list[0])), 5)), \\\n",
    "                            columns=['book1', 'book2', 'book3', 'book4', 'label'])\n",
    "text_hist_pd.shape"
   ]
  },
  {
   "cell_type": "code",
   "execution_count": 13,
   "metadata": {},
   "outputs": [
    {
     "data": {
      "text/html": [
       "<div>\n",
       "<style scoped>\n",
       "    .dataframe tbody tr th:only-of-type {\n",
       "        vertical-align: middle;\n",
       "    }\n",
       "\n",
       "    .dataframe tbody tr th {\n",
       "        vertical-align: top;\n",
       "    }\n",
       "\n",
       "    .dataframe thead th {\n",
       "        text-align: right;\n",
       "    }\n",
       "</style>\n",
       "<table border=\"1\" class=\"dataframe\">\n",
       "  <thead>\n",
       "    <tr style=\"text-align: right;\">\n",
       "      <th></th>\n",
       "      <th>book1</th>\n",
       "      <th>book2</th>\n",
       "      <th>book3</th>\n",
       "      <th>book4</th>\n",
       "      <th>label</th>\n",
       "    </tr>\n",
       "  </thead>\n",
       "  <tbody>\n",
       "    <tr>\n",
       "      <th>17402</th>\n",
       "      <td>深い 霧 の たちこめる 漆 の 海 姿 なき 幽霊 船長 ゴースト キャプテン が 舵 を...</td>\n",
       "      <td>アイスダンス ペア 樹里 と 恵 は 初 出場 し 界 選手権 大会 で 大 喝采 を 浴び...</td>\n",
       "      <td>そろそろ 考え ちゃ 悩め ブタ シッタカブッタ は 人生 の 見え 方 を ていねい に ...</td>\n",
       "      <td>なぞなぞ 大好き の 妖怪 たち が 読者 に おもしろい なぞなぞ で いどみ 人気 の ...</td>\n",
       "      <td>1700233</td>\n",
       "    </tr>\n",
       "    <tr>\n",
       "      <th>9348</th>\n",
       "      <td>宗教 と は 国 と は 人間 へ の 深い まなざし が 捉え 青春 小説 の 新 境地 ...</td>\n",
       "      <td>わたし じゃ よ わ ー ん わ ー ん 学校 から の 帰り道 大きな 声 て い 清香 ...</td>\n",
       "      <td>担任 に 納得 の いか 絵 を 描か さ れ ユク は 傷つく 憧れ の 少女 に 励まさ...</td>\n",
       "      <td>ひな まつり に 愛花 の 家 で は お ばあちゃん だけ が つくれる ごちそう 肉まん...</td>\n",
       "      <td>1902265</td>\n",
       "    </tr>\n",
       "    <tr>\n",
       "      <th>32139</th>\n",
       "      <td>夜 の 星空 を 見 げた とき に 学校 で 習っ 星座 が 星座 の 名前 の 通り に...</td>\n",
       "      <td>界 の カエル と 日本 の カエル 200 種類 を カラー 写真 で 紹介 分布 や す...</td>\n",
       "      <td>現在 もっとも 謎 の 多い チョウ モンシロチョウ 最新 の 撮影 技術 と 研究 成果 ...</td>\n",
       "      <td>ほ 類 は虫類 ペット 家 ちく アニマル ウォッチング 絶滅 危機 動物 とじこみ 付録 ...</td>\n",
       "      <td>1400121</td>\n",
       "    </tr>\n",
       "  </tbody>\n",
       "</table>\n",
       "</div>"
      ],
      "text/plain": [
       "                                                   book1  \\\n",
       "17402  深い 霧 の たちこめる 漆 の 海 姿 なき 幽霊 船長 ゴースト キャプテン が 舵 を...   \n",
       "9348   宗教 と は 国 と は 人間 へ の 深い まなざし が 捉え 青春 小説 の 新 境地 ...   \n",
       "32139  夜 の 星空 を 見 げた とき に 学校 で 習っ 星座 が 星座 の 名前 の 通り に...   \n",
       "\n",
       "                                                   book2  \\\n",
       "17402  アイスダンス ペア 樹里 と 恵 は 初 出場 し 界 選手権 大会 で 大 喝采 を 浴び...   \n",
       "9348   わたし じゃ よ わ ー ん わ ー ん 学校 から の 帰り道 大きな 声 て い 清香 ...   \n",
       "32139  界 の カエル と 日本 の カエル 200 種類 を カラー 写真 で 紹介 分布 や す...   \n",
       "\n",
       "                                                   book3  \\\n",
       "17402  そろそろ 考え ちゃ 悩め ブタ シッタカブッタ は 人生 の 見え 方 を ていねい に ...   \n",
       "9348   担任 に 納得 の いか 絵 を 描か さ れ ユク は 傷つく 憧れ の 少女 に 励まさ...   \n",
       "32139  現在 もっとも 謎 の 多い チョウ モンシロチョウ 最新 の 撮影 技術 と 研究 成果 ...   \n",
       "\n",
       "                                                   book4    label  \n",
       "17402  なぞなぞ 大好き の 妖怪 たち が 読者 に おもしろい なぞなぞ で いどみ 人気 の ...  1700233  \n",
       "9348   ひな まつり に 愛花 の 家 で は お ばあちゃん だけ が つくれる ごちそう 肉まん...  1902265  \n",
       "32139  ほ 類 は虫類 ペット 家 ちく アニマル ウォッチング 絶滅 危機 動物 とじこみ 付録 ...  1400121  "
      ]
     },
     "execution_count": 13,
     "metadata": {},
     "output_type": "execute_result"
    }
   ],
   "source": [
    "text_hist_pd.sample(3, random_state=1)"
   ]
  },
  {
   "cell_type": "markdown",
   "metadata": {},
   "source": [
    "## Save Data Set"
   ]
  },
  {
   "cell_type": "code",
   "execution_count": 15,
   "metadata": {},
   "outputs": [],
   "source": [
    "text_hist_pd.to_csv('data/text_hist_perm.csv.bz', sep='\\t', compression='bz2', index=False)"
   ]
  },
  {
   "cell_type": "markdown",
   "metadata": {},
   "source": [
    "## Sample 10% for Hyperparam Tuning"
   ]
  },
  {
   "cell_type": "code",
   "execution_count": 17,
   "metadata": {},
   "outputs": [
    {
     "data": {
      "text/plain": [
       "(3360, 5)"
      ]
     },
     "execution_count": 17,
     "metadata": {},
     "output_type": "execute_result"
    }
   ],
   "source": [
    "text_hist_sample_pd = text_hist_pd.sample(frac=.1, random_state=1)\n",
    "text_hist_sample_pd.shape"
   ]
  },
  {
   "cell_type": "markdown",
   "metadata": {},
   "source": [
    "## Split into Train and Val"
   ]
  },
  {
   "cell_type": "code",
   "execution_count": 18,
   "metadata": {},
   "outputs": [],
   "source": [
    "train_texts, val_texts, y_train, y_val = train_test_split(text_hist_sample_pd.drop(['label'], axis=1),\n",
    "                                                          text_hist_sample_pd[['label']].values,\n",
    "                                                          test_size = .2,\n",
    "                                                          random_state=1234)"
   ]
  },
  {
   "cell_type": "markdown",
   "metadata": {},
   "source": [
    "## Tokenize"
   ]
  },
  {
   "cell_type": "code",
   "execution_count": 19,
   "metadata": {},
   "outputs": [],
   "source": [
    "# Limit on the number of word features to the top 20K features.\n",
    "TOP_K = 20000\n",
    "\n",
    "# Most claims doc are within 10K word length\n",
    "MAX_SEQUENCE_LENGTH = 500\n",
    "\n",
    "def sequence_vectorize(train_texts, y_train, val_texts, y_val):\n",
    "    # Create vocabulary with training texts.\n",
    "    tokenizer = Tokenizer(num_words=TOP_K)\n",
    "    tokenizer.fit_on_texts(train_texts['book1'])\n",
    "\n",
    "    # Vectorize training and validation texts.\n",
    "    # Fix sequence length to max value. Sequences shorter than the length are\n",
    "    # padded in the beginning and sequences longer are truncated\n",
    "    # at the beginning.\n",
    "    x_trn_1 = pad_sequences(tokenizer.texts_to_sequences(train_texts['book1']), maxlen=MAX_SEQUENCE_LENGTH)\n",
    "    x_trn_2 = pad_sequences(tokenizer.texts_to_sequences(train_texts['book2']), maxlen=MAX_SEQUENCE_LENGTH)\n",
    "    x_trn_3 = pad_sequences(tokenizer.texts_to_sequences(train_texts['book3']), maxlen=MAX_SEQUENCE_LENGTH)\n",
    "    x_trn_4 = pad_sequences(tokenizer.texts_to_sequences(train_texts['book4']), maxlen=MAX_SEQUENCE_LENGTH)\n",
    "    x_val_1 = pad_sequences(tokenizer.texts_to_sequences(val_texts['book1']), maxlen=MAX_SEQUENCE_LENGTH)\n",
    "    x_val_2 = pad_sequences(tokenizer.texts_to_sequences(val_texts['book2']), maxlen=MAX_SEQUENCE_LENGTH)\n",
    "    x_val_3 = pad_sequences(tokenizer.texts_to_sequences(val_texts['book3']), maxlen=MAX_SEQUENCE_LENGTH)\n",
    "    x_val_4 = pad_sequences(tokenizer.texts_to_sequences(val_texts['book4']), maxlen=MAX_SEQUENCE_LENGTH)\n",
    "    \n",
    "    return x_trn_1, x_trn_2, x_trn_3, x_trn_4, x_val_1, x_val_2, x_val_3, x_val_4, tokenizer.word_index, tokenizer"
   ]
  },
  {
   "cell_type": "code",
   "execution_count": 20,
   "metadata": {},
   "outputs": [],
   "source": [
    "x_trn_1, x_trn_2, x_trn_3, x_trn_4, x_val_1, x_val_2, x_val_3, x_val_4, word_index, tokenizer = sequence_vectorize(train_texts, y_train, val_texts, y_val)"
   ]
  },
  {
   "cell_type": "code",
   "execution_count": 21,
   "metadata": {},
   "outputs": [
    {
     "data": {
      "text/plain": [
       "12754"
      ]
     },
     "execution_count": 21,
     "metadata": {},
     "output_type": "execute_result"
    }
   ],
   "source": [
    "# number of vocabulary in the corpus\n",
    "len(word_index)"
   ]
  },
  {
   "cell_type": "markdown",
   "metadata": {},
   "source": [
    "### Load FastText (Japanese)"
   ]
  },
  {
   "cell_type": "code",
   "execution_count": 22,
   "metadata": {},
   "outputs": [
    {
     "name": "stderr",
     "output_type": "stream",
     "text": [
      "\n"
     ]
    }
   ],
   "source": [
    "ja_vecs = ft.load_model('model/cc.ja.300.bin')"
   ]
  },
  {
   "cell_type": "code",
   "execution_count": 23,
   "metadata": {},
   "outputs": [
    {
     "data": {
      "text/plain": [
       "(300,)"
      ]
     },
     "execution_count": 23,
     "metadata": {},
     "output_type": "execute_result"
    }
   ],
   "source": [
    "ja_vecs.get_word_vector('あ').shape"
   ]
  },
  {
   "cell_type": "code",
   "execution_count": 24,
   "metadata": {},
   "outputs": [],
   "source": [
    "EMBEDDING_DIM = 300"
   ]
  },
  {
   "cell_type": "markdown",
   "metadata": {},
   "source": [
    "## Use mean of FastText vectors as label"
   ]
  },
  {
   "cell_type": "code",
   "execution_count": 25,
   "metadata": {},
   "outputs": [],
   "source": [
    "all_vocab_list = ja_vecs.get_words(on_unicode_error='replace')\n",
    "\n",
    "def mean_embedding_vectorizer_transform(y, vecs=ja_vecs):\n",
    "    return np.array([\n",
    "        np.mean([vecs.get_word_vector(w) for w in words if w in all_vocab_list]\n",
    "                or [np.zeros(EMBEDDING_DIM)], axis=0)\n",
    "        for words in y\n",
    "    ])"
   ]
  },
  {
   "cell_type": "code",
   "execution_count": 21,
   "metadata": {},
   "outputs": [],
   "source": [
    "label_dict = {}\n",
    "for book_id in text_pd.id.unique().tolist():\n",
    "    label_dict[book_id] = text_dict[book_id]\n",
    "    \n",
    "unique_text = np.array([i for i in label_dict.values()])\n",
    "unique_text_mean = mean_embedding_vectorizer_transform(unique_text, ja_vecs)"
   ]
  },
  {
   "cell_type": "code",
   "execution_count": null,
   "metadata": {},
   "outputs": [],
   "source": [
    "label_vec_dict = dict(zip(text_pd.id.unique().tolist(), unique_text_mean))"
   ]
  },
  {
   "cell_type": "code",
   "execution_count": 42,
   "metadata": {},
   "outputs": [],
   "source": [
    "np.save('data/label_vec_dict.npy', label_vec_dict)"
   ]
  },
  {
   "cell_type": "code",
   "execution_count": 27,
   "metadata": {},
   "outputs": [],
   "source": [
    "label_vec_dict = np.load('data/label_vec_dict.npy', allow_pickle=True).tolist()"
   ]
  },
  {
   "cell_type": "code",
   "execution_count": 40,
   "metadata": {},
   "outputs": [],
   "source": [
    "y_train_mean = []\n",
    "for book_id in y_train:\n",
    "    y_train_mean.append(label_vec_dict[int(book_id[0])])\n",
    "\n",
    "y_train_mean = np.array(y_train_mean)"
   ]
  },
  {
   "cell_type": "code",
   "execution_count": 41,
   "metadata": {},
   "outputs": [],
   "source": [
    "np.save('data/y_train_mean_sample.npy', y_train_mean)"
   ]
  },
  {
   "cell_type": "code",
   "execution_count": 20,
   "metadata": {},
   "outputs": [],
   "source": [
    "y_train_mean = np.load('data/y_train_mean_sample.npy')"
   ]
  },
  {
   "cell_type": "code",
   "execution_count": 42,
   "metadata": {},
   "outputs": [],
   "source": [
    "y_val_mean = []\n",
    "for book_id in y_val:\n",
    "    y_val_mean.append(label_vec_dict[int(book_id[0])])\n",
    "\n",
    "y_val_mean = np.array(y_val_mean)"
   ]
  },
  {
   "cell_type": "code",
   "execution_count": 43,
   "metadata": {},
   "outputs": [],
   "source": [
    "np.save('data/y_val_mean_sample.npy', y_val_mean)"
   ]
  },
  {
   "cell_type": "code",
   "execution_count": 21,
   "metadata": {},
   "outputs": [],
   "source": [
    "y_val_mean = np.load('data/y_val_mean_sample.npy')"
   ]
  },
  {
   "cell_type": "code",
   "execution_count": 44,
   "metadata": {},
   "outputs": [
    {
     "data": {
      "text/plain": [
       "((2688, 1), (2688, 300), (672, 1), (672, 300))"
      ]
     },
     "execution_count": 44,
     "metadata": {},
     "output_type": "execute_result"
    }
   ],
   "source": [
    "y_train.shape, y_train_mean.shape, y_val.shape, y_val_mean.shape"
   ]
  },
  {
   "cell_type": "markdown",
   "metadata": {},
   "source": [
    "## Model"
   ]
  },
  {
   "cell_type": "markdown",
   "metadata": {},
   "source": [
    "### Embedding layer"
   ]
  },
  {
   "cell_type": "code",
   "execution_count": 45,
   "metadata": {},
   "outputs": [],
   "source": [
    "embedding_matrix = np.zeros((TOP_K+1, EMBEDDING_DIM))\n",
    "for word, i in word_index.items():\n",
    "    if i < TOP_K:\n",
    "        try:\n",
    "            embedding_vector = ja_vecs.get_word_vector(word)\n",
    "        except:\n",
    "            embedding_vector = np.zeros(EMBEDDING_DIM)\n",
    "        if embedding_vector is not None:\n",
    "            # words not found in embedding index will be all-zeros.\n",
    "            embedding_matrix[i] = embedding_vector"
   ]
  },
  {
   "cell_type": "code",
   "execution_count": 46,
   "metadata": {},
   "outputs": [],
   "source": [
    "max_sequence = x_trn_1.shape[1] if MAX_SEQUENCE_LENGTH > x_trn_1.shape[1] else MAX_SEQUENCE_LENGTH"
   ]
  },
  {
   "cell_type": "markdown",
   "metadata": {},
   "source": [
    "### Optuna for Hyperparameter Tuning"
   ]
  },
  {
   "cell_type": "code",
   "execution_count": 73,
   "metadata": {},
   "outputs": [],
   "source": [
    "def objective(trial):\n",
    "    dropout_rate = trial.suggest_uniform('dropout_rate', 0.1, 0.5)\n",
    "    rnn_units = trial.suggest_int(\"rnn_unit\", 150, 200)\n",
    "    learning_rate = trial.suggest_loguniform('learning_rate', 1e-4, 3e-2)\n",
    "    share_gru_weights_on_book = trial.suggest_categorical('share_gru_weights_on_book', [True, False])\n",
    "    use_attention_on_user = trial.suggest_categorical('use_attention_on_user', [True, False])\n",
    "    use_batch_norm = trial.suggest_categorical('use_batch_norm', [True, False])\n",
    "    is_embedding_trainable = trial.suggest_categorical('is_embedding_trainable', [True, False])\n",
    "    final_activation = trial.suggest_categorical('final_activation', ['tanh', 'relu'])\n",
    "    \n",
    "    model = gru_model(\n",
    "                     embedding_dim=EMBEDDING_DIM,\n",
    "                     dropout_rate=dropout_rate,\n",
    "                     rnn_unit=rnn_units,\n",
    "                     input_shape=(max_sequence,),\n",
    "                     num_features=TOP_K+1,\n",
    "                     share_gru_weights_on_book=share_gru_weights_on_book,\n",
    "                     use_attention_on_book=False,\n",
    "                     use_attention_on_user=use_attention_on_user,\n",
    "                     use_batch_norm=use_batch_norm,\n",
    "                     is_embedding_trainable=is_embedding_trainable,\n",
    "                     final_activation=final_activation,\n",
    "                     embedding_matrix=embedding_matrix)\n",
    "\n",
    "    # Compile model\n",
    "    loss = 'cosine_similarity'\n",
    "    optimizer = Adam(lr=learning_rate)\n",
    "    model.compile(optimizer=optimizer, loss=loss, metrics=['cosine_similarity'])\n",
    "\n",
    "    history = model.fit(\n",
    "        [x_trn_1, x_trn_2, x_trn_3, x_trn_4],\n",
    "        y_train_mean,\n",
    "        epochs=1,\n",
    "        validation_data=([x_val_1, x_val_2, x_val_3, x_val_4], y_val_mean),\n",
    "        batch_size=256)\n",
    "    \n",
    "    return -np.amax(history.history['val_cosine_similarity'])"
   ]
  },
  {
   "cell_type": "code",
   "execution_count": 74,
   "metadata": {
    "collapsed": true,
    "jupyter": {
     "outputs_hidden": true
    }
   },
   "outputs": [
    {
     "name": "stdout",
     "output_type": "stream",
     "text": [
      "Train on 2688 samples, validate on 672 samples\n",
      "2688/2688 [==============================] - 91s 34ms/sample - loss: -0.3388 - cosine_similarity: 0.3388 - val_loss: -0.5734 - val_cosine_similarity: 0.5734\n"
     ]
    },
    {
     "name": "stderr",
     "output_type": "stream",
     "text": [
      "\u001b[32m[I 2019-10-04 18:01:39,102]\u001b[0m Finished trial#0 resulted in value: -0.5733716487884521. Current best value is -0.5733716487884521 with parameters: {'dropout_rate': 0.24448834157804056, 'rnn_unit': 193, 'learning_rate': 0.00342548949866228, 'share_gru_weights_on_book': False, 'use_attention_on_user': False, 'use_batch_norm': True, 'is_embedding_trainable': False, 'final_activation': 'relu'}.\u001b[0m\n"
     ]
    },
    {
     "name": "stdout",
     "output_type": "stream",
     "text": [
      "Train on 2688 samples, validate on 672 samples\n",
      "2688/2688 [==============================] - 84s 31ms/sample - loss: -0.0598 - cosine_similarity: 0.0598 - val_loss: -0.4635 - val_cosine_similarity: 0.4635\n"
     ]
    },
    {
     "name": "stderr",
     "output_type": "stream",
     "text": [
      "\u001b[32m[I 2019-10-04 18:03:21,204]\u001b[0m Finished trial#1 resulted in value: -0.4634664058685303. Current best value is -0.5733716487884521 with parameters: {'dropout_rate': 0.24448834157804056, 'rnn_unit': 193, 'learning_rate': 0.00342548949866228, 'share_gru_weights_on_book': False, 'use_attention_on_user': False, 'use_batch_norm': True, 'is_embedding_trainable': False, 'final_activation': 'relu'}.\u001b[0m\n"
     ]
    },
    {
     "name": "stdout",
     "output_type": "stream",
     "text": [
      "Train on 2688 samples, validate on 672 samples\n",
      "2688/2688 [==============================] - 81s 30ms/sample - loss: -0.6129 - cosine_similarity: 0.6129 - val_loss: -0.8803 - val_cosine_similarity: 0.8803\n"
     ]
    },
    {
     "name": "stderr",
     "output_type": "stream",
     "text": [
      "\u001b[32m[I 2019-10-04 18:05:01,258]\u001b[0m Finished trial#2 resulted in value: -0.8803142309188843. Current best value is -0.8803142309188843 with parameters: {'dropout_rate': 0.3139498579807046, 'rnn_unit': 155, 'learning_rate': 0.0006785391437769412, 'share_gru_weights_on_book': False, 'use_attention_on_user': False, 'use_batch_norm': False, 'is_embedding_trainable': True, 'final_activation': 'tanh'}.\u001b[0m\n"
     ]
    },
    {
     "name": "stdout",
     "output_type": "stream",
     "text": [
      "Train on 2688 samples, validate on 672 samples\n",
      "2688/2688 [==============================] - 84s 31ms/sample - loss: -0.4422 - cosine_similarity: 0.4422 - val_loss: -0.5271 - val_cosine_similarity: 0.5271\n"
     ]
    },
    {
     "name": "stderr",
     "output_type": "stream",
     "text": [
      "\u001b[32m[I 2019-10-04 18:06:47,210]\u001b[0m Finished trial#3 resulted in value: -0.5270543098449707. Current best value is -0.8803142309188843 with parameters: {'dropout_rate': 0.3139498579807046, 'rnn_unit': 155, 'learning_rate': 0.0006785391437769412, 'share_gru_weights_on_book': False, 'use_attention_on_user': False, 'use_batch_norm': False, 'is_embedding_trainable': True, 'final_activation': 'tanh'}.\u001b[0m\n"
     ]
    },
    {
     "name": "stdout",
     "output_type": "stream",
     "text": [
      "Train on 2688 samples, validate on 672 samples\n",
      "2688/2688 [==============================] - 84s 31ms/sample - loss: -0.4250 - cosine_similarity: 0.4250 - val_loss: -0.5040 - val_cosine_similarity: 0.5040\n"
     ]
    },
    {
     "name": "stderr",
     "output_type": "stream",
     "text": [
      "\u001b[32m[I 2019-10-04 18:08:31,714]\u001b[0m Finished trial#4 resulted in value: -0.5039933323860168. Current best value is -0.8803142309188843 with parameters: {'dropout_rate': 0.3139498579807046, 'rnn_unit': 155, 'learning_rate': 0.0006785391437769412, 'share_gru_weights_on_book': False, 'use_attention_on_user': False, 'use_batch_norm': False, 'is_embedding_trainable': True, 'final_activation': 'tanh'}.\u001b[0m\n"
     ]
    },
    {
     "name": "stdout",
     "output_type": "stream",
     "text": [
      "Train on 2688 samples, validate on 672 samples\n",
      "2688/2688 [==============================] - 83s 31ms/sample - loss: -0.2416 - cosine_similarity: 0.2416 - val_loss: -0.5081 - val_cosine_similarity: 0.5081\n"
     ]
    },
    {
     "name": "stderr",
     "output_type": "stream",
     "text": [
      "\u001b[32m[I 2019-10-04 18:10:15,302]\u001b[0m Finished trial#5 resulted in value: -0.5080872178077698. Current best value is -0.8803142309188843 with parameters: {'dropout_rate': 0.3139498579807046, 'rnn_unit': 155, 'learning_rate': 0.0006785391437769412, 'share_gru_weights_on_book': False, 'use_attention_on_user': False, 'use_batch_norm': False, 'is_embedding_trainable': True, 'final_activation': 'tanh'}.\u001b[0m\n"
     ]
    },
    {
     "name": "stdout",
     "output_type": "stream",
     "text": [
      "Train on 2688 samples, validate on 672 samples\n",
      "2688/2688 [==============================] - 85s 32ms/sample - loss: -0.0548 - cosine_similarity: 0.0548 - val_loss: -0.3508 - val_cosine_similarity: 0.3508\n"
     ]
    },
    {
     "name": "stderr",
     "output_type": "stream",
     "text": [
      "\u001b[32m[I 2019-10-04 18:12:02,380]\u001b[0m Finished trial#6 resulted in value: -0.3508235216140747. Current best value is -0.8803142309188843 with parameters: {'dropout_rate': 0.3139498579807046, 'rnn_unit': 155, 'learning_rate': 0.0006785391437769412, 'share_gru_weights_on_book': False, 'use_attention_on_user': False, 'use_batch_norm': False, 'is_embedding_trainable': True, 'final_activation': 'tanh'}.\u001b[0m\n"
     ]
    },
    {
     "name": "stdout",
     "output_type": "stream",
     "text": [
      "Train on 2688 samples, validate on 672 samples\n",
      "2688/2688 [==============================] - 84s 31ms/sample - loss: -0.0055 - cosine_similarity: 0.0055 - val_loss: -0.2240 - val_cosine_similarity: 0.2240\n"
     ]
    },
    {
     "name": "stderr",
     "output_type": "stream",
     "text": [
      "\u001b[32m[I 2019-10-04 18:13:48,832]\u001b[0m Finished trial#7 resulted in value: -0.2239634245634079. Current best value is -0.8803142309188843 with parameters: {'dropout_rate': 0.3139498579807046, 'rnn_unit': 155, 'learning_rate': 0.0006785391437769412, 'share_gru_weights_on_book': False, 'use_attention_on_user': False, 'use_batch_norm': False, 'is_embedding_trainable': True, 'final_activation': 'tanh'}.\u001b[0m\n"
     ]
    },
    {
     "name": "stdout",
     "output_type": "stream",
     "text": [
      "Train on 2688 samples, validate on 672 samples\n",
      "2688/2688 [==============================] - 82s 30ms/sample - loss: -0.6887 - cosine_similarity: 0.6887 - val_loss: -0.8886 - val_cosine_similarity: 0.8886\n"
     ]
    },
    {
     "name": "stderr",
     "output_type": "stream",
     "text": [
      "\u001b[32m[I 2019-10-04 18:15:33,208]\u001b[0m Finished trial#8 resulted in value: -0.8885796070098877. Current best value is -0.8885796070098877 with parameters: {'dropout_rate': 0.34941190949053247, 'rnn_unit': 159, 'learning_rate': 0.0015065969316395557, 'share_gru_weights_on_book': True, 'use_attention_on_user': False, 'use_batch_norm': False, 'is_embedding_trainable': False, 'final_activation': 'tanh'}.\u001b[0m\n"
     ]
    },
    {
     "name": "stdout",
     "output_type": "stream",
     "text": [
      "Train on 2688 samples, validate on 672 samples\n",
      "2688/2688 [==============================] - 80s 30ms/sample - loss: -0.6513 - cosine_similarity: 0.6513 - val_loss: -0.8928 - val_cosine_similarity: 0.8928\n"
     ]
    },
    {
     "name": "stderr",
     "output_type": "stream",
     "text": [
      "\u001b[32m[I 2019-10-04 18:17:16,893]\u001b[0m Finished trial#9 resulted in value: -0.8927918672561646. Current best value is -0.8927918672561646 with parameters: {'dropout_rate': 0.16336027916145662, 'rnn_unit': 161, 'learning_rate': 0.000801981042420566, 'share_gru_weights_on_book': False, 'use_attention_on_user': False, 'use_batch_norm': False, 'is_embedding_trainable': True, 'final_activation': 'tanh'}.\u001b[0m\n"
     ]
    },
    {
     "name": "stdout",
     "output_type": "stream",
     "text": [
      "Train on 2688 samples, validate on 672 samples\n",
      "2688/2688 [==============================] - 82s 31ms/sample - loss: -0.5822 - cosine_similarity: 0.5822 - val_loss: -0.7065 - val_cosine_similarity: 0.7065\n"
     ]
    },
    {
     "name": "stderr",
     "output_type": "stream",
     "text": [
      "\u001b[32m[I 2019-10-04 18:19:03,842]\u001b[0m Finished trial#10 resulted in value: -0.7065454125404358. Current best value is -0.8927918672561646 with parameters: {'dropout_rate': 0.16336027916145662, 'rnn_unit': 161, 'learning_rate': 0.000801981042420566, 'share_gru_weights_on_book': False, 'use_attention_on_user': False, 'use_batch_norm': False, 'is_embedding_trainable': True, 'final_activation': 'tanh'}.\u001b[0m\n"
     ]
    },
    {
     "name": "stdout",
     "output_type": "stream",
     "text": [
      "Train on 2688 samples, validate on 672 samples\n",
      "2688/2688 [==============================] - 81s 30ms/sample - loss: -0.7367 - cosine_similarity: 0.7367 - val_loss: -0.9053 - val_cosine_similarity: 0.9053\n"
     ]
    },
    {
     "name": "stderr",
     "output_type": "stream",
     "text": [
      "\u001b[32m[I 2019-10-04 18:20:50,132]\u001b[0m Finished trial#11 resulted in value: -0.9053252339363098. Current best value is -0.9053252339363098 with parameters: {'dropout_rate': 0.1007394560406563, 'rnn_unit': 164, 'learning_rate': 0.0016798003485756644, 'share_gru_weights_on_book': True, 'use_attention_on_user': False, 'use_batch_norm': False, 'is_embedding_trainable': False, 'final_activation': 'tanh'}.\u001b[0m\n"
     ]
    },
    {
     "name": "stdout",
     "output_type": "stream",
     "text": [
      "Train on 2688 samples, validate on 672 samples\n",
      "2688/2688 [==============================] - 86s 32ms/sample - loss: -0.7138 - cosine_similarity: 0.7138 - val_loss: -0.9033 - val_cosine_similarity: 0.9033\n"
     ]
    },
    {
     "name": "stderr",
     "output_type": "stream",
     "text": [
      "\u001b[32m[I 2019-10-04 18:22:42,801]\u001b[0m Finished trial#12 resulted in value: -0.9033307433128357. Current best value is -0.9053252339363098 with parameters: {'dropout_rate': 0.1007394560406563, 'rnn_unit': 164, 'learning_rate': 0.0016798003485756644, 'share_gru_weights_on_book': True, 'use_attention_on_user': False, 'use_batch_norm': False, 'is_embedding_trainable': False, 'final_activation': 'tanh'}.\u001b[0m\n"
     ]
    },
    {
     "name": "stdout",
     "output_type": "stream",
     "text": [
      "Train on 2688 samples, validate on 672 samples\n",
      "2688/2688 [==============================] - 80s 30ms/sample - loss: -0.5688 - cosine_similarity: 0.5688 - val_loss: -0.6731 - val_cosine_similarity: 0.6731\n"
     ]
    },
    {
     "name": "stderr",
     "output_type": "stream",
     "text": [
      "\u001b[32m[I 2019-10-04 18:24:30,529]\u001b[0m Finished trial#13 resulted in value: -0.6730929017066956. Current best value is -0.9053252339363098 with parameters: {'dropout_rate': 0.1007394560406563, 'rnn_unit': 164, 'learning_rate': 0.0016798003485756644, 'share_gru_weights_on_book': True, 'use_attention_on_user': False, 'use_batch_norm': False, 'is_embedding_trainable': False, 'final_activation': 'tanh'}.\u001b[0m\n"
     ]
    },
    {
     "name": "stdout",
     "output_type": "stream",
     "text": [
      "Train on 2688 samples, validate on 672 samples\n",
      "2688/2688 [==============================] - 84s 31ms/sample - loss: -0.7521 - cosine_similarity: 0.7521 - val_loss: -0.9089 - val_cosine_similarity: 0.9089\n"
     ]
    },
    {
     "name": "stderr",
     "output_type": "stream",
     "text": [
      "\u001b[32m[I 2019-10-04 18:26:21,509]\u001b[0m Finished trial#14 resulted in value: -0.9089342951774597. Current best value is -0.9089342951774597 with parameters: {'dropout_rate': 0.12586422069716524, 'rnn_unit': 165, 'learning_rate': 0.002001452870743902, 'share_gru_weights_on_book': True, 'use_attention_on_user': False, 'use_batch_norm': False, 'is_embedding_trainable': True, 'final_activation': 'tanh'}.\u001b[0m\n"
     ]
    },
    {
     "name": "stdout",
     "output_type": "stream",
     "text": [
      "Train on 2688 samples, validate on 672 samples\n",
      "2688/2688 [==============================] - 80s 30ms/sample - loss: -0.7437 - cosine_similarity: 0.7437 - val_loss: -0.9126 - val_cosine_similarity: 0.9126\n"
     ]
    },
    {
     "name": "stderr",
     "output_type": "stream",
     "text": [
      "\u001b[32m[I 2019-10-04 18:28:08,637]\u001b[0m Finished trial#15 resulted in value: -0.9126098155975342. Current best value is -0.9126098155975342 with parameters: {'dropout_rate': 0.1598976750277776, 'rnn_unit': 150, 'learning_rate': 0.003298517112420816, 'share_gru_weights_on_book': True, 'use_attention_on_user': False, 'use_batch_norm': False, 'is_embedding_trainable': False, 'final_activation': 'tanh'}.\u001b[0m\n"
     ]
    },
    {
     "name": "stdout",
     "output_type": "stream",
     "text": [
      "Train on 2688 samples, validate on 672 samples\n",
      "2688/2688 [==============================] - 83s 31ms/sample - loss: -0.4350 - cosine_similarity: 0.4350 - val_loss: -0.5161 - val_cosine_similarity: 0.5161\n"
     ]
    },
    {
     "name": "stderr",
     "output_type": "stream",
     "text": [
      "\u001b[32m[I 2019-10-04 18:30:00,095]\u001b[0m Finished trial#16 resulted in value: -0.5160972476005554. Current best value is -0.9126098155975342 with parameters: {'dropout_rate': 0.1598976750277776, 'rnn_unit': 150, 'learning_rate': 0.003298517112420816, 'share_gru_weights_on_book': True, 'use_attention_on_user': False, 'use_batch_norm': False, 'is_embedding_trainable': False, 'final_activation': 'tanh'}.\u001b[0m\n"
     ]
    },
    {
     "name": "stdout",
     "output_type": "stream",
     "text": [
      "Train on 2688 samples, validate on 672 samples\n",
      "2688/2688 [==============================] - 86s 32ms/sample - loss: -0.4942 - cosine_similarity: 0.4942 - val_loss: -0.5868 - val_cosine_similarity: 0.5868\n"
     ]
    },
    {
     "name": "stderr",
     "output_type": "stream",
     "text": [
      "\u001b[32m[I 2019-10-04 18:31:55,348]\u001b[0m Finished trial#17 resulted in value: -0.5868185758590698. Current best value is -0.9126098155975342 with parameters: {'dropout_rate': 0.1598976750277776, 'rnn_unit': 150, 'learning_rate': 0.003298517112420816, 'share_gru_weights_on_book': True, 'use_attention_on_user': False, 'use_batch_norm': False, 'is_embedding_trainable': False, 'final_activation': 'tanh'}.\u001b[0m\n"
     ]
    },
    {
     "name": "stdout",
     "output_type": "stream",
     "text": [
      "Train on 2688 samples, validate on 672 samples\n",
      "2688/2688 [==============================] - 81s 30ms/sample - loss: -0.5158 - cosine_similarity: 0.5158 - val_loss: -0.6082 - val_cosine_similarity: 0.6082\n"
     ]
    },
    {
     "name": "stderr",
     "output_type": "stream",
     "text": [
      "\u001b[32m[I 2019-10-04 18:33:47,261]\u001b[0m Finished trial#18 resulted in value: -0.6082457304000854. Current best value is -0.9126098155975342 with parameters: {'dropout_rate': 0.1598976750277776, 'rnn_unit': 150, 'learning_rate': 0.003298517112420816, 'share_gru_weights_on_book': True, 'use_attention_on_user': False, 'use_batch_norm': False, 'is_embedding_trainable': False, 'final_activation': 'tanh'}.\u001b[0m\n"
     ]
    },
    {
     "name": "stdout",
     "output_type": "stream",
     "text": [
      "Train on 2688 samples, validate on 672 samples\n",
      "2688/2688 [==============================] - 78s 29ms/sample - loss: -0.7583 - cosine_similarity: 0.7583 - val_loss: -0.9154 - val_cosine_similarity: 0.9154\n"
     ]
    },
    {
     "name": "stderr",
     "output_type": "stream",
     "text": [
      "\u001b[32m[I 2019-10-04 18:35:35,516]\u001b[0m Finished trial#19 resulted in value: -0.9154108166694641. Current best value is -0.9154108166694641 with parameters: {'dropout_rate': 0.14187994654660704, 'rnn_unit': 187, 'learning_rate': 0.0033132348103979982, 'share_gru_weights_on_book': True, 'use_attention_on_user': False, 'use_batch_norm': False, 'is_embedding_trainable': False, 'final_activation': 'tanh'}.\u001b[0m\n"
     ]
    },
    {
     "name": "stdout",
     "output_type": "stream",
     "text": [
      "Train on 2688 samples, validate on 672 samples\n",
      "2688/2688 [==============================] - 80s 30ms/sample - loss: -0.7227 - cosine_similarity: 0.7227 - val_loss: -0.9005 - val_cosine_similarity: 0.9005\n"
     ]
    },
    {
     "name": "stderr",
     "output_type": "stream",
     "text": [
      "\u001b[32m[I 2019-10-04 18:37:28,616]\u001b[0m Finished trial#20 resulted in value: -0.9004976153373718. Current best value is -0.9154108166694641 with parameters: {'dropout_rate': 0.14187994654660704, 'rnn_unit': 187, 'learning_rate': 0.0033132348103979982, 'share_gru_weights_on_book': True, 'use_attention_on_user': False, 'use_batch_norm': False, 'is_embedding_trainable': False, 'final_activation': 'tanh'}.\u001b[0m\n"
     ]
    },
    {
     "name": "stdout",
     "output_type": "stream",
     "text": [
      "Train on 2688 samples, validate on 672 samples\n",
      "2688/2688 [==============================] - 79s 30ms/sample - loss: -0.7519 - cosine_similarity: 0.7519 - val_loss: -0.9114 - val_cosine_similarity: 0.9114\n"
     ]
    },
    {
     "name": "stderr",
     "output_type": "stream",
     "text": [
      "\u001b[32m[I 2019-10-04 18:39:21,782]\u001b[0m Finished trial#21 resulted in value: -0.911403477191925. Current best value is -0.9154108166694641 with parameters: {'dropout_rate': 0.14187994654660704, 'rnn_unit': 187, 'learning_rate': 0.0033132348103979982, 'share_gru_weights_on_book': True, 'use_attention_on_user': False, 'use_batch_norm': False, 'is_embedding_trainable': False, 'final_activation': 'tanh'}.\u001b[0m\n"
     ]
    },
    {
     "name": "stdout",
     "output_type": "stream",
     "text": [
      "Train on 2688 samples, validate on 672 samples\n",
      "2688/2688 [==============================] - 82s 31ms/sample - loss: -0.5949 - cosine_similarity: 0.5949 - val_loss: -0.7254 - val_cosine_similarity: 0.7254\n"
     ]
    },
    {
     "name": "stderr",
     "output_type": "stream",
     "text": [
      "\u001b[32m[I 2019-10-04 18:41:17,032]\u001b[0m Finished trial#22 resulted in value: -0.7253976464271545. Current best value is -0.9154108166694641 with parameters: {'dropout_rate': 0.14187994654660704, 'rnn_unit': 187, 'learning_rate': 0.0033132348103979982, 'share_gru_weights_on_book': True, 'use_attention_on_user': False, 'use_batch_norm': False, 'is_embedding_trainable': False, 'final_activation': 'tanh'}.\u001b[0m\n"
     ]
    },
    {
     "name": "stdout",
     "output_type": "stream",
     "text": [
      "Train on 2688 samples, validate on 672 samples\n",
      "2688/2688 [==============================] - 83s 31ms/sample - loss: -0.7180 - cosine_similarity: 0.7180 - val_loss: -0.8981 - val_cosine_similarity: 0.8981\n"
     ]
    },
    {
     "name": "stderr",
     "output_type": "stream",
     "text": [
      "\u001b[32m[I 2019-10-04 18:43:13,656]\u001b[0m Finished trial#23 resulted in value: -0.8981106877326965. Current best value is -0.9154108166694641 with parameters: {'dropout_rate': 0.14187994654660704, 'rnn_unit': 187, 'learning_rate': 0.0033132348103979982, 'share_gru_weights_on_book': True, 'use_attention_on_user': False, 'use_batch_norm': False, 'is_embedding_trainable': False, 'final_activation': 'tanh'}.\u001b[0m\n"
     ]
    },
    {
     "name": "stdout",
     "output_type": "stream",
     "text": [
      "Train on 2688 samples, validate on 672 samples\n",
      "2688/2688 [==============================] - 85s 32ms/sample - loss: -0.7471 - cosine_similarity: 0.7471 - val_loss: -0.9141 - val_cosine_similarity: 0.9141\n"
     ]
    },
    {
     "name": "stderr",
     "output_type": "stream",
     "text": [
      "\u001b[32m[I 2019-10-04 18:45:12,560]\u001b[0m Finished trial#24 resulted in value: -0.9141382575035095. Current best value is -0.9154108166694641 with parameters: {'dropout_rate': 0.14187994654660704, 'rnn_unit': 187, 'learning_rate': 0.0033132348103979982, 'share_gru_weights_on_book': True, 'use_attention_on_user': False, 'use_batch_norm': False, 'is_embedding_trainable': False, 'final_activation': 'tanh'}.\u001b[0m\n"
     ]
    },
    {
     "name": "stdout",
     "output_type": "stream",
     "text": [
      "Train on 2688 samples, validate on 672 samples\n",
      "2688/2688 [==============================] - 82s 30ms/sample - loss: -0.4009 - cosine_similarity: 0.4009 - val_loss: -0.4982 - val_cosine_similarity: 0.4982\n"
     ]
    },
    {
     "name": "stderr",
     "output_type": "stream",
     "text": [
      "\u001b[32m[I 2019-10-04 18:47:08,906]\u001b[0m Finished trial#25 resulted in value: -0.49818500876426697. Current best value is -0.9154108166694641 with parameters: {'dropout_rate': 0.14187994654660704, 'rnn_unit': 187, 'learning_rate': 0.0033132348103979982, 'share_gru_weights_on_book': True, 'use_attention_on_user': False, 'use_batch_norm': False, 'is_embedding_trainable': False, 'final_activation': 'tanh'}.\u001b[0m\n"
     ]
    },
    {
     "name": "stdout",
     "output_type": "stream",
     "text": [
      "Train on 2688 samples, validate on 672 samples\n",
      "2688/2688 [==============================] - 84s 31ms/sample - loss: -0.7586 - cosine_similarity: 0.7586 - val_loss: -0.9205 - val_cosine_similarity: 0.9205\n"
     ]
    },
    {
     "name": "stderr",
     "output_type": "stream",
     "text": [
      "\u001b[32m[I 2019-10-04 18:49:08,921]\u001b[0m Finished trial#26 resulted in value: -0.9205251336097717. Current best value is -0.9205251336097717 with parameters: {'dropout_rate': 0.22496328181220904, 'rnn_unit': 184, 'learning_rate': 0.002669773806969745, 'share_gru_weights_on_book': True, 'use_attention_on_user': True, 'use_batch_norm': False, 'is_embedding_trainable': False, 'final_activation': 'tanh'}.\u001b[0m\n"
     ]
    },
    {
     "name": "stdout",
     "output_type": "stream",
     "text": [
      "Train on 2688 samples, validate on 672 samples\n",
      "2688/2688 [==============================] - 81s 30ms/sample - loss: -0.4699 - cosine_similarity: 0.4699 - val_loss: -0.5811 - val_cosine_similarity: 0.5811\n"
     ]
    },
    {
     "name": "stderr",
     "output_type": "stream",
     "text": [
      "\u001b[32m[I 2019-10-04 18:51:06,844]\u001b[0m Finished trial#27 resulted in value: -0.5811408162117004. Current best value is -0.9205251336097717 with parameters: {'dropout_rate': 0.22496328181220904, 'rnn_unit': 184, 'learning_rate': 0.002669773806969745, 'share_gru_weights_on_book': True, 'use_attention_on_user': True, 'use_batch_norm': False, 'is_embedding_trainable': False, 'final_activation': 'tanh'}.\u001b[0m\n"
     ]
    },
    {
     "name": "stdout",
     "output_type": "stream",
     "text": [
      "Train on 2688 samples, validate on 672 samples\n",
      "2688/2688 [==============================] - 88s 33ms/sample - loss: -0.7304 - cosine_similarity: 0.7304 - val_loss: -0.8175 - val_cosine_similarity: 0.8175\n"
     ]
    },
    {
     "name": "stderr",
     "output_type": "stream",
     "text": [
      "\u001b[32m[I 2019-10-04 18:53:11,853]\u001b[0m Finished trial#28 resulted in value: -0.8175274133682251. Current best value is -0.9205251336097717 with parameters: {'dropout_rate': 0.22496328181220904, 'rnn_unit': 184, 'learning_rate': 0.002669773806969745, 'share_gru_weights_on_book': True, 'use_attention_on_user': True, 'use_batch_norm': False, 'is_embedding_trainable': False, 'final_activation': 'tanh'}.\u001b[0m\n"
     ]
    },
    {
     "name": "stdout",
     "output_type": "stream",
     "text": [
      "Train on 2688 samples, validate on 672 samples\n",
      "2688/2688 [==============================] - 80s 30ms/sample - loss: -0.1584 - cosine_similarity: 0.1584 - val_loss: -0.4181 - val_cosine_similarity: 0.4181\n"
     ]
    },
    {
     "name": "stderr",
     "output_type": "stream",
     "text": [
      "\u001b[32m[I 2019-10-04 18:55:10,699]\u001b[0m Finished trial#29 resulted in value: -0.4181325137615204. Current best value is -0.9205251336097717 with parameters: {'dropout_rate': 0.22496328181220904, 'rnn_unit': 184, 'learning_rate': 0.002669773806969745, 'share_gru_weights_on_book': True, 'use_attention_on_user': True, 'use_batch_norm': False, 'is_embedding_trainable': False, 'final_activation': 'tanh'}.\u001b[0m\n"
     ]
    },
    {
     "name": "stdout",
     "output_type": "stream",
     "text": [
      "Train on 2688 samples, validate on 672 samples\n",
      "2688/2688 [==============================] - 83s 31ms/sample - loss: -0.7687 - cosine_similarity: 0.7687 - val_loss: -0.9219 - val_cosine_similarity: 0.9219\n"
     ]
    },
    {
     "name": "stderr",
     "output_type": "stream",
     "text": [
      "\u001b[32m[I 2019-10-04 18:57:12,385]\u001b[0m Finished trial#30 resulted in value: -0.9218973517417908. Current best value is -0.9218973517417908 with parameters: {'dropout_rate': 0.23070884186754761, 'rnn_unit': 190, 'learning_rate': 0.002599550397887436, 'share_gru_weights_on_book': True, 'use_attention_on_user': True, 'use_batch_norm': False, 'is_embedding_trainable': False, 'final_activation': 'tanh'}.\u001b[0m\n"
     ]
    },
    {
     "name": "stdout",
     "output_type": "stream",
     "text": [
      "Train on 2688 samples, validate on 672 samples\n",
      "2688/2688 [==============================] - 84s 31ms/sample - loss: -0.7668 - cosine_similarity: 0.7668 - val_loss: -0.9224 - val_cosine_similarity: 0.9224\n"
     ]
    },
    {
     "name": "stderr",
     "output_type": "stream",
     "text": [
      "\u001b[32m[I 2019-10-04 18:59:16,005]\u001b[0m Finished trial#31 resulted in value: -0.9224427342414856. Current best value is -0.9224427342414856 with parameters: {'dropout_rate': 0.22903606821833689, 'rnn_unit': 190, 'learning_rate': 0.002860342938810273, 'share_gru_weights_on_book': True, 'use_attention_on_user': True, 'use_batch_norm': False, 'is_embedding_trainable': False, 'final_activation': 'tanh'}.\u001b[0m\n"
     ]
    },
    {
     "name": "stdout",
     "output_type": "stream",
     "text": [
      "Train on 2688 samples, validate on 672 samples\n",
      "2688/2688 [==============================] - 82s 31ms/sample - loss: -0.7720 - cosine_similarity: 0.7720 - val_loss: -0.9248 - val_cosine_similarity: 0.9248\n"
     ]
    },
    {
     "name": "stderr",
     "output_type": "stream",
     "text": [
      "\u001b[32m[I 2019-10-04 19:01:16,569]\u001b[0m Finished trial#32 resulted in value: -0.9247658848762512. Current best value is -0.9247658848762512 with parameters: {'dropout_rate': 0.22677968569252382, 'rnn_unit': 196, 'learning_rate': 0.002635300602163673, 'share_gru_weights_on_book': True, 'use_attention_on_user': True, 'use_batch_norm': False, 'is_embedding_trainable': False, 'final_activation': 'tanh'}.\u001b[0m\n"
     ]
    },
    {
     "name": "stdout",
     "output_type": "stream",
     "text": [
      "Train on 2688 samples, validate on 672 samples\n",
      "2688/2688 [==============================] - 83s 31ms/sample - loss: -0.7076 - cosine_similarity: 0.7076 - val_loss: -0.9024 - val_cosine_similarity: 0.9024\n"
     ]
    },
    {
     "name": "stderr",
     "output_type": "stream",
     "text": [
      "\u001b[32m[I 2019-10-04 19:03:19,294]\u001b[0m Finished trial#33 resulted in value: -0.9024192094802856. Current best value is -0.9247658848762512 with parameters: {'dropout_rate': 0.22677968569252382, 'rnn_unit': 196, 'learning_rate': 0.002635300602163673, 'share_gru_weights_on_book': True, 'use_attention_on_user': True, 'use_batch_norm': False, 'is_embedding_trainable': False, 'final_activation': 'tanh'}.\u001b[0m\n"
     ]
    },
    {
     "name": "stdout",
     "output_type": "stream",
     "text": [
      "Train on 2688 samples, validate on 672 samples\n",
      "2688/2688 [==============================] - 89s 33ms/sample - loss: -0.7597 - cosine_similarity: 0.7597 - val_loss: -0.9185 - val_cosine_similarity: 0.9185\n"
     ]
    },
    {
     "name": "stderr",
     "output_type": "stream",
     "text": [
      "\u001b[32m[I 2019-10-04 19:05:26,285]\u001b[0m Finished trial#34 resulted in value: -0.9184813499450684. Current best value is -0.9247658848762512 with parameters: {'dropout_rate': 0.22677968569252382, 'rnn_unit': 196, 'learning_rate': 0.002635300602163673, 'share_gru_weights_on_book': True, 'use_attention_on_user': True, 'use_batch_norm': False, 'is_embedding_trainable': False, 'final_activation': 'tanh'}.\u001b[0m\n"
     ]
    },
    {
     "name": "stdout",
     "output_type": "stream",
     "text": [
      "Train on 2688 samples, validate on 672 samples\n",
      "2688/2688 [==============================] - 91s 34ms/sample - loss: -0.5323 - cosine_similarity: 0.5323 - val_loss: -0.5601 - val_cosine_similarity: 0.5601\n"
     ]
    },
    {
     "name": "stderr",
     "output_type": "stream",
     "text": [
      "\u001b[32m[I 2019-10-04 19:07:40,087]\u001b[0m Finished trial#35 resulted in value: -0.5600752830505371. Current best value is -0.9247658848762512 with parameters: {'dropout_rate': 0.22677968569252382, 'rnn_unit': 196, 'learning_rate': 0.002635300602163673, 'share_gru_weights_on_book': True, 'use_attention_on_user': True, 'use_batch_norm': False, 'is_embedding_trainable': False, 'final_activation': 'tanh'}.\u001b[0m\n"
     ]
    },
    {
     "name": "stdout",
     "output_type": "stream",
     "text": [
      "Train on 2688 samples, validate on 672 samples\n",
      "2688/2688 [==============================] - 89s 33ms/sample - loss: -0.7414 - cosine_similarity: 0.7414 - val_loss: -0.9002 - val_cosine_similarity: 0.9002\n"
     ]
    },
    {
     "name": "stderr",
     "output_type": "stream",
     "text": [
      "\u001b[32m[I 2019-10-04 19:09:50,772]\u001b[0m Finished trial#36 resulted in value: -0.9001519083976746. Current best value is -0.9247658848762512 with parameters: {'dropout_rate': 0.22677968569252382, 'rnn_unit': 196, 'learning_rate': 0.002635300602163673, 'share_gru_weights_on_book': True, 'use_attention_on_user': True, 'use_batch_norm': False, 'is_embedding_trainable': False, 'final_activation': 'tanh'}.\u001b[0m\n"
     ]
    },
    {
     "name": "stdout",
     "output_type": "stream",
     "text": [
      "Train on 2688 samples, validate on 672 samples\n",
      "2688/2688 [==============================] - 83s 31ms/sample - loss: -0.4506 - cosine_similarity: 0.4506 - val_loss: -0.6713 - val_cosine_similarity: 0.6713\n"
     ]
    },
    {
     "name": "stderr",
     "output_type": "stream",
     "text": [
      "\u001b[32m[I 2019-10-04 19:11:58,740]\u001b[0m Finished trial#37 resulted in value: -0.6712552309036255. Current best value is -0.9247658848762512 with parameters: {'dropout_rate': 0.22677968569252382, 'rnn_unit': 196, 'learning_rate': 0.002635300602163673, 'share_gru_weights_on_book': True, 'use_attention_on_user': True, 'use_batch_norm': False, 'is_embedding_trainable': False, 'final_activation': 'tanh'}.\u001b[0m\n"
     ]
    },
    {
     "name": "stdout",
     "output_type": "stream",
     "text": [
      "Train on 2688 samples, validate on 672 samples\n",
      "2688/2688 [==============================] - 84s 31ms/sample - loss: -0.6754 - cosine_similarity: 0.6754 - val_loss: -0.9046 - val_cosine_similarity: 0.9046\n"
     ]
    },
    {
     "name": "stderr",
     "output_type": "stream",
     "text": [
      "\u001b[32m[I 2019-10-04 19:14:06,410]\u001b[0m Finished trial#38 resulted in value: -0.9045740962028503. Current best value is -0.9247658848762512 with parameters: {'dropout_rate': 0.22677968569252382, 'rnn_unit': 196, 'learning_rate': 0.002635300602163673, 'share_gru_weights_on_book': True, 'use_attention_on_user': True, 'use_batch_norm': False, 'is_embedding_trainable': False, 'final_activation': 'tanh'}.\u001b[0m\n"
     ]
    },
    {
     "name": "stdout",
     "output_type": "stream",
     "text": [
      "Train on 2688 samples, validate on 672 samples\n",
      "2688/2688 [==============================] - 78s 29ms/sample - loss: -0.4327 - cosine_similarity: 0.4327 - val_loss: -0.4840 - val_cosine_similarity: 0.4840\n"
     ]
    },
    {
     "name": "stderr",
     "output_type": "stream",
     "text": [
      "\u001b[32m[I 2019-10-04 19:16:07,892]\u001b[0m Finished trial#39 resulted in value: -0.48396381735801697. Current best value is -0.9247658848762512 with parameters: {'dropout_rate': 0.22677968569252382, 'rnn_unit': 196, 'learning_rate': 0.002635300602163673, 'share_gru_weights_on_book': True, 'use_attention_on_user': True, 'use_batch_norm': False, 'is_embedding_trainable': False, 'final_activation': 'tanh'}.\u001b[0m\n"
     ]
    },
    {
     "name": "stdout",
     "output_type": "stream",
     "text": [
      "Train on 2688 samples, validate on 672 samples\n",
      "2688/2688 [==============================] - 86s 32ms/sample - loss: -0.2436 - cosine_similarity: 0.2436 - val_loss: -0.5338 - val_cosine_similarity: 0.5338\n"
     ]
    },
    {
     "name": "stderr",
     "output_type": "stream",
     "text": [
      "\u001b[32m[I 2019-10-04 19:18:18,934]\u001b[0m Finished trial#40 resulted in value: -0.5337591171264648. Current best value is -0.9247658848762512 with parameters: {'dropout_rate': 0.22677968569252382, 'rnn_unit': 196, 'learning_rate': 0.002635300602163673, 'share_gru_weights_on_book': True, 'use_attention_on_user': True, 'use_batch_norm': False, 'is_embedding_trainable': False, 'final_activation': 'tanh'}.\u001b[0m\n"
     ]
    },
    {
     "name": "stdout",
     "output_type": "stream",
     "text": [
      "Train on 2688 samples, validate on 672 samples\n",
      "2688/2688 [==============================] - 87s 32ms/sample - loss: -0.7396 - cosine_similarity: 0.7396 - val_loss: -0.9147 - val_cosine_similarity: 0.9147\n"
     ]
    },
    {
     "name": "stderr",
     "output_type": "stream",
     "text": [
      "\u001b[32m[I 2019-10-04 19:20:31,918]\u001b[0m Finished trial#41 resulted in value: -0.9147487878799438. Current best value is -0.9247658848762512 with parameters: {'dropout_rate': 0.22677968569252382, 'rnn_unit': 196, 'learning_rate': 0.002635300602163673, 'share_gru_weights_on_book': True, 'use_attention_on_user': True, 'use_batch_norm': False, 'is_embedding_trainable': False, 'final_activation': 'tanh'}.\u001b[0m\n"
     ]
    },
    {
     "name": "stdout",
     "output_type": "stream",
     "text": [
      "Train on 2688 samples, validate on 672 samples\n",
      "2688/2688 [==============================] - 85s 31ms/sample - loss: -0.7600 - cosine_similarity: 0.7600 - val_loss: -0.9197 - val_cosine_similarity: 0.9197\n"
     ]
    },
    {
     "name": "stderr",
     "output_type": "stream",
     "text": [
      "\u001b[32m[I 2019-10-04 19:22:43,498]\u001b[0m Finished trial#42 resulted in value: -0.9197004437446594. Current best value is -0.9247658848762512 with parameters: {'dropout_rate': 0.22677968569252382, 'rnn_unit': 196, 'learning_rate': 0.002635300602163673, 'share_gru_weights_on_book': True, 'use_attention_on_user': True, 'use_batch_norm': False, 'is_embedding_trainable': False, 'final_activation': 'tanh'}.\u001b[0m\n"
     ]
    },
    {
     "name": "stdout",
     "output_type": "stream",
     "text": [
      "Train on 2688 samples, validate on 672 samples\n",
      "2688/2688 [==============================] - 77s 29ms/sample - loss: -0.7023 - cosine_similarity: 0.7023 - val_loss: -0.8894 - val_cosine_similarity: 0.8894\n"
     ]
    },
    {
     "name": "stderr",
     "output_type": "stream",
     "text": [
      "\u001b[32m[I 2019-10-04 19:24:48,429]\u001b[0m Finished trial#43 resulted in value: -0.8894169330596924. Current best value is -0.9247658848762512 with parameters: {'dropout_rate': 0.22677968569252382, 'rnn_unit': 196, 'learning_rate': 0.002635300602163673, 'share_gru_weights_on_book': True, 'use_attention_on_user': True, 'use_batch_norm': False, 'is_embedding_trainable': False, 'final_activation': 'tanh'}.\u001b[0m\n"
     ]
    },
    {
     "name": "stdout",
     "output_type": "stream",
     "text": [
      "Train on 2688 samples, validate on 672 samples\n",
      "2688/2688 [==============================] - 83s 31ms/sample - loss: -0.7502 - cosine_similarity: 0.7502 - val_loss: -0.9125 - val_cosine_similarity: 0.9125\n"
     ]
    },
    {
     "name": "stderr",
     "output_type": "stream",
     "text": [
      "\u001b[32m[I 2019-10-04 19:26:59,059]\u001b[0m Finished trial#44 resulted in value: -0.9125279188156128. Current best value is -0.9247658848762512 with parameters: {'dropout_rate': 0.22677968569252382, 'rnn_unit': 196, 'learning_rate': 0.002635300602163673, 'share_gru_weights_on_book': True, 'use_attention_on_user': True, 'use_batch_norm': False, 'is_embedding_trainable': False, 'final_activation': 'tanh'}.\u001b[0m\n"
     ]
    },
    {
     "name": "stdout",
     "output_type": "stream",
     "text": [
      "Train on 2688 samples, validate on 672 samples\n",
      "2688/2688 [==============================] - 93s 35ms/sample - loss: -0.6370 - cosine_similarity: 0.6370 - val_loss: -0.9057 - val_cosine_similarity: 0.9057\n"
     ]
    },
    {
     "name": "stderr",
     "output_type": "stream",
     "text": [
      "\u001b[32m[I 2019-10-04 19:29:23,290]\u001b[0m Finished trial#45 resulted in value: -0.9057381749153137. Current best value is -0.9247658848762512 with parameters: {'dropout_rate': 0.22677968569252382, 'rnn_unit': 196, 'learning_rate': 0.002635300602163673, 'share_gru_weights_on_book': True, 'use_attention_on_user': True, 'use_batch_norm': False, 'is_embedding_trainable': False, 'final_activation': 'tanh'}.\u001b[0m\n"
     ]
    },
    {
     "name": "stdout",
     "output_type": "stream",
     "text": [
      "Train on 2688 samples, validate on 672 samples\n",
      "2688/2688 [==============================] - 83s 31ms/sample - loss: -0.5555 - cosine_similarity: 0.5555 - val_loss: -0.6788 - val_cosine_similarity: 0.6788\n"
     ]
    },
    {
     "name": "stderr",
     "output_type": "stream",
     "text": [
      "\u001b[32m[I 2019-10-04 19:31:37,519]\u001b[0m Finished trial#46 resulted in value: -0.6788273453712463. Current best value is -0.9247658848762512 with parameters: {'dropout_rate': 0.22677968569252382, 'rnn_unit': 196, 'learning_rate': 0.002635300602163673, 'share_gru_weights_on_book': True, 'use_attention_on_user': True, 'use_batch_norm': False, 'is_embedding_trainable': False, 'final_activation': 'tanh'}.\u001b[0m\n"
     ]
    },
    {
     "name": "stdout",
     "output_type": "stream",
     "text": [
      "Train on 2688 samples, validate on 672 samples\n",
      "2688/2688 [==============================] - 84s 31ms/sample - loss: -0.7657 - cosine_similarity: 0.7657 - val_loss: -0.9200 - val_cosine_similarity: 0.9200\n"
     ]
    },
    {
     "name": "stderr",
     "output_type": "stream",
     "text": [
      "\u001b[32m[I 2019-10-04 19:33:53,501]\u001b[0m Finished trial#47 resulted in value: -0.9199597239494324. Current best value is -0.9247658848762512 with parameters: {'dropout_rate': 0.22677968569252382, 'rnn_unit': 196, 'learning_rate': 0.002635300602163673, 'share_gru_weights_on_book': True, 'use_attention_on_user': True, 'use_batch_norm': False, 'is_embedding_trainable': False, 'final_activation': 'tanh'}.\u001b[0m\n"
     ]
    },
    {
     "name": "stdout",
     "output_type": "stream",
     "text": [
      "Train on 2688 samples, validate on 672 samples\n",
      "2688/2688 [==============================] - 84s 31ms/sample - loss: -0.7331 - cosine_similarity: 0.7331 - val_loss: -0.9125 - val_cosine_similarity: 0.9125\n"
     ]
    },
    {
     "name": "stderr",
     "output_type": "stream",
     "text": [
      "\u001b[32m[I 2019-10-04 19:36:09,679]\u001b[0m Finished trial#48 resulted in value: -0.9125171899795532. Current best value is -0.9247658848762512 with parameters: {'dropout_rate': 0.22677968569252382, 'rnn_unit': 196, 'learning_rate': 0.002635300602163673, 'share_gru_weights_on_book': True, 'use_attention_on_user': True, 'use_batch_norm': False, 'is_embedding_trainable': False, 'final_activation': 'tanh'}.\u001b[0m\n"
     ]
    },
    {
     "name": "stdout",
     "output_type": "stream",
     "text": [
      "Train on 2688 samples, validate on 672 samples\n",
      "2688/2688 [==============================] - 82s 30ms/sample - loss: -0.7565 - cosine_similarity: 0.7565 - val_loss: -0.9212 - val_cosine_similarity: 0.9212\n"
     ]
    },
    {
     "name": "stderr",
     "output_type": "stream",
     "text": [
      "\u001b[32m[I 2019-10-04 19:38:24,494]\u001b[0m Finished trial#49 resulted in value: -0.9211905598640442. Current best value is -0.9247658848762512 with parameters: {'dropout_rate': 0.22677968569252382, 'rnn_unit': 196, 'learning_rate': 0.002635300602163673, 'share_gru_weights_on_book': True, 'use_attention_on_user': True, 'use_batch_norm': False, 'is_embedding_trainable': False, 'final_activation': 'tanh'}.\u001b[0m\n"
     ]
    },
    {
     "name": "stdout",
     "output_type": "stream",
     "text": [
      "Train on 2688 samples, validate on 672 samples\n",
      "2688/2688 [==============================] - 81s 30ms/sample - loss: -0.2052 - cosine_similarity: 0.2052 - val_loss: -0.7088 - val_cosine_similarity: 0.7088\n"
     ]
    },
    {
     "name": "stderr",
     "output_type": "stream",
     "text": [
      "\u001b[32m[I 2019-10-04 19:40:41,304]\u001b[0m Finished trial#50 resulted in value: -0.7087674140930176. Current best value is -0.9247658848762512 with parameters: {'dropout_rate': 0.22677968569252382, 'rnn_unit': 196, 'learning_rate': 0.002635300602163673, 'share_gru_weights_on_book': True, 'use_attention_on_user': True, 'use_batch_norm': False, 'is_embedding_trainable': False, 'final_activation': 'tanh'}.\u001b[0m\n"
     ]
    },
    {
     "name": "stdout",
     "output_type": "stream",
     "text": [
      "Train on 2688 samples, validate on 672 samples\n",
      "2688/2688 [==============================] - 81s 30ms/sample - loss: -0.7636 - cosine_similarity: 0.7636 - val_loss: -0.9191 - val_cosine_similarity: 0.9191\n"
     ]
    },
    {
     "name": "stderr",
     "output_type": "stream",
     "text": [
      "\u001b[32m[I 2019-10-04 19:42:57,769]\u001b[0m Finished trial#51 resulted in value: -0.9191164970397949. Current best value is -0.9247658848762512 with parameters: {'dropout_rate': 0.22677968569252382, 'rnn_unit': 196, 'learning_rate': 0.002635300602163673, 'share_gru_weights_on_book': True, 'use_attention_on_user': True, 'use_batch_norm': False, 'is_embedding_trainable': False, 'final_activation': 'tanh'}.\u001b[0m\n"
     ]
    },
    {
     "name": "stdout",
     "output_type": "stream",
     "text": [
      "Train on 2688 samples, validate on 672 samples\n",
      "2688/2688 [==============================] - 79s 29ms/sample - loss: -0.7470 - cosine_similarity: 0.7470 - val_loss: -0.9130 - val_cosine_similarity: 0.9130\n"
     ]
    },
    {
     "name": "stderr",
     "output_type": "stream",
     "text": [
      "\u001b[32m[I 2019-10-04 19:45:12,404]\u001b[0m Finished trial#52 resulted in value: -0.9130027294158936. Current best value is -0.9247658848762512 with parameters: {'dropout_rate': 0.22677968569252382, 'rnn_unit': 196, 'learning_rate': 0.002635300602163673, 'share_gru_weights_on_book': True, 'use_attention_on_user': True, 'use_batch_norm': False, 'is_embedding_trainable': False, 'final_activation': 'tanh'}.\u001b[0m\n"
     ]
    },
    {
     "name": "stdout",
     "output_type": "stream",
     "text": [
      "Train on 2688 samples, validate on 672 samples\n",
      "2688/2688 [==============================] - 84s 31ms/sample - loss: -0.7711 - cosine_similarity: 0.7711 - val_loss: -0.9181 - val_cosine_similarity: 0.9181\n"
     ]
    },
    {
     "name": "stderr",
     "output_type": "stream",
     "text": [
      "\u001b[32m[I 2019-10-04 19:47:33,867]\u001b[0m Finished trial#53 resulted in value: -0.9181466102600098. Current best value is -0.9247658848762512 with parameters: {'dropout_rate': 0.22677968569252382, 'rnn_unit': 196, 'learning_rate': 0.002635300602163673, 'share_gru_weights_on_book': True, 'use_attention_on_user': True, 'use_batch_norm': False, 'is_embedding_trainable': False, 'final_activation': 'tanh'}.\u001b[0m\n"
     ]
    },
    {
     "name": "stdout",
     "output_type": "stream",
     "text": [
      "Train on 2688 samples, validate on 672 samples\n",
      "2688/2688 [==============================] - 79s 29ms/sample - loss: -0.6808 - cosine_similarity: 0.6808 - val_loss: -0.8375 - val_cosine_similarity: 0.8375\n"
     ]
    },
    {
     "name": "stderr",
     "output_type": "stream",
     "text": [
      "\u001b[32m[I 2019-10-04 19:49:48,920]\u001b[0m Finished trial#54 resulted in value: -0.8374742865562439. Current best value is -0.9247658848762512 with parameters: {'dropout_rate': 0.22677968569252382, 'rnn_unit': 196, 'learning_rate': 0.002635300602163673, 'share_gru_weights_on_book': True, 'use_attention_on_user': True, 'use_batch_norm': False, 'is_embedding_trainable': False, 'final_activation': 'tanh'}.\u001b[0m\n"
     ]
    },
    {
     "name": "stdout",
     "output_type": "stream",
     "text": [
      "Train on 2688 samples, validate on 672 samples\n",
      "2688/2688 [==============================] - 89s 33ms/sample - loss: -0.7676 - cosine_similarity: 0.7676 - val_loss: -0.9218 - val_cosine_similarity: 0.9218\n"
     ]
    },
    {
     "name": "stderr",
     "output_type": "stream",
     "text": [
      "\u001b[32m[I 2019-10-04 19:52:18,549]\u001b[0m Finished trial#55 resulted in value: -0.9217709302902222. Current best value is -0.9247658848762512 with parameters: {'dropout_rate': 0.22677968569252382, 'rnn_unit': 196, 'learning_rate': 0.002635300602163673, 'share_gru_weights_on_book': True, 'use_attention_on_user': True, 'use_batch_norm': False, 'is_embedding_trainable': False, 'final_activation': 'tanh'}.\u001b[0m\n"
     ]
    },
    {
     "name": "stdout",
     "output_type": "stream",
     "text": [
      "Train on 2688 samples, validate on 672 samples\n",
      "2688/2688 [==============================] - 82s 30ms/sample - loss: -0.7487 - cosine_similarity: 0.7487 - val_loss: -0.9163 - val_cosine_similarity: 0.9163\n"
     ]
    },
    {
     "name": "stderr",
     "output_type": "stream",
     "text": [
      "\u001b[32m[I 2019-10-04 19:54:41,055]\u001b[0m Finished trial#56 resulted in value: -0.9163240790367126. Current best value is -0.9247658848762512 with parameters: {'dropout_rate': 0.22677968569252382, 'rnn_unit': 196, 'learning_rate': 0.002635300602163673, 'share_gru_weights_on_book': True, 'use_attention_on_user': True, 'use_batch_norm': False, 'is_embedding_trainable': False, 'final_activation': 'tanh'}.\u001b[0m\n"
     ]
    },
    {
     "name": "stdout",
     "output_type": "stream",
     "text": [
      "Train on 2688 samples, validate on 672 samples\n",
      "2688/2688 [==============================] - 80s 30ms/sample - loss: -0.7429 - cosine_similarity: 0.7429 - val_loss: -0.9151 - val_cosine_similarity: 0.9151\n"
     ]
    },
    {
     "name": "stderr",
     "output_type": "stream",
     "text": [
      "\u001b[32m[I 2019-10-04 19:57:02,610]\u001b[0m Finished trial#57 resulted in value: -0.9150524139404297. Current best value is -0.9247658848762512 with parameters: {'dropout_rate': 0.22677968569252382, 'rnn_unit': 196, 'learning_rate': 0.002635300602163673, 'share_gru_weights_on_book': True, 'use_attention_on_user': True, 'use_batch_norm': False, 'is_embedding_trainable': False, 'final_activation': 'tanh'}.\u001b[0m\n"
     ]
    },
    {
     "name": "stdout",
     "output_type": "stream",
     "text": [
      "Train on 2688 samples, validate on 672 samples\n",
      "2688/2688 [==============================] - 81s 30ms/sample - loss: -0.5525 - cosine_similarity: 0.5525 - val_loss: -0.6765 - val_cosine_similarity: 0.6765\n"
     ]
    },
    {
     "name": "stderr",
     "output_type": "stream",
     "text": [
      "\u001b[32m[I 2019-10-04 19:59:25,868]\u001b[0m Finished trial#58 resulted in value: -0.6765398979187012. Current best value is -0.9247658848762512 with parameters: {'dropout_rate': 0.22677968569252382, 'rnn_unit': 196, 'learning_rate': 0.002635300602163673, 'share_gru_weights_on_book': True, 'use_attention_on_user': True, 'use_batch_norm': False, 'is_embedding_trainable': False, 'final_activation': 'tanh'}.\u001b[0m\n"
     ]
    },
    {
     "name": "stdout",
     "output_type": "stream",
     "text": [
      "Train on 2688 samples, validate on 672 samples\n",
      "2688/2688 [==============================] - 77s 29ms/sample - loss: -0.4550 - cosine_similarity: 0.4550 - val_loss: -0.5865 - val_cosine_similarity: 0.5865\n"
     ]
    },
    {
     "name": "stderr",
     "output_type": "stream",
     "text": [
      "\u001b[32m[I 2019-10-04 20:01:46,032]\u001b[0m Finished trial#59 resulted in value: -0.5865297913551331. Current best value is -0.9247658848762512 with parameters: {'dropout_rate': 0.22677968569252382, 'rnn_unit': 196, 'learning_rate': 0.002635300602163673, 'share_gru_weights_on_book': True, 'use_attention_on_user': True, 'use_batch_norm': False, 'is_embedding_trainable': False, 'final_activation': 'tanh'}.\u001b[0m\n"
     ]
    },
    {
     "name": "stdout",
     "output_type": "stream",
     "text": [
      "Train on 2688 samples, validate on 672 samples\n",
      "2688/2688 [==============================] - 83s 31ms/sample - loss: -0.7516 - cosine_similarity: 0.7516 - val_loss: -0.9209 - val_cosine_similarity: 0.9209\n"
     ]
    },
    {
     "name": "stderr",
     "output_type": "stream",
     "text": [
      "\u001b[32m[I 2019-10-04 20:04:13,048]\u001b[0m Finished trial#60 resulted in value: -0.920868456363678. Current best value is -0.9247658848762512 with parameters: {'dropout_rate': 0.22677968569252382, 'rnn_unit': 196, 'learning_rate': 0.002635300602163673, 'share_gru_weights_on_book': True, 'use_attention_on_user': True, 'use_batch_norm': False, 'is_embedding_trainable': False, 'final_activation': 'tanh'}.\u001b[0m\n"
     ]
    },
    {
     "name": "stdout",
     "output_type": "stream",
     "text": [
      "Train on 2688 samples, validate on 672 samples\n",
      "2688/2688 [==============================] - 81s 30ms/sample - loss: -0.7654 - cosine_similarity: 0.7654 - val_loss: -0.9242 - val_cosine_similarity: 0.9242\n"
     ]
    },
    {
     "name": "stderr",
     "output_type": "stream",
     "text": [
      "\u001b[32m[I 2019-10-04 20:06:40,163]\u001b[0m Finished trial#61 resulted in value: -0.9241930842399597. Current best value is -0.9247658848762512 with parameters: {'dropout_rate': 0.22677968569252382, 'rnn_unit': 196, 'learning_rate': 0.002635300602163673, 'share_gru_weights_on_book': True, 'use_attention_on_user': True, 'use_batch_norm': False, 'is_embedding_trainable': False, 'final_activation': 'tanh'}.\u001b[0m\n"
     ]
    },
    {
     "name": "stdout",
     "output_type": "stream",
     "text": [
      "Train on 2688 samples, validate on 672 samples\n",
      "2688/2688 [==============================] - 78s 29ms/sample - loss: -0.7587 - cosine_similarity: 0.7587 - val_loss: -0.9226 - val_cosine_similarity: 0.9226\n"
     ]
    },
    {
     "name": "stderr",
     "output_type": "stream",
     "text": [
      "\u001b[32m[I 2019-10-04 20:09:03,568]\u001b[0m Finished trial#62 resulted in value: -0.9226263165473938. Current best value is -0.9247658848762512 with parameters: {'dropout_rate': 0.22677968569252382, 'rnn_unit': 196, 'learning_rate': 0.002635300602163673, 'share_gru_weights_on_book': True, 'use_attention_on_user': True, 'use_batch_norm': False, 'is_embedding_trainable': False, 'final_activation': 'tanh'}.\u001b[0m\n"
     ]
    },
    {
     "name": "stdout",
     "output_type": "stream",
     "text": [
      "Train on 2688 samples, validate on 672 samples\n",
      "2688/2688 [==============================] - 82s 31ms/sample - loss: -0.7555 - cosine_similarity: 0.7555 - val_loss: -0.9058 - val_cosine_similarity: 0.9058\n"
     ]
    },
    {
     "name": "stderr",
     "output_type": "stream",
     "text": [
      "\u001b[32m[I 2019-10-04 20:11:32,025]\u001b[0m Finished trial#63 resulted in value: -0.9057928919792175. Current best value is -0.9247658848762512 with parameters: {'dropout_rate': 0.22677968569252382, 'rnn_unit': 196, 'learning_rate': 0.002635300602163673, 'share_gru_weights_on_book': True, 'use_attention_on_user': True, 'use_batch_norm': False, 'is_embedding_trainable': False, 'final_activation': 'tanh'}.\u001b[0m\n"
     ]
    },
    {
     "name": "stdout",
     "output_type": "stream",
     "text": [
      "Train on 2688 samples, validate on 672 samples\n",
      "2688/2688 [==============================] - 80s 30ms/sample - loss: -0.7503 - cosine_similarity: 0.7503 - val_loss: -0.9190 - val_cosine_similarity: 0.9190\n"
     ]
    },
    {
     "name": "stderr",
     "output_type": "stream",
     "text": [
      "\u001b[32m[I 2019-10-04 20:13:59,078]\u001b[0m Finished trial#64 resulted in value: -0.918988823890686. Current best value is -0.9247658848762512 with parameters: {'dropout_rate': 0.22677968569252382, 'rnn_unit': 196, 'learning_rate': 0.002635300602163673, 'share_gru_weights_on_book': True, 'use_attention_on_user': True, 'use_batch_norm': False, 'is_embedding_trainable': False, 'final_activation': 'tanh'}.\u001b[0m\n"
     ]
    },
    {
     "name": "stdout",
     "output_type": "stream",
     "text": [
      "Train on 2688 samples, validate on 672 samples\n",
      "2688/2688 [==============================] - 82s 30ms/sample - loss: -0.7254 - cosine_similarity: 0.7254 - val_loss: -0.8568 - val_cosine_similarity: 0.8568\n"
     ]
    },
    {
     "name": "stderr",
     "output_type": "stream",
     "text": [
      "\u001b[32m[I 2019-10-04 20:16:29,600]\u001b[0m Finished trial#65 resulted in value: -0.8567732572555542. Current best value is -0.9247658848762512 with parameters: {'dropout_rate': 0.22677968569252382, 'rnn_unit': 196, 'learning_rate': 0.002635300602163673, 'share_gru_weights_on_book': True, 'use_attention_on_user': True, 'use_batch_norm': False, 'is_embedding_trainable': False, 'final_activation': 'tanh'}.\u001b[0m\n"
     ]
    },
    {
     "name": "stdout",
     "output_type": "stream",
     "text": [
      "Train on 2688 samples, validate on 672 samples\n",
      "2688/2688 [==============================] - 81s 30ms/sample - loss: -0.6818 - cosine_similarity: 0.6818 - val_loss: -0.7595 - val_cosine_similarity: 0.7595\n"
     ]
    },
    {
     "name": "stderr",
     "output_type": "stream",
     "text": [
      "\u001b[32m[I 2019-10-04 20:18:59,922]\u001b[0m Finished trial#66 resulted in value: -0.7594887614250183. Current best value is -0.9247658848762512 with parameters: {'dropout_rate': 0.22677968569252382, 'rnn_unit': 196, 'learning_rate': 0.002635300602163673, 'share_gru_weights_on_book': True, 'use_attention_on_user': True, 'use_batch_norm': False, 'is_embedding_trainable': False, 'final_activation': 'tanh'}.\u001b[0m\n"
     ]
    },
    {
     "name": "stdout",
     "output_type": "stream",
     "text": [
      "Train on 2688 samples, validate on 672 samples\n",
      "2688/2688 [==============================] - 81s 30ms/sample - loss: -0.7653 - cosine_similarity: 0.7653 - val_loss: -0.9145 - val_cosine_similarity: 0.9145\n"
     ]
    },
    {
     "name": "stderr",
     "output_type": "stream",
     "text": [
      "\u001b[32m[I 2019-10-04 20:21:31,850]\u001b[0m Finished trial#67 resulted in value: -0.9145238995552063. Current best value is -0.9247658848762512 with parameters: {'dropout_rate': 0.22677968569252382, 'rnn_unit': 196, 'learning_rate': 0.002635300602163673, 'share_gru_weights_on_book': True, 'use_attention_on_user': True, 'use_batch_norm': False, 'is_embedding_trainable': False, 'final_activation': 'tanh'}.\u001b[0m\n"
     ]
    },
    {
     "name": "stdout",
     "output_type": "stream",
     "text": [
      "Train on 2688 samples, validate on 672 samples\n",
      "2688/2688 [==============================] - 86s 32ms/sample - loss: -0.7588 - cosine_similarity: 0.7588 - val_loss: -0.9177 - val_cosine_similarity: 0.9177\n"
     ]
    },
    {
     "name": "stderr",
     "output_type": "stream",
     "text": [
      "\u001b[32m[I 2019-10-04 20:24:09,583]\u001b[0m Finished trial#68 resulted in value: -0.91766357421875. Current best value is -0.9247658848762512 with parameters: {'dropout_rate': 0.22677968569252382, 'rnn_unit': 196, 'learning_rate': 0.002635300602163673, 'share_gru_weights_on_book': True, 'use_attention_on_user': True, 'use_batch_norm': False, 'is_embedding_trainable': False, 'final_activation': 'tanh'}.\u001b[0m\n"
     ]
    },
    {
     "name": "stdout",
     "output_type": "stream",
     "text": [
      "Train on 2688 samples, validate on 672 samples\n",
      "2688/2688 [==============================] - 79s 29ms/sample - loss: -0.7479 - cosine_similarity: 0.7479 - val_loss: -0.9142 - val_cosine_similarity: 0.9142\n"
     ]
    },
    {
     "name": "stderr",
     "output_type": "stream",
     "text": [
      "\u001b[32m[I 2019-10-04 20:26:41,033]\u001b[0m Finished trial#69 resulted in value: -0.9142009019851685. Current best value is -0.9247658848762512 with parameters: {'dropout_rate': 0.22677968569252382, 'rnn_unit': 196, 'learning_rate': 0.002635300602163673, 'share_gru_weights_on_book': True, 'use_attention_on_user': True, 'use_batch_norm': False, 'is_embedding_trainable': False, 'final_activation': 'tanh'}.\u001b[0m\n"
     ]
    },
    {
     "name": "stdout",
     "output_type": "stream",
     "text": [
      "Train on 2688 samples, validate on 672 samples\n",
      "2688/2688 [==============================] - 78s 29ms/sample - loss: -0.5071 - cosine_similarity: 0.5071 - val_loss: -0.6056 - val_cosine_similarity: 0.6056\n"
     ]
    },
    {
     "name": "stderr",
     "output_type": "stream",
     "text": [
      "\u001b[32m[I 2019-10-04 20:29:09,206]\u001b[0m Finished trial#70 resulted in value: -0.6056106090545654. Current best value is -0.9247658848762512 with parameters: {'dropout_rate': 0.22677968569252382, 'rnn_unit': 196, 'learning_rate': 0.002635300602163673, 'share_gru_weights_on_book': True, 'use_attention_on_user': True, 'use_batch_norm': False, 'is_embedding_trainable': False, 'final_activation': 'tanh'}.\u001b[0m\n"
     ]
    },
    {
     "name": "stdout",
     "output_type": "stream",
     "text": [
      "Train on 2688 samples, validate on 672 samples\n",
      "2688/2688 [==============================] - 76s 28ms/sample - loss: -0.7795 - cosine_similarity: 0.7795 - val_loss: -0.9245 - val_cosine_similarity: 0.9245\n"
     ]
    },
    {
     "name": "stderr",
     "output_type": "stream",
     "text": [
      "\u001b[32m[I 2019-10-04 20:31:37,842]\u001b[0m Finished trial#71 resulted in value: -0.9245497584342957. Current best value is -0.9247658848762512 with parameters: {'dropout_rate': 0.22677968569252382, 'rnn_unit': 196, 'learning_rate': 0.002635300602163673, 'share_gru_weights_on_book': True, 'use_attention_on_user': True, 'use_batch_norm': False, 'is_embedding_trainable': False, 'final_activation': 'tanh'}.\u001b[0m\n"
     ]
    },
    {
     "name": "stdout",
     "output_type": "stream",
     "text": [
      "Train on 2688 samples, validate on 672 samples\n",
      "2688/2688 [==============================] - 81s 30ms/sample - loss: -0.7524 - cosine_similarity: 0.7524 - val_loss: -0.9181 - val_cosine_similarity: 0.9181\n"
     ]
    },
    {
     "name": "stderr",
     "output_type": "stream",
     "text": [
      "\u001b[32m[I 2019-10-04 20:34:20,552]\u001b[0m Finished trial#72 resulted in value: -0.9181389808654785. Current best value is -0.9247658848762512 with parameters: {'dropout_rate': 0.22677968569252382, 'rnn_unit': 196, 'learning_rate': 0.002635300602163673, 'share_gru_weights_on_book': True, 'use_attention_on_user': True, 'use_batch_norm': False, 'is_embedding_trainable': False, 'final_activation': 'tanh'}.\u001b[0m\n"
     ]
    },
    {
     "name": "stdout",
     "output_type": "stream",
     "text": [
      "Train on 2688 samples, validate on 672 samples\n",
      "2688/2688 [==============================] - 82s 31ms/sample - loss: -0.7691 - cosine_similarity: 0.7691 - val_loss: -0.9176 - val_cosine_similarity: 0.9176\n"
     ]
    },
    {
     "name": "stderr",
     "output_type": "stream",
     "text": [
      "\u001b[32m[I 2019-10-04 20:36:59,556]\u001b[0m Finished trial#73 resulted in value: -0.9175674915313721. Current best value is -0.9247658848762512 with parameters: {'dropout_rate': 0.22677968569252382, 'rnn_unit': 196, 'learning_rate': 0.002635300602163673, 'share_gru_weights_on_book': True, 'use_attention_on_user': True, 'use_batch_norm': False, 'is_embedding_trainable': False, 'final_activation': 'tanh'}.\u001b[0m\n"
     ]
    },
    {
     "name": "stdout",
     "output_type": "stream",
     "text": [
      "Train on 2688 samples, validate on 672 samples\n",
      "2688/2688 [==============================] - 78s 29ms/sample - loss: -0.7352 - cosine_similarity: 0.7352 - val_loss: -0.8403 - val_cosine_similarity: 0.8403\n"
     ]
    },
    {
     "name": "stderr",
     "output_type": "stream",
     "text": [
      "\u001b[32m[I 2019-10-04 20:39:35,129]\u001b[0m Finished trial#74 resulted in value: -0.8403094410896301. Current best value is -0.9247658848762512 with parameters: {'dropout_rate': 0.22677968569252382, 'rnn_unit': 196, 'learning_rate': 0.002635300602163673, 'share_gru_weights_on_book': True, 'use_attention_on_user': True, 'use_batch_norm': False, 'is_embedding_trainable': False, 'final_activation': 'tanh'}.\u001b[0m\n"
     ]
    },
    {
     "name": "stdout",
     "output_type": "stream",
     "text": [
      "Train on 2688 samples, validate on 672 samples\n",
      "2688/2688 [==============================] - 83s 31ms/sample - loss: -0.7588 - cosine_similarity: 0.7588 - val_loss: -0.9179 - val_cosine_similarity: 0.9179\n"
     ]
    },
    {
     "name": "stderr",
     "output_type": "stream",
     "text": [
      "\u001b[32m[I 2019-10-04 20:42:21,099]\u001b[0m Finished trial#75 resulted in value: -0.9178768992424011. Current best value is -0.9247658848762512 with parameters: {'dropout_rate': 0.22677968569252382, 'rnn_unit': 196, 'learning_rate': 0.002635300602163673, 'share_gru_weights_on_book': True, 'use_attention_on_user': True, 'use_batch_norm': False, 'is_embedding_trainable': False, 'final_activation': 'tanh'}.\u001b[0m\n"
     ]
    },
    {
     "name": "stdout",
     "output_type": "stream",
     "text": [
      "Train on 2688 samples, validate on 672 samples\n",
      "2688/2688 [==============================] - 84s 31ms/sample - loss: -0.7509 - cosine_similarity: 0.7509 - val_loss: -0.9175 - val_cosine_similarity: 0.9175\n"
     ]
    },
    {
     "name": "stderr",
     "output_type": "stream",
     "text": [
      "\u001b[32m[I 2019-10-04 20:45:06,453]\u001b[0m Finished trial#76 resulted in value: -0.9174818992614746. Current best value is -0.9247658848762512 with parameters: {'dropout_rate': 0.22677968569252382, 'rnn_unit': 196, 'learning_rate': 0.002635300602163673, 'share_gru_weights_on_book': True, 'use_attention_on_user': True, 'use_batch_norm': False, 'is_embedding_trainable': False, 'final_activation': 'tanh'}.\u001b[0m\n"
     ]
    },
    {
     "name": "stdout",
     "output_type": "stream",
     "text": [
      "Train on 2688 samples, validate on 672 samples\n",
      "2688/2688 [==============================] - 85s 32ms/sample - loss: -0.5143 - cosine_similarity: 0.5143\n"
     ]
    },
    {
     "name": "stderr",
     "output_type": "stream",
     "text": [
      "Exception ignored in: <function _EagerDefinedFunctionDeleter.__del__ at 0x7ff49c0159d8>\n",
      "Traceback (most recent call last):\n",
      "  File \"/opt/conda/lib/python3.7/site-packages/tensorflow_core/python/eager/function.py\", line 353, in __del__\n",
      "    def __del__(self):\n",
      "KeyboardInterrupt: \n"
     ]
    },
    {
     "ename": "KeyboardInterrupt",
     "evalue": "",
     "output_type": "error",
     "traceback": [
      "\u001b[0;31m---------------------------------------------------------------------------\u001b[0m",
      "\u001b[0;31mKeyboardInterrupt\u001b[0m                         Traceback (most recent call last)",
      "\u001b[0;32m<ipython-input-74-d5eb039b24bc>\u001b[0m in \u001b[0;36m<module>\u001b[0;34m\u001b[0m\n\u001b[1;32m      1\u001b[0m \u001b[0mstudy\u001b[0m \u001b[0;34m=\u001b[0m \u001b[0moptuna\u001b[0m\u001b[0;34m.\u001b[0m\u001b[0mcreate_study\u001b[0m\u001b[0;34m(\u001b[0m\u001b[0;34m)\u001b[0m\u001b[0;34m\u001b[0m\u001b[0;34m\u001b[0m\u001b[0m\n\u001b[0;32m----> 2\u001b[0;31m \u001b[0mstudy\u001b[0m\u001b[0;34m.\u001b[0m\u001b[0moptimize\u001b[0m\u001b[0;34m(\u001b[0m\u001b[0mobjective\u001b[0m\u001b[0;34m,\u001b[0m \u001b[0mn_trials\u001b[0m\u001b[0;34m=\u001b[0m\u001b[0;36m300\u001b[0m\u001b[0;34m)\u001b[0m\u001b[0;34m\u001b[0m\u001b[0;34m\u001b[0m\u001b[0m\n\u001b[0m",
      "\u001b[0;32m/opt/conda/lib/python3.7/site-packages/optuna/study.py\u001b[0m in \u001b[0;36moptimize\u001b[0;34m(self, func, n_trials, timeout, n_jobs, catch)\u001b[0m\n\u001b[1;32m    255\u001b[0m         \u001b[0;32mtry\u001b[0m\u001b[0;34m:\u001b[0m\u001b[0;34m\u001b[0m\u001b[0;34m\u001b[0m\u001b[0m\n\u001b[1;32m    256\u001b[0m             \u001b[0;32mif\u001b[0m \u001b[0mn_jobs\u001b[0m \u001b[0;34m==\u001b[0m \u001b[0;36m1\u001b[0m\u001b[0;34m:\u001b[0m\u001b[0;34m\u001b[0m\u001b[0;34m\u001b[0m\u001b[0m\n\u001b[0;32m--> 257\u001b[0;31m                 \u001b[0mself\u001b[0m\u001b[0;34m.\u001b[0m\u001b[0m_optimize_sequential\u001b[0m\u001b[0;34m(\u001b[0m\u001b[0mfunc\u001b[0m\u001b[0;34m,\u001b[0m \u001b[0mn_trials\u001b[0m\u001b[0;34m,\u001b[0m \u001b[0mtimeout\u001b[0m\u001b[0;34m,\u001b[0m \u001b[0mcatch\u001b[0m\u001b[0;34m)\u001b[0m\u001b[0;34m\u001b[0m\u001b[0;34m\u001b[0m\u001b[0m\n\u001b[0m\u001b[1;32m    258\u001b[0m             \u001b[0;32melse\u001b[0m\u001b[0;34m:\u001b[0m\u001b[0;34m\u001b[0m\u001b[0;34m\u001b[0m\u001b[0m\n\u001b[1;32m    259\u001b[0m                 \u001b[0mself\u001b[0m\u001b[0;34m.\u001b[0m\u001b[0m_optimize_parallel\u001b[0m\u001b[0;34m(\u001b[0m\u001b[0mfunc\u001b[0m\u001b[0;34m,\u001b[0m \u001b[0mn_trials\u001b[0m\u001b[0;34m,\u001b[0m \u001b[0mtimeout\u001b[0m\u001b[0;34m,\u001b[0m \u001b[0mn_jobs\u001b[0m\u001b[0;34m,\u001b[0m \u001b[0mcatch\u001b[0m\u001b[0;34m)\u001b[0m\u001b[0;34m\u001b[0m\u001b[0;34m\u001b[0m\u001b[0m\n",
      "\u001b[0;32m/opt/conda/lib/python3.7/site-packages/optuna/study.py\u001b[0m in \u001b[0;36m_optimize_sequential\u001b[0;34m(self, func, n_trials, timeout, catch)\u001b[0m\n\u001b[1;32m    372\u001b[0m                     \u001b[0;32mbreak\u001b[0m\u001b[0;34m\u001b[0m\u001b[0;34m\u001b[0m\u001b[0m\n\u001b[1;32m    373\u001b[0m \u001b[0;34m\u001b[0m\u001b[0m\n\u001b[0;32m--> 374\u001b[0;31m             \u001b[0mself\u001b[0m\u001b[0;34m.\u001b[0m\u001b[0m_run_trial\u001b[0m\u001b[0;34m(\u001b[0m\u001b[0mfunc\u001b[0m\u001b[0;34m,\u001b[0m \u001b[0mcatch\u001b[0m\u001b[0;34m)\u001b[0m\u001b[0;34m\u001b[0m\u001b[0;34m\u001b[0m\u001b[0m\n\u001b[0m\u001b[1;32m    375\u001b[0m \u001b[0;34m\u001b[0m\u001b[0m\n\u001b[1;32m    376\u001b[0m     def _optimize_parallel(\n",
      "\u001b[0;32m/opt/conda/lib/python3.7/site-packages/optuna/study.py\u001b[0m in \u001b[0;36m_run_trial\u001b[0;34m(self, func, catch)\u001b[0m\n\u001b[1;32m    446\u001b[0m \u001b[0;34m\u001b[0m\u001b[0m\n\u001b[1;32m    447\u001b[0m         \u001b[0;32mtry\u001b[0m\u001b[0;34m:\u001b[0m\u001b[0;34m\u001b[0m\u001b[0;34m\u001b[0m\u001b[0m\n\u001b[0;32m--> 448\u001b[0;31m             \u001b[0mresult\u001b[0m \u001b[0;34m=\u001b[0m \u001b[0mfunc\u001b[0m\u001b[0;34m(\u001b[0m\u001b[0mtrial\u001b[0m\u001b[0;34m)\u001b[0m\u001b[0;34m\u001b[0m\u001b[0;34m\u001b[0m\u001b[0m\n\u001b[0m\u001b[1;32m    449\u001b[0m         \u001b[0;32mexcept\u001b[0m \u001b[0mstructs\u001b[0m\u001b[0;34m.\u001b[0m\u001b[0mTrialPruned\u001b[0m \u001b[0;32mas\u001b[0m \u001b[0me\u001b[0m\u001b[0;34m:\u001b[0m\u001b[0;34m\u001b[0m\u001b[0;34m\u001b[0m\u001b[0m\n\u001b[1;32m    450\u001b[0m             message = 'Setting status of trial#{} as {}. {}'.format(trial_number,\n",
      "\u001b[0;32m<ipython-input-73-1295631e0e39>\u001b[0m in \u001b[0;36mobjective\u001b[0;34m(trial)\u001b[0m\n\u001b[1;32m     33\u001b[0m         \u001b[0mepochs\u001b[0m\u001b[0;34m=\u001b[0m\u001b[0;36m1\u001b[0m\u001b[0;34m,\u001b[0m\u001b[0;34m\u001b[0m\u001b[0;34m\u001b[0m\u001b[0m\n\u001b[1;32m     34\u001b[0m         \u001b[0mvalidation_data\u001b[0m\u001b[0;34m=\u001b[0m\u001b[0;34m(\u001b[0m\u001b[0;34m[\u001b[0m\u001b[0mx_val_1\u001b[0m\u001b[0;34m,\u001b[0m \u001b[0mx_val_2\u001b[0m\u001b[0;34m,\u001b[0m \u001b[0mx_val_3\u001b[0m\u001b[0;34m,\u001b[0m \u001b[0mx_val_4\u001b[0m\u001b[0;34m]\u001b[0m\u001b[0;34m,\u001b[0m \u001b[0my_val_mean\u001b[0m\u001b[0;34m)\u001b[0m\u001b[0;34m,\u001b[0m\u001b[0;34m\u001b[0m\u001b[0;34m\u001b[0m\u001b[0m\n\u001b[0;32m---> 35\u001b[0;31m         batch_size=256)\n\u001b[0m\u001b[1;32m     36\u001b[0m \u001b[0;34m\u001b[0m\u001b[0m\n\u001b[1;32m     37\u001b[0m     \u001b[0;32mreturn\u001b[0m \u001b[0;34m-\u001b[0m\u001b[0mnp\u001b[0m\u001b[0;34m.\u001b[0m\u001b[0mamax\u001b[0m\u001b[0;34m(\u001b[0m\u001b[0mhistory\u001b[0m\u001b[0;34m.\u001b[0m\u001b[0mhistory\u001b[0m\u001b[0;34m[\u001b[0m\u001b[0;34m'val_cosine_similarity'\u001b[0m\u001b[0;34m]\u001b[0m\u001b[0;34m)\u001b[0m\u001b[0;34m\u001b[0m\u001b[0;34m\u001b[0m\u001b[0m\n",
      "\u001b[0;32m/opt/conda/lib/python3.7/site-packages/tensorflow_core/python/keras/engine/training.py\u001b[0m in \u001b[0;36mfit\u001b[0;34m(self, x, y, batch_size, epochs, verbose, callbacks, validation_split, validation_data, shuffle, class_weight, sample_weight, initial_epoch, steps_per_epoch, validation_steps, validation_freq, max_queue_size, workers, use_multiprocessing, **kwargs)\u001b[0m\n\u001b[1;32m    726\u001b[0m         \u001b[0mmax_queue_size\u001b[0m\u001b[0;34m=\u001b[0m\u001b[0mmax_queue_size\u001b[0m\u001b[0;34m,\u001b[0m\u001b[0;34m\u001b[0m\u001b[0;34m\u001b[0m\u001b[0m\n\u001b[1;32m    727\u001b[0m         \u001b[0mworkers\u001b[0m\u001b[0;34m=\u001b[0m\u001b[0mworkers\u001b[0m\u001b[0;34m,\u001b[0m\u001b[0;34m\u001b[0m\u001b[0;34m\u001b[0m\u001b[0m\n\u001b[0;32m--> 728\u001b[0;31m         use_multiprocessing=use_multiprocessing)\n\u001b[0m\u001b[1;32m    729\u001b[0m \u001b[0;34m\u001b[0m\u001b[0m\n\u001b[1;32m    730\u001b[0m   def evaluate(self,\n",
      "\u001b[0;32m/opt/conda/lib/python3.7/site-packages/tensorflow_core/python/keras/engine/training_v2.py\u001b[0m in \u001b[0;36mfit\u001b[0;34m(self, model, x, y, batch_size, epochs, verbose, callbacks, validation_split, validation_data, shuffle, class_weight, sample_weight, initial_epoch, steps_per_epoch, validation_steps, validation_freq, **kwargs)\u001b[0m\n\u001b[1;32m    368\u001b[0m                       \u001b[0mmode\u001b[0m\u001b[0;34m=\u001b[0m\u001b[0mModeKeys\u001b[0m\u001b[0;34m.\u001b[0m\u001b[0mTEST\u001b[0m\u001b[0;34m,\u001b[0m\u001b[0;34m\u001b[0m\u001b[0;34m\u001b[0m\u001b[0m\n\u001b[1;32m    369\u001b[0m                       \u001b[0mtraining_context\u001b[0m\u001b[0;34m=\u001b[0m\u001b[0meval_context\u001b[0m\u001b[0;34m,\u001b[0m\u001b[0;34m\u001b[0m\u001b[0;34m\u001b[0m\u001b[0m\n\u001b[0;32m--> 370\u001b[0;31m                       total_epochs=1)\n\u001b[0m\u001b[1;32m    371\u001b[0m                   cbks.make_logs(model, epoch_logs, eval_result, ModeKeys.TEST,\n\u001b[1;32m    372\u001b[0m                                  prefix='val_')\n",
      "\u001b[0;32m/opt/conda/lib/python3.7/site-packages/tensorflow_core/python/keras/engine/training_v2.py\u001b[0m in \u001b[0;36mrun_one_epoch\u001b[0;34m(model, iterator, execution_function, dataset_size, batch_size, strategy, steps_per_epoch, num_samples, mode, training_context, total_epochs)\u001b[0m\n\u001b[1;32m    121\u001b[0m         step=step, mode=mode, size=current_batch_size) as batch_logs:\n\u001b[1;32m    122\u001b[0m       \u001b[0;32mtry\u001b[0m\u001b[0;34m:\u001b[0m\u001b[0;34m\u001b[0m\u001b[0;34m\u001b[0m\u001b[0m\n\u001b[0;32m--> 123\u001b[0;31m         \u001b[0mbatch_outs\u001b[0m \u001b[0;34m=\u001b[0m \u001b[0mexecution_function\u001b[0m\u001b[0;34m(\u001b[0m\u001b[0miterator\u001b[0m\u001b[0;34m)\u001b[0m\u001b[0;34m\u001b[0m\u001b[0;34m\u001b[0m\u001b[0m\n\u001b[0m\u001b[1;32m    124\u001b[0m       \u001b[0;32mexcept\u001b[0m \u001b[0;34m(\u001b[0m\u001b[0mStopIteration\u001b[0m\u001b[0;34m,\u001b[0m \u001b[0merrors\u001b[0m\u001b[0;34m.\u001b[0m\u001b[0mOutOfRangeError\u001b[0m\u001b[0;34m)\u001b[0m\u001b[0;34m:\u001b[0m\u001b[0;34m\u001b[0m\u001b[0;34m\u001b[0m\u001b[0m\n\u001b[1;32m    125\u001b[0m         \u001b[0;31m# TODO(kaftan): File bug about tf function and errors.OutOfRangeError?\u001b[0m\u001b[0;34m\u001b[0m\u001b[0;34m\u001b[0m\u001b[0;34m\u001b[0m\u001b[0m\n",
      "\u001b[0;32m/opt/conda/lib/python3.7/site-packages/tensorflow_core/python/keras/engine/training_v2_utils.py\u001b[0m in \u001b[0;36mexecution_function\u001b[0;34m(input_fn)\u001b[0m\n\u001b[1;32m     84\u001b[0m     \u001b[0;31m# `numpy` translates Tensors to values in Eager mode.\u001b[0m\u001b[0;34m\u001b[0m\u001b[0;34m\u001b[0m\u001b[0;34m\u001b[0m\u001b[0m\n\u001b[1;32m     85\u001b[0m     return nest.map_structure(_non_none_constant_value,\n\u001b[0;32m---> 86\u001b[0;31m                               distributed_function(input_fn))\n\u001b[0m\u001b[1;32m     87\u001b[0m \u001b[0;34m\u001b[0m\u001b[0m\n\u001b[1;32m     88\u001b[0m   \u001b[0;32mreturn\u001b[0m \u001b[0mexecution_function\u001b[0m\u001b[0;34m\u001b[0m\u001b[0;34m\u001b[0m\u001b[0m\n",
      "\u001b[0;32m/opt/conda/lib/python3.7/site-packages/tensorflow_core/python/eager/def_function.py\u001b[0m in \u001b[0;36m__call__\u001b[0;34m(self, *args, **kwds)\u001b[0m\n\u001b[1;32m    455\u001b[0m \u001b[0;34m\u001b[0m\u001b[0m\n\u001b[1;32m    456\u001b[0m     \u001b[0mtracing_count\u001b[0m \u001b[0;34m=\u001b[0m \u001b[0mself\u001b[0m\u001b[0;34m.\u001b[0m\u001b[0m_get_tracing_count\u001b[0m\u001b[0;34m(\u001b[0m\u001b[0;34m)\u001b[0m\u001b[0;34m\u001b[0m\u001b[0;34m\u001b[0m\u001b[0m\n\u001b[0;32m--> 457\u001b[0;31m     \u001b[0mresult\u001b[0m \u001b[0;34m=\u001b[0m \u001b[0mself\u001b[0m\u001b[0;34m.\u001b[0m\u001b[0m_call\u001b[0m\u001b[0;34m(\u001b[0m\u001b[0;34m*\u001b[0m\u001b[0margs\u001b[0m\u001b[0;34m,\u001b[0m \u001b[0;34m**\u001b[0m\u001b[0mkwds\u001b[0m\u001b[0;34m)\u001b[0m\u001b[0;34m\u001b[0m\u001b[0;34m\u001b[0m\u001b[0m\n\u001b[0m\u001b[1;32m    458\u001b[0m     \u001b[0;32mif\u001b[0m \u001b[0mtracing_count\u001b[0m \u001b[0;34m==\u001b[0m \u001b[0mself\u001b[0m\u001b[0;34m.\u001b[0m\u001b[0m_get_tracing_count\u001b[0m\u001b[0;34m(\u001b[0m\u001b[0;34m)\u001b[0m\u001b[0;34m:\u001b[0m\u001b[0;34m\u001b[0m\u001b[0;34m\u001b[0m\u001b[0m\n\u001b[1;32m    459\u001b[0m       \u001b[0mself\u001b[0m\u001b[0;34m.\u001b[0m\u001b[0m_call_counter\u001b[0m\u001b[0;34m.\u001b[0m\u001b[0mcalled_without_tracing\u001b[0m\u001b[0;34m(\u001b[0m\u001b[0;34m)\u001b[0m\u001b[0;34m\u001b[0m\u001b[0;34m\u001b[0m\u001b[0m\n",
      "\u001b[0;32m/opt/conda/lib/python3.7/site-packages/tensorflow_core/python/eager/def_function.py\u001b[0m in \u001b[0;36m_call\u001b[0;34m(self, *args, **kwds)\u001b[0m\n\u001b[1;32m    492\u001b[0m       \u001b[0;31m# In this case we have not created variables on the first call. So we can\u001b[0m\u001b[0;34m\u001b[0m\u001b[0;34m\u001b[0m\u001b[0;34m\u001b[0m\u001b[0m\n\u001b[1;32m    493\u001b[0m       \u001b[0;31m# run the first trace but we should fail if variables are created.\u001b[0m\u001b[0;34m\u001b[0m\u001b[0;34m\u001b[0m\u001b[0;34m\u001b[0m\u001b[0m\n\u001b[0;32m--> 494\u001b[0;31m       \u001b[0mresults\u001b[0m \u001b[0;34m=\u001b[0m \u001b[0mself\u001b[0m\u001b[0;34m.\u001b[0m\u001b[0m_stateful_fn\u001b[0m\u001b[0;34m(\u001b[0m\u001b[0;34m*\u001b[0m\u001b[0margs\u001b[0m\u001b[0;34m,\u001b[0m \u001b[0;34m**\u001b[0m\u001b[0mkwds\u001b[0m\u001b[0;34m)\u001b[0m\u001b[0;34m\u001b[0m\u001b[0;34m\u001b[0m\u001b[0m\n\u001b[0m\u001b[1;32m    495\u001b[0m       \u001b[0;32mif\u001b[0m \u001b[0mself\u001b[0m\u001b[0;34m.\u001b[0m\u001b[0m_created_variables\u001b[0m\u001b[0;34m:\u001b[0m\u001b[0;34m\u001b[0m\u001b[0;34m\u001b[0m\u001b[0m\n\u001b[1;32m    496\u001b[0m         raise ValueError(\"Creating variables on a non-first call to a function\"\n",
      "\u001b[0;32m/opt/conda/lib/python3.7/site-packages/tensorflow_core/python/eager/function.py\u001b[0m in \u001b[0;36m__call__\u001b[0;34m(self, *args, **kwargs)\u001b[0m\n\u001b[1;32m   1821\u001b[0m     \u001b[0;34m\"\"\"Calls a graph function specialized to the inputs.\"\"\"\u001b[0m\u001b[0;34m\u001b[0m\u001b[0;34m\u001b[0m\u001b[0m\n\u001b[1;32m   1822\u001b[0m     \u001b[0mgraph_function\u001b[0m\u001b[0;34m,\u001b[0m \u001b[0margs\u001b[0m\u001b[0;34m,\u001b[0m \u001b[0mkwargs\u001b[0m \u001b[0;34m=\u001b[0m \u001b[0mself\u001b[0m\u001b[0;34m.\u001b[0m\u001b[0m_maybe_define_function\u001b[0m\u001b[0;34m(\u001b[0m\u001b[0margs\u001b[0m\u001b[0;34m,\u001b[0m \u001b[0mkwargs\u001b[0m\u001b[0;34m)\u001b[0m\u001b[0;34m\u001b[0m\u001b[0;34m\u001b[0m\u001b[0m\n\u001b[0;32m-> 1823\u001b[0;31m     \u001b[0;32mreturn\u001b[0m \u001b[0mgraph_function\u001b[0m\u001b[0;34m.\u001b[0m\u001b[0m_filtered_call\u001b[0m\u001b[0;34m(\u001b[0m\u001b[0margs\u001b[0m\u001b[0;34m,\u001b[0m \u001b[0mkwargs\u001b[0m\u001b[0;34m)\u001b[0m  \u001b[0;31m# pylint: disable=protected-access\u001b[0m\u001b[0;34m\u001b[0m\u001b[0;34m\u001b[0m\u001b[0m\n\u001b[0m\u001b[1;32m   1824\u001b[0m \u001b[0;34m\u001b[0m\u001b[0m\n\u001b[1;32m   1825\u001b[0m   \u001b[0;34m@\u001b[0m\u001b[0mproperty\u001b[0m\u001b[0;34m\u001b[0m\u001b[0;34m\u001b[0m\u001b[0m\n",
      "\u001b[0;32m/opt/conda/lib/python3.7/site-packages/tensorflow_core/python/eager/function.py\u001b[0m in \u001b[0;36m_filtered_call\u001b[0;34m(self, args, kwargs)\u001b[0m\n\u001b[1;32m   1139\u001b[0m          if isinstance(t, (ops.Tensor,\n\u001b[1;32m   1140\u001b[0m                            resource_variable_ops.BaseResourceVariable))),\n\u001b[0;32m-> 1141\u001b[0;31m         self.captured_inputs)\n\u001b[0m\u001b[1;32m   1142\u001b[0m \u001b[0;34m\u001b[0m\u001b[0m\n\u001b[1;32m   1143\u001b[0m   \u001b[0;32mdef\u001b[0m \u001b[0m_call_flat\u001b[0m\u001b[0;34m(\u001b[0m\u001b[0mself\u001b[0m\u001b[0;34m,\u001b[0m \u001b[0margs\u001b[0m\u001b[0;34m,\u001b[0m \u001b[0mcaptured_inputs\u001b[0m\u001b[0;34m,\u001b[0m \u001b[0mcancellation_manager\u001b[0m\u001b[0;34m=\u001b[0m\u001b[0;32mNone\u001b[0m\u001b[0;34m)\u001b[0m\u001b[0;34m:\u001b[0m\u001b[0;34m\u001b[0m\u001b[0;34m\u001b[0m\u001b[0m\n",
      "\u001b[0;32m/opt/conda/lib/python3.7/site-packages/tensorflow_core/python/eager/function.py\u001b[0m in \u001b[0;36m_call_flat\u001b[0;34m(self, args, captured_inputs, cancellation_manager)\u001b[0m\n\u001b[1;32m   1222\u001b[0m     \u001b[0;32mif\u001b[0m \u001b[0mexecuting_eagerly\u001b[0m\u001b[0;34m:\u001b[0m\u001b[0;34m\u001b[0m\u001b[0;34m\u001b[0m\u001b[0m\n\u001b[1;32m   1223\u001b[0m       flat_outputs = forward_function.call(\n\u001b[0;32m-> 1224\u001b[0;31m           ctx, args, cancellation_manager=cancellation_manager)\n\u001b[0m\u001b[1;32m   1225\u001b[0m     \u001b[0;32melse\u001b[0m\u001b[0;34m:\u001b[0m\u001b[0;34m\u001b[0m\u001b[0;34m\u001b[0m\u001b[0m\n\u001b[1;32m   1226\u001b[0m       \u001b[0mgradient_name\u001b[0m \u001b[0;34m=\u001b[0m \u001b[0mself\u001b[0m\u001b[0;34m.\u001b[0m\u001b[0m_delayed_rewrite_functions\u001b[0m\u001b[0;34m.\u001b[0m\u001b[0mregister\u001b[0m\u001b[0;34m(\u001b[0m\u001b[0;34m)\u001b[0m\u001b[0;34m\u001b[0m\u001b[0;34m\u001b[0m\u001b[0m\n",
      "\u001b[0;32m/opt/conda/lib/python3.7/site-packages/tensorflow_core/python/eager/function.py\u001b[0m in \u001b[0;36mcall\u001b[0;34m(self, ctx, args, cancellation_manager)\u001b[0m\n\u001b[1;32m    509\u001b[0m               \u001b[0minputs\u001b[0m\u001b[0;34m=\u001b[0m\u001b[0margs\u001b[0m\u001b[0;34m,\u001b[0m\u001b[0;34m\u001b[0m\u001b[0;34m\u001b[0m\u001b[0m\n\u001b[1;32m    510\u001b[0m               \u001b[0mattrs\u001b[0m\u001b[0;34m=\u001b[0m\u001b[0;34m(\u001b[0m\u001b[0;34m\"executor_type\"\u001b[0m\u001b[0;34m,\u001b[0m \u001b[0mexecutor_type\u001b[0m\u001b[0;34m,\u001b[0m \u001b[0;34m\"config_proto\"\u001b[0m\u001b[0;34m,\u001b[0m \u001b[0mconfig\u001b[0m\u001b[0;34m)\u001b[0m\u001b[0;34m,\u001b[0m\u001b[0;34m\u001b[0m\u001b[0;34m\u001b[0m\u001b[0m\n\u001b[0;32m--> 511\u001b[0;31m               ctx=ctx)\n\u001b[0m\u001b[1;32m    512\u001b[0m         \u001b[0;32melse\u001b[0m\u001b[0;34m:\u001b[0m\u001b[0;34m\u001b[0m\u001b[0;34m\u001b[0m\u001b[0m\n\u001b[1;32m    513\u001b[0m           outputs = execute.execute_with_cancellation(\n",
      "\u001b[0;32m/opt/conda/lib/python3.7/site-packages/tensorflow_core/python/eager/execute.py\u001b[0m in \u001b[0;36mquick_execute\u001b[0;34m(op_name, num_outputs, inputs, attrs, ctx, name)\u001b[0m\n\u001b[1;32m     59\u001b[0m     tensors = pywrap_tensorflow.TFE_Py_Execute(ctx._handle, device_name,\n\u001b[1;32m     60\u001b[0m                                                \u001b[0mop_name\u001b[0m\u001b[0;34m,\u001b[0m \u001b[0minputs\u001b[0m\u001b[0;34m,\u001b[0m \u001b[0mattrs\u001b[0m\u001b[0;34m,\u001b[0m\u001b[0;34m\u001b[0m\u001b[0;34m\u001b[0m\u001b[0m\n\u001b[0;32m---> 61\u001b[0;31m                                                num_outputs)\n\u001b[0m\u001b[1;32m     62\u001b[0m   \u001b[0;32mexcept\u001b[0m \u001b[0mcore\u001b[0m\u001b[0;34m.\u001b[0m\u001b[0m_NotOkStatusException\u001b[0m \u001b[0;32mas\u001b[0m \u001b[0me\u001b[0m\u001b[0;34m:\u001b[0m\u001b[0;34m\u001b[0m\u001b[0;34m\u001b[0m\u001b[0m\n\u001b[1;32m     63\u001b[0m     \u001b[0;32mif\u001b[0m \u001b[0mname\u001b[0m \u001b[0;32mis\u001b[0m \u001b[0;32mnot\u001b[0m \u001b[0;32mNone\u001b[0m\u001b[0;34m:\u001b[0m\u001b[0;34m\u001b[0m\u001b[0;34m\u001b[0m\u001b[0m\n",
      "\u001b[0;31mKeyboardInterrupt\u001b[0m: "
     ]
    }
   ],
   "source": [
    "study = optuna.create_study()\n",
    "study.optimize(objective, n_trials=100)"
   ]
  },
  {
   "cell_type": "code",
   "execution_count": 75,
   "metadata": {},
   "outputs": [
    {
     "data": {
      "text/plain": [
       "{'dropout_rate': 0.22677968569252382,\n",
       " 'rnn_unit': 196,\n",
       " 'learning_rate': 0.002635300602163673,\n",
       " 'share_gru_weights_on_book': True,\n",
       " 'use_attention_on_user': True,\n",
       " 'use_batch_norm': False,\n",
       " 'is_embedding_trainable': False,\n",
       " 'final_activation': 'tanh'}"
      ]
     },
     "execution_count": 75,
     "metadata": {},
     "output_type": "execute_result"
    }
   ],
   "source": [
    "study.best_params"
   ]
  },
  {
   "cell_type": "code",
   "execution_count": 76,
   "metadata": {},
   "outputs": [
    {
     "data": {
      "text/plain": [
       "-0.9247658848762512"
      ]
     },
     "execution_count": 76,
     "metadata": {},
     "output_type": "execute_result"
    }
   ],
   "source": [
    "study.best_value"
   ]
  },
  {
   "cell_type": "code",
   "execution_count": 77,
   "metadata": {},
   "outputs": [],
   "source": [
    "trial_df = study.trials_dataframe()"
   ]
  },
  {
   "cell_type": "code",
   "execution_count": 80,
   "metadata": {},
   "outputs": [
    {
     "data": {
      "text/html": [
       "<div>\n",
       "<style scoped>\n",
       "    .dataframe tbody tr th:only-of-type {\n",
       "        vertical-align: middle;\n",
       "    }\n",
       "\n",
       "    .dataframe tbody tr th {\n",
       "        vertical-align: top;\n",
       "    }\n",
       "\n",
       "    .dataframe thead tr th {\n",
       "        text-align: left;\n",
       "    }\n",
       "</style>\n",
       "<table border=\"1\" class=\"dataframe\">\n",
       "  <thead>\n",
       "    <tr>\n",
       "      <th></th>\n",
       "      <th>number</th>\n",
       "      <th>state</th>\n",
       "      <th>value</th>\n",
       "      <th>datetime_start</th>\n",
       "      <th>datetime_complete</th>\n",
       "      <th colspan=\"8\" halign=\"left\">params</th>\n",
       "      <th>system_attrs</th>\n",
       "    </tr>\n",
       "    <tr>\n",
       "      <th></th>\n",
       "      <th></th>\n",
       "      <th></th>\n",
       "      <th></th>\n",
       "      <th></th>\n",
       "      <th></th>\n",
       "      <th>dropout_rate</th>\n",
       "      <th>final_activation</th>\n",
       "      <th>is_embedding_trainable</th>\n",
       "      <th>learning_rate</th>\n",
       "      <th>rnn_unit</th>\n",
       "      <th>share_gru_weights_on_book</th>\n",
       "      <th>use_attention_on_user</th>\n",
       "      <th>use_batch_norm</th>\n",
       "      <th>_number</th>\n",
       "    </tr>\n",
       "  </thead>\n",
       "  <tbody>\n",
       "    <tr>\n",
       "      <th>32</th>\n",
       "      <td>32</td>\n",
       "      <td>TrialState.COMPLETE</td>\n",
       "      <td>-0.924766</td>\n",
       "      <td>2019-10-04 18:59:16.007356</td>\n",
       "      <td>2019-10-04 19:01:16.551753</td>\n",
       "      <td>0.226780</td>\n",
       "      <td>tanh</td>\n",
       "      <td>False</td>\n",
       "      <td>0.002635</td>\n",
       "      <td>196</td>\n",
       "      <td>True</td>\n",
       "      <td>True</td>\n",
       "      <td>False</td>\n",
       "      <td>32</td>\n",
       "    </tr>\n",
       "    <tr>\n",
       "      <th>71</th>\n",
       "      <td>71</td>\n",
       "      <td>TrialState.COMPLETE</td>\n",
       "      <td>-0.924550</td>\n",
       "      <td>2019-10-04 20:29:09.207612</td>\n",
       "      <td>2019-10-04 20:31:37.814192</td>\n",
       "      <td>0.230288</td>\n",
       "      <td>tanh</td>\n",
       "      <td>False</td>\n",
       "      <td>0.002986</td>\n",
       "      <td>175</td>\n",
       "      <td>True</td>\n",
       "      <td>True</td>\n",
       "      <td>False</td>\n",
       "      <td>71</td>\n",
       "    </tr>\n",
       "    <tr>\n",
       "      <th>61</th>\n",
       "      <td>61</td>\n",
       "      <td>TrialState.COMPLETE</td>\n",
       "      <td>-0.924193</td>\n",
       "      <td>2019-10-04 20:04:13.050263</td>\n",
       "      <td>2019-10-04 20:06:40.137613</td>\n",
       "      <td>0.211828</td>\n",
       "      <td>tanh</td>\n",
       "      <td>False</td>\n",
       "      <td>0.003088</td>\n",
       "      <td>175</td>\n",
       "      <td>True</td>\n",
       "      <td>True</td>\n",
       "      <td>False</td>\n",
       "      <td>61</td>\n",
       "    </tr>\n",
       "    <tr>\n",
       "      <th>62</th>\n",
       "      <td>62</td>\n",
       "      <td>TrialState.COMPLETE</td>\n",
       "      <td>-0.922626</td>\n",
       "      <td>2019-10-04 20:06:40.165160</td>\n",
       "      <td>2019-10-04 20:09:03.541747</td>\n",
       "      <td>0.207665</td>\n",
       "      <td>tanh</td>\n",
       "      <td>False</td>\n",
       "      <td>0.003520</td>\n",
       "      <td>175</td>\n",
       "      <td>True</td>\n",
       "      <td>True</td>\n",
       "      <td>False</td>\n",
       "      <td>62</td>\n",
       "    </tr>\n",
       "    <tr>\n",
       "      <th>31</th>\n",
       "      <td>31</td>\n",
       "      <td>TrialState.COMPLETE</td>\n",
       "      <td>-0.922443</td>\n",
       "      <td>2019-10-04 18:57:12.387212</td>\n",
       "      <td>2019-10-04 18:59:15.985588</td>\n",
       "      <td>0.229036</td>\n",
       "      <td>tanh</td>\n",
       "      <td>False</td>\n",
       "      <td>0.002860</td>\n",
       "      <td>190</td>\n",
       "      <td>True</td>\n",
       "      <td>True</td>\n",
       "      <td>False</td>\n",
       "      <td>31</td>\n",
       "    </tr>\n",
       "    <tr>\n",
       "      <th>30</th>\n",
       "      <td>30</td>\n",
       "      <td>TrialState.COMPLETE</td>\n",
       "      <td>-0.921897</td>\n",
       "      <td>2019-10-04 18:55:10.700393</td>\n",
       "      <td>2019-10-04 18:57:12.368135</td>\n",
       "      <td>0.230709</td>\n",
       "      <td>tanh</td>\n",
       "      <td>False</td>\n",
       "      <td>0.002600</td>\n",
       "      <td>190</td>\n",
       "      <td>True</td>\n",
       "      <td>True</td>\n",
       "      <td>False</td>\n",
       "      <td>30</td>\n",
       "    </tr>\n",
       "    <tr>\n",
       "      <th>55</th>\n",
       "      <td>55</td>\n",
       "      <td>TrialState.COMPLETE</td>\n",
       "      <td>-0.921771</td>\n",
       "      <td>2019-10-04 19:49:48.922546</td>\n",
       "      <td>2019-10-04 19:52:18.524016</td>\n",
       "      <td>0.206756</td>\n",
       "      <td>tanh</td>\n",
       "      <td>False</td>\n",
       "      <td>0.003380</td>\n",
       "      <td>173</td>\n",
       "      <td>True</td>\n",
       "      <td>True</td>\n",
       "      <td>False</td>\n",
       "      <td>55</td>\n",
       "    </tr>\n",
       "    <tr>\n",
       "      <th>49</th>\n",
       "      <td>49</td>\n",
       "      <td>TrialState.COMPLETE</td>\n",
       "      <td>-0.921191</td>\n",
       "      <td>2019-10-04 19:36:09.681700</td>\n",
       "      <td>2019-10-04 19:38:24.471640</td>\n",
       "      <td>0.285395</td>\n",
       "      <td>tanh</td>\n",
       "      <td>False</td>\n",
       "      <td>0.002987</td>\n",
       "      <td>179</td>\n",
       "      <td>True</td>\n",
       "      <td>True</td>\n",
       "      <td>False</td>\n",
       "      <td>49</td>\n",
       "    </tr>\n",
       "    <tr>\n",
       "      <th>60</th>\n",
       "      <td>60</td>\n",
       "      <td>TrialState.COMPLETE</td>\n",
       "      <td>-0.920868</td>\n",
       "      <td>2019-10-04 20:01:46.034102</td>\n",
       "      <td>2019-10-04 20:04:13.019373</td>\n",
       "      <td>0.211781</td>\n",
       "      <td>tanh</td>\n",
       "      <td>False</td>\n",
       "      <td>0.003142</td>\n",
       "      <td>175</td>\n",
       "      <td>True</td>\n",
       "      <td>True</td>\n",
       "      <td>False</td>\n",
       "      <td>60</td>\n",
       "    </tr>\n",
       "    <tr>\n",
       "      <th>26</th>\n",
       "      <td>26</td>\n",
       "      <td>TrialState.COMPLETE</td>\n",
       "      <td>-0.920525</td>\n",
       "      <td>2019-10-04 18:47:08.907868</td>\n",
       "      <td>2019-10-04 18:49:08.904435</td>\n",
       "      <td>0.224963</td>\n",
       "      <td>tanh</td>\n",
       "      <td>False</td>\n",
       "      <td>0.002670</td>\n",
       "      <td>184</td>\n",
       "      <td>True</td>\n",
       "      <td>True</td>\n",
       "      <td>False</td>\n",
       "      <td>26</td>\n",
       "    </tr>\n",
       "    <tr>\n",
       "      <th>47</th>\n",
       "      <td>47</td>\n",
       "      <td>TrialState.COMPLETE</td>\n",
       "      <td>-0.919960</td>\n",
       "      <td>2019-10-04 19:31:37.521895</td>\n",
       "      <td>2019-10-04 19:33:53.477967</td>\n",
       "      <td>0.280914</td>\n",
       "      <td>tanh</td>\n",
       "      <td>False</td>\n",
       "      <td>0.002725</td>\n",
       "      <td>179</td>\n",
       "      <td>True</td>\n",
       "      <td>True</td>\n",
       "      <td>False</td>\n",
       "      <td>47</td>\n",
       "    </tr>\n",
       "    <tr>\n",
       "      <th>42</th>\n",
       "      <td>42</td>\n",
       "      <td>TrialState.COMPLETE</td>\n",
       "      <td>-0.919700</td>\n",
       "      <td>2019-10-04 19:20:31.919492</td>\n",
       "      <td>2019-10-04 19:22:43.478434</td>\n",
       "      <td>0.316144</td>\n",
       "      <td>tanh</td>\n",
       "      <td>False</td>\n",
       "      <td>0.002617</td>\n",
       "      <td>196</td>\n",
       "      <td>True</td>\n",
       "      <td>True</td>\n",
       "      <td>False</td>\n",
       "      <td>42</td>\n",
       "    </tr>\n",
       "    <tr>\n",
       "      <th>51</th>\n",
       "      <td>51</td>\n",
       "      <td>TrialState.COMPLETE</td>\n",
       "      <td>-0.919116</td>\n",
       "      <td>2019-10-04 19:40:41.306439</td>\n",
       "      <td>2019-10-04 19:42:57.742357</td>\n",
       "      <td>0.281624</td>\n",
       "      <td>tanh</td>\n",
       "      <td>False</td>\n",
       "      <td>0.003097</td>\n",
       "      <td>179</td>\n",
       "      <td>True</td>\n",
       "      <td>True</td>\n",
       "      <td>False</td>\n",
       "      <td>51</td>\n",
       "    </tr>\n",
       "    <tr>\n",
       "      <th>64</th>\n",
       "      <td>64</td>\n",
       "      <td>TrialState.COMPLETE</td>\n",
       "      <td>-0.918989</td>\n",
       "      <td>2019-10-04 20:11:32.027359</td>\n",
       "      <td>2019-10-04 20:13:59.050885</td>\n",
       "      <td>0.235681</td>\n",
       "      <td>tanh</td>\n",
       "      <td>False</td>\n",
       "      <td>0.003360</td>\n",
       "      <td>172</td>\n",
       "      <td>True</td>\n",
       "      <td>True</td>\n",
       "      <td>False</td>\n",
       "      <td>64</td>\n",
       "    </tr>\n",
       "    <tr>\n",
       "      <th>34</th>\n",
       "      <td>34</td>\n",
       "      <td>TrialState.COMPLETE</td>\n",
       "      <td>-0.918481</td>\n",
       "      <td>2019-10-04 19:03:19.296298</td>\n",
       "      <td>2019-10-04 19:05:26.266847</td>\n",
       "      <td>0.328097</td>\n",
       "      <td>tanh</td>\n",
       "      <td>False</td>\n",
       "      <td>0.002301</td>\n",
       "      <td>191</td>\n",
       "      <td>True</td>\n",
       "      <td>True</td>\n",
       "      <td>False</td>\n",
       "      <td>34</td>\n",
       "    </tr>\n",
       "    <tr>\n",
       "      <th>53</th>\n",
       "      <td>53</td>\n",
       "      <td>TrialState.COMPLETE</td>\n",
       "      <td>-0.918147</td>\n",
       "      <td>2019-10-04 19:45:12.406698</td>\n",
       "      <td>2019-10-04 19:47:33.839630</td>\n",
       "      <td>0.183144</td>\n",
       "      <td>tanh</td>\n",
       "      <td>False</td>\n",
       "      <td>0.001880</td>\n",
       "      <td>182</td>\n",
       "      <td>True</td>\n",
       "      <td>True</td>\n",
       "      <td>False</td>\n",
       "      <td>53</td>\n",
       "    </tr>\n",
       "    <tr>\n",
       "      <th>72</th>\n",
       "      <td>72</td>\n",
       "      <td>TrialState.COMPLETE</td>\n",
       "      <td>-0.918139</td>\n",
       "      <td>2019-10-04 20:31:37.843825</td>\n",
       "      <td>2019-10-04 20:34:20.527830</td>\n",
       "      <td>0.229184</td>\n",
       "      <td>tanh</td>\n",
       "      <td>False</td>\n",
       "      <td>0.002845</td>\n",
       "      <td>177</td>\n",
       "      <td>True</td>\n",
       "      <td>True</td>\n",
       "      <td>False</td>\n",
       "      <td>72</td>\n",
       "    </tr>\n",
       "    <tr>\n",
       "      <th>75</th>\n",
       "      <td>75</td>\n",
       "      <td>TrialState.COMPLETE</td>\n",
       "      <td>-0.917877</td>\n",
       "      <td>2019-10-04 20:39:35.132270</td>\n",
       "      <td>2019-10-04 20:42:21.071227</td>\n",
       "      <td>0.188650</td>\n",
       "      <td>tanh</td>\n",
       "      <td>False</td>\n",
       "      <td>0.003622</td>\n",
       "      <td>171</td>\n",
       "      <td>True</td>\n",
       "      <td>True</td>\n",
       "      <td>False</td>\n",
       "      <td>75</td>\n",
       "    </tr>\n",
       "    <tr>\n",
       "      <th>68</th>\n",
       "      <td>68</td>\n",
       "      <td>TrialState.COMPLETE</td>\n",
       "      <td>-0.917664</td>\n",
       "      <td>2019-10-04 20:21:31.851986</td>\n",
       "      <td>2019-10-04 20:24:09.557175</td>\n",
       "      <td>0.251011</td>\n",
       "      <td>tanh</td>\n",
       "      <td>True</td>\n",
       "      <td>0.001742</td>\n",
       "      <td>168</td>\n",
       "      <td>True</td>\n",
       "      <td>True</td>\n",
       "      <td>False</td>\n",
       "      <td>68</td>\n",
       "    </tr>\n",
       "    <tr>\n",
       "      <th>73</th>\n",
       "      <td>73</td>\n",
       "      <td>TrialState.COMPLETE</td>\n",
       "      <td>-0.917567</td>\n",
       "      <td>2019-10-04 20:34:20.553956</td>\n",
       "      <td>2019-10-04 20:36:59.529146</td>\n",
       "      <td>0.245099</td>\n",
       "      <td>tanh</td>\n",
       "      <td>False</td>\n",
       "      <td>0.002378</td>\n",
       "      <td>181</td>\n",
       "      <td>True</td>\n",
       "      <td>True</td>\n",
       "      <td>False</td>\n",
       "      <td>73</td>\n",
       "    </tr>\n",
       "    <tr>\n",
       "      <th>76</th>\n",
       "      <td>76</td>\n",
       "      <td>TrialState.COMPLETE</td>\n",
       "      <td>-0.917482</td>\n",
       "      <td>2019-10-04 20:42:21.101366</td>\n",
       "      <td>2019-10-04 20:45:06.412895</td>\n",
       "      <td>0.167759</td>\n",
       "      <td>tanh</td>\n",
       "      <td>False</td>\n",
       "      <td>0.001964</td>\n",
       "      <td>174</td>\n",
       "      <td>True</td>\n",
       "      <td>True</td>\n",
       "      <td>False</td>\n",
       "      <td>76</td>\n",
       "    </tr>\n",
       "    <tr>\n",
       "      <th>56</th>\n",
       "      <td>56</td>\n",
       "      <td>TrialState.COMPLETE</td>\n",
       "      <td>-0.916324</td>\n",
       "      <td>2019-10-04 19:52:18.551022</td>\n",
       "      <td>2019-10-04 19:54:41.030122</td>\n",
       "      <td>0.219892</td>\n",
       "      <td>tanh</td>\n",
       "      <td>False</td>\n",
       "      <td>0.003766</td>\n",
       "      <td>169</td>\n",
       "      <td>True</td>\n",
       "      <td>True</td>\n",
       "      <td>False</td>\n",
       "      <td>56</td>\n",
       "    </tr>\n",
       "    <tr>\n",
       "      <th>19</th>\n",
       "      <td>19</td>\n",
       "      <td>TrialState.COMPLETE</td>\n",
       "      <td>-0.915411</td>\n",
       "      <td>2019-10-04 18:33:47.262500</td>\n",
       "      <td>2019-10-04 18:35:35.499591</td>\n",
       "      <td>0.141880</td>\n",
       "      <td>tanh</td>\n",
       "      <td>False</td>\n",
       "      <td>0.003313</td>\n",
       "      <td>187</td>\n",
       "      <td>True</td>\n",
       "      <td>False</td>\n",
       "      <td>False</td>\n",
       "      <td>19</td>\n",
       "    </tr>\n",
       "    <tr>\n",
       "      <th>57</th>\n",
       "      <td>57</td>\n",
       "      <td>TrialState.COMPLETE</td>\n",
       "      <td>-0.915052</td>\n",
       "      <td>2019-10-04 19:54:41.057274</td>\n",
       "      <td>2019-10-04 19:57:02.584362</td>\n",
       "      <td>0.204824</td>\n",
       "      <td>tanh</td>\n",
       "      <td>False</td>\n",
       "      <td>0.001407</td>\n",
       "      <td>173</td>\n",
       "      <td>True</td>\n",
       "      <td>True</td>\n",
       "      <td>False</td>\n",
       "      <td>57</td>\n",
       "    </tr>\n",
       "    <tr>\n",
       "      <th>41</th>\n",
       "      <td>41</td>\n",
       "      <td>TrialState.COMPLETE</td>\n",
       "      <td>-0.914749</td>\n",
       "      <td>2019-10-04 19:18:18.936315</td>\n",
       "      <td>2019-10-04 19:20:31.898315</td>\n",
       "      <td>0.338839</td>\n",
       "      <td>tanh</td>\n",
       "      <td>False</td>\n",
       "      <td>0.002186</td>\n",
       "      <td>191</td>\n",
       "      <td>True</td>\n",
       "      <td>True</td>\n",
       "      <td>False</td>\n",
       "      <td>41</td>\n",
       "    </tr>\n",
       "    <tr>\n",
       "      <th>67</th>\n",
       "      <td>67</td>\n",
       "      <td>TrialState.COMPLETE</td>\n",
       "      <td>-0.914524</td>\n",
       "      <td>2019-10-04 20:18:59.924681</td>\n",
       "      <td>2019-10-04 20:21:31.819733</td>\n",
       "      <td>0.155416</td>\n",
       "      <td>tanh</td>\n",
       "      <td>False</td>\n",
       "      <td>0.002250</td>\n",
       "      <td>174</td>\n",
       "      <td>True</td>\n",
       "      <td>True</td>\n",
       "      <td>False</td>\n",
       "      <td>67</td>\n",
       "    </tr>\n",
       "    <tr>\n",
       "      <th>69</th>\n",
       "      <td>69</td>\n",
       "      <td>TrialState.COMPLETE</td>\n",
       "      <td>-0.914201</td>\n",
       "      <td>2019-10-04 20:24:09.585430</td>\n",
       "      <td>2019-10-04 20:26:41.005167</td>\n",
       "      <td>0.268510</td>\n",
       "      <td>tanh</td>\n",
       "      <td>False</td>\n",
       "      <td>0.003536</td>\n",
       "      <td>177</td>\n",
       "      <td>True</td>\n",
       "      <td>True</td>\n",
       "      <td>False</td>\n",
       "      <td>69</td>\n",
       "    </tr>\n",
       "    <tr>\n",
       "      <th>24</th>\n",
       "      <td>24</td>\n",
       "      <td>TrialState.COMPLETE</td>\n",
       "      <td>-0.914138</td>\n",
       "      <td>2019-10-04 18:43:13.658770</td>\n",
       "      <td>2019-10-04 18:45:12.544057</td>\n",
       "      <td>0.139595</td>\n",
       "      <td>tanh</td>\n",
       "      <td>False</td>\n",
       "      <td>0.002746</td>\n",
       "      <td>187</td>\n",
       "      <td>True</td>\n",
       "      <td>False</td>\n",
       "      <td>False</td>\n",
       "      <td>24</td>\n",
       "    </tr>\n",
       "    <tr>\n",
       "      <th>52</th>\n",
       "      <td>52</td>\n",
       "      <td>TrialState.COMPLETE</td>\n",
       "      <td>-0.913003</td>\n",
       "      <td>2019-10-04 19:42:57.770978</td>\n",
       "      <td>2019-10-04 19:45:12.382176</td>\n",
       "      <td>0.288132</td>\n",
       "      <td>tanh</td>\n",
       "      <td>False</td>\n",
       "      <td>0.003979</td>\n",
       "      <td>179</td>\n",
       "      <td>True</td>\n",
       "      <td>True</td>\n",
       "      <td>False</td>\n",
       "      <td>52</td>\n",
       "    </tr>\n",
       "    <tr>\n",
       "      <th>15</th>\n",
       "      <td>15</td>\n",
       "      <td>TrialState.COMPLETE</td>\n",
       "      <td>-0.912610</td>\n",
       "      <td>2019-10-04 18:26:21.511185</td>\n",
       "      <td>2019-10-04 18:28:08.626268</td>\n",
       "      <td>0.159898</td>\n",
       "      <td>tanh</td>\n",
       "      <td>False</td>\n",
       "      <td>0.003299</td>\n",
       "      <td>150</td>\n",
       "      <td>True</td>\n",
       "      <td>False</td>\n",
       "      <td>False</td>\n",
       "      <td>15</td>\n",
       "    </tr>\n",
       "    <tr>\n",
       "      <th>...</th>\n",
       "      <td>...</td>\n",
       "      <td>...</td>\n",
       "      <td>...</td>\n",
       "      <td>...</td>\n",
       "      <td>...</td>\n",
       "      <td>...</td>\n",
       "      <td>...</td>\n",
       "      <td>...</td>\n",
       "      <td>...</td>\n",
       "      <td>...</td>\n",
       "      <td>...</td>\n",
       "      <td>...</td>\n",
       "      <td>...</td>\n",
       "      <td>...</td>\n",
       "    </tr>\n",
       "    <tr>\n",
       "      <th>74</th>\n",
       "      <td>74</td>\n",
       "      <td>TrialState.COMPLETE</td>\n",
       "      <td>-0.840309</td>\n",
       "      <td>2019-10-04 20:36:59.557820</td>\n",
       "      <td>2019-10-04 20:39:35.102030</td>\n",
       "      <td>0.211824</td>\n",
       "      <td>tanh</td>\n",
       "      <td>False</td>\n",
       "      <td>0.004203</td>\n",
       "      <td>175</td>\n",
       "      <td>True</td>\n",
       "      <td>True</td>\n",
       "      <td>False</td>\n",
       "      <td>74</td>\n",
       "    </tr>\n",
       "    <tr>\n",
       "      <th>54</th>\n",
       "      <td>54</td>\n",
       "      <td>TrialState.COMPLETE</td>\n",
       "      <td>-0.837474</td>\n",
       "      <td>2019-10-04 19:47:33.868911</td>\n",
       "      <td>2019-10-04 19:49:48.883921</td>\n",
       "      <td>0.259295</td>\n",
       "      <td>tanh</td>\n",
       "      <td>False</td>\n",
       "      <td>0.005437</td>\n",
       "      <td>185</td>\n",
       "      <td>True</td>\n",
       "      <td>True</td>\n",
       "      <td>False</td>\n",
       "      <td>54</td>\n",
       "    </tr>\n",
       "    <tr>\n",
       "      <th>28</th>\n",
       "      <td>28</td>\n",
       "      <td>TrialState.COMPLETE</td>\n",
       "      <td>-0.817527</td>\n",
       "      <td>2019-10-04 18:51:06.845261</td>\n",
       "      <td>2019-10-04 18:53:11.836445</td>\n",
       "      <td>0.218649</td>\n",
       "      <td>tanh</td>\n",
       "      <td>False</td>\n",
       "      <td>0.004721</td>\n",
       "      <td>176</td>\n",
       "      <td>True</td>\n",
       "      <td>True</td>\n",
       "      <td>False</td>\n",
       "      <td>28</td>\n",
       "    </tr>\n",
       "    <tr>\n",
       "      <th>66</th>\n",
       "      <td>66</td>\n",
       "      <td>TrialState.COMPLETE</td>\n",
       "      <td>-0.759489</td>\n",
       "      <td>2019-10-04 20:16:29.602214</td>\n",
       "      <td>2019-10-04 20:18:59.893903</td>\n",
       "      <td>0.199176</td>\n",
       "      <td>tanh</td>\n",
       "      <td>False</td>\n",
       "      <td>0.006088</td>\n",
       "      <td>177</td>\n",
       "      <td>True</td>\n",
       "      <td>True</td>\n",
       "      <td>False</td>\n",
       "      <td>66</td>\n",
       "    </tr>\n",
       "    <tr>\n",
       "      <th>22</th>\n",
       "      <td>22</td>\n",
       "      <td>TrialState.COMPLETE</td>\n",
       "      <td>-0.725398</td>\n",
       "      <td>2019-10-04 18:39:21.783321</td>\n",
       "      <td>2019-10-04 18:41:17.016492</td>\n",
       "      <td>0.197727</td>\n",
       "      <td>tanh</td>\n",
       "      <td>False</td>\n",
       "      <td>0.006183</td>\n",
       "      <td>188</td>\n",
       "      <td>True</td>\n",
       "      <td>False</td>\n",
       "      <td>False</td>\n",
       "      <td>22</td>\n",
       "    </tr>\n",
       "    <tr>\n",
       "      <th>50</th>\n",
       "      <td>50</td>\n",
       "      <td>TrialState.COMPLETE</td>\n",
       "      <td>-0.708767</td>\n",
       "      <td>2019-10-04 19:38:24.497070</td>\n",
       "      <td>2019-10-04 19:40:41.280251</td>\n",
       "      <td>0.234554</td>\n",
       "      <td>tanh</td>\n",
       "      <td>False</td>\n",
       "      <td>0.000882</td>\n",
       "      <td>181</td>\n",
       "      <td>False</td>\n",
       "      <td>True</td>\n",
       "      <td>True</td>\n",
       "      <td>50</td>\n",
       "    </tr>\n",
       "    <tr>\n",
       "      <th>10</th>\n",
       "      <td>10</td>\n",
       "      <td>TrialState.COMPLETE</td>\n",
       "      <td>-0.706545</td>\n",
       "      <td>2019-10-04 18:17:16.896645</td>\n",
       "      <td>2019-10-04 18:19:03.832087</td>\n",
       "      <td>0.114675</td>\n",
       "      <td>tanh</td>\n",
       "      <td>True</td>\n",
       "      <td>0.006208</td>\n",
       "      <td>199</td>\n",
       "      <td>False</td>\n",
       "      <td>True</td>\n",
       "      <td>False</td>\n",
       "      <td>10</td>\n",
       "    </tr>\n",
       "    <tr>\n",
       "      <th>46</th>\n",
       "      <td>46</td>\n",
       "      <td>TrialState.COMPLETE</td>\n",
       "      <td>-0.678827</td>\n",
       "      <td>2019-10-04 19:29:23.292663</td>\n",
       "      <td>2019-10-04 19:31:37.497967</td>\n",
       "      <td>0.219270</td>\n",
       "      <td>tanh</td>\n",
       "      <td>False</td>\n",
       "      <td>0.007442</td>\n",
       "      <td>190</td>\n",
       "      <td>True</td>\n",
       "      <td>True</td>\n",
       "      <td>False</td>\n",
       "      <td>46</td>\n",
       "    </tr>\n",
       "    <tr>\n",
       "      <th>58</th>\n",
       "      <td>58</td>\n",
       "      <td>TrialState.COMPLETE</td>\n",
       "      <td>-0.676540</td>\n",
       "      <td>2019-10-04 19:57:02.612780</td>\n",
       "      <td>2019-10-04 19:59:25.842083</td>\n",
       "      <td>0.183405</td>\n",
       "      <td>tanh</td>\n",
       "      <td>True</td>\n",
       "      <td>0.007233</td>\n",
       "      <td>171</td>\n",
       "      <td>True</td>\n",
       "      <td>True</td>\n",
       "      <td>False</td>\n",
       "      <td>58</td>\n",
       "    </tr>\n",
       "    <tr>\n",
       "      <th>13</th>\n",
       "      <td>13</td>\n",
       "      <td>TrialState.COMPLETE</td>\n",
       "      <td>-0.673093</td>\n",
       "      <td>2019-10-04 18:22:42.803367</td>\n",
       "      <td>2019-10-04 18:24:30.517834</td>\n",
       "      <td>0.100038</td>\n",
       "      <td>tanh</td>\n",
       "      <td>False</td>\n",
       "      <td>0.005933</td>\n",
       "      <td>169</td>\n",
       "      <td>True</td>\n",
       "      <td>False</td>\n",
       "      <td>False</td>\n",
       "      <td>13</td>\n",
       "    </tr>\n",
       "    <tr>\n",
       "      <th>37</th>\n",
       "      <td>37</td>\n",
       "      <td>TrialState.COMPLETE</td>\n",
       "      <td>-0.671255</td>\n",
       "      <td>2019-10-04 19:09:50.774701</td>\n",
       "      <td>2019-10-04 19:11:58.718224</td>\n",
       "      <td>0.332587</td>\n",
       "      <td>tanh</td>\n",
       "      <td>False</td>\n",
       "      <td>0.002574</td>\n",
       "      <td>191</td>\n",
       "      <td>True</td>\n",
       "      <td>True</td>\n",
       "      <td>True</td>\n",
       "      <td>37</td>\n",
       "    </tr>\n",
       "    <tr>\n",
       "      <th>18</th>\n",
       "      <td>18</td>\n",
       "      <td>TrialState.COMPLETE</td>\n",
       "      <td>-0.608246</td>\n",
       "      <td>2019-10-04 18:31:55.351060</td>\n",
       "      <td>2019-10-04 18:33:47.246205</td>\n",
       "      <td>0.244855</td>\n",
       "      <td>tanh</td>\n",
       "      <td>True</td>\n",
       "      <td>0.010138</td>\n",
       "      <td>151</td>\n",
       "      <td>True</td>\n",
       "      <td>False</td>\n",
       "      <td>False</td>\n",
       "      <td>18</td>\n",
       "    </tr>\n",
       "    <tr>\n",
       "      <th>70</th>\n",
       "      <td>70</td>\n",
       "      <td>TrialState.COMPLETE</td>\n",
       "      <td>-0.605611</td>\n",
       "      <td>2019-10-04 20:26:41.035852</td>\n",
       "      <td>2019-10-04 20:29:09.168370</td>\n",
       "      <td>0.205552</td>\n",
       "      <td>tanh</td>\n",
       "      <td>False</td>\n",
       "      <td>0.008989</td>\n",
       "      <td>163</td>\n",
       "      <td>False</td>\n",
       "      <td>True</td>\n",
       "      <td>False</td>\n",
       "      <td>70</td>\n",
       "    </tr>\n",
       "    <tr>\n",
       "      <th>17</th>\n",
       "      <td>17</td>\n",
       "      <td>TrialState.COMPLETE</td>\n",
       "      <td>-0.586819</td>\n",
       "      <td>2019-10-04 18:30:00.098854</td>\n",
       "      <td>2019-10-04 18:31:55.335450</td>\n",
       "      <td>0.170358</td>\n",
       "      <td>relu</td>\n",
       "      <td>True</td>\n",
       "      <td>0.003270</td>\n",
       "      <td>179</td>\n",
       "      <td>True</td>\n",
       "      <td>True</td>\n",
       "      <td>False</td>\n",
       "      <td>17</td>\n",
       "    </tr>\n",
       "    <tr>\n",
       "      <th>59</th>\n",
       "      <td>59</td>\n",
       "      <td>TrialState.COMPLETE</td>\n",
       "      <td>-0.586530</td>\n",
       "      <td>2019-10-04 19:59:25.869602</td>\n",
       "      <td>2019-10-04 20:01:46.006151</td>\n",
       "      <td>0.247083</td>\n",
       "      <td>relu</td>\n",
       "      <td>False</td>\n",
       "      <td>0.001998</td>\n",
       "      <td>189</td>\n",
       "      <td>True</td>\n",
       "      <td>True</td>\n",
       "      <td>False</td>\n",
       "      <td>59</td>\n",
       "    </tr>\n",
       "    <tr>\n",
       "      <th>27</th>\n",
       "      <td>27</td>\n",
       "      <td>TrialState.COMPLETE</td>\n",
       "      <td>-0.581141</td>\n",
       "      <td>2019-10-04 18:49:08.922742</td>\n",
       "      <td>2019-10-04 18:51:06.826353</td>\n",
       "      <td>0.279443</td>\n",
       "      <td>relu</td>\n",
       "      <td>False</td>\n",
       "      <td>0.001142</td>\n",
       "      <td>184</td>\n",
       "      <td>True</td>\n",
       "      <td>True</td>\n",
       "      <td>False</td>\n",
       "      <td>27</td>\n",
       "    </tr>\n",
       "    <tr>\n",
       "      <th>0</th>\n",
       "      <td>0</td>\n",
       "      <td>TrialState.COMPLETE</td>\n",
       "      <td>-0.573372</td>\n",
       "      <td>2019-10-04 17:59:49.424741</td>\n",
       "      <td>2019-10-04 18:01:39.102079</td>\n",
       "      <td>0.244488</td>\n",
       "      <td>relu</td>\n",
       "      <td>False</td>\n",
       "      <td>0.003425</td>\n",
       "      <td>193</td>\n",
       "      <td>False</td>\n",
       "      <td>False</td>\n",
       "      <td>True</td>\n",
       "      <td>0</td>\n",
       "    </tr>\n",
       "    <tr>\n",
       "      <th>35</th>\n",
       "      <td>35</td>\n",
       "      <td>TrialState.COMPLETE</td>\n",
       "      <td>-0.560075</td>\n",
       "      <td>2019-10-04 19:05:26.286751</td>\n",
       "      <td>2019-10-04 19:07:40.068390</td>\n",
       "      <td>0.274423</td>\n",
       "      <td>tanh</td>\n",
       "      <td>False</td>\n",
       "      <td>0.008282</td>\n",
       "      <td>196</td>\n",
       "      <td>True</td>\n",
       "      <td>True</td>\n",
       "      <td>True</td>\n",
       "      <td>35</td>\n",
       "    </tr>\n",
       "    <tr>\n",
       "      <th>40</th>\n",
       "      <td>40</td>\n",
       "      <td>TrialState.COMPLETE</td>\n",
       "      <td>-0.533759</td>\n",
       "      <td>2019-10-04 19:16:07.894287</td>\n",
       "      <td>2019-10-04 19:18:18.912502</td>\n",
       "      <td>0.221538</td>\n",
       "      <td>relu</td>\n",
       "      <td>False</td>\n",
       "      <td>0.001313</td>\n",
       "      <td>200</td>\n",
       "      <td>True</td>\n",
       "      <td>True</td>\n",
       "      <td>True</td>\n",
       "      <td>40</td>\n",
       "    </tr>\n",
       "    <tr>\n",
       "      <th>3</th>\n",
       "      <td>3</td>\n",
       "      <td>TrialState.COMPLETE</td>\n",
       "      <td>-0.527054</td>\n",
       "      <td>2019-10-04 18:05:01.261276</td>\n",
       "      <td>2019-10-04 18:06:47.204890</td>\n",
       "      <td>0.205821</td>\n",
       "      <td>tanh</td>\n",
       "      <td>False</td>\n",
       "      <td>0.023626</td>\n",
       "      <td>181</td>\n",
       "      <td>True</td>\n",
       "      <td>False</td>\n",
       "      <td>True</td>\n",
       "      <td>3</td>\n",
       "    </tr>\n",
       "    <tr>\n",
       "      <th>16</th>\n",
       "      <td>16</td>\n",
       "      <td>TrialState.COMPLETE</td>\n",
       "      <td>-0.516097</td>\n",
       "      <td>2019-10-04 18:28:08.640633</td>\n",
       "      <td>2019-10-04 18:30:00.082661</td>\n",
       "      <td>0.165240</td>\n",
       "      <td>tanh</td>\n",
       "      <td>False</td>\n",
       "      <td>0.014087</td>\n",
       "      <td>152</td>\n",
       "      <td>True</td>\n",
       "      <td>False</td>\n",
       "      <td>False</td>\n",
       "      <td>16</td>\n",
       "    </tr>\n",
       "    <tr>\n",
       "      <th>5</th>\n",
       "      <td>5</td>\n",
       "      <td>TrialState.COMPLETE</td>\n",
       "      <td>-0.508087</td>\n",
       "      <td>2019-10-04 18:08:31.717390</td>\n",
       "      <td>2019-10-04 18:10:15.296429</td>\n",
       "      <td>0.418986</td>\n",
       "      <td>relu</td>\n",
       "      <td>True</td>\n",
       "      <td>0.000290</td>\n",
       "      <td>155</td>\n",
       "      <td>True</td>\n",
       "      <td>True</td>\n",
       "      <td>False</td>\n",
       "      <td>5</td>\n",
       "    </tr>\n",
       "    <tr>\n",
       "      <th>4</th>\n",
       "      <td>4</td>\n",
       "      <td>TrialState.COMPLETE</td>\n",
       "      <td>-0.503993</td>\n",
       "      <td>2019-10-04 18:06:47.214501</td>\n",
       "      <td>2019-10-04 18:08:31.711697</td>\n",
       "      <td>0.406122</td>\n",
       "      <td>tanh</td>\n",
       "      <td>False</td>\n",
       "      <td>0.029984</td>\n",
       "      <td>173</td>\n",
       "      <td>False</td>\n",
       "      <td>False</td>\n",
       "      <td>True</td>\n",
       "      <td>4</td>\n",
       "    </tr>\n",
       "    <tr>\n",
       "      <th>25</th>\n",
       "      <td>25</td>\n",
       "      <td>TrialState.COMPLETE</td>\n",
       "      <td>-0.498185</td>\n",
       "      <td>2019-10-04 18:45:12.562130</td>\n",
       "      <td>2019-10-04 18:47:08.888365</td>\n",
       "      <td>0.194799</td>\n",
       "      <td>tanh</td>\n",
       "      <td>False</td>\n",
       "      <td>0.011277</td>\n",
       "      <td>194</td>\n",
       "      <td>True</td>\n",
       "      <td>False</td>\n",
       "      <td>False</td>\n",
       "      <td>25</td>\n",
       "    </tr>\n",
       "    <tr>\n",
       "      <th>39</th>\n",
       "      <td>39</td>\n",
       "      <td>TrialState.COMPLETE</td>\n",
       "      <td>-0.483964</td>\n",
       "      <td>2019-10-04 19:14:06.411678</td>\n",
       "      <td>2019-10-04 19:16:07.873139</td>\n",
       "      <td>0.184543</td>\n",
       "      <td>tanh</td>\n",
       "      <td>False</td>\n",
       "      <td>0.018315</td>\n",
       "      <td>176</td>\n",
       "      <td>False</td>\n",
       "      <td>True</td>\n",
       "      <td>False</td>\n",
       "      <td>39</td>\n",
       "    </tr>\n",
       "    <tr>\n",
       "      <th>1</th>\n",
       "      <td>1</td>\n",
       "      <td>TrialState.COMPLETE</td>\n",
       "      <td>-0.463466</td>\n",
       "      <td>2019-10-04 18:01:39.106180</td>\n",
       "      <td>2019-10-04 18:03:21.202527</td>\n",
       "      <td>0.448329</td>\n",
       "      <td>tanh</td>\n",
       "      <td>False</td>\n",
       "      <td>0.000572</td>\n",
       "      <td>167</td>\n",
       "      <td>False</td>\n",
       "      <td>False</td>\n",
       "      <td>True</td>\n",
       "      <td>1</td>\n",
       "    </tr>\n",
       "    <tr>\n",
       "      <th>29</th>\n",
       "      <td>29</td>\n",
       "      <td>TrialState.COMPLETE</td>\n",
       "      <td>-0.418133</td>\n",
       "      <td>2019-10-04 18:53:11.854799</td>\n",
       "      <td>2019-10-04 18:55:10.682280</td>\n",
       "      <td>0.264257</td>\n",
       "      <td>relu</td>\n",
       "      <td>False</td>\n",
       "      <td>0.000114</td>\n",
       "      <td>193</td>\n",
       "      <td>True</td>\n",
       "      <td>True</td>\n",
       "      <td>False</td>\n",
       "      <td>29</td>\n",
       "    </tr>\n",
       "    <tr>\n",
       "      <th>6</th>\n",
       "      <td>6</td>\n",
       "      <td>TrialState.COMPLETE</td>\n",
       "      <td>-0.350824</td>\n",
       "      <td>2019-10-04 18:10:15.307797</td>\n",
       "      <td>2019-10-04 18:12:02.367974</td>\n",
       "      <td>0.205715</td>\n",
       "      <td>tanh</td>\n",
       "      <td>True</td>\n",
       "      <td>0.000291</td>\n",
       "      <td>156</td>\n",
       "      <td>False</td>\n",
       "      <td>True</td>\n",
       "      <td>True</td>\n",
       "      <td>6</td>\n",
       "    </tr>\n",
       "    <tr>\n",
       "      <th>7</th>\n",
       "      <td>7</td>\n",
       "      <td>TrialState.COMPLETE</td>\n",
       "      <td>-0.223963</td>\n",
       "      <td>2019-10-04 18:12:02.386583</td>\n",
       "      <td>2019-10-04 18:13:48.826198</td>\n",
       "      <td>0.295435</td>\n",
       "      <td>relu</td>\n",
       "      <td>True</td>\n",
       "      <td>0.000441</td>\n",
       "      <td>181</td>\n",
       "      <td>False</td>\n",
       "      <td>False</td>\n",
       "      <td>True</td>\n",
       "      <td>7</td>\n",
       "    </tr>\n",
       "    <tr>\n",
       "      <th>77</th>\n",
       "      <td>77</td>\n",
       "      <td>TrialState.RUNNING</td>\n",
       "      <td>NaN</td>\n",
       "      <td>2019-10-04 20:45:06.456516</td>\n",
       "      <td>NaT</td>\n",
       "      <td>0.239905</td>\n",
       "      <td>relu</td>\n",
       "      <td>False</td>\n",
       "      <td>0.003005</td>\n",
       "      <td>178</td>\n",
       "      <td>True</td>\n",
       "      <td>True</td>\n",
       "      <td>False</td>\n",
       "      <td>77</td>\n",
       "    </tr>\n",
       "  </tbody>\n",
       "</table>\n",
       "<p>78 rows × 14 columns</p>\n",
       "</div>"
      ],
      "text/plain": [
       "   number                state     value             datetime_start  \\\n",
       "                                                                      \n",
       "32     32  TrialState.COMPLETE -0.924766 2019-10-04 18:59:16.007356   \n",
       "71     71  TrialState.COMPLETE -0.924550 2019-10-04 20:29:09.207612   \n",
       "61     61  TrialState.COMPLETE -0.924193 2019-10-04 20:04:13.050263   \n",
       "62     62  TrialState.COMPLETE -0.922626 2019-10-04 20:06:40.165160   \n",
       "31     31  TrialState.COMPLETE -0.922443 2019-10-04 18:57:12.387212   \n",
       "30     30  TrialState.COMPLETE -0.921897 2019-10-04 18:55:10.700393   \n",
       "55     55  TrialState.COMPLETE -0.921771 2019-10-04 19:49:48.922546   \n",
       "49     49  TrialState.COMPLETE -0.921191 2019-10-04 19:36:09.681700   \n",
       "60     60  TrialState.COMPLETE -0.920868 2019-10-04 20:01:46.034102   \n",
       "26     26  TrialState.COMPLETE -0.920525 2019-10-04 18:47:08.907868   \n",
       "47     47  TrialState.COMPLETE -0.919960 2019-10-04 19:31:37.521895   \n",
       "42     42  TrialState.COMPLETE -0.919700 2019-10-04 19:20:31.919492   \n",
       "51     51  TrialState.COMPLETE -0.919116 2019-10-04 19:40:41.306439   \n",
       "64     64  TrialState.COMPLETE -0.918989 2019-10-04 20:11:32.027359   \n",
       "34     34  TrialState.COMPLETE -0.918481 2019-10-04 19:03:19.296298   \n",
       "53     53  TrialState.COMPLETE -0.918147 2019-10-04 19:45:12.406698   \n",
       "72     72  TrialState.COMPLETE -0.918139 2019-10-04 20:31:37.843825   \n",
       "75     75  TrialState.COMPLETE -0.917877 2019-10-04 20:39:35.132270   \n",
       "68     68  TrialState.COMPLETE -0.917664 2019-10-04 20:21:31.851986   \n",
       "73     73  TrialState.COMPLETE -0.917567 2019-10-04 20:34:20.553956   \n",
       "76     76  TrialState.COMPLETE -0.917482 2019-10-04 20:42:21.101366   \n",
       "56     56  TrialState.COMPLETE -0.916324 2019-10-04 19:52:18.551022   \n",
       "19     19  TrialState.COMPLETE -0.915411 2019-10-04 18:33:47.262500   \n",
       "57     57  TrialState.COMPLETE -0.915052 2019-10-04 19:54:41.057274   \n",
       "41     41  TrialState.COMPLETE -0.914749 2019-10-04 19:18:18.936315   \n",
       "67     67  TrialState.COMPLETE -0.914524 2019-10-04 20:18:59.924681   \n",
       "69     69  TrialState.COMPLETE -0.914201 2019-10-04 20:24:09.585430   \n",
       "24     24  TrialState.COMPLETE -0.914138 2019-10-04 18:43:13.658770   \n",
       "52     52  TrialState.COMPLETE -0.913003 2019-10-04 19:42:57.770978   \n",
       "15     15  TrialState.COMPLETE -0.912610 2019-10-04 18:26:21.511185   \n",
       "..    ...                  ...       ...                        ...   \n",
       "74     74  TrialState.COMPLETE -0.840309 2019-10-04 20:36:59.557820   \n",
       "54     54  TrialState.COMPLETE -0.837474 2019-10-04 19:47:33.868911   \n",
       "28     28  TrialState.COMPLETE -0.817527 2019-10-04 18:51:06.845261   \n",
       "66     66  TrialState.COMPLETE -0.759489 2019-10-04 20:16:29.602214   \n",
       "22     22  TrialState.COMPLETE -0.725398 2019-10-04 18:39:21.783321   \n",
       "50     50  TrialState.COMPLETE -0.708767 2019-10-04 19:38:24.497070   \n",
       "10     10  TrialState.COMPLETE -0.706545 2019-10-04 18:17:16.896645   \n",
       "46     46  TrialState.COMPLETE -0.678827 2019-10-04 19:29:23.292663   \n",
       "58     58  TrialState.COMPLETE -0.676540 2019-10-04 19:57:02.612780   \n",
       "13     13  TrialState.COMPLETE -0.673093 2019-10-04 18:22:42.803367   \n",
       "37     37  TrialState.COMPLETE -0.671255 2019-10-04 19:09:50.774701   \n",
       "18     18  TrialState.COMPLETE -0.608246 2019-10-04 18:31:55.351060   \n",
       "70     70  TrialState.COMPLETE -0.605611 2019-10-04 20:26:41.035852   \n",
       "17     17  TrialState.COMPLETE -0.586819 2019-10-04 18:30:00.098854   \n",
       "59     59  TrialState.COMPLETE -0.586530 2019-10-04 19:59:25.869602   \n",
       "27     27  TrialState.COMPLETE -0.581141 2019-10-04 18:49:08.922742   \n",
       "0       0  TrialState.COMPLETE -0.573372 2019-10-04 17:59:49.424741   \n",
       "35     35  TrialState.COMPLETE -0.560075 2019-10-04 19:05:26.286751   \n",
       "40     40  TrialState.COMPLETE -0.533759 2019-10-04 19:16:07.894287   \n",
       "3       3  TrialState.COMPLETE -0.527054 2019-10-04 18:05:01.261276   \n",
       "16     16  TrialState.COMPLETE -0.516097 2019-10-04 18:28:08.640633   \n",
       "5       5  TrialState.COMPLETE -0.508087 2019-10-04 18:08:31.717390   \n",
       "4       4  TrialState.COMPLETE -0.503993 2019-10-04 18:06:47.214501   \n",
       "25     25  TrialState.COMPLETE -0.498185 2019-10-04 18:45:12.562130   \n",
       "39     39  TrialState.COMPLETE -0.483964 2019-10-04 19:14:06.411678   \n",
       "1       1  TrialState.COMPLETE -0.463466 2019-10-04 18:01:39.106180   \n",
       "29     29  TrialState.COMPLETE -0.418133 2019-10-04 18:53:11.854799   \n",
       "6       6  TrialState.COMPLETE -0.350824 2019-10-04 18:10:15.307797   \n",
       "7       7  TrialState.COMPLETE -0.223963 2019-10-04 18:12:02.386583   \n",
       "77     77   TrialState.RUNNING       NaN 2019-10-04 20:45:06.456516   \n",
       "\n",
       "            datetime_complete       params                   \\\n",
       "                              dropout_rate final_activation   \n",
       "32 2019-10-04 19:01:16.551753     0.226780             tanh   \n",
       "71 2019-10-04 20:31:37.814192     0.230288             tanh   \n",
       "61 2019-10-04 20:06:40.137613     0.211828             tanh   \n",
       "62 2019-10-04 20:09:03.541747     0.207665             tanh   \n",
       "31 2019-10-04 18:59:15.985588     0.229036             tanh   \n",
       "30 2019-10-04 18:57:12.368135     0.230709             tanh   \n",
       "55 2019-10-04 19:52:18.524016     0.206756             tanh   \n",
       "49 2019-10-04 19:38:24.471640     0.285395             tanh   \n",
       "60 2019-10-04 20:04:13.019373     0.211781             tanh   \n",
       "26 2019-10-04 18:49:08.904435     0.224963             tanh   \n",
       "47 2019-10-04 19:33:53.477967     0.280914             tanh   \n",
       "42 2019-10-04 19:22:43.478434     0.316144             tanh   \n",
       "51 2019-10-04 19:42:57.742357     0.281624             tanh   \n",
       "64 2019-10-04 20:13:59.050885     0.235681             tanh   \n",
       "34 2019-10-04 19:05:26.266847     0.328097             tanh   \n",
       "53 2019-10-04 19:47:33.839630     0.183144             tanh   \n",
       "72 2019-10-04 20:34:20.527830     0.229184             tanh   \n",
       "75 2019-10-04 20:42:21.071227     0.188650             tanh   \n",
       "68 2019-10-04 20:24:09.557175     0.251011             tanh   \n",
       "73 2019-10-04 20:36:59.529146     0.245099             tanh   \n",
       "76 2019-10-04 20:45:06.412895     0.167759             tanh   \n",
       "56 2019-10-04 19:54:41.030122     0.219892             tanh   \n",
       "19 2019-10-04 18:35:35.499591     0.141880             tanh   \n",
       "57 2019-10-04 19:57:02.584362     0.204824             tanh   \n",
       "41 2019-10-04 19:20:31.898315     0.338839             tanh   \n",
       "67 2019-10-04 20:21:31.819733     0.155416             tanh   \n",
       "69 2019-10-04 20:26:41.005167     0.268510             tanh   \n",
       "24 2019-10-04 18:45:12.544057     0.139595             tanh   \n",
       "52 2019-10-04 19:45:12.382176     0.288132             tanh   \n",
       "15 2019-10-04 18:28:08.626268     0.159898             tanh   \n",
       "..                        ...          ...              ...   \n",
       "74 2019-10-04 20:39:35.102030     0.211824             tanh   \n",
       "54 2019-10-04 19:49:48.883921     0.259295             tanh   \n",
       "28 2019-10-04 18:53:11.836445     0.218649             tanh   \n",
       "66 2019-10-04 20:18:59.893903     0.199176             tanh   \n",
       "22 2019-10-04 18:41:17.016492     0.197727             tanh   \n",
       "50 2019-10-04 19:40:41.280251     0.234554             tanh   \n",
       "10 2019-10-04 18:19:03.832087     0.114675             tanh   \n",
       "46 2019-10-04 19:31:37.497967     0.219270             tanh   \n",
       "58 2019-10-04 19:59:25.842083     0.183405             tanh   \n",
       "13 2019-10-04 18:24:30.517834     0.100038             tanh   \n",
       "37 2019-10-04 19:11:58.718224     0.332587             tanh   \n",
       "18 2019-10-04 18:33:47.246205     0.244855             tanh   \n",
       "70 2019-10-04 20:29:09.168370     0.205552             tanh   \n",
       "17 2019-10-04 18:31:55.335450     0.170358             relu   \n",
       "59 2019-10-04 20:01:46.006151     0.247083             relu   \n",
       "27 2019-10-04 18:51:06.826353     0.279443             relu   \n",
       "0  2019-10-04 18:01:39.102079     0.244488             relu   \n",
       "35 2019-10-04 19:07:40.068390     0.274423             tanh   \n",
       "40 2019-10-04 19:18:18.912502     0.221538             relu   \n",
       "3  2019-10-04 18:06:47.204890     0.205821             tanh   \n",
       "16 2019-10-04 18:30:00.082661     0.165240             tanh   \n",
       "5  2019-10-04 18:10:15.296429     0.418986             relu   \n",
       "4  2019-10-04 18:08:31.711697     0.406122             tanh   \n",
       "25 2019-10-04 18:47:08.888365     0.194799             tanh   \n",
       "39 2019-10-04 19:16:07.873139     0.184543             tanh   \n",
       "1  2019-10-04 18:03:21.202527     0.448329             tanh   \n",
       "29 2019-10-04 18:55:10.682280     0.264257             relu   \n",
       "6  2019-10-04 18:12:02.367974     0.205715             tanh   \n",
       "7  2019-10-04 18:13:48.826198     0.295435             relu   \n",
       "77                        NaT     0.239905             relu   \n",
       "\n",
       "                                                                            \\\n",
       "   is_embedding_trainable learning_rate rnn_unit share_gru_weights_on_book   \n",
       "32                  False      0.002635      196                      True   \n",
       "71                  False      0.002986      175                      True   \n",
       "61                  False      0.003088      175                      True   \n",
       "62                  False      0.003520      175                      True   \n",
       "31                  False      0.002860      190                      True   \n",
       "30                  False      0.002600      190                      True   \n",
       "55                  False      0.003380      173                      True   \n",
       "49                  False      0.002987      179                      True   \n",
       "60                  False      0.003142      175                      True   \n",
       "26                  False      0.002670      184                      True   \n",
       "47                  False      0.002725      179                      True   \n",
       "42                  False      0.002617      196                      True   \n",
       "51                  False      0.003097      179                      True   \n",
       "64                  False      0.003360      172                      True   \n",
       "34                  False      0.002301      191                      True   \n",
       "53                  False      0.001880      182                      True   \n",
       "72                  False      0.002845      177                      True   \n",
       "75                  False      0.003622      171                      True   \n",
       "68                   True      0.001742      168                      True   \n",
       "73                  False      0.002378      181                      True   \n",
       "76                  False      0.001964      174                      True   \n",
       "56                  False      0.003766      169                      True   \n",
       "19                  False      0.003313      187                      True   \n",
       "57                  False      0.001407      173                      True   \n",
       "41                  False      0.002186      191                      True   \n",
       "67                  False      0.002250      174                      True   \n",
       "69                  False      0.003536      177                      True   \n",
       "24                  False      0.002746      187                      True   \n",
       "52                  False      0.003979      179                      True   \n",
       "15                  False      0.003299      150                      True   \n",
       "..                    ...           ...      ...                       ...   \n",
       "74                  False      0.004203      175                      True   \n",
       "54                  False      0.005437      185                      True   \n",
       "28                  False      0.004721      176                      True   \n",
       "66                  False      0.006088      177                      True   \n",
       "22                  False      0.006183      188                      True   \n",
       "50                  False      0.000882      181                     False   \n",
       "10                   True      0.006208      199                     False   \n",
       "46                  False      0.007442      190                      True   \n",
       "58                   True      0.007233      171                      True   \n",
       "13                  False      0.005933      169                      True   \n",
       "37                  False      0.002574      191                      True   \n",
       "18                   True      0.010138      151                      True   \n",
       "70                  False      0.008989      163                     False   \n",
       "17                   True      0.003270      179                      True   \n",
       "59                  False      0.001998      189                      True   \n",
       "27                  False      0.001142      184                      True   \n",
       "0                   False      0.003425      193                     False   \n",
       "35                  False      0.008282      196                      True   \n",
       "40                  False      0.001313      200                      True   \n",
       "3                   False      0.023626      181                      True   \n",
       "16                  False      0.014087      152                      True   \n",
       "5                    True      0.000290      155                      True   \n",
       "4                   False      0.029984      173                     False   \n",
       "25                  False      0.011277      194                      True   \n",
       "39                  False      0.018315      176                     False   \n",
       "1                   False      0.000572      167                     False   \n",
       "29                  False      0.000114      193                      True   \n",
       "6                    True      0.000291      156                     False   \n",
       "7                    True      0.000441      181                     False   \n",
       "77                  False      0.003005      178                      True   \n",
       "\n",
       "                                        system_attrs  \n",
       "   use_attention_on_user use_batch_norm      _number  \n",
       "32                  True          False           32  \n",
       "71                  True          False           71  \n",
       "61                  True          False           61  \n",
       "62                  True          False           62  \n",
       "31                  True          False           31  \n",
       "30                  True          False           30  \n",
       "55                  True          False           55  \n",
       "49                  True          False           49  \n",
       "60                  True          False           60  \n",
       "26                  True          False           26  \n",
       "47                  True          False           47  \n",
       "42                  True          False           42  \n",
       "51                  True          False           51  \n",
       "64                  True          False           64  \n",
       "34                  True          False           34  \n",
       "53                  True          False           53  \n",
       "72                  True          False           72  \n",
       "75                  True          False           75  \n",
       "68                  True          False           68  \n",
       "73                  True          False           73  \n",
       "76                  True          False           76  \n",
       "56                  True          False           56  \n",
       "19                 False          False           19  \n",
       "57                  True          False           57  \n",
       "41                  True          False           41  \n",
       "67                  True          False           67  \n",
       "69                  True          False           69  \n",
       "24                 False          False           24  \n",
       "52                  True          False           52  \n",
       "15                 False          False           15  \n",
       "..                   ...            ...          ...  \n",
       "74                  True          False           74  \n",
       "54                  True          False           54  \n",
       "28                  True          False           28  \n",
       "66                  True          False           66  \n",
       "22                 False          False           22  \n",
       "50                  True           True           50  \n",
       "10                  True          False           10  \n",
       "46                  True          False           46  \n",
       "58                  True          False           58  \n",
       "13                 False          False           13  \n",
       "37                  True           True           37  \n",
       "18                 False          False           18  \n",
       "70                  True          False           70  \n",
       "17                  True          False           17  \n",
       "59                  True          False           59  \n",
       "27                  True          False           27  \n",
       "0                  False           True            0  \n",
       "35                  True           True           35  \n",
       "40                  True           True           40  \n",
       "3                  False           True            3  \n",
       "16                 False          False           16  \n",
       "5                   True          False            5  \n",
       "4                  False           True            4  \n",
       "25                 False          False           25  \n",
       "39                  True          False           39  \n",
       "1                  False           True            1  \n",
       "29                  True          False           29  \n",
       "6                   True           True            6  \n",
       "7                  False           True            7  \n",
       "77                  True          False           77  \n",
       "\n",
       "[78 rows x 14 columns]"
      ]
     },
     "execution_count": 80,
     "metadata": {},
     "output_type": "execute_result"
    }
   ],
   "source": [
    "trial_df.sort_values(by='value')"
   ]
  }
 ],
 "metadata": {
  "kernelspec": {
   "display_name": "Python 3",
   "language": "python",
   "name": "python3"
  },
  "language_info": {
   "codemirror_mode": {
    "name": "ipython",
    "version": 3
   },
   "file_extension": ".py",
   "mimetype": "text/x-python",
   "name": "python",
   "nbconvert_exporter": "python",
   "pygments_lexer": "ipython3",
   "version": "3.7.3"
  }
 },
 "nbformat": 4,
 "nbformat_minor": 4
}
