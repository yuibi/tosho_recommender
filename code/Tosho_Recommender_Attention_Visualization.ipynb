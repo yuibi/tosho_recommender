{
 "cells": [
  {
   "cell_type": "markdown",
   "metadata": {},
   "source": [
    "# Tosho Recommender (Attention Visualization)"
   ]
  },
  {
   "cell_type": "code",
   "execution_count": 1,
   "metadata": {},
   "outputs": [],
   "source": [
    "%load_ext autoreload\n",
    "%autoreload 2"
   ]
  },
  {
   "cell_type": "code",
   "execution_count": 2,
   "metadata": {},
   "outputs": [],
   "source": [
    "import numpy as np\n",
    "import pandas as pd\n",
    "import pickle\n",
    "import gensim\n",
    "import janome\n",
    "from janome.tokenizer import Tokenizer as ja_tokenizer\n",
    "import re\n",
    "from IPython.display import HTML\n",
    "from IPython import display as disp\n",
    "import tensorflow as tf\n",
    "from tensorflow.keras.models import load_model\n",
    "from tensorflow.keras.optimizers import Adam\n",
    "from tensorflow.keras.preprocessing.text import Tokenizer\n",
    "from tensorflow.keras.preprocessing.sequence import pad_sequences\n",
    "from tensorflow.keras import models\n",
    "from model import *"
   ]
  },
  {
   "cell_type": "markdown",
   "metadata": {},
   "source": [
    "## Load Model"
   ]
  },
  {
   "cell_type": "code",
   "execution_count": 3,
   "metadata": {},
   "outputs": [
    {
     "name": "stderr",
     "output_type": "stream",
     "text": [
      "/opt/conda/lib/python3.7/site-packages/smart_open/smart_open_lib.py:398: UserWarning: This function is deprecated, use smart_open.open instead. See the migration notes for details: https://github.com/RaRe-Technologies/smart_open/blob/master/README.rst#migrating-to-the-new-open-function\n",
      "  'See the migration notes for details: %s' % _MIGRATION_NOTES_URL\n"
     ]
    },
    {
     "data": {
      "text/plain": [
       "<tensorflow.python.training.tracking.util.CheckpointLoadStatus at 0x7fe90fa60a20>"
      ]
     },
     "execution_count": 3,
     "metadata": {},
     "output_type": "execute_result"
    }
   ],
   "source": [
    "def load_obj(filename):\n",
    "    with open(filename, 'rb') as handler:\n",
    "        return pickle.load(handler)\n",
    "\n",
    "# Load tokenizer\n",
    "tokenizer = load_obj('model/tosho_recommender_word_tokenizer.pkl')\n",
    "word_index = load_obj('model/tosho_recommender_word_index.pkl')\n",
    "itos = {v: k for k, v in word_index.items()}\n",
    "\n",
    "# Load Book2Vec (book-level representation)\n",
    "b2v = gensim.models.keyedvectors.KeyedVectors.load_word2vec_format('model/book2vec', binary=False)\n",
    "\n",
    "# Load book descriptions and titles\n",
    "text_pd = pd.read_csv('data/tosho_processed_clean.csv.bz2', sep='\\t', compression='bz2')\n",
    "\n",
    "# Load tf.keras model\n",
    "model = gru_model(\n",
    "                     embedding_dim=300,\n",
    "                     dropout_rate=0.209,\n",
    "                     rnn_unit=194,\n",
    "                     input_shape=(500,),\n",
    "                     num_features=20000+1,\n",
    "                     share_gru_weights_on_book=True,\n",
    "                     use_attention_on_book=True,\n",
    "                     use_attention_on_user=True,\n",
    "                     use_batch_norm=False,\n",
    "                     is_embedding_trainable=False,\n",
    "                     final_activation='tanh',\n",
    "                     final_dimension=392,\n",
    "                     embedding_matrix=np.zeros((20001, 300)))\n",
    "\n",
    "model.compile(loss='cosine_similarity',\n",
    "                  optimizer=Adam(lr=0.0044))\n",
    "\n",
    "x = np.ones((1, 500))\n",
    "y = np.ones((1, 392))\n",
    "\n",
    "model.train_on_batch([x, x, x, x], y)\n",
    "\n",
    "# Load the state of the old model\n",
    "model.load_weights('model/tosho_recommender_7')"
   ]
  },
  {
   "cell_type": "code",
   "execution_count": 4,
   "metadata": {},
   "outputs": [],
   "source": [
    "def clean_text(text:str):\n",
    "    text = re.sub(r'\\n', ' ', text)\n",
    "    text = re.sub(r'\\s{1,}', '', text)\n",
    "    \n",
    "    text = re.sub(r'内容紹介', '', text)\n",
    "    text = re.sub(r'出版社からのコメント', '', text)\n",
    "    text = re.sub(r'商品の説明をすべて表示する', '', text)\n",
    "    text = re.sub(r'内容（「MARC」データベースより）', '', text)\n",
    "    text = re.sub(r'内容（「BOOK」データベースより）', '', text)\n",
    "\n",
    "    non_japanese = re.compile(r\"[^0-9\\-ぁ-ヶ亜-黑ー]\")\n",
    "    text = re.sub(non_japanese, ' ', text)\n",
    "\n",
    "    return text.strip()"
   ]
  },
  {
   "cell_type": "code",
   "execution_count": 5,
   "metadata": {},
   "outputs": [],
   "source": [
    "j_tokenizer = ja_tokenizer()\n",
    "\n",
    "def wakati_reading(text:str):\n",
    "    tokens = j_tokenizer.tokenize(text.replace(\"'\", \"\").lower())\n",
    "    \n",
    "    exclude_pos = [u'助動詞']\n",
    "    \n",
    "    #分かち書き\n",
    "    tokens_w_space = \"\"\n",
    "    for token in tokens:\n",
    "        partOfSpeech = token.part_of_speech.split(',')[0]\n",
    "        \n",
    "        if partOfSpeech not in exclude_pos:\n",
    "            tokens_w_space = tokens_w_space + \" \" + token.surface\n",
    "\n",
    "    tokens_w_space = tokens_w_space.strip()\n",
    "    tokens_w_space = re.sub(r'\\s{2,}', ' ', tokens_w_space)\n",
    "    \n",
    "    return tokens_w_space"
   ]
  },
  {
   "cell_type": "code",
   "execution_count": 6,
   "metadata": {},
   "outputs": [],
   "source": [
    "def preprocess_text(text:str):\n",
    "    MAX_SEQUENCE_LENGTH = 500\n",
    "    \n",
    "    text = clean_text(text)\n",
    "    text = wakati_reading(text)\n",
    "\n",
    "    x = tokenizer.texts_to_sequences([text])\n",
    "    x = pad_sequences(x, maxlen=MAX_SEQUENCE_LENGTH)\n",
    "    \n",
    "    return x"
   ]
  },
  {
   "cell_type": "markdown",
   "metadata": {},
   "source": [
    "## Attention Model"
   ]
  },
  {
   "cell_type": "markdown",
   "metadata": {},
   "source": [
    "### Attention weights for token-level representation"
   ]
  },
  {
   "cell_type": "code",
   "execution_count": 7,
   "metadata": {},
   "outputs": [],
   "source": [
    "token_layer_outputs = [layer.output for layer in model.layers[:-2]]"
   ]
  },
  {
   "cell_type": "code",
   "execution_count": 8,
   "metadata": {},
   "outputs": [
    {
     "data": {
      "text/plain": [
       "[<tf.Tensor 'input_1:0' shape=(None, None) dtype=float32>,\n",
       " <tf.Tensor 'input_2:0' shape=(None, None) dtype=float32>,\n",
       " <tf.Tensor 'input_3:0' shape=(None, None) dtype=float32>,\n",
       " <tf.Tensor 'input_4:0' shape=(None, None) dtype=float32>,\n",
       " <tf.Tensor 'word_embed_1/Identity:0' shape=(None, None, 300) dtype=float32>,\n",
       " <tf.Tensor 'word_embed_2/Identity:0' shape=(None, None, 300) dtype=float32>,\n",
       " <tf.Tensor 'word_embed_3/Identity:0' shape=(None, None, 300) dtype=float32>,\n",
       " <tf.Tensor 'word_embed_4/Identity:0' shape=(None, None, 300) dtype=float32>,\n",
       " [<tf.Tensor 'gru_with__attn/Identity:0' shape=(None, None, 1) dtype=float32>,\n",
       "  <tf.Tensor 'gru_with__attn/Identity_1:0' shape=(None, 388) dtype=float32>]]"
      ]
     },
     "execution_count": 8,
     "metadata": {},
     "output_type": "execute_result"
    }
   ],
   "source": [
    "token_layer_outputs"
   ]
  },
  {
   "cell_type": "code",
   "execution_count": 9,
   "metadata": {},
   "outputs": [],
   "source": [
    "token_attn_model = models.Model(inputs=model.input, outputs=token_layer_outputs[-1])"
   ]
  },
  {
   "cell_type": "markdown",
   "metadata": {},
   "source": [
    "### Attention weights for book-level representation"
   ]
  },
  {
   "cell_type": "code",
   "execution_count": 10,
   "metadata": {},
   "outputs": [],
   "source": [
    "book_layer_outputs = [layer.output for layer in model.layers[:-1]]"
   ]
  },
  {
   "cell_type": "code",
   "execution_count": 11,
   "metadata": {},
   "outputs": [
    {
     "data": {
      "text/plain": [
       "[<tf.Tensor 'input_1:0' shape=(None, None) dtype=float32>,\n",
       " <tf.Tensor 'input_2:0' shape=(None, None) dtype=float32>,\n",
       " <tf.Tensor 'input_3:0' shape=(None, None) dtype=float32>,\n",
       " <tf.Tensor 'input_4:0' shape=(None, None) dtype=float32>,\n",
       " <tf.Tensor 'word_embed_1/Identity:0' shape=(None, None, 300) dtype=float32>,\n",
       " <tf.Tensor 'word_embed_2/Identity:0' shape=(None, None, 300) dtype=float32>,\n",
       " <tf.Tensor 'word_embed_3/Identity:0' shape=(None, None, 300) dtype=float32>,\n",
       " <tf.Tensor 'word_embed_4/Identity:0' shape=(None, None, 300) dtype=float32>,\n",
       " [<tf.Tensor 'gru_with__attn/Identity:0' shape=(None, None, 1) dtype=float32>,\n",
       "  <tf.Tensor 'gru_with__attn/Identity_1:0' shape=(None, 388) dtype=float32>],\n",
       " [<tf.Tensor 'gru_with__attn_1_1/Identity:0' shape=(None, 4, 1) dtype=float32>,\n",
       "  <tf.Tensor 'gru_with__attn_1_1/Identity_1:0' shape=(None, 388) dtype=float32>]]"
      ]
     },
     "execution_count": 11,
     "metadata": {},
     "output_type": "execute_result"
    }
   ],
   "source": [
    "book_layer_outputs"
   ]
  },
  {
   "cell_type": "code",
   "execution_count": 12,
   "metadata": {},
   "outputs": [],
   "source": [
    "book_attn_model = models.Model(inputs=model.input, outputs=book_layer_outputs[-1])"
   ]
  },
  {
   "cell_type": "markdown",
   "metadata": {},
   "source": [
    "## Manually Input 4 Books to Predict"
   ]
  },
  {
   "cell_type": "code",
   "execution_count": 13,
   "metadata": {},
   "outputs": [],
   "source": [
    "# 名探偵コナン (1)\n",
    "book1 = \"\"\"\n",
    "▼第1話/平成のホームズ\n",
    "▼第2話/小さくなった名探偵\n",
    "▼第3話/仲間はずれの名探偵\n",
    "▼第4話/6本目の煙突\n",
    "▼第5話/もう一人の犯人\n",
    "▼第6話/迷探偵を名探偵に\n",
    "▼第7話/血ぬられたアイドル\n",
    "▼第8話/あなたに似た人\n",
    "▼第9話/不幸な誤解\n",
    "\"\"\"\n",
    "\n",
    "# おしりたんてい かいとうと ねらわれた はなよめ (おしりたんていファイル 8)\n",
    "book2 = \"\"\"\n",
    "はたして 今回の かいとうUの ねらいは…!?\n",
    "\n",
    "おしりたんていの事務所に、とつぜんあらわれた\n",
    "なぞのいらいにん。だが、そのしょうたいをたちどころに\n",
    "見抜いたわれらがおしりたんてい。なぞの依頼人が\n",
    "持ち込んだのは、なんとかいとうUからの予告状だった!\n",
    "\n",
    "いにしえからの、けっこんの儀式にかくされたお宝を\n",
    "かいとうUからまもるため、今回もおしりたんていの\n",
    "名推理が冴えわたる。\n",
    "\n",
    "迷路や、絵探しなど、\n",
    "おしりたんていといっしょに謎を解きながら、\n",
    "真実にせまる、本格的推理読み物シリーズです。\n",
    "\n",
    "今回も、「かいとうと ねらわれた はなよめ」\n",
    "「おりの なかの けいかく」の2話収録。\n",
    "\n",
    "何度読んでも発見がある\n",
    "推理小説の入り口にも最適な\n",
    "知的好奇心をくすぐる1冊です。\n",
    "\"\"\"\n",
    "\n",
    "# がっこうのおばけずかん (どうわがいっぱい)\n",
    "book3 = \"\"\"\n",
    "怖いけどおもしろい、「図鑑」という名の童話、「おばけずかん」シリーズ最新刊。「ひょうほんがいこつ」「おんがくしつのベートーベン」「トイレのはなこさん」などなど、毎日通っている学校にもこわ~いおばけはいっぱいいるけど、このお話を読めば、だいじょうぶ!\n",
    "\n",
    "\n",
    "昔から知られているおばけがいっぱい登場する、「図鑑」という名前の童話「おばけずかん」シリーズの新刊です。\n",
    "それぞれのおばけが、どんなふうに怖いのか。そうならないためには、どうしたらだいじょうぶなのかを、ユーモラスな短いお話仕立てで紹介しています。\n",
    "登場するおばけはちょっと怖いけど、ちゃんと対応してあげると、意外になさけなくて、かわいいところもあったりします。\n",
    "怖くて、笑えて、最後はホッとできる。「こわいけど、おもしろい」、新しいおばけの童話シリーズ第4弾です。\n",
    "読者に身近な小学校を舞台に、『トイレのはなこさん』のような新しいおばけや、オリジナルのおばけ『れんぞくこうちょうせんせい』も登場。シリーズの新しい展開を見せる一冊です。\n",
    "\n",
    "●この本に登場するおばけ\n",
    "\n",
    "ひょうほんがいこつ\n",
    "おんがくしつの ベートーベン\n",
    "トイレの はなこさん\n",
    "こうていの にのみやきんじろう\n",
    "ゆうれいアナウンサー\n",
    "れんぞくこうちょうせんせい\n",
    "みつめの 六ねんせい\n",
    "まよなかの まぼろしうんどうかい\n",
    "\n",
    "※漢字は使用しません\n",
    "\"\"\"\n",
    "\n",
    "# 星のカービィ 虹の島々を救え!の巻\n",
    "book4 = \"\"\"\n",
    "カービィは、リック&カイン&クーと虹の島々を救う大冒険に出発!\n",
    "\n",
    "カービィの友だち、リック&カイン&クーがやってきた!\n",
    "三人が住む虹の島々に雨が降らなくなり、困っているらしい。\n",
    "カービィはメタナイトやデデデ大王と虹の島々へ!!\n",
    "原因を知る女の子・ピリカと出会い\n",
    "雲の上に向かうと、そこにいたのは\n",
    "カービィとも仲良しな友だちの、グーイだった。\n",
    "なぜか、グーイはカービィたちに襲いかかってきて!?\n",
    "いったい、何が起こったのか……?\n",
    "事件の解決に、カービィがいどむ!!\n",
    "\"\"\"\n",
    "book1 = preprocess_text(book1)\n",
    "book2 = preprocess_text(book2)\n",
    "book3 = preprocess_text(book3)\n",
    "book4 = preprocess_text(book4)\n",
    "\n",
    "book_list = [book1, book2, book3, book4]"
   ]
  },
  {
   "cell_type": "code",
   "execution_count": 14,
   "metadata": {},
   "outputs": [],
   "source": [
    "token_attn_preds_1 = token_attn_model.predict([book1, book2, book3, book4])[0]"
   ]
  },
  {
   "cell_type": "code",
   "execution_count": 15,
   "metadata": {},
   "outputs": [],
   "source": [
    "token_attn_preds_2 = token_attn_model.predict([book2, book1, book3, book4])[0]"
   ]
  },
  {
   "cell_type": "code",
   "execution_count": 16,
   "metadata": {},
   "outputs": [],
   "source": [
    "token_attn_preds_3 = token_attn_model.predict([book3, book2, book1, book4])[0]"
   ]
  },
  {
   "cell_type": "code",
   "execution_count": 17,
   "metadata": {},
   "outputs": [],
   "source": [
    "token_attn_preds_4 = token_attn_model.predict([book4, book2, book3, book1])[0]"
   ]
  },
  {
   "cell_type": "code",
   "execution_count": 18,
   "metadata": {},
   "outputs": [],
   "source": [
    "book_attn_preds = book_attn_model.predict(book_list)[0]"
   ]
  },
  {
   "cell_type": "markdown",
   "metadata": {},
   "source": [
    "### Sanity check"
   ]
  },
  {
   "cell_type": "code",
   "execution_count": 20,
   "metadata": {},
   "outputs": [
    {
     "data": {
      "text/plain": [
       "(1.0000002, 1.0000001, 1.0000001, 1.0000002)"
      ]
     },
     "execution_count": 20,
     "metadata": {},
     "output_type": "execute_result"
    }
   ],
   "source": [
    "np.sum(token_attn_preds_1[0][:,0]), np.sum(token_attn_preds_2[0][:,0]), np.sum(token_attn_preds_3[0][:,0]), np.sum(token_attn_preds_4[0][:,0])"
   ]
  },
  {
   "cell_type": "code",
   "execution_count": 21,
   "metadata": {},
   "outputs": [
    {
     "data": {
      "text/plain": [
       "0.99999994"
      ]
     },
     "execution_count": 21,
     "metadata": {},
     "output_type": "execute_result"
    }
   ],
   "source": [
    "np.sum(book_attn_preds[0][:,0])"
   ]
  },
  {
   "cell_type": "markdown",
   "metadata": {},
   "source": [
    "## Attention Visualization"
   ]
  },
  {
   "cell_type": "code",
   "execution_count": 22,
   "metadata": {},
   "outputs": [],
   "source": [
    "def highlight(word, attn, scale):\n",
    "    html_color = '#%02X%02X%02X' % (255, max(0, int(255*(1 - attn*scale))), max(0, int(255*(1 - attn*scale))))\n",
    "    return '<span style=\"background-color: {}\">{}</span>'.format(html_color, word)\n",
    "\n",
    "def mk_html(sentence, attns):\n",
    "    html = \"\"\n",
    "    scale = attns.shape[0] * 0.1\n",
    "    for word, attn in zip(sentence, attns):\n",
    "        html += ' ' + highlight(\n",
    "            word,\n",
    "            attn,\n",
    "            scale\n",
    "        )\n",
    "    return html + \"<br><br>\\n\""
   ]
  },
  {
   "cell_type": "markdown",
   "metadata": {},
   "source": [
    "### Visualize attention weights on each token"
   ]
  },
  {
   "cell_type": "code",
   "execution_count": 27,
   "metadata": {},
   "outputs": [],
   "source": [
    "def token_attention_vis(token_model, book_vec):\n",
    "    non_zeros = book_vec[book_vec > 0].shape[0]\n",
    "    text_list = [itos[i] for i in book_vec[0] if i != 0]\n",
    "\n",
    "    # zero padding might have very small attn weights, so rescale\n",
    "    attn_for_words = token_model[0][:,0][500-non_zeros:]\n",
    "    scale_to_1 = 1/np.sum(attn_for_words)\n",
    "\n",
    "    attn_vis = mk_html(text_list, attn_for_words*scale_to_1)\n",
    "    disp.display(HTML(attn_vis))"
   ]
  },
  {
   "cell_type": "code",
   "execution_count": 28,
   "metadata": {},
   "outputs": [
    {
     "data": {
      "text/html": [
       " <span style=\"background-color: #FFF5F5\">第</span> <span style=\"background-color: #FFF4F4\">1</span> <span style=\"background-color: #FFE5E5\">話</span> <span style=\"background-color: #FFCECE\">平成</span> <span style=\"background-color: #FFF0F0\">の</span> <span style=\"background-color: #FF0000\">ホームズ</span> <span style=\"background-color: #FFD0D0\">第</span> <span style=\"background-color: #FFEDED\">2</span> <span style=\"background-color: #FFE9E9\">話</span> <span style=\"background-color: #FFD4D4\">小さく</span> <span style=\"background-color: #FFF9F9\">なっ</span> <span style=\"background-color: #FFF5F5\">名</span> <span style=\"background-color: #FFE4E4\">探偵</span> <span style=\"background-color: #FFEDED\">第</span> <span style=\"background-color: #FFF1F1\">3</span> <span style=\"background-color: #FFF0F0\">話</span> <span style=\"background-color: #FFF8F8\">の</span> <span style=\"background-color: #FFF2F2\">名</span> <span style=\"background-color: #FFD5D5\">探偵</span> <span style=\"background-color: #FFE1E1\">第</span> <span style=\"background-color: #FFE9E9\">4</span> <span style=\"background-color: #FFE4E4\">話</span> <span style=\"background-color: #FFD2D2\">6</span> <span style=\"background-color: #FFDBDB\">本</span> <span style=\"background-color: #FFE9E9\">目</span> <span style=\"background-color: #FFF4F4\">の</span> <span style=\"background-color: #FFF3F3\">第</span> <span style=\"background-color: #FFEAEA\">5</span> <span style=\"background-color: #FFE7E7\">話</span> <span style=\"background-color: #FFE2E2\">もう</span> <span style=\"background-color: #FFEEEE\">人</span> <span style=\"background-color: #FFFAFA\">の</span> <span style=\"background-color: #FFD1D1\">犯人</span> <span style=\"background-color: #FFF7F7\">第</span> <span style=\"background-color: #FFF7F7\">6</span> <span style=\"background-color: #FFEBEB\">話</span> <span style=\"background-color: #FFF5F5\">を</span> <span style=\"background-color: #FFF3F3\">名</span> <span style=\"background-color: #FFD9D9\">探偵</span> <span style=\"background-color: #FFEEEE\">に</span> <span style=\"background-color: #FFF9F9\">第</span> <span style=\"background-color: #FFF1F1\">7</span> <span style=\"background-color: #FFEDED\">話</span> <span style=\"background-color: #FFDBDB\">血</span> <span style=\"background-color: #FFF9F9\">れ</span> <span style=\"background-color: #FFB6B6\">アイドル</span> <span style=\"background-color: #FFF1F1\">第</span> <span style=\"background-color: #FFF9F9\">8</span> <span style=\"background-color: #FFF0F0\">話</span> <span style=\"background-color: #FFDDDD\">あなた</span> <span style=\"background-color: #FFFCFC\">に</span> <span style=\"background-color: #FFFDFD\">似</span> <span style=\"background-color: #FFFBFB\">人</span> <span style=\"background-color: #FFFCFC\">第</span> <span style=\"background-color: #FFF9F9\">9</span> <span style=\"background-color: #FFE7E7\">話</span> <span style=\"background-color: #FF9595\">幸</span> <span style=\"background-color: #FFEAEA\">誤解</span><br><br>\n"
      ],
      "text/plain": [
       "<IPython.core.display.HTML object>"
      ]
     },
     "metadata": {},
     "output_type": "display_data"
    }
   ],
   "source": [
    "token_attention_vis(token_attn_preds_1, book1)"
   ]
  },
  {
   "cell_type": "code",
   "execution_count": 29,
   "metadata": {},
   "outputs": [
    {
     "data": {
      "text/html": [
       " <span style=\"background-color: #FFF3F3\">はたして</span> <span style=\"background-color: #FFFBFB\">今回</span> <span style=\"background-color: #FFFCFC\">の</span> <span style=\"background-color: #FFFBFB\">かい</span> <span style=\"background-color: #FFF8F8\">とう</span> <span style=\"background-color: #FFFAFA\">の</span> <span style=\"background-color: #FFF3F3\">ねらい</span> <span style=\"background-color: #FFFBFB\">は</span> <span style=\"background-color: #FFD5D5\">おしり</span> <span style=\"background-color: #FF4343\">たん</span> <span style=\"background-color: #FFB2B2\">てい</span> <span style=\"background-color: #FFEDED\">の</span> <span style=\"background-color: #FF6060\">務</span> <span style=\"background-color: #FFCDCD\">所</span> <span style=\"background-color: #FFFAFA\">に</span> <span style=\"background-color: #FFEFEF\">とつぜん</span> <span style=\"background-color: #FFEDED\">あらわれ</span> <span style=\"background-color: #FFE5E5\">なぞ</span> <span style=\"background-color: #FFFBFB\">の</span> <span style=\"background-color: #FFF6F6\">にん</span> <span style=\"background-color: #FFF3F3\">だが</span> <span style=\"background-color: #FFFAFA\">その</span> <span style=\"background-color: #FFE9E9\">見抜い</span> <span style=\"background-color: #FFF5F5\">われ</span> <span style=\"background-color: #FFE3E3\">ら</span> <span style=\"background-color: #FFF9F9\">が</span> <span style=\"background-color: #FFDCDC\">おしり</span> <span style=\"background-color: #FF8282\">たん</span> <span style=\"background-color: #FFF6F6\">て</span> <span style=\"background-color: #FFF8F8\">い</span> <span style=\"background-color: #FFBBBB\">なぞ</span> <span style=\"background-color: #FFEDED\">の</span> <span style=\"background-color: #FFD9D9\">依頼</span> <span style=\"background-color: #FFF7F7\">人</span> <span style=\"background-color: #FFFEFE\">が</span> <span style=\"background-color: #FFFCFC\">の</span> <span style=\"background-color: #FFFDFD\">は</span> <span style=\"background-color: #FFF4F4\">なんとか</span> <span style=\"background-color: #FFEAEA\">いとう</span> <span style=\"background-color: #FFFBFB\">から</span> <span style=\"background-color: #FFF9F9\">の</span> <span style=\"background-color: #FFE1E1\">状</span> <span style=\"background-color: #FFFBFB\">から</span> <span style=\"background-color: #FFFDFD\">の</span> <span style=\"background-color: #FFFDFD\">の</span> <span style=\"background-color: #FFFEFE\">に</span> <span style=\"background-color: #FFFBFB\">かくさ</span> <span style=\"background-color: #FFFEFE\">れ</span> <span style=\"background-color: #FFF8F8\">を</span> <span style=\"background-color: #FFFCFC\">かい</span> <span style=\"background-color: #FFFCFC\">から</span> <span style=\"background-color: #FFEFEF\">まもる</span> <span style=\"background-color: #FFFDFD\">ため</span> <span style=\"background-color: #FFFDFD\">今回</span> <span style=\"background-color: #FFFCFC\">も</span> <span style=\"background-color: #FFE3E3\">おしり</span> <span style=\"background-color: #FF2525\">たん</span> <span style=\"background-color: #FF7C7C\">てい</span> <span style=\"background-color: #FFEEEE\">の</span> <span style=\"background-color: #FFEAEA\">名</span> <span style=\"background-color: #FFC1C1\">推理</span> <span style=\"background-color: #FFF4F4\">が</span> <span style=\"background-color: #FF8080\">迷路</span> <span style=\"background-color: #FFE8E8\">や</span> <span style=\"background-color: #FFDDDD\">絵探し</span> <span style=\"background-color: #FFEBEB\">など</span> <span style=\"background-color: #FFEBEB\">おしり</span> <span style=\"background-color: #FFBCBC\">たん</span> <span style=\"background-color: #FFC8C8\">てい</span> <span style=\"background-color: #FFF3F3\">と</span> <span style=\"background-color: #FFC8C8\">いっしょ</span> <span style=\"background-color: #FFEDED\">に</span> <span style=\"background-color: #FFD8D8\">謎</span> <span style=\"background-color: #FFE0E0\">を</span> <span style=\"background-color: #FFA3A3\">解き</span> <span style=\"background-color: #FF9E9E\">ながら</span> <span style=\"background-color: #FFD5D5\">真実</span> <span style=\"background-color: #FFF5F5\">に</span> <span style=\"background-color: #FFD7D7\">せまる</span> <span style=\"background-color: #FFDADA\">本格</span> <span style=\"background-color: #FFF5F5\">的</span> <span style=\"background-color: #FFE5E5\">推理</span> <span style=\"background-color: #FFC0C0\">読み物</span> <span style=\"background-color: #FFC6C6\">シリーズ</span> <span style=\"background-color: #FFF0F0\">今回</span> <span style=\"background-color: #FFFBFB\">も</span> <span style=\"background-color: #FFFCFC\">かい</span> <span style=\"background-color: #FFEEEE\">とう</span> <span style=\"background-color: #FFF7F7\">と</span> <span style=\"background-color: #FFF7F7\">め</span> <span style=\"background-color: #FFF4F4\">おり</span> <span style=\"background-color: #FFF4F4\">の</span> <span style=\"background-color: #FFF5F5\">なか</span> <span style=\"background-color: #FFF6F6\">の</span> <span style=\"background-color: #FFF2F2\">かく</span> <span style=\"background-color: #FFFAFA\">の</span> <span style=\"background-color: #FFFCFC\">2</span> <span style=\"background-color: #FFEEEE\">話</span> <span style=\"background-color: #FFF2F2\">収録</span> <span style=\"background-color: #FFF7F7\">何</span> <span style=\"background-color: #FFE9E9\">度</span> <span style=\"background-color: #FFFDFD\">読ん</span> <span style=\"background-color: #FFFDFD\">で</span> <span style=\"background-color: #FFFDFD\">も</span> <span style=\"background-color: #FFFCFC\">発見</span> <span style=\"background-color: #FFFDFD\">が</span> <span style=\"background-color: #FFFDFD\">ある</span> <span style=\"background-color: #FFEBEB\">推理</span> <span style=\"background-color: #FFEAEA\">小説</span> <span style=\"background-color: #FFF8F8\">の</span> <span style=\"background-color: #FFFDFD\">に</span> <span style=\"background-color: #FFFEFE\">も</span> <span style=\"background-color: #FFF2F2\">最適</span> <span style=\"background-color: #FFABAB\">知的</span> <span style=\"background-color: #FFE2E2\">好奇</span> <span style=\"background-color: #FFEAEA\">心</span> <span style=\"background-color: #FFFAFA\">を</span> <span style=\"background-color: #FFDEDE\">くすぐる</span> <span style=\"background-color: #FFE4E4\">1</span> <span style=\"background-color: #FFEBEB\">冊</span><br><br>\n"
      ],
      "text/plain": [
       "<IPython.core.display.HTML object>"
      ]
     },
     "metadata": {},
     "output_type": "display_data"
    }
   ],
   "source": [
    "token_attention_vis(token_attn_preds_2, book2)"
   ]
  },
  {
   "cell_type": "code",
   "execution_count": 30,
   "metadata": {},
   "outputs": [
    {
     "data": {
      "text/html": [
       " <span style=\"background-color: #FFE8E8\">怖い</span> <span style=\"background-color: #FFFDFD\">けど</span> <span style=\"background-color: #FFDFDF\">おもしろい</span> <span style=\"background-color: #FFB3B3\">図鑑</span> <span style=\"background-color: #FFEEEE\">という</span> <span style=\"background-color: #FFF4F4\">名</span> <span style=\"background-color: #FFFBFB\">の</span> <span style=\"background-color: #FFE9E9\">童話</span> <span style=\"background-color: #FF5858\">おばけ</span> <span style=\"background-color: #FF7C7C\">かん</span> <span style=\"background-color: #FFCFCF\">シリーズ</span> <span style=\"background-color: #FFF0F0\">最新</span> <span style=\"background-color: #FFD4D4\">刊</span> <span style=\"background-color: #FFCCCC\">ひ</span> <span style=\"background-color: #FF9898\">おん</span> <span style=\"background-color: #FFF5F5\">が</span> <span style=\"background-color: #FFF0F0\">くし</span> <span style=\"background-color: #FFF9F9\">の</span> <span style=\"background-color: #FFE9E9\">トイレ</span> <span style=\"background-color: #FFFBFB\">の</span> <span style=\"background-color: #FFF3F3\">はな</span> <span style=\"background-color: #FFDFDF\">こさ</span> <span style=\"background-color: #FFEFEF\">など</span> <span style=\"background-color: #FFF4F4\">など</span> <span style=\"background-color: #FFF9F9\">毎日</span> <span style=\"background-color: #FFFEFE\">通っ</span> <span style=\"background-color: #FFFDFD\">て</span> <span style=\"background-color: #FFFEFE\">いる</span> <span style=\"background-color: #FFF1F1\">学校</span> <span style=\"background-color: #FFFDFD\">に</span> <span style=\"background-color: #FFFEFE\">も</span> <span style=\"background-color: #FFFEFE\">い</span> <span style=\"background-color: #FFCECE\">おばけ</span> <span style=\"background-color: #FFFAFA\">は</span> <span style=\"background-color: #FFE8E8\">いっぱい</span> <span style=\"background-color: #FFFCFC\">いる</span> <span style=\"background-color: #FFFEFE\">けど</span> <span style=\"background-color: #FFFBFB\">この</span> <span style=\"background-color: #FFFBFB\">お話</span> <span style=\"background-color: #FFF7F7\">を</span> <span style=\"background-color: #FFFBFB\">読め</span> <span style=\"background-color: #FFFBFB\">ば</span> <span style=\"background-color: #FFD5D5\">だいじょうぶ</span> <span style=\"background-color: #FFF8F8\">昔</span> <span style=\"background-color: #FFFBFB\">から</span> <span style=\"background-color: #FFFEFE\">知ら</span> <span style=\"background-color: #FFFEFE\">れ</span> <span style=\"background-color: #FFFEFE\">て</span> <span style=\"background-color: #FFFDFD\">いる</span> <span style=\"background-color: #FFB6B6\">おばけ</span> <span style=\"background-color: #FFFAFA\">が</span> <span style=\"background-color: #FFD0D0\">いっぱい</span> <span style=\"background-color: #FFF0F0\">登場</span> <span style=\"background-color: #FFFAFA\">する</span> <span style=\"background-color: #FFD0D0\">図鑑</span> <span style=\"background-color: #FFF4F4\">という</span> <span style=\"background-color: #FFFDFD\">名前</span> <span style=\"background-color: #FFFCFC\">の</span> <span style=\"background-color: #FFE5E5\">童話</span> <span style=\"background-color: #FF0606\">おばけ</span> <span style=\"background-color: #FF3535\">かん</span> <span style=\"background-color: #FFB6B6\">シリーズ</span> <span style=\"background-color: #FFF2F2\">の</span> <span style=\"background-color: #FFF5F5\">新刊</span> <span style=\"background-color: #FFEBEB\">それぞれ</span> <span style=\"background-color: #FFF8F8\">の</span> <span style=\"background-color: #FFBBBB\">おばけ</span> <span style=\"background-color: #FFF7F7\">が</span> <span style=\"background-color: #FFFAFA\">どんな</span> <span style=\"background-color: #FFFAFA\">ふう</span> <span style=\"background-color: #FFFDFD\">に</span> <span style=\"background-color: #FFFAFA\">怖い</span> <span style=\"background-color: #FFF9F9\">の</span> <span style=\"background-color: #FFFDFD\">か</span> <span style=\"background-color: #FFFEFE\">そう</span> <span style=\"background-color: #FFFDFD\">なら</span> <span style=\"background-color: #FFFDFD\">ため</span> <span style=\"background-color: #FFFEFE\">に</span> <span style=\"background-color: #FFFEFE\">は</span> <span style=\"background-color: #FFFDFD\">どう</span> <span style=\"background-color: #FFFEFE\">し</span> <span style=\"background-color: #FFC4C4\">だいじょうぶ</span> <span style=\"background-color: #FFF5F5\">の</span> <span style=\"background-color: #FFFEFE\">か</span> <span style=\"background-color: #FFFAFA\">を</span> <span style=\"background-color: #FFF9F9\">ユーモラス</span> <span style=\"background-color: #FFFDFD\">短い</span> <span style=\"background-color: #FFF8F8\">お話</span> <span style=\"background-color: #FFD7D7\">仕立て</span> <span style=\"background-color: #FFFCFC\">で</span> <span style=\"background-color: #FFFEFE\">紹介</span> <span style=\"background-color: #FFFEFE\">し</span> <span style=\"background-color: #FFFEFE\">て</span> <span style=\"background-color: #FFFEFE\">い</span> <span style=\"background-color: #FFF6F6\">登場</span> <span style=\"background-color: #FFF1F1\">する</span> <span style=\"background-color: #FFBABA\">おばけ</span> <span style=\"background-color: #FFF9F9\">は</span> <span style=\"background-color: #FFF4F4\">ちょっと</span> <span style=\"background-color: #FFF6F6\">怖い</span> <span style=\"background-color: #FFFEFE\">けど</span> <span style=\"background-color: #FFEBEB\">ちゃんと</span> <span style=\"background-color: #FFDEDE\">対応</span> <span style=\"background-color: #FFFBFB\">し</span> <span style=\"background-color: #FFFEFE\">て</span> <span style=\"background-color: #FFF0F0\">あげる</span> <span style=\"background-color: #FFFCFC\">と</span> <span style=\"background-color: #FFFDFD\">意外</span> <span style=\"background-color: #FFFDFD\">に</span> <span style=\"background-color: #FFFEFE\">て</span> <span style=\"background-color: #FFF2F2\">かわいい</span> <span style=\"background-color: #FFF7F7\">ところ</span> <span style=\"background-color: #FFFDFD\">も</span> <span style=\"background-color: #FFFEFE\">あっ</span> <span style=\"background-color: #FFFEFE\">たり</span> <span style=\"background-color: #FFFDFD\">し</span> <span style=\"background-color: #FFFEFE\">て</span> <span style=\"background-color: #FFFAFA\">笑え</span> <span style=\"background-color: #FFFBFB\">て</span> <span style=\"background-color: #FFFAFA\">最後</span> <span style=\"background-color: #FFFBFB\">は</span> <span style=\"background-color: #FFFCFC\">と</span> <span style=\"background-color: #FFF8F8\">できる</span> <span style=\"background-color: #FFEEEE\">こわい</span> <span style=\"background-color: #FFFDFD\">けど</span> <span style=\"background-color: #FFB2B2\">おもしろい</span> <span style=\"background-color: #FFA7A7\">新しい</span> <span style=\"background-color: #FF2424\">おばけ</span> <span style=\"background-color: #FFE8E8\">の</span> <span style=\"background-color: #FFC4C4\">童話</span> <span style=\"background-color: #FF6464\">シリーズ</span> <span style=\"background-color: #FFE0E0\">第</span> <span style=\"background-color: #FFE7E7\">4</span> <span style=\"background-color: #FFCDCD\">弾</span> <span style=\"background-color: #FFEFEF\">読者</span> <span style=\"background-color: #FFF9F9\">に</span> <span style=\"background-color: #FFFDFD\">身近</span> <span style=\"background-color: #FFCDCD\">小学校</span> <span style=\"background-color: #FFF8F8\">を</span> <span style=\"background-color: #FFF4F4\">舞台</span> <span style=\"background-color: #FFFDFD\">に</span> <span style=\"background-color: #FFF8F8\">トイレ</span> <span style=\"background-color: #FFFBFB\">の</span> <span style=\"background-color: #FFE1E1\">はな</span> <span style=\"background-color: #FFD0D0\">こさ</span> <span style=\"background-color: #FFF7F7\">の</span> <span style=\"background-color: #FFFCFC\">よう</span> <span style=\"background-color: #FFF1F1\">新しい</span> <span style=\"background-color: #FFB4B4\">おばけ</span> <span style=\"background-color: #FFE7E7\">や</span> <span style=\"background-color: #FFF8F8\">の</span> <span style=\"background-color: #FFC7C7\">おばけ</span> <span style=\"background-color: #FFA8A8\">れん</span> <span style=\"background-color: #FFE9E9\">ぞ</span> <span style=\"background-color: #FFCECE\">く</span> <span style=\"background-color: #FFEBEB\">も</span> <span style=\"background-color: #FFE9E9\">登場</span> <span style=\"background-color: #FFA4A4\">シリーズ</span> <span style=\"background-color: #FFEFEF\">の</span> <span style=\"background-color: #FFEFEF\">新しい</span> <span style=\"background-color: #FFF8F8\">展開</span> <span style=\"background-color: #FFF9F9\">を</span> <span style=\"background-color: #FFFDFD\">冊</span> <span style=\"background-color: #FFFEFE\">この</span> <span style=\"background-color: #FFFCFC\">本</span> <span style=\"background-color: #FFFEFE\">に</span> <span style=\"background-color: #FFFDFD\">登場</span> <span style=\"background-color: #FFFCFC\">する</span> <span style=\"background-color: #FFDDDD\">おばけ</span> <span style=\"background-color: #FFDCDC\">ひ</span> <span style=\"background-color: #FF8888\">トイレ</span> <span style=\"background-color: #FFF6F6\">の</span> <span style=\"background-color: #FFECEC\">はな</span> <span style=\"background-color: #FFF3F3\">こさ</span> <span style=\"background-color: #FFF2F2\">こう</span> <span style=\"background-color: #FFF8F8\">て</span> <span style=\"background-color: #FFF8F8\">い</span> <span style=\"background-color: #FFF6F6\">の</span> <span style=\"background-color: #FFFBFB\">に</span> <span style=\"background-color: #FFFCFC\">のみ</span> <span style=\"background-color: #FFFAFA\">や</span> <span style=\"background-color: #FFFAFA\">ろう</span> <span style=\"background-color: #FFEBEB\">ゆう</span> <span style=\"background-color: #FFBABA\">れい</span> <span style=\"background-color: #FF7878\">アナウンサー</span> <span style=\"background-color: #FF9090\">れん</span> <span style=\"background-color: #FFE9E9\">ぞ</span> <span style=\"background-color: #FFE9E9\">く</span> <span style=\"background-color: #FF7777\">六</span> <span style=\"background-color: #FFE7E7\">せい</span> <span style=\"background-color: #FFD3D3\">ま</span> <span style=\"background-color: #FFF3F3\">よ</span> <span style=\"background-color: #FFF1F1\">なか</span> <span style=\"background-color: #FFF3F3\">の</span> <span style=\"background-color: #FFD9D9\">ま</span> <span style=\"background-color: #FF6B6B\">ぼろし</span> <span style=\"background-color: #FF9696\">うん</span> <span style=\"background-color: #FFF0F0\">どう</span> <span style=\"background-color: #FFE5E5\">かい</span> <span style=\"background-color: #FF5656\">漢字</span> <span style=\"background-color: #FFEEEE\">は</span> <span style=\"background-color: #FFECEC\">使用</span> <span style=\"background-color: #FFF6F6\">し</span><br><br>\n"
      ],
      "text/plain": [
       "<IPython.core.display.HTML object>"
      ]
     },
     "metadata": {},
     "output_type": "display_data"
    }
   ],
   "source": [
    "token_attention_vis(token_attn_preds_3, book3)"
   ]
  },
  {
   "cell_type": "code",
   "execution_count": 31,
   "metadata": {},
   "outputs": [
    {
     "data": {
      "text/html": [
       " <span style=\"background-color: #FFBBBB\">カービィ</span> <span style=\"background-color: #FFF5F5\">は</span> <span style=\"background-color: #FFBDBD\">リック</span> <span style=\"background-color: #FF6565\">カイン</span> <span style=\"background-color: #FF7474\">クー</span> <span style=\"background-color: #FFEBEB\">と</span> <span style=\"background-color: #FF9898\">虹</span> <span style=\"background-color: #FFEFEF\">の</span> <span style=\"background-color: #FFEAEA\">島</span> <span style=\"background-color: #FFF8F8\">を</span> <span style=\"background-color: #FFFAFA\">救う</span> <span style=\"background-color: #FFFAFA\">大</span> <span style=\"background-color: #FFF4F4\">冒険</span> <span style=\"background-color: #FFFCFC\">に</span> <span style=\"background-color: #FFFAFA\">出発</span> <span style=\"background-color: #FF8484\">カービィ</span> <span style=\"background-color: #FFF5F5\">の</span> <span style=\"background-color: #FFFCFC\">友だち</span> <span style=\"background-color: #FFD9D9\">リック</span> <span style=\"background-color: #FF7D7D\">カイン</span> <span style=\"background-color: #FF4C4C\">クー</span> <span style=\"background-color: #FFEDED\">が</span> <span style=\"background-color: #FFDBDB\">やってき</span> <span style=\"background-color: #FFEEEE\">人</span> <span style=\"background-color: #FFFEFE\">が</span> <span style=\"background-color: #FFFAFA\">住む</span> <span style=\"background-color: #FFD0D0\">虹</span> <span style=\"background-color: #FFF8F8\">の</span> <span style=\"background-color: #FFE8E8\">島</span> <span style=\"background-color: #FFFBFB\">に</span> <span style=\"background-color: #FFDDDD\">雨</span> <span style=\"background-color: #FFFCFC\">が</span> <span style=\"background-color: #FFFEFE\">なり</span> <span style=\"background-color: #FFFDFD\">困っ</span> <span style=\"background-color: #FFFEFE\">て</span> <span style=\"background-color: #FFFEFE\">いる</span> <span style=\"background-color: #FF9B9B\">カービィ</span> <span style=\"background-color: #FFEBEB\">は</span> <span style=\"background-color: #FF8383\">ナイト</span> <span style=\"background-color: #FFD2D2\">や</span> <span style=\"background-color: #FFCBCB\">デデデ</span> <span style=\"background-color: #FF7070\">大王</span> <span style=\"background-color: #FFF0F0\">と</span> <span style=\"background-color: #FFB4B4\">虹</span> <span style=\"background-color: #FFEAEA\">の</span> <span style=\"background-color: #FFD1D1\">島</span> <span style=\"background-color: #FFF4F4\">へ</span> <span style=\"background-color: #FFF6F6\">原因</span> <span style=\"background-color: #FFFBFB\">を</span> <span style=\"background-color: #FFFEFE\">知る</span> <span style=\"background-color: #FFF3F3\">女の子</span> <span style=\"background-color: #FFDFDF\">ピリカ</span> <span style=\"background-color: #FFF8F8\">と</span> <span style=\"background-color: #FFDADA\">出会い</span> <span style=\"background-color: #FF8888\">雲</span> <span style=\"background-color: #FFF7F7\">の</span> <span style=\"background-color: #FFFEFE\">に</span> <span style=\"background-color: #FFFBFB\">向かう</span> <span style=\"background-color: #FFFEFE\">と</span> <span style=\"background-color: #FFFEFE\">そこ</span> <span style=\"background-color: #FFFEFE\">に</span> <span style=\"background-color: #FFFEFE\">い</span> <span style=\"background-color: #FFFDFD\">の</span> <span style=\"background-color: #FFFDFD\">は</span> <span style=\"background-color: #FFE4E4\">カービィ</span> <span style=\"background-color: #FFFAFA\">とも</span> <span style=\"background-color: #FFF7F7\">仲良し</span> <span style=\"background-color: #FFFCFC\">友だち</span> <span style=\"background-color: #FFFDFD\">の</span> <span style=\"background-color: #FFFDFD\">なぜ</span> <span style=\"background-color: #FFFDFD\">か</span> <span style=\"background-color: #FFFEFE\">は</span> <span style=\"background-color: #FFE8E8\">カービィ</span> <span style=\"background-color: #FFFCFC\">たち</span> <span style=\"background-color: #FFFEFE\">に</span> <span style=\"background-color: #FFFEFE\">て</span> <span style=\"background-color: #FFFEFE\">き</span> <span style=\"background-color: #FFFEFE\">て</span> <span style=\"background-color: #FFFAFA\">いったい</span> <span style=\"background-color: #FFFDFD\">何</span> <span style=\"background-color: #FFFDFD\">が</span> <span style=\"background-color: #FFFBFB\">起こっ</span> <span style=\"background-color: #FFFDFD\">の</span> <span style=\"background-color: #FFFEFE\">か</span> <span style=\"background-color: #FFFEFE\">件</span> <span style=\"background-color: #FFFDFD\">の</span> <span style=\"background-color: #FFEBEB\">解決</span> <span style=\"background-color: #FFFEFE\">に</span> <span style=\"background-color: #FFF5F5\">カービィ</span> <span style=\"background-color: #FFFCFC\">が</span><br><br>\n"
      ],
      "text/plain": [
       "<IPython.core.display.HTML object>"
      ]
     },
     "metadata": {},
     "output_type": "display_data"
    }
   ],
   "source": [
    "token_attention_vis(token_attn_preds_4, book4)"
   ]
  },
  {
   "cell_type": "markdown",
   "metadata": {},
   "source": [
    "### Determine which book had the highest attention weight"
   ]
  },
  {
   "cell_type": "code",
   "execution_count": 40,
   "metadata": {},
   "outputs": [
    {
     "data": {
      "text/html": [
       " <span style=\"background-color: #FFE5E5\">1st book</span> <span style=\"background-color: #FFEBEB\">2nd book</span> <span style=\"background-color: #FFEAEA\">3rd book</span> <span style=\"background-color: #FFDADA\">4th book</span><br><br>\n"
      ],
      "text/plain": [
       "<IPython.core.display.HTML object>"
      ]
     },
     "metadata": {},
     "output_type": "display_data"
    }
   ],
   "source": [
    "text_list = ['1st book', '2nd book', '3rd book', '4th book']\n",
    "attn_vis = mk_html(text_list, book_attn_preds[0][:,0])\n",
    "disp.display(HTML(attn_vis))"
   ]
  }
 ],
 "metadata": {
  "kernelspec": {
   "display_name": "Python 3",
   "language": "python",
   "name": "python3"
  },
  "language_info": {
   "codemirror_mode": {
    "name": "ipython",
    "version": 3
   },
   "file_extension": ".py",
   "mimetype": "text/x-python",
   "name": "python",
   "nbconvert_exporter": "python",
   "pygments_lexer": "ipython3",
   "version": "3.7.3"
  }
 },
 "nbformat": 4,
 "nbformat_minor": 4
}
